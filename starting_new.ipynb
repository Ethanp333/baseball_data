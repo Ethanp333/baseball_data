{
 "cells": [
  {
   "cell_type": "markdown",
   "metadata": {},
   "source": [
    "# Introduction\n",
    "\n",
    "This report examines the relationship between an individual Major League Baseball player’s Wins Above Replacement (WAR) and their team's winning percentage, season outcome, and Win Probability Added (WPA). The null hypothesis of this report posits that a player’s WAR has little impact on their team’s winning percentage (μ1), meaning players with high or low WAR have an equivalent impact (μ2).\n",
    "\n",
    "$H_0: μ_1 = μ_2$ or $μ_1 - μ_2 = 0$\n",
    "\n",
    "The alternative hypothesis suggests that a player’s WAR positively or negatively influences their team’s winning chances:\n",
    "\n",
    "$H_A: μ_1 ≠ μ_2$ or $μ_1 - μ_2 ≠ 0$\n",
    "\n",
    "This research addresses the widespread use of WAR among baseball fans, many of whom are unfamiliar with the underlying calculations or its correlation with team success. By combining a mathematical explanation of WAR with statistical analysis of its relationship to team performance and WPA, this report aims to clarify whether WAR is a meaningful indicator of team success or merely an individualistic stat. This investigation will enhance my understanding and appreciation of this frequently used baseball metric."
   ]
  },
  {
   "cell_type": "markdown",
   "metadata": {},
   "source": [
    "### Explanation of WAR and WPA\n",
    "\n",
    "Wins Above Replacement (WAR) and Win Probability Added (WPA) are metrics developed during the sabermetric revolution in baseball, popularised by Bill James. Sabermetrics sought to refine player evaluation by introducing new metrics that better capture a player's value (Society for American Baseball Research, n.d.).\n",
    "\n",
    "**WAR** attempts to quantify a player's overall value, including contributions from batting, fielding, and base-running. FanGraphs defines WAR as:\n",
    "\n",
    "$$\n",
    "\\text{WAR} = \\frac{\\text{Batting Runs} + \\text{Base Running Runs} + \\text{Fielding Runs} + \\text{Positional Adjustment} + \\text{League Adjustment} + \\text{Replacement Runs}}{\\text{Runs Per Win}}\n",
    "$$\n",
    "\n",
    "In simple terms, WAR calculates the value a player adds to a team, with adjustments for their position and league context. For instance, a good hitter in a tough position, like catcher, is more valuable than a designated hitter with similar stats. Replacement runs measure the difference between a replacement-level player and an average player:\n",
    "\n",
    "$$\n",
    "\\text{Replacement Runs} = 570 \\left(\\frac{\\text{MLB Games}}{2430}\\right) \\left(\\frac{\\text{Runs Per Win}}{\\text{League Plate Appearances}}\\right) \\times \\text{Plate Appearances}\n",
    "$$\n",
    "\n",
    "Where the numeral 570 represents 57% of the 1000 WAR allocated to position players, and MLB games are how many games have been played in the MLB season at a specific point. \n",
    "\n",
    "Runs Per Win includes a second formula, which calculates the runs necessary to win an MLB game (usually between 9 and 10). RPW = \n",
    "\n",
    "$$\n",
    "9 \\left(\\frac{\\text{MLB Runs Scored}}{\\text{MLB Innings Pitched}}\\right) \\times 1.5 + 3\n",
    "$$\n",
    "\n",
    "While there are many details within the WAR formula, this overview provides the key concepts behind its calculation (Slowinski, 2012).\n",
    "\n",
    "**WPA** is simpler to calculate. It reflects a player’s contribution to their team’s win probability at any moment in a game. For example, if a player steps up to bat with a 20% chance of his team winning, and the result of his at-bat leads to a win, he earns 0.8 WPA. Conversely, the pitcher responsible for the loss receives -0.8 WPA. WPA over a season sums all events where a player influenced the win probability (Slowinski, 2010). For instance, Babe Ruth's 1929 WPA of 9.4 indicates he improved his team’s win probability by 940% that season (Baseball Reference, n.d.).\n",
    "\n",
    "**WAR and WPA Per 162 games** standardise these metrics for fair comparisons across a full season:\n",
    "\n",
    "$$\n",
    "\\left(\\frac{\\text{WAR}}{\\text{Games Played}}\\right) \\times 162\n",
    "$$\n",
    "\n",
    "$$\n",
    "\\left(\\frac{\\text{WPA}}{\\text{Games Played}}\\right) \\times 162\n",
    "$$\n",
    "\n",
    "It should also be noted that although the number of wins required to reach the post-season changes each season, the mean number of wins of a post-season team since 1994 is 93 to 94 (Manning, 2018). This equates to a winning percentage of 0.574 to 0.580, which can be used as a guide for which teams should have made the post-season, if they played in an “average” season. \n",
    "\n"
   ]
  },
  {
   "cell_type": "markdown",
   "metadata": {},
   "source": [
    "# _impoting pandas_"
   ]
  },
  {
   "cell_type": "code",
   "execution_count": 1,
   "metadata": {},
   "outputs": [],
   "source": [
    "import matplotlib\n",
    "import matplotlib.pyplot as plt\n",
    "import numpy as np\n",
    "import pandas as pd\n",
    "import os\n",
    "import openpyxl\n",
    "import xlrd\n",
    "from datetime import datetime\n"
   ]
  },
  {
   "cell_type": "markdown",
   "metadata": {},
   "source": [
    "tells jupyter to put graphs and things in the notebook instead of the default behaviour which is to save it as a file."
   ]
  },
  {
   "cell_type": "code",
   "execution_count": 2,
   "metadata": {},
   "outputs": [],
   "source": [
    "\n",
    "%matplotlib inline"
   ]
  },
  {
   "cell_type": "markdown",
   "metadata": {},
   "source": [
    "# WAR Data Set Analysis"
   ]
  },
  {
   "cell_type": "markdown",
   "metadata": {},
   "source": [
    "Loading Up the csv File"
   ]
  },
  {
   "cell_type": "code",
   "execution_count": 3,
   "metadata": {},
   "outputs": [
    {
     "name": "stdout",
     "output_type": "stream",
     "text": [
      "Loading from file\n",
      "Data loading complete\n"
     ]
    }
   ],
   "source": [
    "import os\n",
    "import pandas as pd\n",
    "import requests\n",
    "from bs4 import BeautifulSoup\n",
    "\n",
    "def load_data(filepath, url):\n",
    "    if os.path.isfile(filepath):\n",
    "        print(\"Loading from file\")\n",
    "        try:\n",
    "            return pd.read_csv(filepath, encoding='ISO-8859-1')  # Adjust the encoding as needed\n",
    "        except Exception as e:\n",
    "            print(f\"Failed to load from file: {e}\")\n",
    "            print(\"Attempting to load from the internet instead...\")\n",
    "\n",
    "    print(\"Loading from the internet\")\n",
    "    response = requests.get(url)\n",
    "    response.raise_for_status()\n",
    "\n",
    "    soup = BeautifulSoup(response.content, \"html.parser\")\n",
    "    table = soup.find(\"table\", {\"id\": \"players_value_batting\"})\n",
    "    if table is None:\n",
    "        raise ValueError(\"Table with id 'players_value_batting' not found\")\n",
    "\n",
    "    data = pd.read_html(str(table))[0]\n",
    "    data.to_csv(filepath, index=False)\n",
    "    return data\n",
    "\n",
    "filepath = \"WAR_2023.csv\"\n",
    "url = \"https://www.baseball-reference.com/leagues/majors/2023-value-batting.shtml\"\n",
    "\n",
    "try:\n",
    "    WAR_2023 = load_data(filepath, url)\n",
    "    print(\"Data loading complete\")\n",
    "except Exception as e:\n",
    "    print(f\"Data loading failed: {e}\")\n"
   ]
  },
  {
   "cell_type": "markdown",
   "metadata": {},
   "source": [
    "The below graph represents the distribution of WAR in the 2023 season, with a WAR of 0 being the most common as it included players with Nil to low game time throughout the 2023 season, having little impact on their teams outcomes."
   ]
  },
  {
   "cell_type": "code",
   "execution_count": 82,
   "metadata": {},
   "outputs": [
    {
     "data": {
      "application/vnd.plotly.v1+json": {
       "config": {
        "plotlyServerURL": "https://plot.ly"
       },
       "data": [
        {
         "hovertemplate": "WAR: %{x}<br>Frequency of Players: %{y}<extra></extra>",
         "legendgroup": "",
         "line": {
          "color": "rgba(255, 65, 54, 0.7)",
          "dash": "solid",
          "width": 3
         },
         "marker": {
          "symbol": "circle"
         },
         "mode": "lines",
         "name": "",
         "orientation": "v",
         "showlegend": false,
         "type": "scatter",
         "x": [
          -2,
          -1.9,
          -1.5,
          -1.4,
          -1.3,
          -1.1,
          -1,
          -0.9,
          -0.8,
          -0.7,
          -0.6,
          -0.5,
          -0.4,
          -0.3,
          -0.2,
          -0.1,
          0,
          0.1,
          0.2,
          0.3,
          0.4,
          0.5,
          0.6,
          0.7,
          0.8,
          0.9,
          1,
          1.1,
          1.2,
          1.3,
          1.4,
          1.5,
          1.6,
          1.7,
          1.8,
          1.9,
          2,
          2.1,
          2.2,
          2.3,
          2.4,
          2.5,
          2.6,
          2.7,
          2.8,
          2.9,
          3,
          3.2,
          3.3,
          3.4,
          3.5,
          3.6,
          3.7,
          3.8,
          3.9,
          4,
          4.1,
          4.2,
          4.3,
          4.4,
          4.5,
          4.6,
          4.7,
          4.8,
          4.9,
          5,
          5.1,
          5.2,
          5.3,
          5.4,
          5.5,
          5.8,
          5.9,
          6,
          6.2,
          6.5,
          6.9,
          7.4,
          8.2,
          8.3
         ],
         "xaxis": "x",
         "y": [
          1,
          1,
          5,
          4,
          3,
          7,
          2,
          6,
          8,
          9,
          15,
          20,
          24,
          35,
          40,
          43,
          156,
          27,
          25,
          22,
          16,
          24,
          13,
          17,
          11,
          10,
          6,
          8,
          11,
          6,
          6,
          5,
          8,
          8,
          5,
          10,
          7,
          11,
          7,
          4,
          11,
          5,
          7,
          4,
          4,
          8,
          4,
          3,
          6,
          6,
          2,
          4,
          3,
          4,
          4,
          1,
          1,
          2,
          4,
          4,
          1,
          1,
          1,
          1,
          4,
          1,
          3,
          1,
          2,
          2,
          3,
          1,
          1,
          2,
          1,
          1,
          1,
          2,
          1,
          1
         ],
         "yaxis": "y"
        }
       ],
       "layout": {
        "hovermode": "x unified",
        "legend": {
         "tracegroupgap": 0
        },
        "showlegend": false,
        "template": {
         "data": {
          "bar": [
           {
            "error_x": {
             "color": "#f2f5fa"
            },
            "error_y": {
             "color": "#f2f5fa"
            },
            "marker": {
             "line": {
              "color": "rgb(17,17,17)",
              "width": 0.5
             },
             "pattern": {
              "fillmode": "overlay",
              "size": 10,
              "solidity": 0.2
             }
            },
            "type": "bar"
           }
          ],
          "barpolar": [
           {
            "marker": {
             "line": {
              "color": "rgb(17,17,17)",
              "width": 0.5
             },
             "pattern": {
              "fillmode": "overlay",
              "size": 10,
              "solidity": 0.2
             }
            },
            "type": "barpolar"
           }
          ],
          "carpet": [
           {
            "aaxis": {
             "endlinecolor": "#A2B1C6",
             "gridcolor": "#506784",
             "linecolor": "#506784",
             "minorgridcolor": "#506784",
             "startlinecolor": "#A2B1C6"
            },
            "baxis": {
             "endlinecolor": "#A2B1C6",
             "gridcolor": "#506784",
             "linecolor": "#506784",
             "minorgridcolor": "#506784",
             "startlinecolor": "#A2B1C6"
            },
            "type": "carpet"
           }
          ],
          "choropleth": [
           {
            "colorbar": {
             "outlinewidth": 0,
             "ticks": ""
            },
            "type": "choropleth"
           }
          ],
          "contour": [
           {
            "colorbar": {
             "outlinewidth": 0,
             "ticks": ""
            },
            "colorscale": [
             [
              0,
              "#0d0887"
             ],
             [
              0.1111111111111111,
              "#46039f"
             ],
             [
              0.2222222222222222,
              "#7201a8"
             ],
             [
              0.3333333333333333,
              "#9c179e"
             ],
             [
              0.4444444444444444,
              "#bd3786"
             ],
             [
              0.5555555555555556,
              "#d8576b"
             ],
             [
              0.6666666666666666,
              "#ed7953"
             ],
             [
              0.7777777777777778,
              "#fb9f3a"
             ],
             [
              0.8888888888888888,
              "#fdca26"
             ],
             [
              1,
              "#f0f921"
             ]
            ],
            "type": "contour"
           }
          ],
          "contourcarpet": [
           {
            "colorbar": {
             "outlinewidth": 0,
             "ticks": ""
            },
            "type": "contourcarpet"
           }
          ],
          "heatmap": [
           {
            "colorbar": {
             "outlinewidth": 0,
             "ticks": ""
            },
            "colorscale": [
             [
              0,
              "#0d0887"
             ],
             [
              0.1111111111111111,
              "#46039f"
             ],
             [
              0.2222222222222222,
              "#7201a8"
             ],
             [
              0.3333333333333333,
              "#9c179e"
             ],
             [
              0.4444444444444444,
              "#bd3786"
             ],
             [
              0.5555555555555556,
              "#d8576b"
             ],
             [
              0.6666666666666666,
              "#ed7953"
             ],
             [
              0.7777777777777778,
              "#fb9f3a"
             ],
             [
              0.8888888888888888,
              "#fdca26"
             ],
             [
              1,
              "#f0f921"
             ]
            ],
            "type": "heatmap"
           }
          ],
          "heatmapgl": [
           {
            "colorbar": {
             "outlinewidth": 0,
             "ticks": ""
            },
            "colorscale": [
             [
              0,
              "#0d0887"
             ],
             [
              0.1111111111111111,
              "#46039f"
             ],
             [
              0.2222222222222222,
              "#7201a8"
             ],
             [
              0.3333333333333333,
              "#9c179e"
             ],
             [
              0.4444444444444444,
              "#bd3786"
             ],
             [
              0.5555555555555556,
              "#d8576b"
             ],
             [
              0.6666666666666666,
              "#ed7953"
             ],
             [
              0.7777777777777778,
              "#fb9f3a"
             ],
             [
              0.8888888888888888,
              "#fdca26"
             ],
             [
              1,
              "#f0f921"
             ]
            ],
            "type": "heatmapgl"
           }
          ],
          "histogram": [
           {
            "marker": {
             "pattern": {
              "fillmode": "overlay",
              "size": 10,
              "solidity": 0.2
             }
            },
            "type": "histogram"
           }
          ],
          "histogram2d": [
           {
            "colorbar": {
             "outlinewidth": 0,
             "ticks": ""
            },
            "colorscale": [
             [
              0,
              "#0d0887"
             ],
             [
              0.1111111111111111,
              "#46039f"
             ],
             [
              0.2222222222222222,
              "#7201a8"
             ],
             [
              0.3333333333333333,
              "#9c179e"
             ],
             [
              0.4444444444444444,
              "#bd3786"
             ],
             [
              0.5555555555555556,
              "#d8576b"
             ],
             [
              0.6666666666666666,
              "#ed7953"
             ],
             [
              0.7777777777777778,
              "#fb9f3a"
             ],
             [
              0.8888888888888888,
              "#fdca26"
             ],
             [
              1,
              "#f0f921"
             ]
            ],
            "type": "histogram2d"
           }
          ],
          "histogram2dcontour": [
           {
            "colorbar": {
             "outlinewidth": 0,
             "ticks": ""
            },
            "colorscale": [
             [
              0,
              "#0d0887"
             ],
             [
              0.1111111111111111,
              "#46039f"
             ],
             [
              0.2222222222222222,
              "#7201a8"
             ],
             [
              0.3333333333333333,
              "#9c179e"
             ],
             [
              0.4444444444444444,
              "#bd3786"
             ],
             [
              0.5555555555555556,
              "#d8576b"
             ],
             [
              0.6666666666666666,
              "#ed7953"
             ],
             [
              0.7777777777777778,
              "#fb9f3a"
             ],
             [
              0.8888888888888888,
              "#fdca26"
             ],
             [
              1,
              "#f0f921"
             ]
            ],
            "type": "histogram2dcontour"
           }
          ],
          "mesh3d": [
           {
            "colorbar": {
             "outlinewidth": 0,
             "ticks": ""
            },
            "type": "mesh3d"
           }
          ],
          "parcoords": [
           {
            "line": {
             "colorbar": {
              "outlinewidth": 0,
              "ticks": ""
             }
            },
            "type": "parcoords"
           }
          ],
          "pie": [
           {
            "automargin": true,
            "type": "pie"
           }
          ],
          "scatter": [
           {
            "marker": {
             "line": {
              "color": "#283442"
             }
            },
            "type": "scatter"
           }
          ],
          "scatter3d": [
           {
            "line": {
             "colorbar": {
              "outlinewidth": 0,
              "ticks": ""
             }
            },
            "marker": {
             "colorbar": {
              "outlinewidth": 0,
              "ticks": ""
             }
            },
            "type": "scatter3d"
           }
          ],
          "scattercarpet": [
           {
            "marker": {
             "colorbar": {
              "outlinewidth": 0,
              "ticks": ""
             }
            },
            "type": "scattercarpet"
           }
          ],
          "scattergeo": [
           {
            "marker": {
             "colorbar": {
              "outlinewidth": 0,
              "ticks": ""
             }
            },
            "type": "scattergeo"
           }
          ],
          "scattergl": [
           {
            "marker": {
             "line": {
              "color": "#283442"
             }
            },
            "type": "scattergl"
           }
          ],
          "scattermapbox": [
           {
            "marker": {
             "colorbar": {
              "outlinewidth": 0,
              "ticks": ""
             }
            },
            "type": "scattermapbox"
           }
          ],
          "scatterpolar": [
           {
            "marker": {
             "colorbar": {
              "outlinewidth": 0,
              "ticks": ""
             }
            },
            "type": "scatterpolar"
           }
          ],
          "scatterpolargl": [
           {
            "marker": {
             "colorbar": {
              "outlinewidth": 0,
              "ticks": ""
             }
            },
            "type": "scatterpolargl"
           }
          ],
          "scatterternary": [
           {
            "marker": {
             "colorbar": {
              "outlinewidth": 0,
              "ticks": ""
             }
            },
            "type": "scatterternary"
           }
          ],
          "surface": [
           {
            "colorbar": {
             "outlinewidth": 0,
             "ticks": ""
            },
            "colorscale": [
             [
              0,
              "#0d0887"
             ],
             [
              0.1111111111111111,
              "#46039f"
             ],
             [
              0.2222222222222222,
              "#7201a8"
             ],
             [
              0.3333333333333333,
              "#9c179e"
             ],
             [
              0.4444444444444444,
              "#bd3786"
             ],
             [
              0.5555555555555556,
              "#d8576b"
             ],
             [
              0.6666666666666666,
              "#ed7953"
             ],
             [
              0.7777777777777778,
              "#fb9f3a"
             ],
             [
              0.8888888888888888,
              "#fdca26"
             ],
             [
              1,
              "#f0f921"
             ]
            ],
            "type": "surface"
           }
          ],
          "table": [
           {
            "cells": {
             "fill": {
              "color": "#506784"
             },
             "line": {
              "color": "rgb(17,17,17)"
             }
            },
            "header": {
             "fill": {
              "color": "#2a3f5f"
             },
             "line": {
              "color": "rgb(17,17,17)"
             }
            },
            "type": "table"
           }
          ]
         },
         "layout": {
          "annotationdefaults": {
           "arrowcolor": "#f2f5fa",
           "arrowhead": 0,
           "arrowwidth": 1
          },
          "autotypenumbers": "strict",
          "coloraxis": {
           "colorbar": {
            "outlinewidth": 0,
            "ticks": ""
           }
          },
          "colorscale": {
           "diverging": [
            [
             0,
             "#8e0152"
            ],
            [
             0.1,
             "#c51b7d"
            ],
            [
             0.2,
             "#de77ae"
            ],
            [
             0.3,
             "#f1b6da"
            ],
            [
             0.4,
             "#fde0ef"
            ],
            [
             0.5,
             "#f7f7f7"
            ],
            [
             0.6,
             "#e6f5d0"
            ],
            [
             0.7,
             "#b8e186"
            ],
            [
             0.8,
             "#7fbc41"
            ],
            [
             0.9,
             "#4d9221"
            ],
            [
             1,
             "#276419"
            ]
           ],
           "sequential": [
            [
             0,
             "#0d0887"
            ],
            [
             0.1111111111111111,
             "#46039f"
            ],
            [
             0.2222222222222222,
             "#7201a8"
            ],
            [
             0.3333333333333333,
             "#9c179e"
            ],
            [
             0.4444444444444444,
             "#bd3786"
            ],
            [
             0.5555555555555556,
             "#d8576b"
            ],
            [
             0.6666666666666666,
             "#ed7953"
            ],
            [
             0.7777777777777778,
             "#fb9f3a"
            ],
            [
             0.8888888888888888,
             "#fdca26"
            ],
            [
             1,
             "#f0f921"
            ]
           ],
           "sequentialminus": [
            [
             0,
             "#0d0887"
            ],
            [
             0.1111111111111111,
             "#46039f"
            ],
            [
             0.2222222222222222,
             "#7201a8"
            ],
            [
             0.3333333333333333,
             "#9c179e"
            ],
            [
             0.4444444444444444,
             "#bd3786"
            ],
            [
             0.5555555555555556,
             "#d8576b"
            ],
            [
             0.6666666666666666,
             "#ed7953"
            ],
            [
             0.7777777777777778,
             "#fb9f3a"
            ],
            [
             0.8888888888888888,
             "#fdca26"
            ],
            [
             1,
             "#f0f921"
            ]
           ]
          },
          "colorway": [
           "#636efa",
           "#EF553B",
           "#00cc96",
           "#ab63fa",
           "#FFA15A",
           "#19d3f3",
           "#FF6692",
           "#B6E880",
           "#FF97FF",
           "#FECB52"
          ],
          "font": {
           "color": "#f2f5fa"
          },
          "geo": {
           "bgcolor": "rgb(17,17,17)",
           "lakecolor": "rgb(17,17,17)",
           "landcolor": "rgb(17,17,17)",
           "showlakes": true,
           "showland": true,
           "subunitcolor": "#506784"
          },
          "hoverlabel": {
           "align": "left"
          },
          "hovermode": "closest",
          "mapbox": {
           "style": "dark"
          },
          "paper_bgcolor": "rgb(17,17,17)",
          "plot_bgcolor": "rgb(17,17,17)",
          "polar": {
           "angularaxis": {
            "gridcolor": "#506784",
            "linecolor": "#506784",
            "ticks": ""
           },
           "bgcolor": "rgb(17,17,17)",
           "radialaxis": {
            "gridcolor": "#506784",
            "linecolor": "#506784",
            "ticks": ""
           }
          },
          "scene": {
           "xaxis": {
            "backgroundcolor": "rgb(17,17,17)",
            "gridcolor": "#506784",
            "gridwidth": 2,
            "linecolor": "#506784",
            "showbackground": true,
            "ticks": "",
            "zerolinecolor": "#C8D4E3"
           },
           "yaxis": {
            "backgroundcolor": "rgb(17,17,17)",
            "gridcolor": "#506784",
            "gridwidth": 2,
            "linecolor": "#506784",
            "showbackground": true,
            "ticks": "",
            "zerolinecolor": "#C8D4E3"
           },
           "zaxis": {
            "backgroundcolor": "rgb(17,17,17)",
            "gridcolor": "#506784",
            "gridwidth": 2,
            "linecolor": "#506784",
            "showbackground": true,
            "ticks": "",
            "zerolinecolor": "#C8D4E3"
           }
          },
          "shapedefaults": {
           "line": {
            "color": "#f2f5fa"
           }
          },
          "sliderdefaults": {
           "bgcolor": "#C8D4E3",
           "bordercolor": "rgb(17,17,17)",
           "borderwidth": 1,
           "tickwidth": 0
          },
          "ternary": {
           "aaxis": {
            "gridcolor": "#506784",
            "linecolor": "#506784",
            "ticks": ""
           },
           "baxis": {
            "gridcolor": "#506784",
            "linecolor": "#506784",
            "ticks": ""
           },
           "bgcolor": "rgb(17,17,17)",
           "caxis": {
            "gridcolor": "#506784",
            "linecolor": "#506784",
            "ticks": ""
           }
          },
          "title": {
           "x": 0.05
          },
          "updatemenudefaults": {
           "bgcolor": "#506784",
           "borderwidth": 0
          },
          "xaxis": {
           "automargin": true,
           "gridcolor": "#283442",
           "linecolor": "#506784",
           "ticks": "",
           "title": {
            "standoff": 15
           },
           "zerolinecolor": "#283442",
           "zerolinewidth": 2
          },
          "yaxis": {
           "automargin": true,
           "gridcolor": "#283442",
           "linecolor": "#506784",
           "ticks": "",
           "title": {
            "standoff": 15
           },
           "zerolinecolor": "#283442",
           "zerolinewidth": 2
          }
         }
        },
        "title": {
         "text": "Distribution of WAR in the 2023 Season",
         "x": 0.5
        },
        "xaxis": {
         "anchor": "y",
         "domain": [
          0,
          1
         ],
         "title": {
          "text": "WAR"
         }
        },
        "yaxis": {
         "anchor": "x",
         "domain": [
          0,
          1
         ],
         "title": {
          "text": "Frequency of Players"
         }
        }
       }
      }
     },
     "metadata": {},
     "output_type": "display_data"
    }
   ],
   "source": [
    "import pandas as pd\n",
    "import plotly.express as px\n",
    "\n",
    "# Load the CSV data with the correct encoding\n",
    "file_path = \"WAR_2023.csv\"\n",
    "df = pd.read_csv(file_path, encoding='ISO-8859-1')  # Adjust encoding if necessary\n",
    "\n",
    "# Extract the WAR column (assuming it's the 16th column, index 15)\n",
    "war_column = df.iloc[:, 15]\n",
    "\n",
    "# Compute the frequency distribution of the WAR values\n",
    "war_counts = war_column.value_counts().sort_index()\n",
    "\n",
    "# Create an interactive line plot using Plotly\n",
    "fig = px.line(\n",
    "    x=war_counts.index,\n",
    "    y=war_counts.values,\n",
    "    title=\"Distribution of WAR in the 2023 Season\",\n",
    "    labels={'x': 'WAR', 'y': 'Frequency of Players'},\n",
    "    template='plotly_dark',  # Use a dark theme for visual appeal\n",
    ")\n",
    "\n",
    "# Customize the plot further\n",
    "fig.update_layout(\n",
    "    xaxis_title=\"WAR\",\n",
    "    yaxis_title=\"Frequency of Players\",\n",
    "    title_x=0.5,  # Center the title\n",
    "    showlegend=False,\n",
    "    hovermode='x unified',  # Show hover information along the x-axis\n",
    ")\n",
    "\n",
    "# Add interactivity features\n",
    "fig.update_traces(\n",
    "    hovertemplate='WAR: %{x}<br>Frequency of Players: %{y}<extra></extra>',  # Custom tooltip\n",
    "    line=dict(color='rgba(255, 65, 54, 0.7)', width=3),  # Customize line color and width\n",
    ")\n",
    "\n",
    "# Show the plot\n",
    "fig.show()\n"
   ]
  },
  {
   "cell_type": "markdown",
   "metadata": {},
   "source": [
    "By taking the top 50 and bottom 50 data from WAR I am able to conduct a fair analysis and comparison of my data sets."
   ]
  },
  {
   "cell_type": "markdown",
   "metadata": {},
   "source": [
    "Collecting the top 50 WAR data in my data set will enable further comparison of the hypothesis."
   ]
  },
  {
   "cell_type": "code",
   "execution_count": 83,
   "metadata": {},
   "outputs": [
    {
     "name": "stdout",
     "output_type": "stream",
     "text": [
      "                  Name  WAR\n",
      "0         Mookie Betts  8.3\n",
      "1     Ronald Acuña Jr.  8.2\n",
      "2        Marcus Semien  7.4\n",
      "3          Matt Olson*  7.4\n",
      "4        Corey Seager*  6.9\n",
      "5     Freddie Freeman*  6.5\n",
      "6    Gunnar Henderson*  6.2\n",
      "7       Shohei Ohtani*  6.0\n",
      "8    Francisco Lindor#  6.0\n",
      "9         Austin Riley  5.9\n",
      "10        Ha-Seong Kim  5.8\n",
      "11          Juan Soto*  5.5\n",
      "12      Wander Franco#  5.5\n",
      "13  Fernando Tatis Jr.  5.5\n",
      "14        Kyle Tucker*  5.4\n",
      "15     Corbin Carroll*  5.4\n",
      "16     Julio Rodríguez  5.3\n",
      "17     Andrés Giménez*  5.3\n",
      "18          Yandy Díaz  5.2\n",
      "19       José Ramírez#  5.1\n",
      "20      J.P. Crawford*  5.1\n",
      "21        Nico Hoerner  5.1\n",
      "22     Luis Robert Jr.  5.0\n",
      "23        Luis Arráez*  4.9\n",
      "24        Ketel Marte#  4.9\n",
      "25        Alex Bregman  4.9\n",
      "26         Bo Bichette  4.9\n",
      "27      Dansby Swanson  4.8\n",
      "28       Ozzie Albies#  4.7\n",
      "29     Yordan Alvarez*  4.6\n",
      "30         Aaron Judge  4.5\n",
      "31     Xander Bogaerts  4.4\n",
      "32     Cody Bellinger*  4.4\n",
      "33      Bobby Witt Jr.  4.4\n",
      "34        Matt Chapman  4.4\n",
      "35    Adley Rutschman#  4.3\n",
      "36       Bryson Stott*  4.3\n",
      "37        Nolan Jones*  4.3\n",
      "38      Gabriel Moreno  4.3\n",
      "39       Isaac Paredes  4.2\n",
      "40       Adolis García  4.2\n",
      "41          Will Smith  4.1\n",
      "42      Ke'Bryan Hayes  4.0\n",
      "43      Brandon Nimmo*  3.9\n",
      "44     Daulton Varsho*  3.9\n",
      "45         Sean Murphy  3.9\n",
      "46    Kevin Kiermaier*  3.9\n",
      "47         Jeremy Peña  3.8\n",
      "48    Christian Walker  3.8\n",
      "49          TJ Friedl*  3.8\n"
     ]
    }
   ],
   "source": [
    "import pandas as pd\n",
    "\n",
    "def get_top_50_numbers(data):\n",
    "    try:\n",
    "        # Extract column names for column 2 and column 16\n",
    "        column_2_name = data.columns[1]  # Column 2 (index 1)\n",
    "        column_16_name = data.columns[15]  # Column 16 (index 15)\n",
    "        \n",
    "        # Extract column 2 and column 16\n",
    "        column_2 = data.iloc[:, 1]\n",
    "        column_16 = data.iloc[:, 15]\n",
    "        \n",
    "        # Combine the two columns into a new DataFrame with their original titles\n",
    "        combined_data = pd.DataFrame({\n",
    "            column_2_name: column_2,\n",
    "            column_16_name: column_16\n",
    "        })\n",
    "        \n",
    "        # Sort the data based on column 16 in descending order\n",
    "        sorted_data = combined_data.sort_values(by=column_16_name, ascending=False)\n",
    "        \n",
    "        # Retrieve the top 50 rows based on column 16\n",
    "        top_50 = sorted_data.head(50).reset_index(drop=True)\n",
    "        \n",
    "        # Print the results\n",
    "        print(top_50)\n",
    "        \n",
    "    except Exception as e:\n",
    "        print(f\"An error occurred: {e}\")\n",
    "\n",
    "# Assuming `data` is already a DataFrame loaded with the necessary data\n",
    "data = pd.read_csv(\"WAR_2023.csv\", encoding='latin1')\n",
    "\n",
    "# Get the top 50 numbers from column 16 and their corresponding values in column 2 with original titles\n",
    "get_top_50_numbers(data)\n"
   ]
  },
  {
   "cell_type": "markdown",
   "metadata": {},
   "source": [
    "By collecting the Mean, Meadian, Variance and standard deviation, it allows to determine whether there is a corralation between my datasets."
   ]
  },
  {
   "cell_type": "code",
   "execution_count": 84,
   "metadata": {},
   "outputs": [
    {
     "name": "stdout",
     "output_type": "stream",
     "text": [
      "Top 50 WAR Values:\n",
      "Sample Mean: 5.09\n",
      "Sample Median: 4.9\n",
      "Sample Variance: 1.2356122448979592\n",
      "Sample Standard Deviation: 1.1115809664158338\n"
     ]
    },
    {
     "data": {
      "application/vnd.plotly.v1+json": {
       "config": {
        "plotlyServerURL": "https://plot.ly"
       },
       "data": [
        {
         "boxmean": "sd",
         "marker": {
          "color": "lightblue"
         },
         "name": "Top 50 WAR Values",
         "type": "box",
         "x": [
          8.3,
          8.2,
          7.4,
          7.4,
          6.9,
          6.5,
          6.2,
          6,
          6,
          5.9,
          5.8,
          5.5,
          5.5,
          5.5,
          5.4,
          5.4,
          5.3,
          5.3,
          5.2,
          5.1,
          5.1,
          5.1,
          5,
          4.9,
          4.9,
          4.9,
          4.9,
          4.8,
          4.7,
          4.6,
          4.5,
          4.4,
          4.4,
          4.4,
          4.4,
          4.3,
          4.3,
          4.3,
          4.3,
          4.2,
          4.2,
          4.1,
          4,
          3.9,
          3.9,
          3.9,
          3.9,
          3.8,
          3.8,
          3.8
         ]
        }
       ],
       "layout": {
        "hovermode": "x",
        "showlegend": false,
        "template": {
         "data": {
          "bar": [
           {
            "error_x": {
             "color": "#f2f5fa"
            },
            "error_y": {
             "color": "#f2f5fa"
            },
            "marker": {
             "line": {
              "color": "rgb(17,17,17)",
              "width": 0.5
             },
             "pattern": {
              "fillmode": "overlay",
              "size": 10,
              "solidity": 0.2
             }
            },
            "type": "bar"
           }
          ],
          "barpolar": [
           {
            "marker": {
             "line": {
              "color": "rgb(17,17,17)",
              "width": 0.5
             },
             "pattern": {
              "fillmode": "overlay",
              "size": 10,
              "solidity": 0.2
             }
            },
            "type": "barpolar"
           }
          ],
          "carpet": [
           {
            "aaxis": {
             "endlinecolor": "#A2B1C6",
             "gridcolor": "#506784",
             "linecolor": "#506784",
             "minorgridcolor": "#506784",
             "startlinecolor": "#A2B1C6"
            },
            "baxis": {
             "endlinecolor": "#A2B1C6",
             "gridcolor": "#506784",
             "linecolor": "#506784",
             "minorgridcolor": "#506784",
             "startlinecolor": "#A2B1C6"
            },
            "type": "carpet"
           }
          ],
          "choropleth": [
           {
            "colorbar": {
             "outlinewidth": 0,
             "ticks": ""
            },
            "type": "choropleth"
           }
          ],
          "contour": [
           {
            "colorbar": {
             "outlinewidth": 0,
             "ticks": ""
            },
            "colorscale": [
             [
              0,
              "#0d0887"
             ],
             [
              0.1111111111111111,
              "#46039f"
             ],
             [
              0.2222222222222222,
              "#7201a8"
             ],
             [
              0.3333333333333333,
              "#9c179e"
             ],
             [
              0.4444444444444444,
              "#bd3786"
             ],
             [
              0.5555555555555556,
              "#d8576b"
             ],
             [
              0.6666666666666666,
              "#ed7953"
             ],
             [
              0.7777777777777778,
              "#fb9f3a"
             ],
             [
              0.8888888888888888,
              "#fdca26"
             ],
             [
              1,
              "#f0f921"
             ]
            ],
            "type": "contour"
           }
          ],
          "contourcarpet": [
           {
            "colorbar": {
             "outlinewidth": 0,
             "ticks": ""
            },
            "type": "contourcarpet"
           }
          ],
          "heatmap": [
           {
            "colorbar": {
             "outlinewidth": 0,
             "ticks": ""
            },
            "colorscale": [
             [
              0,
              "#0d0887"
             ],
             [
              0.1111111111111111,
              "#46039f"
             ],
             [
              0.2222222222222222,
              "#7201a8"
             ],
             [
              0.3333333333333333,
              "#9c179e"
             ],
             [
              0.4444444444444444,
              "#bd3786"
             ],
             [
              0.5555555555555556,
              "#d8576b"
             ],
             [
              0.6666666666666666,
              "#ed7953"
             ],
             [
              0.7777777777777778,
              "#fb9f3a"
             ],
             [
              0.8888888888888888,
              "#fdca26"
             ],
             [
              1,
              "#f0f921"
             ]
            ],
            "type": "heatmap"
           }
          ],
          "heatmapgl": [
           {
            "colorbar": {
             "outlinewidth": 0,
             "ticks": ""
            },
            "colorscale": [
             [
              0,
              "#0d0887"
             ],
             [
              0.1111111111111111,
              "#46039f"
             ],
             [
              0.2222222222222222,
              "#7201a8"
             ],
             [
              0.3333333333333333,
              "#9c179e"
             ],
             [
              0.4444444444444444,
              "#bd3786"
             ],
             [
              0.5555555555555556,
              "#d8576b"
             ],
             [
              0.6666666666666666,
              "#ed7953"
             ],
             [
              0.7777777777777778,
              "#fb9f3a"
             ],
             [
              0.8888888888888888,
              "#fdca26"
             ],
             [
              1,
              "#f0f921"
             ]
            ],
            "type": "heatmapgl"
           }
          ],
          "histogram": [
           {
            "marker": {
             "pattern": {
              "fillmode": "overlay",
              "size": 10,
              "solidity": 0.2
             }
            },
            "type": "histogram"
           }
          ],
          "histogram2d": [
           {
            "colorbar": {
             "outlinewidth": 0,
             "ticks": ""
            },
            "colorscale": [
             [
              0,
              "#0d0887"
             ],
             [
              0.1111111111111111,
              "#46039f"
             ],
             [
              0.2222222222222222,
              "#7201a8"
             ],
             [
              0.3333333333333333,
              "#9c179e"
             ],
             [
              0.4444444444444444,
              "#bd3786"
             ],
             [
              0.5555555555555556,
              "#d8576b"
             ],
             [
              0.6666666666666666,
              "#ed7953"
             ],
             [
              0.7777777777777778,
              "#fb9f3a"
             ],
             [
              0.8888888888888888,
              "#fdca26"
             ],
             [
              1,
              "#f0f921"
             ]
            ],
            "type": "histogram2d"
           }
          ],
          "histogram2dcontour": [
           {
            "colorbar": {
             "outlinewidth": 0,
             "ticks": ""
            },
            "colorscale": [
             [
              0,
              "#0d0887"
             ],
             [
              0.1111111111111111,
              "#46039f"
             ],
             [
              0.2222222222222222,
              "#7201a8"
             ],
             [
              0.3333333333333333,
              "#9c179e"
             ],
             [
              0.4444444444444444,
              "#bd3786"
             ],
             [
              0.5555555555555556,
              "#d8576b"
             ],
             [
              0.6666666666666666,
              "#ed7953"
             ],
             [
              0.7777777777777778,
              "#fb9f3a"
             ],
             [
              0.8888888888888888,
              "#fdca26"
             ],
             [
              1,
              "#f0f921"
             ]
            ],
            "type": "histogram2dcontour"
           }
          ],
          "mesh3d": [
           {
            "colorbar": {
             "outlinewidth": 0,
             "ticks": ""
            },
            "type": "mesh3d"
           }
          ],
          "parcoords": [
           {
            "line": {
             "colorbar": {
              "outlinewidth": 0,
              "ticks": ""
             }
            },
            "type": "parcoords"
           }
          ],
          "pie": [
           {
            "automargin": true,
            "type": "pie"
           }
          ],
          "scatter": [
           {
            "marker": {
             "line": {
              "color": "#283442"
             }
            },
            "type": "scatter"
           }
          ],
          "scatter3d": [
           {
            "line": {
             "colorbar": {
              "outlinewidth": 0,
              "ticks": ""
             }
            },
            "marker": {
             "colorbar": {
              "outlinewidth": 0,
              "ticks": ""
             }
            },
            "type": "scatter3d"
           }
          ],
          "scattercarpet": [
           {
            "marker": {
             "colorbar": {
              "outlinewidth": 0,
              "ticks": ""
             }
            },
            "type": "scattercarpet"
           }
          ],
          "scattergeo": [
           {
            "marker": {
             "colorbar": {
              "outlinewidth": 0,
              "ticks": ""
             }
            },
            "type": "scattergeo"
           }
          ],
          "scattergl": [
           {
            "marker": {
             "line": {
              "color": "#283442"
             }
            },
            "type": "scattergl"
           }
          ],
          "scattermapbox": [
           {
            "marker": {
             "colorbar": {
              "outlinewidth": 0,
              "ticks": ""
             }
            },
            "type": "scattermapbox"
           }
          ],
          "scatterpolar": [
           {
            "marker": {
             "colorbar": {
              "outlinewidth": 0,
              "ticks": ""
             }
            },
            "type": "scatterpolar"
           }
          ],
          "scatterpolargl": [
           {
            "marker": {
             "colorbar": {
              "outlinewidth": 0,
              "ticks": ""
             }
            },
            "type": "scatterpolargl"
           }
          ],
          "scatterternary": [
           {
            "marker": {
             "colorbar": {
              "outlinewidth": 0,
              "ticks": ""
             }
            },
            "type": "scatterternary"
           }
          ],
          "surface": [
           {
            "colorbar": {
             "outlinewidth": 0,
             "ticks": ""
            },
            "colorscale": [
             [
              0,
              "#0d0887"
             ],
             [
              0.1111111111111111,
              "#46039f"
             ],
             [
              0.2222222222222222,
              "#7201a8"
             ],
             [
              0.3333333333333333,
              "#9c179e"
             ],
             [
              0.4444444444444444,
              "#bd3786"
             ],
             [
              0.5555555555555556,
              "#d8576b"
             ],
             [
              0.6666666666666666,
              "#ed7953"
             ],
             [
              0.7777777777777778,
              "#fb9f3a"
             ],
             [
              0.8888888888888888,
              "#fdca26"
             ],
             [
              1,
              "#f0f921"
             ]
            ],
            "type": "surface"
           }
          ],
          "table": [
           {
            "cells": {
             "fill": {
              "color": "#506784"
             },
             "line": {
              "color": "rgb(17,17,17)"
             }
            },
            "header": {
             "fill": {
              "color": "#2a3f5f"
             },
             "line": {
              "color": "rgb(17,17,17)"
             }
            },
            "type": "table"
           }
          ]
         },
         "layout": {
          "annotationdefaults": {
           "arrowcolor": "#f2f5fa",
           "arrowhead": 0,
           "arrowwidth": 1
          },
          "autotypenumbers": "strict",
          "coloraxis": {
           "colorbar": {
            "outlinewidth": 0,
            "ticks": ""
           }
          },
          "colorscale": {
           "diverging": [
            [
             0,
             "#8e0152"
            ],
            [
             0.1,
             "#c51b7d"
            ],
            [
             0.2,
             "#de77ae"
            ],
            [
             0.3,
             "#f1b6da"
            ],
            [
             0.4,
             "#fde0ef"
            ],
            [
             0.5,
             "#f7f7f7"
            ],
            [
             0.6,
             "#e6f5d0"
            ],
            [
             0.7,
             "#b8e186"
            ],
            [
             0.8,
             "#7fbc41"
            ],
            [
             0.9,
             "#4d9221"
            ],
            [
             1,
             "#276419"
            ]
           ],
           "sequential": [
            [
             0,
             "#0d0887"
            ],
            [
             0.1111111111111111,
             "#46039f"
            ],
            [
             0.2222222222222222,
             "#7201a8"
            ],
            [
             0.3333333333333333,
             "#9c179e"
            ],
            [
             0.4444444444444444,
             "#bd3786"
            ],
            [
             0.5555555555555556,
             "#d8576b"
            ],
            [
             0.6666666666666666,
             "#ed7953"
            ],
            [
             0.7777777777777778,
             "#fb9f3a"
            ],
            [
             0.8888888888888888,
             "#fdca26"
            ],
            [
             1,
             "#f0f921"
            ]
           ],
           "sequentialminus": [
            [
             0,
             "#0d0887"
            ],
            [
             0.1111111111111111,
             "#46039f"
            ],
            [
             0.2222222222222222,
             "#7201a8"
            ],
            [
             0.3333333333333333,
             "#9c179e"
            ],
            [
             0.4444444444444444,
             "#bd3786"
            ],
            [
             0.5555555555555556,
             "#d8576b"
            ],
            [
             0.6666666666666666,
             "#ed7953"
            ],
            [
             0.7777777777777778,
             "#fb9f3a"
            ],
            [
             0.8888888888888888,
             "#fdca26"
            ],
            [
             1,
             "#f0f921"
            ]
           ]
          },
          "colorway": [
           "#636efa",
           "#EF553B",
           "#00cc96",
           "#ab63fa",
           "#FFA15A",
           "#19d3f3",
           "#FF6692",
           "#B6E880",
           "#FF97FF",
           "#FECB52"
          ],
          "font": {
           "color": "#f2f5fa"
          },
          "geo": {
           "bgcolor": "rgb(17,17,17)",
           "lakecolor": "rgb(17,17,17)",
           "landcolor": "rgb(17,17,17)",
           "showlakes": true,
           "showland": true,
           "subunitcolor": "#506784"
          },
          "hoverlabel": {
           "align": "left"
          },
          "hovermode": "closest",
          "mapbox": {
           "style": "dark"
          },
          "paper_bgcolor": "rgb(17,17,17)",
          "plot_bgcolor": "rgb(17,17,17)",
          "polar": {
           "angularaxis": {
            "gridcolor": "#506784",
            "linecolor": "#506784",
            "ticks": ""
           },
           "bgcolor": "rgb(17,17,17)",
           "radialaxis": {
            "gridcolor": "#506784",
            "linecolor": "#506784",
            "ticks": ""
           }
          },
          "scene": {
           "xaxis": {
            "backgroundcolor": "rgb(17,17,17)",
            "gridcolor": "#506784",
            "gridwidth": 2,
            "linecolor": "#506784",
            "showbackground": true,
            "ticks": "",
            "zerolinecolor": "#C8D4E3"
           },
           "yaxis": {
            "backgroundcolor": "rgb(17,17,17)",
            "gridcolor": "#506784",
            "gridwidth": 2,
            "linecolor": "#506784",
            "showbackground": true,
            "ticks": "",
            "zerolinecolor": "#C8D4E3"
           },
           "zaxis": {
            "backgroundcolor": "rgb(17,17,17)",
            "gridcolor": "#506784",
            "gridwidth": 2,
            "linecolor": "#506784",
            "showbackground": true,
            "ticks": "",
            "zerolinecolor": "#C8D4E3"
           }
          },
          "shapedefaults": {
           "line": {
            "color": "#f2f5fa"
           }
          },
          "sliderdefaults": {
           "bgcolor": "#C8D4E3",
           "bordercolor": "rgb(17,17,17)",
           "borderwidth": 1,
           "tickwidth": 0
          },
          "ternary": {
           "aaxis": {
            "gridcolor": "#506784",
            "linecolor": "#506784",
            "ticks": ""
           },
           "baxis": {
            "gridcolor": "#506784",
            "linecolor": "#506784",
            "ticks": ""
           },
           "bgcolor": "rgb(17,17,17)",
           "caxis": {
            "gridcolor": "#506784",
            "linecolor": "#506784",
            "ticks": ""
           }
          },
          "title": {
           "x": 0.05
          },
          "updatemenudefaults": {
           "bgcolor": "#506784",
           "borderwidth": 0
          },
          "xaxis": {
           "automargin": true,
           "gridcolor": "#283442",
           "linecolor": "#506784",
           "ticks": "",
           "title": {
            "standoff": 15
           },
           "zerolinecolor": "#283442",
           "zerolinewidth": 2
          },
          "yaxis": {
           "automargin": true,
           "gridcolor": "#283442",
           "linecolor": "#506784",
           "ticks": "",
           "title": {
            "standoff": 15
           },
           "zerolinecolor": "#283442",
           "zerolinewidth": 2
          }
         }
        },
        "title": {
         "text": "Top 50 2023 WAR Values"
        },
        "xaxis": {
         "title": {
          "text": "WAR Value"
         }
        },
        "yaxis": {
         "title": {
          "text": ""
         }
        }
       }
      }
     },
     "metadata": {},
     "output_type": "display_data"
    }
   ],
   "source": [
    "import os\n",
    "import pandas as pd\n",
    "import plotly.graph_objects as go\n",
    "\n",
    "csv_file_path = 'WAR_2023.csv'\n",
    "\n",
    "# Check if the file exists\n",
    "if not os.path.exists(csv_file_path):\n",
    "    raise FileNotFoundError(f\"The file '{csv_file_path}' does not exist.\")\n",
    "\n",
    "try:\n",
    "    # Attempt to read the CSV file with different encodings\n",
    "    try:\n",
    "        df = pd.read_csv(csv_file_path, encoding='utf-8')\n",
    "    except UnicodeDecodeError:\n",
    "        try:\n",
    "            df = pd.read_csv(csv_file_path, encoding='latin1')\n",
    "        except UnicodeDecodeError:\n",
    "            df = pd.read_csv(csv_file_path, encoding='iso-8859-1')\n",
    "except Exception as e:\n",
    "    raise ValueError(f\"Error reading the CSV file: {e}\")\n",
    "\n",
    "# Ensure the CSV file has at least 16 columns\n",
    "if df.shape[1] < 16:\n",
    "    raise ValueError(\"The CSV file does not have at least 16 columns.\")\n",
    "\n",
    "try:\n",
    "    # Extract the 16th column (index 15, since indexing starts from 0)\n",
    "    column_16 = df.iloc[:, 15]\n",
    "\n",
    "    # Ensure the column contains numeric values\n",
    "    column_16 = pd.to_numeric(column_16, errors='coerce')\n",
    "    \n",
    "    # Drop NaN values that cannot be converted to numeric\n",
    "    column_16 = column_16.dropna()\n",
    "\n",
    "    # Sort the column in descending order and select the top 50 values\n",
    "    top_50_values = column_16.nlargest(50)\n",
    "\n",
    "    # Compute statistics for top 50 values\n",
    "    top_50_mean = top_50_values.mean()\n",
    "    top_50_median = top_50_values.median()\n",
    "    top_50_variance = top_50_values.var()\n",
    "    top_50_std_dev = top_50_values.std()\n",
    "\n",
    "    # Print the results for top 50 values\n",
    "    print(\"Top 50 WAR Values:\")\n",
    "    print(\"Sample Mean:\", top_50_mean)\n",
    "    print(\"Sample Median:\", top_50_median)\n",
    "    print(\"Sample Variance:\", top_50_variance)\n",
    "    print(\"Sample Standard Deviation:\", top_50_std_dev)\n",
    "\n",
    "    # Create interactive box plot for top 50 values using Plotly\n",
    "    fig = go.Figure()\n",
    "\n",
    "    # Adding a box plot for the top 50 WAR values\n",
    "    fig.add_trace(go.Box(\n",
    "        x=top_50_values,\n",
    "        name='Top 50 WAR Values',\n",
    "        boxmean='sd',  # Display mean and standard deviation\n",
    "        marker=dict(color='lightblue')\n",
    "    ))\n",
    "\n",
    "    # Customize the layout of the plot\n",
    "    fig.update_layout(\n",
    "        title=\"Top 50 2023 WAR Values\",\n",
    "        xaxis_title=\"WAR Value\",\n",
    "        yaxis_title=\"\",\n",
    "        template=\"plotly_dark\",\n",
    "        showlegend=False,\n",
    "        hovermode=\"x\"\n",
    "    )\n",
    "\n",
    "    # Display the interactive plot\n",
    "    fig.show()\n",
    "\n",
    "except Exception as e:\n",
    "    raise ValueError(f\"Error processing the 16th column: {e}\")\n"
   ]
  },
  {
   "cell_type": "markdown",
   "metadata": {},
   "source": [
    "collecting the top 50 war vales team wining percentages"
   ]
  },
  {
   "cell_type": "code",
   "execution_count": 85,
   "metadata": {},
   "outputs": [
    {
     "name": "stdout",
     "output_type": "stream",
     "text": [
      "Top 50 WAR Players Winning Percentage (Sorted):\n",
      "53.90%\n",
      "53.80%\n",
      "53.20%\n",
      "53.20%\n",
      "53.10%\n",
      "52.80%\n",
      "52.70%\n",
      "52.50%\n",
      "52.40%\n",
      "52.40%\n",
      "52.30%\n",
      "52.30%\n",
      "52.20%\n",
      "52.10%\n",
      "52.00%\n",
      "52.00%\n",
      "52.00%\n",
      "52.00%\n",
      "51.90%\n",
      "51.90%\n",
      "51.90%\n",
      "51.90%\n",
      "51.90%\n",
      "51.90%\n",
      "51.90%\n",
      "51.80%\n",
      "51.80%\n",
      "51.80%\n",
      "51.80%\n",
      "51.80%\n",
      "51.70%\n",
      "51.70%\n",
      "51.60%\n",
      "51.60%\n",
      "51.60%\n",
      "51.50%\n",
      "51.50%\n",
      "51.50%\n",
      "51.40%\n",
      "51.40%\n",
      "51.40%\n",
      "51.40%\n",
      "51.30%\n",
      "51.30%\n",
      "51.30%\n",
      "51.30%\n",
      "51.20%\n",
      "51.20%\n",
      "51.10%\n",
      "51.10%\n"
     ]
    }
   ],
   "source": [
    "\n",
    "csv_file_path = 'WAR_2023.csv'\n",
    "\n",
    "# Check if the file exists\n",
    "if not os.path.exists(csv_file_path):\n",
    "    raise FileNotFoundError(f\"The file '{csv_file_path}' does not exist.\")\n",
    "\n",
    "try:\n",
    "    # Attempt to read the CSV file with different encodings\n",
    "    try:\n",
    "        df = pd.read_csv(csv_file_path, encoding='utf-8')\n",
    "    except UnicodeDecodeError:\n",
    "        try:\n",
    "            df = pd.read_csv(csv_file_path, encoding='latin1')\n",
    "        except UnicodeDecodeError:\n",
    "            df = pd.read_csv(csv_file_path, encoding='iso-8859-1')\n",
    "except Exception as e:\n",
    "    raise ValueError(f\"Error reading the CSV file: {e}\")\n",
    "\n",
    "# Ensure the CSV file has at least 18 columns\n",
    "if df.shape[1] < 18:\n",
    "    raise ValueError(\"The CSV file does not have at least 18 columns.\")\n",
    "\n",
    "try:\n",
    "    # Extract the 15th column (index 14, since indexing starts from 0)\n",
    "    column_15 = df.iloc[:, 14]\n",
    "\n",
    "    # Ensure the column contains numeric values\n",
    "    column_15 = pd.to_numeric(column_15, errors='coerce')\n",
    "    \n",
    "    # Drop NaN values that cannot be converted to numeric\n",
    "    column_15 = column_15.dropna()\n",
    "\n",
    "    # Sort the column in descending order and select the top 50 values\n",
    "    top_50_indices = column_15.nlargest(50).index\n",
    "\n",
    "    # Extract the 18th column (index 17) for these top 50 players\n",
    "    column_18_top_50 = df.iloc[top_50_indices, 17]\n",
    "\n",
    "    # Ensure the extracted column contains numeric values\n",
    "    column_18_top_50 = pd.to_numeric(column_18_top_50, errors='coerce')\n",
    "\n",
    "    # Convert the values to percentages\n",
    "    column_18_top_50_percentages = column_18_top_50 * 100\n",
    "\n",
    "    # Sort the percentages in descending order\n",
    "    sorted_percentages = column_18_top_50_percentages.sort_values(ascending=False)\n",
    "\n",
    "    # Format the percentages to two decimal places and convert to string\n",
    "    formatted_percentages = sorted_percentages.apply(lambda x: f\"{x:.2f}%\")\n",
    "\n",
    "    # Print the corresponding data in column 18 as percentages for the top 50 players\n",
    "    print(\"Top 50 WAR Players Winning Percentage (Sorted):\")\n",
    "    print(formatted_percentages.to_string(index=False))\n",
    "\n",
    "except Exception as e:\n",
    "    raise ValueError(f\"Error processing the data: {e}\")\n"
   ]
  },
  {
   "cell_type": "code",
   "execution_count": 86,
   "metadata": {},
   "outputs": [
    {
     "name": "stdout",
     "output_type": "stream",
     "text": [
      "Top 50 WAR Players Winning Percentage Statistics:\n",
      "Sample Mean: 51.95%\n",
      "Sample Median: 51.85%\n",
      "Sample Variance: 0.42\n",
      "Sample Standard Deviation: 0.65\n"
     ]
    },
    {
     "data": {
      "application/vnd.plotly.v1+json": {
       "config": {
        "plotlyServerURL": "https://plot.ly"
       },
       "data": [
        {
         "boxmean": "sd",
         "marker": {
          "color": "lightblue"
         },
         "name": "Top 50 Winning Percentages",
         "type": "box",
         "x": [
          53.800000000000004,
          53.900000000000006,
          53.2,
          53.1,
          53.2,
          52.7,
          52.800000000000004,
          52.5,
          52.400000000000006,
          52.300000000000004,
          52.300000000000004,
          52,
          52.1,
          52.2,
          52.400000000000006,
          51.9,
          52,
          52,
          51.9,
          52,
          51.9,
          51.800000000000004,
          51.800000000000004,
          51.800000000000004,
          51.9,
          51.7,
          51.9,
          51.6,
          51.7,
          51.9,
          51.4,
          51.6,
          51.800000000000004,
          51.5,
          51.800000000000004,
          51.9,
          51.300000000000004,
          51.4,
          51.300000000000004,
          51.300000000000004,
          51.4,
          51.5,
          51.4,
          51.6,
          51.2,
          51.1,
          51.1,
          51.300000000000004,
          51.2,
          51.5
         ]
        }
       ],
       "layout": {
        "hovermode": "x",
        "showlegend": false,
        "template": {
         "data": {
          "bar": [
           {
            "error_x": {
             "color": "#f2f5fa"
            },
            "error_y": {
             "color": "#f2f5fa"
            },
            "marker": {
             "line": {
              "color": "rgb(17,17,17)",
              "width": 0.5
             },
             "pattern": {
              "fillmode": "overlay",
              "size": 10,
              "solidity": 0.2
             }
            },
            "type": "bar"
           }
          ],
          "barpolar": [
           {
            "marker": {
             "line": {
              "color": "rgb(17,17,17)",
              "width": 0.5
             },
             "pattern": {
              "fillmode": "overlay",
              "size": 10,
              "solidity": 0.2
             }
            },
            "type": "barpolar"
           }
          ],
          "carpet": [
           {
            "aaxis": {
             "endlinecolor": "#A2B1C6",
             "gridcolor": "#506784",
             "linecolor": "#506784",
             "minorgridcolor": "#506784",
             "startlinecolor": "#A2B1C6"
            },
            "baxis": {
             "endlinecolor": "#A2B1C6",
             "gridcolor": "#506784",
             "linecolor": "#506784",
             "minorgridcolor": "#506784",
             "startlinecolor": "#A2B1C6"
            },
            "type": "carpet"
           }
          ],
          "choropleth": [
           {
            "colorbar": {
             "outlinewidth": 0,
             "ticks": ""
            },
            "type": "choropleth"
           }
          ],
          "contour": [
           {
            "colorbar": {
             "outlinewidth": 0,
             "ticks": ""
            },
            "colorscale": [
             [
              0,
              "#0d0887"
             ],
             [
              0.1111111111111111,
              "#46039f"
             ],
             [
              0.2222222222222222,
              "#7201a8"
             ],
             [
              0.3333333333333333,
              "#9c179e"
             ],
             [
              0.4444444444444444,
              "#bd3786"
             ],
             [
              0.5555555555555556,
              "#d8576b"
             ],
             [
              0.6666666666666666,
              "#ed7953"
             ],
             [
              0.7777777777777778,
              "#fb9f3a"
             ],
             [
              0.8888888888888888,
              "#fdca26"
             ],
             [
              1,
              "#f0f921"
             ]
            ],
            "type": "contour"
           }
          ],
          "contourcarpet": [
           {
            "colorbar": {
             "outlinewidth": 0,
             "ticks": ""
            },
            "type": "contourcarpet"
           }
          ],
          "heatmap": [
           {
            "colorbar": {
             "outlinewidth": 0,
             "ticks": ""
            },
            "colorscale": [
             [
              0,
              "#0d0887"
             ],
             [
              0.1111111111111111,
              "#46039f"
             ],
             [
              0.2222222222222222,
              "#7201a8"
             ],
             [
              0.3333333333333333,
              "#9c179e"
             ],
             [
              0.4444444444444444,
              "#bd3786"
             ],
             [
              0.5555555555555556,
              "#d8576b"
             ],
             [
              0.6666666666666666,
              "#ed7953"
             ],
             [
              0.7777777777777778,
              "#fb9f3a"
             ],
             [
              0.8888888888888888,
              "#fdca26"
             ],
             [
              1,
              "#f0f921"
             ]
            ],
            "type": "heatmap"
           }
          ],
          "heatmapgl": [
           {
            "colorbar": {
             "outlinewidth": 0,
             "ticks": ""
            },
            "colorscale": [
             [
              0,
              "#0d0887"
             ],
             [
              0.1111111111111111,
              "#46039f"
             ],
             [
              0.2222222222222222,
              "#7201a8"
             ],
             [
              0.3333333333333333,
              "#9c179e"
             ],
             [
              0.4444444444444444,
              "#bd3786"
             ],
             [
              0.5555555555555556,
              "#d8576b"
             ],
             [
              0.6666666666666666,
              "#ed7953"
             ],
             [
              0.7777777777777778,
              "#fb9f3a"
             ],
             [
              0.8888888888888888,
              "#fdca26"
             ],
             [
              1,
              "#f0f921"
             ]
            ],
            "type": "heatmapgl"
           }
          ],
          "histogram": [
           {
            "marker": {
             "pattern": {
              "fillmode": "overlay",
              "size": 10,
              "solidity": 0.2
             }
            },
            "type": "histogram"
           }
          ],
          "histogram2d": [
           {
            "colorbar": {
             "outlinewidth": 0,
             "ticks": ""
            },
            "colorscale": [
             [
              0,
              "#0d0887"
             ],
             [
              0.1111111111111111,
              "#46039f"
             ],
             [
              0.2222222222222222,
              "#7201a8"
             ],
             [
              0.3333333333333333,
              "#9c179e"
             ],
             [
              0.4444444444444444,
              "#bd3786"
             ],
             [
              0.5555555555555556,
              "#d8576b"
             ],
             [
              0.6666666666666666,
              "#ed7953"
             ],
             [
              0.7777777777777778,
              "#fb9f3a"
             ],
             [
              0.8888888888888888,
              "#fdca26"
             ],
             [
              1,
              "#f0f921"
             ]
            ],
            "type": "histogram2d"
           }
          ],
          "histogram2dcontour": [
           {
            "colorbar": {
             "outlinewidth": 0,
             "ticks": ""
            },
            "colorscale": [
             [
              0,
              "#0d0887"
             ],
             [
              0.1111111111111111,
              "#46039f"
             ],
             [
              0.2222222222222222,
              "#7201a8"
             ],
             [
              0.3333333333333333,
              "#9c179e"
             ],
             [
              0.4444444444444444,
              "#bd3786"
             ],
             [
              0.5555555555555556,
              "#d8576b"
             ],
             [
              0.6666666666666666,
              "#ed7953"
             ],
             [
              0.7777777777777778,
              "#fb9f3a"
             ],
             [
              0.8888888888888888,
              "#fdca26"
             ],
             [
              1,
              "#f0f921"
             ]
            ],
            "type": "histogram2dcontour"
           }
          ],
          "mesh3d": [
           {
            "colorbar": {
             "outlinewidth": 0,
             "ticks": ""
            },
            "type": "mesh3d"
           }
          ],
          "parcoords": [
           {
            "line": {
             "colorbar": {
              "outlinewidth": 0,
              "ticks": ""
             }
            },
            "type": "parcoords"
           }
          ],
          "pie": [
           {
            "automargin": true,
            "type": "pie"
           }
          ],
          "scatter": [
           {
            "marker": {
             "line": {
              "color": "#283442"
             }
            },
            "type": "scatter"
           }
          ],
          "scatter3d": [
           {
            "line": {
             "colorbar": {
              "outlinewidth": 0,
              "ticks": ""
             }
            },
            "marker": {
             "colorbar": {
              "outlinewidth": 0,
              "ticks": ""
             }
            },
            "type": "scatter3d"
           }
          ],
          "scattercarpet": [
           {
            "marker": {
             "colorbar": {
              "outlinewidth": 0,
              "ticks": ""
             }
            },
            "type": "scattercarpet"
           }
          ],
          "scattergeo": [
           {
            "marker": {
             "colorbar": {
              "outlinewidth": 0,
              "ticks": ""
             }
            },
            "type": "scattergeo"
           }
          ],
          "scattergl": [
           {
            "marker": {
             "line": {
              "color": "#283442"
             }
            },
            "type": "scattergl"
           }
          ],
          "scattermapbox": [
           {
            "marker": {
             "colorbar": {
              "outlinewidth": 0,
              "ticks": ""
             }
            },
            "type": "scattermapbox"
           }
          ],
          "scatterpolar": [
           {
            "marker": {
             "colorbar": {
              "outlinewidth": 0,
              "ticks": ""
             }
            },
            "type": "scatterpolar"
           }
          ],
          "scatterpolargl": [
           {
            "marker": {
             "colorbar": {
              "outlinewidth": 0,
              "ticks": ""
             }
            },
            "type": "scatterpolargl"
           }
          ],
          "scatterternary": [
           {
            "marker": {
             "colorbar": {
              "outlinewidth": 0,
              "ticks": ""
             }
            },
            "type": "scatterternary"
           }
          ],
          "surface": [
           {
            "colorbar": {
             "outlinewidth": 0,
             "ticks": ""
            },
            "colorscale": [
             [
              0,
              "#0d0887"
             ],
             [
              0.1111111111111111,
              "#46039f"
             ],
             [
              0.2222222222222222,
              "#7201a8"
             ],
             [
              0.3333333333333333,
              "#9c179e"
             ],
             [
              0.4444444444444444,
              "#bd3786"
             ],
             [
              0.5555555555555556,
              "#d8576b"
             ],
             [
              0.6666666666666666,
              "#ed7953"
             ],
             [
              0.7777777777777778,
              "#fb9f3a"
             ],
             [
              0.8888888888888888,
              "#fdca26"
             ],
             [
              1,
              "#f0f921"
             ]
            ],
            "type": "surface"
           }
          ],
          "table": [
           {
            "cells": {
             "fill": {
              "color": "#506784"
             },
             "line": {
              "color": "rgb(17,17,17)"
             }
            },
            "header": {
             "fill": {
              "color": "#2a3f5f"
             },
             "line": {
              "color": "rgb(17,17,17)"
             }
            },
            "type": "table"
           }
          ]
         },
         "layout": {
          "annotationdefaults": {
           "arrowcolor": "#f2f5fa",
           "arrowhead": 0,
           "arrowwidth": 1
          },
          "autotypenumbers": "strict",
          "coloraxis": {
           "colorbar": {
            "outlinewidth": 0,
            "ticks": ""
           }
          },
          "colorscale": {
           "diverging": [
            [
             0,
             "#8e0152"
            ],
            [
             0.1,
             "#c51b7d"
            ],
            [
             0.2,
             "#de77ae"
            ],
            [
             0.3,
             "#f1b6da"
            ],
            [
             0.4,
             "#fde0ef"
            ],
            [
             0.5,
             "#f7f7f7"
            ],
            [
             0.6,
             "#e6f5d0"
            ],
            [
             0.7,
             "#b8e186"
            ],
            [
             0.8,
             "#7fbc41"
            ],
            [
             0.9,
             "#4d9221"
            ],
            [
             1,
             "#276419"
            ]
           ],
           "sequential": [
            [
             0,
             "#0d0887"
            ],
            [
             0.1111111111111111,
             "#46039f"
            ],
            [
             0.2222222222222222,
             "#7201a8"
            ],
            [
             0.3333333333333333,
             "#9c179e"
            ],
            [
             0.4444444444444444,
             "#bd3786"
            ],
            [
             0.5555555555555556,
             "#d8576b"
            ],
            [
             0.6666666666666666,
             "#ed7953"
            ],
            [
             0.7777777777777778,
             "#fb9f3a"
            ],
            [
             0.8888888888888888,
             "#fdca26"
            ],
            [
             1,
             "#f0f921"
            ]
           ],
           "sequentialminus": [
            [
             0,
             "#0d0887"
            ],
            [
             0.1111111111111111,
             "#46039f"
            ],
            [
             0.2222222222222222,
             "#7201a8"
            ],
            [
             0.3333333333333333,
             "#9c179e"
            ],
            [
             0.4444444444444444,
             "#bd3786"
            ],
            [
             0.5555555555555556,
             "#d8576b"
            ],
            [
             0.6666666666666666,
             "#ed7953"
            ],
            [
             0.7777777777777778,
             "#fb9f3a"
            ],
            [
             0.8888888888888888,
             "#fdca26"
            ],
            [
             1,
             "#f0f921"
            ]
           ]
          },
          "colorway": [
           "#636efa",
           "#EF553B",
           "#00cc96",
           "#ab63fa",
           "#FFA15A",
           "#19d3f3",
           "#FF6692",
           "#B6E880",
           "#FF97FF",
           "#FECB52"
          ],
          "font": {
           "color": "#f2f5fa"
          },
          "geo": {
           "bgcolor": "rgb(17,17,17)",
           "lakecolor": "rgb(17,17,17)",
           "landcolor": "rgb(17,17,17)",
           "showlakes": true,
           "showland": true,
           "subunitcolor": "#506784"
          },
          "hoverlabel": {
           "align": "left"
          },
          "hovermode": "closest",
          "mapbox": {
           "style": "dark"
          },
          "paper_bgcolor": "rgb(17,17,17)",
          "plot_bgcolor": "rgb(17,17,17)",
          "polar": {
           "angularaxis": {
            "gridcolor": "#506784",
            "linecolor": "#506784",
            "ticks": ""
           },
           "bgcolor": "rgb(17,17,17)",
           "radialaxis": {
            "gridcolor": "#506784",
            "linecolor": "#506784",
            "ticks": ""
           }
          },
          "scene": {
           "xaxis": {
            "backgroundcolor": "rgb(17,17,17)",
            "gridcolor": "#506784",
            "gridwidth": 2,
            "linecolor": "#506784",
            "showbackground": true,
            "ticks": "",
            "zerolinecolor": "#C8D4E3"
           },
           "yaxis": {
            "backgroundcolor": "rgb(17,17,17)",
            "gridcolor": "#506784",
            "gridwidth": 2,
            "linecolor": "#506784",
            "showbackground": true,
            "ticks": "",
            "zerolinecolor": "#C8D4E3"
           },
           "zaxis": {
            "backgroundcolor": "rgb(17,17,17)",
            "gridcolor": "#506784",
            "gridwidth": 2,
            "linecolor": "#506784",
            "showbackground": true,
            "ticks": "",
            "zerolinecolor": "#C8D4E3"
           }
          },
          "shapedefaults": {
           "line": {
            "color": "#f2f5fa"
           }
          },
          "sliderdefaults": {
           "bgcolor": "#C8D4E3",
           "bordercolor": "rgb(17,17,17)",
           "borderwidth": 1,
           "tickwidth": 0
          },
          "ternary": {
           "aaxis": {
            "gridcolor": "#506784",
            "linecolor": "#506784",
            "ticks": ""
           },
           "baxis": {
            "gridcolor": "#506784",
            "linecolor": "#506784",
            "ticks": ""
           },
           "bgcolor": "rgb(17,17,17)",
           "caxis": {
            "gridcolor": "#506784",
            "linecolor": "#506784",
            "ticks": ""
           }
          },
          "title": {
           "x": 0.05
          },
          "updatemenudefaults": {
           "bgcolor": "#506784",
           "borderwidth": 0
          },
          "xaxis": {
           "automargin": true,
           "gridcolor": "#283442",
           "linecolor": "#506784",
           "ticks": "",
           "title": {
            "standoff": 15
           },
           "zerolinecolor": "#283442",
           "zerolinewidth": 2
          },
          "yaxis": {
           "automargin": true,
           "gridcolor": "#283442",
           "linecolor": "#506784",
           "ticks": "",
           "title": {
            "standoff": 15
           },
           "zerolinecolor": "#283442",
           "zerolinewidth": 2
          }
         }
        },
        "title": {
         "text": "Top 50 WAR Players Winning Percentage"
        },
        "xaxis": {
         "title": {
          "text": "Winning Percentage (%)"
         }
        },
        "yaxis": {
         "title": {
          "text": ""
         }
        }
       }
      }
     },
     "metadata": {},
     "output_type": "display_data"
    }
   ],
   "source": [
    "import os\n",
    "import pandas as pd\n",
    "import plotly.graph_objects as go\n",
    "\n",
    "csv_file_path = 'WAR_2023.csv'\n",
    "\n",
    "# Check if the file exists\n",
    "if not os.path.exists(csv_file_path):\n",
    "    raise FileNotFoundError(f\"The file '{csv_file_path}' does not exist.\")\n",
    "\n",
    "try:\n",
    "    # Attempt to read the CSV file with different encodings\n",
    "    try:\n",
    "        df = pd.read_csv(csv_file_path, encoding='utf-8')\n",
    "    except UnicodeDecodeError:\n",
    "        try:\n",
    "            df = pd.read_csv(csv_file_path, encoding='latin1')\n",
    "        except UnicodeDecodeError:\n",
    "            df = pd.read_csv(csv_file_path, encoding='iso-8859-1')\n",
    "except Exception as e:\n",
    "    raise ValueError(f\"Error reading the CSV file: {e}\")\n",
    "\n",
    "# Ensure the CSV file has at least 18 columns\n",
    "if df.shape[1] < 18:\n",
    "    raise ValueError(\"The CSV file does not have at least 18 columns.\")\n",
    "\n",
    "try:\n",
    "    # Extract the 15th column (index 14, since indexing starts from 0)\n",
    "    column_15 = df.iloc[:, 14]\n",
    "\n",
    "    # Ensure the column contains numeric values\n",
    "    column_15 = pd.to_numeric(column_15, errors='coerce')\n",
    "    \n",
    "    # Drop NaN values that cannot be converted to numeric\n",
    "    column_15 = column_15.dropna()\n",
    "\n",
    "    # Sort the column in descending order and select the top 50 values\n",
    "    top_50_indices = column_15.nlargest(50).index\n",
    "\n",
    "    # Extract the 18th column (index 17) for these top 50 players\n",
    "    column_18_top_50 = df.iloc[top_50_indices, 17]\n",
    "\n",
    "    # Ensure the extracted column contains numeric values\n",
    "    column_18_top_50 = pd.to_numeric(column_18_top_50, errors='coerce')\n",
    "\n",
    "    # Convert the values to percentages\n",
    "    column_18_top_50_percentages = column_18_top_50 * 100\n",
    "\n",
    "    # Compute statistics for top 50 percentages\n",
    "    top_50_mean = column_18_top_50_percentages.mean()\n",
    "    top_50_median = column_18_top_50_percentages.median()\n",
    "    top_50_variance = column_18_top_50_percentages.var()\n",
    "    top_50_std_dev = column_18_top_50_percentages.std()\n",
    "\n",
    "    # Print the results for top 50 percentages\n",
    "    print(\"Top 50 WAR Players Winning Percentage Statistics:\")\n",
    "    print(f\"Sample Mean: {top_50_mean:.2f}%\")\n",
    "    print(f\"Sample Median: {top_50_median:.2f}%\")\n",
    "    print(f\"Sample Variance: {top_50_variance:.2f}\")\n",
    "    print(f\"Sample Standard Deviation: {top_50_std_dev:.2f}\")\n",
    "\n",
    "    # Create interactive horizontal box plot for top 50 percentages using Plotly\n",
    "    fig = go.Figure()\n",
    "\n",
    "    # Adding a horizontal box plot for the top 50 winning percentages\n",
    "    fig.add_trace(go.Box(\n",
    "        x=column_18_top_50_percentages,\n",
    "        name='Top 50 Winning Percentages',\n",
    "        boxmean='sd',  # Display mean and standard deviation\n",
    "        marker=dict(color='lightblue')\n",
    "    ))\n",
    "\n",
    "    # Customize the layout of the plot\n",
    "    fig.update_layout(\n",
    "        title=\"Top 50 WAR Players Winning Percentage\",\n",
    "        xaxis_title=\"Winning Percentage (%)\",\n",
    "        yaxis_title=\"\",\n",
    "        template=\"plotly_dark\",\n",
    "        showlegend=False,\n",
    "        hovermode=\"x\"\n",
    "    )\n",
    "\n",
    "    # Display the interactive plot\n",
    "    fig.show()\n",
    "\n",
    "except Exception as e:\n",
    "    raise ValueError(f\"Error processing the data: {e}\")\n",
    "\n"
   ]
  },
  {
   "cell_type": "markdown",
   "metadata": {},
   "source": [
    "# Low WAR"
   ]
  },
  {
   "cell_type": "code",
   "execution_count": 87,
   "metadata": {},
   "outputs": [
    {
     "name": "stdout",
     "output_type": "stream",
     "text": [
      "             Column_2  Column_16\n",
      "0        Tim Anderson       -2.0\n",
      "1         Jean Segura       -1.9\n",
      "2        Oscar Colás*       -1.5\n",
      "3       Gavin Sheets*       -1.5\n",
      "4     Michael Toglia#       -1.5\n",
      "5         Nick Maton*       -1.5\n",
      "6    Oswaldo Cabrera#       -1.5\n",
      "7        Trey Mancini       -1.4\n",
      "8      Oscar González       -1.4\n",
      "9      Harold Castro*       -1.4\n",
      "10        Henry Davis       -1.4\n",
      "11       Nick Pratto*       -1.3\n",
      "12  Jurickson Profar#       -1.3\n",
      "13  Brandon Crawford*       -1.3\n",
      "14   Eduardo Escobar#       -1.1\n",
      "15  Tyler Soderstrom*       -1.1\n",
      "16        Jordan Diaz       -1.1\n",
      "17      Austin Barnes       -1.1\n",
      "18      Cam Gallagher       -1.1\n",
      "19      Austin Hedges       -1.1\n",
      "20       Mark Vientos       -1.1\n",
      "21         Tony Kemp*       -1.0\n",
      "22        Kris Bryant       -1.0\n",
      "23       Jake Bauers*       -0.9\n",
      "24         Eric Haase       -0.9\n",
      "25       Jared Walsh*       -0.9\n",
      "26      Danny Mendick       -0.9\n",
      "27       Aledmys Díaz       -0.9\n",
      "28       Kolten Wong*       -0.9\n",
      "29     Colton Cowser*       -0.8\n",
      "30  Giancarlo Stanton       -0.8\n",
      "31       Pavin Smith*       -0.8\n",
      "32        Brett Baty*       -0.8\n",
      "33     Starling Marte       -0.8\n",
      "34         AJ Pollock       -0.8\n",
      "35         Tomás Nido       -0.8\n",
      "36         Lenyn Sosa       -0.8\n",
      "37         Juan Yepez       -0.7\n",
      "38      Oswald Peraza       -0.7\n",
      "39    Trayce Thompson       -0.7\n",
      "40      David Hensley       -0.7\n",
      "41          Korey Lee       -0.7\n",
      "42       Jordyn Adams       -0.7\n",
      "43     Vaughn Grissom       -0.7\n",
      "44      Jesse Winker*       -0.7\n",
      "45   Yasmani Grandal#       -0.7\n",
      "46    Everson Pereira       -0.6\n",
      "47         Masyn Winn       -0.6\n",
      "48          Wil Myers       -0.6\n",
      "49     Hunter Renfroe       -0.6\n"
     ]
    }
   ],
   "source": [
    "\n",
    "def get_bottom_50_numbers(data):\n",
    "    try:\n",
    "        # Extract column 2 and column 16\n",
    "        column_2 = data.iloc[:, 1]  # Column 2 (index 1)\n",
    "        column_16 = data.iloc[:, 15]  # Column 16 (index 15)\n",
    "        \n",
    "        # Combine the two columns into a new DataFrame\n",
    "        combined_data = pd.DataFrame({\n",
    "            'Column_2': column_2,\n",
    "            'Column_16': column_16\n",
    "        })\n",
    "        \n",
    "        # Sort the data based on column 16 in ascending order\n",
    "        sorted_data = combined_data.sort_values(by='Column_16', ascending=True)\n",
    "        \n",
    "        # Retrieve the bottom 50 rows based on column 16\n",
    "        bottom_50 = sorted_data.head(50).reset_index(drop=True)\n",
    "        \n",
    "        # Print the results\n",
    "        print(bottom_50)\n",
    "        \n",
    "    except Exception as e:\n",
    "        print(f\"An error occurred: {e}\")\n",
    "\n",
    "# Assuming `data` is already a DataFrame loaded with the necessary data\n",
    "data = pd.read_csv(\"WAR_2023.csv\", encoding='latin1')\n",
    "\n",
    "# Get the bottom 50 numbers from column 16 and their corresponding values in column 2\n",
    "get_bottom_50_numbers(data)\n"
   ]
  },
  {
   "cell_type": "code",
   "execution_count": 88,
   "metadata": {},
   "outputs": [
    {
     "name": "stdout",
     "output_type": "stream",
     "text": [
      "Low WAR Values:\n",
      "Sample Mean: -1.022\n",
      "Sample Median: -0.9\n",
      "Sample Variance: 0.11930204081632655\n",
      "Sample Standard Deviation: 0.3454012750647087\n"
     ]
    },
    {
     "data": {
      "application/vnd.plotly.v1+json": {
       "config": {
        "plotlyServerURL": "https://plot.ly"
       },
       "data": [
        {
         "boxmean": "sd",
         "marker": {
          "color": "purple"
         },
         "name": "Bottom 50 WAR Values",
         "type": "box",
         "x": [
          -2,
          -1.9,
          -1.5,
          -1.5,
          -1.5,
          -1.5,
          -1.5,
          -1.4,
          -1.4,
          -1.4,
          -1.4,
          -1.3,
          -1.3,
          -1.3,
          -1.1,
          -1.1,
          -1.1,
          -1.1,
          -1.1,
          -1.1,
          -1.1,
          -1,
          -1,
          -0.9,
          -0.9,
          -0.9,
          -0.9,
          -0.9,
          -0.9,
          -0.8,
          -0.8,
          -0.8,
          -0.8,
          -0.8,
          -0.8,
          -0.8,
          -0.8,
          -0.7,
          -0.7,
          -0.7,
          -0.7,
          -0.7,
          -0.7,
          -0.7,
          -0.7,
          -0.7,
          -0.6,
          -0.6,
          -0.6,
          -0.6
         ]
        }
       ],
       "layout": {
        "hovermode": "x",
        "showlegend": false,
        "template": {
         "data": {
          "bar": [
           {
            "error_x": {
             "color": "#f2f5fa"
            },
            "error_y": {
             "color": "#f2f5fa"
            },
            "marker": {
             "line": {
              "color": "rgb(17,17,17)",
              "width": 0.5
             },
             "pattern": {
              "fillmode": "overlay",
              "size": 10,
              "solidity": 0.2
             }
            },
            "type": "bar"
           }
          ],
          "barpolar": [
           {
            "marker": {
             "line": {
              "color": "rgb(17,17,17)",
              "width": 0.5
             },
             "pattern": {
              "fillmode": "overlay",
              "size": 10,
              "solidity": 0.2
             }
            },
            "type": "barpolar"
           }
          ],
          "carpet": [
           {
            "aaxis": {
             "endlinecolor": "#A2B1C6",
             "gridcolor": "#506784",
             "linecolor": "#506784",
             "minorgridcolor": "#506784",
             "startlinecolor": "#A2B1C6"
            },
            "baxis": {
             "endlinecolor": "#A2B1C6",
             "gridcolor": "#506784",
             "linecolor": "#506784",
             "minorgridcolor": "#506784",
             "startlinecolor": "#A2B1C6"
            },
            "type": "carpet"
           }
          ],
          "choropleth": [
           {
            "colorbar": {
             "outlinewidth": 0,
             "ticks": ""
            },
            "type": "choropleth"
           }
          ],
          "contour": [
           {
            "colorbar": {
             "outlinewidth": 0,
             "ticks": ""
            },
            "colorscale": [
             [
              0,
              "#0d0887"
             ],
             [
              0.1111111111111111,
              "#46039f"
             ],
             [
              0.2222222222222222,
              "#7201a8"
             ],
             [
              0.3333333333333333,
              "#9c179e"
             ],
             [
              0.4444444444444444,
              "#bd3786"
             ],
             [
              0.5555555555555556,
              "#d8576b"
             ],
             [
              0.6666666666666666,
              "#ed7953"
             ],
             [
              0.7777777777777778,
              "#fb9f3a"
             ],
             [
              0.8888888888888888,
              "#fdca26"
             ],
             [
              1,
              "#f0f921"
             ]
            ],
            "type": "contour"
           }
          ],
          "contourcarpet": [
           {
            "colorbar": {
             "outlinewidth": 0,
             "ticks": ""
            },
            "type": "contourcarpet"
           }
          ],
          "heatmap": [
           {
            "colorbar": {
             "outlinewidth": 0,
             "ticks": ""
            },
            "colorscale": [
             [
              0,
              "#0d0887"
             ],
             [
              0.1111111111111111,
              "#46039f"
             ],
             [
              0.2222222222222222,
              "#7201a8"
             ],
             [
              0.3333333333333333,
              "#9c179e"
             ],
             [
              0.4444444444444444,
              "#bd3786"
             ],
             [
              0.5555555555555556,
              "#d8576b"
             ],
             [
              0.6666666666666666,
              "#ed7953"
             ],
             [
              0.7777777777777778,
              "#fb9f3a"
             ],
             [
              0.8888888888888888,
              "#fdca26"
             ],
             [
              1,
              "#f0f921"
             ]
            ],
            "type": "heatmap"
           }
          ],
          "heatmapgl": [
           {
            "colorbar": {
             "outlinewidth": 0,
             "ticks": ""
            },
            "colorscale": [
             [
              0,
              "#0d0887"
             ],
             [
              0.1111111111111111,
              "#46039f"
             ],
             [
              0.2222222222222222,
              "#7201a8"
             ],
             [
              0.3333333333333333,
              "#9c179e"
             ],
             [
              0.4444444444444444,
              "#bd3786"
             ],
             [
              0.5555555555555556,
              "#d8576b"
             ],
             [
              0.6666666666666666,
              "#ed7953"
             ],
             [
              0.7777777777777778,
              "#fb9f3a"
             ],
             [
              0.8888888888888888,
              "#fdca26"
             ],
             [
              1,
              "#f0f921"
             ]
            ],
            "type": "heatmapgl"
           }
          ],
          "histogram": [
           {
            "marker": {
             "pattern": {
              "fillmode": "overlay",
              "size": 10,
              "solidity": 0.2
             }
            },
            "type": "histogram"
           }
          ],
          "histogram2d": [
           {
            "colorbar": {
             "outlinewidth": 0,
             "ticks": ""
            },
            "colorscale": [
             [
              0,
              "#0d0887"
             ],
             [
              0.1111111111111111,
              "#46039f"
             ],
             [
              0.2222222222222222,
              "#7201a8"
             ],
             [
              0.3333333333333333,
              "#9c179e"
             ],
             [
              0.4444444444444444,
              "#bd3786"
             ],
             [
              0.5555555555555556,
              "#d8576b"
             ],
             [
              0.6666666666666666,
              "#ed7953"
             ],
             [
              0.7777777777777778,
              "#fb9f3a"
             ],
             [
              0.8888888888888888,
              "#fdca26"
             ],
             [
              1,
              "#f0f921"
             ]
            ],
            "type": "histogram2d"
           }
          ],
          "histogram2dcontour": [
           {
            "colorbar": {
             "outlinewidth": 0,
             "ticks": ""
            },
            "colorscale": [
             [
              0,
              "#0d0887"
             ],
             [
              0.1111111111111111,
              "#46039f"
             ],
             [
              0.2222222222222222,
              "#7201a8"
             ],
             [
              0.3333333333333333,
              "#9c179e"
             ],
             [
              0.4444444444444444,
              "#bd3786"
             ],
             [
              0.5555555555555556,
              "#d8576b"
             ],
             [
              0.6666666666666666,
              "#ed7953"
             ],
             [
              0.7777777777777778,
              "#fb9f3a"
             ],
             [
              0.8888888888888888,
              "#fdca26"
             ],
             [
              1,
              "#f0f921"
             ]
            ],
            "type": "histogram2dcontour"
           }
          ],
          "mesh3d": [
           {
            "colorbar": {
             "outlinewidth": 0,
             "ticks": ""
            },
            "type": "mesh3d"
           }
          ],
          "parcoords": [
           {
            "line": {
             "colorbar": {
              "outlinewidth": 0,
              "ticks": ""
             }
            },
            "type": "parcoords"
           }
          ],
          "pie": [
           {
            "automargin": true,
            "type": "pie"
           }
          ],
          "scatter": [
           {
            "marker": {
             "line": {
              "color": "#283442"
             }
            },
            "type": "scatter"
           }
          ],
          "scatter3d": [
           {
            "line": {
             "colorbar": {
              "outlinewidth": 0,
              "ticks": ""
             }
            },
            "marker": {
             "colorbar": {
              "outlinewidth": 0,
              "ticks": ""
             }
            },
            "type": "scatter3d"
           }
          ],
          "scattercarpet": [
           {
            "marker": {
             "colorbar": {
              "outlinewidth": 0,
              "ticks": ""
             }
            },
            "type": "scattercarpet"
           }
          ],
          "scattergeo": [
           {
            "marker": {
             "colorbar": {
              "outlinewidth": 0,
              "ticks": ""
             }
            },
            "type": "scattergeo"
           }
          ],
          "scattergl": [
           {
            "marker": {
             "line": {
              "color": "#283442"
             }
            },
            "type": "scattergl"
           }
          ],
          "scattermapbox": [
           {
            "marker": {
             "colorbar": {
              "outlinewidth": 0,
              "ticks": ""
             }
            },
            "type": "scattermapbox"
           }
          ],
          "scatterpolar": [
           {
            "marker": {
             "colorbar": {
              "outlinewidth": 0,
              "ticks": ""
             }
            },
            "type": "scatterpolar"
           }
          ],
          "scatterpolargl": [
           {
            "marker": {
             "colorbar": {
              "outlinewidth": 0,
              "ticks": ""
             }
            },
            "type": "scatterpolargl"
           }
          ],
          "scatterternary": [
           {
            "marker": {
             "colorbar": {
              "outlinewidth": 0,
              "ticks": ""
             }
            },
            "type": "scatterternary"
           }
          ],
          "surface": [
           {
            "colorbar": {
             "outlinewidth": 0,
             "ticks": ""
            },
            "colorscale": [
             [
              0,
              "#0d0887"
             ],
             [
              0.1111111111111111,
              "#46039f"
             ],
             [
              0.2222222222222222,
              "#7201a8"
             ],
             [
              0.3333333333333333,
              "#9c179e"
             ],
             [
              0.4444444444444444,
              "#bd3786"
             ],
             [
              0.5555555555555556,
              "#d8576b"
             ],
             [
              0.6666666666666666,
              "#ed7953"
             ],
             [
              0.7777777777777778,
              "#fb9f3a"
             ],
             [
              0.8888888888888888,
              "#fdca26"
             ],
             [
              1,
              "#f0f921"
             ]
            ],
            "type": "surface"
           }
          ],
          "table": [
           {
            "cells": {
             "fill": {
              "color": "#506784"
             },
             "line": {
              "color": "rgb(17,17,17)"
             }
            },
            "header": {
             "fill": {
              "color": "#2a3f5f"
             },
             "line": {
              "color": "rgb(17,17,17)"
             }
            },
            "type": "table"
           }
          ]
         },
         "layout": {
          "annotationdefaults": {
           "arrowcolor": "#f2f5fa",
           "arrowhead": 0,
           "arrowwidth": 1
          },
          "autotypenumbers": "strict",
          "coloraxis": {
           "colorbar": {
            "outlinewidth": 0,
            "ticks": ""
           }
          },
          "colorscale": {
           "diverging": [
            [
             0,
             "#8e0152"
            ],
            [
             0.1,
             "#c51b7d"
            ],
            [
             0.2,
             "#de77ae"
            ],
            [
             0.3,
             "#f1b6da"
            ],
            [
             0.4,
             "#fde0ef"
            ],
            [
             0.5,
             "#f7f7f7"
            ],
            [
             0.6,
             "#e6f5d0"
            ],
            [
             0.7,
             "#b8e186"
            ],
            [
             0.8,
             "#7fbc41"
            ],
            [
             0.9,
             "#4d9221"
            ],
            [
             1,
             "#276419"
            ]
           ],
           "sequential": [
            [
             0,
             "#0d0887"
            ],
            [
             0.1111111111111111,
             "#46039f"
            ],
            [
             0.2222222222222222,
             "#7201a8"
            ],
            [
             0.3333333333333333,
             "#9c179e"
            ],
            [
             0.4444444444444444,
             "#bd3786"
            ],
            [
             0.5555555555555556,
             "#d8576b"
            ],
            [
             0.6666666666666666,
             "#ed7953"
            ],
            [
             0.7777777777777778,
             "#fb9f3a"
            ],
            [
             0.8888888888888888,
             "#fdca26"
            ],
            [
             1,
             "#f0f921"
            ]
           ],
           "sequentialminus": [
            [
             0,
             "#0d0887"
            ],
            [
             0.1111111111111111,
             "#46039f"
            ],
            [
             0.2222222222222222,
             "#7201a8"
            ],
            [
             0.3333333333333333,
             "#9c179e"
            ],
            [
             0.4444444444444444,
             "#bd3786"
            ],
            [
             0.5555555555555556,
             "#d8576b"
            ],
            [
             0.6666666666666666,
             "#ed7953"
            ],
            [
             0.7777777777777778,
             "#fb9f3a"
            ],
            [
             0.8888888888888888,
             "#fdca26"
            ],
            [
             1,
             "#f0f921"
            ]
           ]
          },
          "colorway": [
           "#636efa",
           "#EF553B",
           "#00cc96",
           "#ab63fa",
           "#FFA15A",
           "#19d3f3",
           "#FF6692",
           "#B6E880",
           "#FF97FF",
           "#FECB52"
          ],
          "font": {
           "color": "#f2f5fa"
          },
          "geo": {
           "bgcolor": "rgb(17,17,17)",
           "lakecolor": "rgb(17,17,17)",
           "landcolor": "rgb(17,17,17)",
           "showlakes": true,
           "showland": true,
           "subunitcolor": "#506784"
          },
          "hoverlabel": {
           "align": "left"
          },
          "hovermode": "closest",
          "mapbox": {
           "style": "dark"
          },
          "paper_bgcolor": "rgb(17,17,17)",
          "plot_bgcolor": "rgb(17,17,17)",
          "polar": {
           "angularaxis": {
            "gridcolor": "#506784",
            "linecolor": "#506784",
            "ticks": ""
           },
           "bgcolor": "rgb(17,17,17)",
           "radialaxis": {
            "gridcolor": "#506784",
            "linecolor": "#506784",
            "ticks": ""
           }
          },
          "scene": {
           "xaxis": {
            "backgroundcolor": "rgb(17,17,17)",
            "gridcolor": "#506784",
            "gridwidth": 2,
            "linecolor": "#506784",
            "showbackground": true,
            "ticks": "",
            "zerolinecolor": "#C8D4E3"
           },
           "yaxis": {
            "backgroundcolor": "rgb(17,17,17)",
            "gridcolor": "#506784",
            "gridwidth": 2,
            "linecolor": "#506784",
            "showbackground": true,
            "ticks": "",
            "zerolinecolor": "#C8D4E3"
           },
           "zaxis": {
            "backgroundcolor": "rgb(17,17,17)",
            "gridcolor": "#506784",
            "gridwidth": 2,
            "linecolor": "#506784",
            "showbackground": true,
            "ticks": "",
            "zerolinecolor": "#C8D4E3"
           }
          },
          "shapedefaults": {
           "line": {
            "color": "#f2f5fa"
           }
          },
          "sliderdefaults": {
           "bgcolor": "#C8D4E3",
           "bordercolor": "rgb(17,17,17)",
           "borderwidth": 1,
           "tickwidth": 0
          },
          "ternary": {
           "aaxis": {
            "gridcolor": "#506784",
            "linecolor": "#506784",
            "ticks": ""
           },
           "baxis": {
            "gridcolor": "#506784",
            "linecolor": "#506784",
            "ticks": ""
           },
           "bgcolor": "rgb(17,17,17)",
           "caxis": {
            "gridcolor": "#506784",
            "linecolor": "#506784",
            "ticks": ""
           }
          },
          "title": {
           "x": 0.05
          },
          "updatemenudefaults": {
           "bgcolor": "#506784",
           "borderwidth": 0
          },
          "xaxis": {
           "automargin": true,
           "gridcolor": "#283442",
           "linecolor": "#506784",
           "ticks": "",
           "title": {
            "standoff": 15
           },
           "zerolinecolor": "#283442",
           "zerolinewidth": 2
          },
          "yaxis": {
           "automargin": true,
           "gridcolor": "#283442",
           "linecolor": "#506784",
           "ticks": "",
           "title": {
            "standoff": 15
           },
           "zerolinecolor": "#283442",
           "zerolinewidth": 2
          }
         }
        },
        "title": {
         "text": "Low WAR Values"
        },
        "xaxis": {
         "title": {
          "text": "WAR Value"
         }
        },
        "yaxis": {
         "title": {
          "text": ""
         }
        }
       }
      }
     },
     "metadata": {},
     "output_type": "display_data"
    }
   ],
   "source": [
    "import os\n",
    "import pandas as pd\n",
    "import plotly.graph_objects as go\n",
    "\n",
    "# Define the path to your CSV file\n",
    "csv_file_path = 'WAR_2023.csv'\n",
    "\n",
    "# Check if the file exists\n",
    "if not os.path.exists(csv_file_path):\n",
    "    raise FileNotFoundError(f\"The file '{csv_file_path}' does not exist.\")\n",
    "\n",
    "try:\n",
    "    # Attempt to read the CSV file with different encodings\n",
    "    try:\n",
    "        df = pd.read_csv(csv_file_path, encoding='utf-8')\n",
    "    except UnicodeDecodeError:\n",
    "        try:\n",
    "            df = pd.read_csv(csv_file_path, encoding='latin1')\n",
    "        except UnicodeDecodeError:\n",
    "            df = pd.read_csv(csv_file_path, encoding='iso-8859-1')\n",
    "except Exception as e:\n",
    "    raise ValueError(f\"Error reading the CSV file: {e}\")\n",
    "\n",
    "# Ensure the CSV file has at least 16 columns\n",
    "if df.shape[1] < 16:\n",
    "    raise ValueError(\"The CSV file does not have at least 16 columns.\")\n",
    "\n",
    "try:\n",
    "    # Extract the 16th column (index 15, since indexing starts from 0)\n",
    "    column_16 = df.iloc[:, 15]\n",
    "\n",
    "    # Ensure the column contains numeric values\n",
    "    column_16 = pd.to_numeric(column_16, errors='coerce')\n",
    "    \n",
    "    # Drop NaN values that cannot be converted to numeric\n",
    "    column_16 = column_16.dropna()\n",
    "\n",
    "    # Sort the column in ascending order and select the bottom 50 values\n",
    "    bottom_50_values = column_16.nsmallest(50)\n",
    "\n",
    "    # Compute statistics for bottom 50 values\n",
    "    bottom_50_mean = bottom_50_values.mean()\n",
    "    bottom_50_median = bottom_50_values.median()\n",
    "    bottom_50_variance = bottom_50_values.var()\n",
    "    bottom_50_std_dev = bottom_50_values.std()\n",
    "\n",
    "    # Print the results for bottom 50 values\n",
    "    print(\"Low WAR Values:\")\n",
    "    print(\"Sample Mean:\", bottom_50_mean)\n",
    "    print(\"Sample Median:\", bottom_50_median)\n",
    "    print(\"Sample Variance:\", bottom_50_variance)\n",
    "    print(\"Sample Standard Deviation:\", bottom_50_std_dev)\n",
    "\n",
    "    # Create interactive horizontal box plot for bottom 50 values using Plotly\n",
    "    fig = go.Figure()\n",
    "\n",
    "    # Adding a horizontal box plot for the bottom 50 WAR values\n",
    "    fig.add_trace(go.Box(\n",
    "        x=bottom_50_values,\n",
    "        name='Bottom 50 WAR Values',\n",
    "        boxmean='sd',  # Display mean and standard deviation\n",
    "        marker=dict(color='purple')\n",
    "    ))\n",
    "\n",
    "    # Customize the layout of the plot\n",
    "    fig.update_layout(\n",
    "        title=\"Low WAR Values\",\n",
    "        xaxis_title=\"WAR Value\",\n",
    "        yaxis_title=\"\",\n",
    "        template=\"plotly_dark\",\n",
    "        showlegend=False,\n",
    "        hovermode=\"x\"\n",
    "    )\n",
    "\n",
    "    # Display the interactive plot\n",
    "    fig.show()\n",
    "\n",
    "except Exception as e:\n",
    "    raise ValueError(f\"Error processing the 16th column: {e}\")\n"
   ]
  },
  {
   "cell_type": "code",
   "execution_count": 89,
   "metadata": {},
   "outputs": [
    {
     "name": "stdout",
     "output_type": "stream",
     "text": [
      "Bottom 50 WAR Players Winning Percentage (Sorted):\n",
      "47.70%\n",
      "48.20%\n",
      "48.30%\n",
      "48.30%\n",
      "48.40%\n",
      "48.50%\n",
      "48.50%\n",
      "48.50%\n",
      "48.50%\n",
      "48.60%\n",
      "48.60%\n",
      "48.60%\n",
      "48.60%\n",
      "48.70%\n",
      "48.70%\n",
      "48.70%\n",
      "48.70%\n",
      "48.70%\n",
      "48.80%\n",
      "48.80%\n",
      "48.80%\n",
      "48.80%\n",
      "48.90%\n",
      "48.90%\n",
      "48.90%\n",
      "48.90%\n",
      "49.00%\n",
      "49.00%\n",
      "49.10%\n",
      "49.10%\n",
      "49.20%\n",
      "49.20%\n",
      "49.20%\n",
      "49.20%\n",
      "49.20%\n",
      "49.30%\n",
      "49.30%\n",
      "49.30%\n",
      "49.30%\n",
      "49.40%\n",
      "49.40%\n",
      "49.40%\n",
      "49.40%\n",
      "49.40%\n",
      "49.40%\n",
      "49.40%\n",
      "49.40%\n",
      "49.50%\n",
      "49.50%\n",
      "49.60%\n"
     ]
    }
   ],
   "source": [
    "\n",
    "csv_file_path = 'WAR_2023.csv'\n",
    "\n",
    "# Check if the file exists\n",
    "if not os.path.exists(csv_file_path):\n",
    "    raise FileNotFoundError(f\"The file '{csv_file_path}' does not exist.\")\n",
    "\n",
    "try:\n",
    "    # Attempt to read the CSV file with different encodings\n",
    "    try:\n",
    "        df = pd.read_csv(csv_file_path, encoding='utf-8')\n",
    "    except UnicodeDecodeError:\n",
    "        try:\n",
    "            df = pd.read_csv(csv_file_path, encoding='latin1')\n",
    "        except UnicodeDecodeError:\n",
    "            df = pd.read_csv(csv_file_path, encoding='iso-8859-1')\n",
    "except Exception as e:\n",
    "    raise ValueError(f\"Error reading the CSV file: {e}\")\n",
    "\n",
    "# Ensure the CSV file has at least 18 columns\n",
    "if df.shape[1] < 18:\n",
    "    raise ValueError(\"The CSV file does not have at least 18 columns.\")\n",
    "\n",
    "try:\n",
    "    # Extract the 15th column (index 14, since indexing starts from 0)\n",
    "    column_15 = df.iloc[:, 14]\n",
    "\n",
    "    # Ensure the column contains numeric values\n",
    "    column_15 = pd.to_numeric(column_15, errors='coerce')\n",
    "    \n",
    "    # Drop NaN values that cannot be converted to numeric\n",
    "    column_15 = column_15.dropna()\n",
    "\n",
    "    # Sort the column in ascending order and select the bottom 50 values\n",
    "    bottom_50_indices = column_15.nsmallest(50).index\n",
    "\n",
    "    # Extract the 18th column (index 17) for these bottom 50 players\n",
    "    column_18_bottom_50 = df.iloc[bottom_50_indices, 17]\n",
    "\n",
    "    # Ensure the extracted column contains numeric values\n",
    "    column_18_bottom_50 = pd.to_numeric(column_18_bottom_50, errors='coerce')\n",
    "\n",
    "    # Convert the values to percentages\n",
    "    column_18_bottom_50_percentages = column_18_bottom_50 * 100\n",
    "\n",
    "    # Sort the percentages in ascending order (from smallest to largest)\n",
    "    sorted_percentages = column_18_bottom_50_percentages.sort_values(ascending=True)\n",
    "\n",
    "    # Format the percentages to two decimal places and convert to string\n",
    "    formatted_percentages = sorted_percentages.apply(lambda x: f\"{x:.2f}%\")\n",
    "\n",
    "    # Print the corresponding data in column 18 as percentages for the bottom 50 players\n",
    "    print(\"Bottom 50 WAR Players Winning Percentage (Sorted):\")\n",
    "    print(formatted_percentages.to_string(index=False))\n",
    "\n",
    "except Exception as e:\n",
    "    raise ValueError(f\"Error processing the data: {e}\")\n"
   ]
  },
  {
   "cell_type": "code",
   "execution_count": 90,
   "metadata": {},
   "outputs": [
    {
     "name": "stdout",
     "output_type": "stream",
     "text": [
      "Bottom 50 WAR Players Winning Percentage Statistics:\n",
      "Sample Mean: 48.94%\n",
      "Sample Median: 48.90%\n",
      "Sample Variance: 0.17\n",
      "Sample Standard Deviation: 0.42\n"
     ]
    },
    {
     "data": {
      "application/vnd.plotly.v1+json": {
       "config": {
        "plotlyServerURL": "https://plot.ly"
       },
       "data": [
        {
         "boxmean": "sd",
         "marker": {
          "color": "purple"
         },
         "name": "Bottom 50 Winning Percentages",
         "type": "box",
         "x": [
          47.699999999999996,
          48.199999999999996,
          48.4,
          48.5,
          48.6,
          48.5,
          48.3,
          48.8,
          48.6,
          48.8,
          48.6,
          48.6,
          48.5,
          48.3,
          48.9,
          48.699999999999996,
          48.699999999999996,
          49.3,
          49,
          49.2,
          48.5,
          49,
          48.9,
          48.9,
          49.2,
          48.699999999999996,
          48.9,
          49.3,
          49.1,
          49.5,
          49.4,
          49.4,
          49.4,
          48.8,
          49.4,
          49.4,
          49.1,
          49.2,
          48.699999999999996,
          49.6,
          49.4,
          48.8,
          49.3,
          48.699999999999996,
          49.5,
          49.4,
          49.4,
          49.3,
          49.2,
          49.2
         ]
        }
       ],
       "layout": {
        "hovermode": "x",
        "showlegend": false,
        "template": {
         "data": {
          "bar": [
           {
            "error_x": {
             "color": "#f2f5fa"
            },
            "error_y": {
             "color": "#f2f5fa"
            },
            "marker": {
             "line": {
              "color": "rgb(17,17,17)",
              "width": 0.5
             },
             "pattern": {
              "fillmode": "overlay",
              "size": 10,
              "solidity": 0.2
             }
            },
            "type": "bar"
           }
          ],
          "barpolar": [
           {
            "marker": {
             "line": {
              "color": "rgb(17,17,17)",
              "width": 0.5
             },
             "pattern": {
              "fillmode": "overlay",
              "size": 10,
              "solidity": 0.2
             }
            },
            "type": "barpolar"
           }
          ],
          "carpet": [
           {
            "aaxis": {
             "endlinecolor": "#A2B1C6",
             "gridcolor": "#506784",
             "linecolor": "#506784",
             "minorgridcolor": "#506784",
             "startlinecolor": "#A2B1C6"
            },
            "baxis": {
             "endlinecolor": "#A2B1C6",
             "gridcolor": "#506784",
             "linecolor": "#506784",
             "minorgridcolor": "#506784",
             "startlinecolor": "#A2B1C6"
            },
            "type": "carpet"
           }
          ],
          "choropleth": [
           {
            "colorbar": {
             "outlinewidth": 0,
             "ticks": ""
            },
            "type": "choropleth"
           }
          ],
          "contour": [
           {
            "colorbar": {
             "outlinewidth": 0,
             "ticks": ""
            },
            "colorscale": [
             [
              0,
              "#0d0887"
             ],
             [
              0.1111111111111111,
              "#46039f"
             ],
             [
              0.2222222222222222,
              "#7201a8"
             ],
             [
              0.3333333333333333,
              "#9c179e"
             ],
             [
              0.4444444444444444,
              "#bd3786"
             ],
             [
              0.5555555555555556,
              "#d8576b"
             ],
             [
              0.6666666666666666,
              "#ed7953"
             ],
             [
              0.7777777777777778,
              "#fb9f3a"
             ],
             [
              0.8888888888888888,
              "#fdca26"
             ],
             [
              1,
              "#f0f921"
             ]
            ],
            "type": "contour"
           }
          ],
          "contourcarpet": [
           {
            "colorbar": {
             "outlinewidth": 0,
             "ticks": ""
            },
            "type": "contourcarpet"
           }
          ],
          "heatmap": [
           {
            "colorbar": {
             "outlinewidth": 0,
             "ticks": ""
            },
            "colorscale": [
             [
              0,
              "#0d0887"
             ],
             [
              0.1111111111111111,
              "#46039f"
             ],
             [
              0.2222222222222222,
              "#7201a8"
             ],
             [
              0.3333333333333333,
              "#9c179e"
             ],
             [
              0.4444444444444444,
              "#bd3786"
             ],
             [
              0.5555555555555556,
              "#d8576b"
             ],
             [
              0.6666666666666666,
              "#ed7953"
             ],
             [
              0.7777777777777778,
              "#fb9f3a"
             ],
             [
              0.8888888888888888,
              "#fdca26"
             ],
             [
              1,
              "#f0f921"
             ]
            ],
            "type": "heatmap"
           }
          ],
          "heatmapgl": [
           {
            "colorbar": {
             "outlinewidth": 0,
             "ticks": ""
            },
            "colorscale": [
             [
              0,
              "#0d0887"
             ],
             [
              0.1111111111111111,
              "#46039f"
             ],
             [
              0.2222222222222222,
              "#7201a8"
             ],
             [
              0.3333333333333333,
              "#9c179e"
             ],
             [
              0.4444444444444444,
              "#bd3786"
             ],
             [
              0.5555555555555556,
              "#d8576b"
             ],
             [
              0.6666666666666666,
              "#ed7953"
             ],
             [
              0.7777777777777778,
              "#fb9f3a"
             ],
             [
              0.8888888888888888,
              "#fdca26"
             ],
             [
              1,
              "#f0f921"
             ]
            ],
            "type": "heatmapgl"
           }
          ],
          "histogram": [
           {
            "marker": {
             "pattern": {
              "fillmode": "overlay",
              "size": 10,
              "solidity": 0.2
             }
            },
            "type": "histogram"
           }
          ],
          "histogram2d": [
           {
            "colorbar": {
             "outlinewidth": 0,
             "ticks": ""
            },
            "colorscale": [
             [
              0,
              "#0d0887"
             ],
             [
              0.1111111111111111,
              "#46039f"
             ],
             [
              0.2222222222222222,
              "#7201a8"
             ],
             [
              0.3333333333333333,
              "#9c179e"
             ],
             [
              0.4444444444444444,
              "#bd3786"
             ],
             [
              0.5555555555555556,
              "#d8576b"
             ],
             [
              0.6666666666666666,
              "#ed7953"
             ],
             [
              0.7777777777777778,
              "#fb9f3a"
             ],
             [
              0.8888888888888888,
              "#fdca26"
             ],
             [
              1,
              "#f0f921"
             ]
            ],
            "type": "histogram2d"
           }
          ],
          "histogram2dcontour": [
           {
            "colorbar": {
             "outlinewidth": 0,
             "ticks": ""
            },
            "colorscale": [
             [
              0,
              "#0d0887"
             ],
             [
              0.1111111111111111,
              "#46039f"
             ],
             [
              0.2222222222222222,
              "#7201a8"
             ],
             [
              0.3333333333333333,
              "#9c179e"
             ],
             [
              0.4444444444444444,
              "#bd3786"
             ],
             [
              0.5555555555555556,
              "#d8576b"
             ],
             [
              0.6666666666666666,
              "#ed7953"
             ],
             [
              0.7777777777777778,
              "#fb9f3a"
             ],
             [
              0.8888888888888888,
              "#fdca26"
             ],
             [
              1,
              "#f0f921"
             ]
            ],
            "type": "histogram2dcontour"
           }
          ],
          "mesh3d": [
           {
            "colorbar": {
             "outlinewidth": 0,
             "ticks": ""
            },
            "type": "mesh3d"
           }
          ],
          "parcoords": [
           {
            "line": {
             "colorbar": {
              "outlinewidth": 0,
              "ticks": ""
             }
            },
            "type": "parcoords"
           }
          ],
          "pie": [
           {
            "automargin": true,
            "type": "pie"
           }
          ],
          "scatter": [
           {
            "marker": {
             "line": {
              "color": "#283442"
             }
            },
            "type": "scatter"
           }
          ],
          "scatter3d": [
           {
            "line": {
             "colorbar": {
              "outlinewidth": 0,
              "ticks": ""
             }
            },
            "marker": {
             "colorbar": {
              "outlinewidth": 0,
              "ticks": ""
             }
            },
            "type": "scatter3d"
           }
          ],
          "scattercarpet": [
           {
            "marker": {
             "colorbar": {
              "outlinewidth": 0,
              "ticks": ""
             }
            },
            "type": "scattercarpet"
           }
          ],
          "scattergeo": [
           {
            "marker": {
             "colorbar": {
              "outlinewidth": 0,
              "ticks": ""
             }
            },
            "type": "scattergeo"
           }
          ],
          "scattergl": [
           {
            "marker": {
             "line": {
              "color": "#283442"
             }
            },
            "type": "scattergl"
           }
          ],
          "scattermapbox": [
           {
            "marker": {
             "colorbar": {
              "outlinewidth": 0,
              "ticks": ""
             }
            },
            "type": "scattermapbox"
           }
          ],
          "scatterpolar": [
           {
            "marker": {
             "colorbar": {
              "outlinewidth": 0,
              "ticks": ""
             }
            },
            "type": "scatterpolar"
           }
          ],
          "scatterpolargl": [
           {
            "marker": {
             "colorbar": {
              "outlinewidth": 0,
              "ticks": ""
             }
            },
            "type": "scatterpolargl"
           }
          ],
          "scatterternary": [
           {
            "marker": {
             "colorbar": {
              "outlinewidth": 0,
              "ticks": ""
             }
            },
            "type": "scatterternary"
           }
          ],
          "surface": [
           {
            "colorbar": {
             "outlinewidth": 0,
             "ticks": ""
            },
            "colorscale": [
             [
              0,
              "#0d0887"
             ],
             [
              0.1111111111111111,
              "#46039f"
             ],
             [
              0.2222222222222222,
              "#7201a8"
             ],
             [
              0.3333333333333333,
              "#9c179e"
             ],
             [
              0.4444444444444444,
              "#bd3786"
             ],
             [
              0.5555555555555556,
              "#d8576b"
             ],
             [
              0.6666666666666666,
              "#ed7953"
             ],
             [
              0.7777777777777778,
              "#fb9f3a"
             ],
             [
              0.8888888888888888,
              "#fdca26"
             ],
             [
              1,
              "#f0f921"
             ]
            ],
            "type": "surface"
           }
          ],
          "table": [
           {
            "cells": {
             "fill": {
              "color": "#506784"
             },
             "line": {
              "color": "rgb(17,17,17)"
             }
            },
            "header": {
             "fill": {
              "color": "#2a3f5f"
             },
             "line": {
              "color": "rgb(17,17,17)"
             }
            },
            "type": "table"
           }
          ]
         },
         "layout": {
          "annotationdefaults": {
           "arrowcolor": "#f2f5fa",
           "arrowhead": 0,
           "arrowwidth": 1
          },
          "autotypenumbers": "strict",
          "coloraxis": {
           "colorbar": {
            "outlinewidth": 0,
            "ticks": ""
           }
          },
          "colorscale": {
           "diverging": [
            [
             0,
             "#8e0152"
            ],
            [
             0.1,
             "#c51b7d"
            ],
            [
             0.2,
             "#de77ae"
            ],
            [
             0.3,
             "#f1b6da"
            ],
            [
             0.4,
             "#fde0ef"
            ],
            [
             0.5,
             "#f7f7f7"
            ],
            [
             0.6,
             "#e6f5d0"
            ],
            [
             0.7,
             "#b8e186"
            ],
            [
             0.8,
             "#7fbc41"
            ],
            [
             0.9,
             "#4d9221"
            ],
            [
             1,
             "#276419"
            ]
           ],
           "sequential": [
            [
             0,
             "#0d0887"
            ],
            [
             0.1111111111111111,
             "#46039f"
            ],
            [
             0.2222222222222222,
             "#7201a8"
            ],
            [
             0.3333333333333333,
             "#9c179e"
            ],
            [
             0.4444444444444444,
             "#bd3786"
            ],
            [
             0.5555555555555556,
             "#d8576b"
            ],
            [
             0.6666666666666666,
             "#ed7953"
            ],
            [
             0.7777777777777778,
             "#fb9f3a"
            ],
            [
             0.8888888888888888,
             "#fdca26"
            ],
            [
             1,
             "#f0f921"
            ]
           ],
           "sequentialminus": [
            [
             0,
             "#0d0887"
            ],
            [
             0.1111111111111111,
             "#46039f"
            ],
            [
             0.2222222222222222,
             "#7201a8"
            ],
            [
             0.3333333333333333,
             "#9c179e"
            ],
            [
             0.4444444444444444,
             "#bd3786"
            ],
            [
             0.5555555555555556,
             "#d8576b"
            ],
            [
             0.6666666666666666,
             "#ed7953"
            ],
            [
             0.7777777777777778,
             "#fb9f3a"
            ],
            [
             0.8888888888888888,
             "#fdca26"
            ],
            [
             1,
             "#f0f921"
            ]
           ]
          },
          "colorway": [
           "#636efa",
           "#EF553B",
           "#00cc96",
           "#ab63fa",
           "#FFA15A",
           "#19d3f3",
           "#FF6692",
           "#B6E880",
           "#FF97FF",
           "#FECB52"
          ],
          "font": {
           "color": "#f2f5fa"
          },
          "geo": {
           "bgcolor": "rgb(17,17,17)",
           "lakecolor": "rgb(17,17,17)",
           "landcolor": "rgb(17,17,17)",
           "showlakes": true,
           "showland": true,
           "subunitcolor": "#506784"
          },
          "hoverlabel": {
           "align": "left"
          },
          "hovermode": "closest",
          "mapbox": {
           "style": "dark"
          },
          "paper_bgcolor": "rgb(17,17,17)",
          "plot_bgcolor": "rgb(17,17,17)",
          "polar": {
           "angularaxis": {
            "gridcolor": "#506784",
            "linecolor": "#506784",
            "ticks": ""
           },
           "bgcolor": "rgb(17,17,17)",
           "radialaxis": {
            "gridcolor": "#506784",
            "linecolor": "#506784",
            "ticks": ""
           }
          },
          "scene": {
           "xaxis": {
            "backgroundcolor": "rgb(17,17,17)",
            "gridcolor": "#506784",
            "gridwidth": 2,
            "linecolor": "#506784",
            "showbackground": true,
            "ticks": "",
            "zerolinecolor": "#C8D4E3"
           },
           "yaxis": {
            "backgroundcolor": "rgb(17,17,17)",
            "gridcolor": "#506784",
            "gridwidth": 2,
            "linecolor": "#506784",
            "showbackground": true,
            "ticks": "",
            "zerolinecolor": "#C8D4E3"
           },
           "zaxis": {
            "backgroundcolor": "rgb(17,17,17)",
            "gridcolor": "#506784",
            "gridwidth": 2,
            "linecolor": "#506784",
            "showbackground": true,
            "ticks": "",
            "zerolinecolor": "#C8D4E3"
           }
          },
          "shapedefaults": {
           "line": {
            "color": "#f2f5fa"
           }
          },
          "sliderdefaults": {
           "bgcolor": "#C8D4E3",
           "bordercolor": "rgb(17,17,17)",
           "borderwidth": 1,
           "tickwidth": 0
          },
          "ternary": {
           "aaxis": {
            "gridcolor": "#506784",
            "linecolor": "#506784",
            "ticks": ""
           },
           "baxis": {
            "gridcolor": "#506784",
            "linecolor": "#506784",
            "ticks": ""
           },
           "bgcolor": "rgb(17,17,17)",
           "caxis": {
            "gridcolor": "#506784",
            "linecolor": "#506784",
            "ticks": ""
           }
          },
          "title": {
           "x": 0.05
          },
          "updatemenudefaults": {
           "bgcolor": "#506784",
           "borderwidth": 0
          },
          "xaxis": {
           "automargin": true,
           "gridcolor": "#283442",
           "linecolor": "#506784",
           "ticks": "",
           "title": {
            "standoff": 15
           },
           "zerolinecolor": "#283442",
           "zerolinewidth": 2
          },
          "yaxis": {
           "automargin": true,
           "gridcolor": "#283442",
           "linecolor": "#506784",
           "ticks": "",
           "title": {
            "standoff": 15
           },
           "zerolinecolor": "#283442",
           "zerolinewidth": 2
          }
         }
        },
        "title": {
         "text": "Bottom 50 WAR Players Winning Percentage"
        },
        "xaxis": {
         "title": {
          "text": "Winning Percentage (%)"
         }
        },
        "yaxis": {
         "title": {
          "text": ""
         }
        }
       }
      }
     },
     "metadata": {},
     "output_type": "display_data"
    }
   ],
   "source": [
    "import os\n",
    "import pandas as pd\n",
    "import plotly.graph_objects as go\n",
    "\n",
    "csv_file_path = 'WAR_2023.csv'\n",
    "\n",
    "# Check if the file exists\n",
    "if not os.path.exists(csv_file_path):\n",
    "    raise FileNotFoundError(f\"The file '{csv_file_path}' does not exist.\")\n",
    "\n",
    "try:\n",
    "    # Attempt to read the CSV file with different encodings\n",
    "    try:\n",
    "        df = pd.read_csv(csv_file_path, encoding='utf-8')\n",
    "    except UnicodeDecodeError:\n",
    "        try:\n",
    "            df = pd.read_csv(csv_file_path, encoding='latin1')\n",
    "        except UnicodeDecodeError:\n",
    "            df = pd.read_csv(csv_file_path, encoding='iso-8859-1')\n",
    "except Exception as e:\n",
    "    raise ValueError(f\"Error reading the CSV file: {e}\")\n",
    "\n",
    "# Ensure the CSV file has at least 18 columns\n",
    "if df.shape[1] < 18:\n",
    "    raise ValueError(\"The CSV file does not have at least 18 columns.\")\n",
    "\n",
    "try:\n",
    "    # Extract the 15th column (index 14, since indexing starts from 0)\n",
    "    column_15 = df.iloc[:, 14]\n",
    "\n",
    "    # Ensure the column contains numeric values\n",
    "    column_15 = pd.to_numeric(column_15, errors='coerce')\n",
    "    \n",
    "    # Drop NaN values that cannot be converted to numeric\n",
    "    column_15 = column_15.dropna()\n",
    "\n",
    "    # Sort the column in ascending order and select the bottom 50 values\n",
    "    bottom_50_indices = column_15.nsmallest(50).index\n",
    "\n",
    "    # Extract the 18th column (index 17) for these bottom 50 players\n",
    "    column_18_bottom_50 = df.iloc[bottom_50_indices, 17]\n",
    "\n",
    "    # Ensure the extracted column contains numeric values\n",
    "    column_18_bottom_50 = pd.to_numeric(column_18_bottom_50, errors='coerce')\n",
    "\n",
    "    # Convert the values to percentages\n",
    "    column_18_bottom_50_percentages = column_18_bottom_50 * 100\n",
    "\n",
    "    # Compute statistics for bottom 50 percentages\n",
    "    bottom_50_mean = column_18_bottom_50_percentages.mean()\n",
    "    bottom_50_median = column_18_bottom_50_percentages.median()\n",
    "    bottom_50_variance = column_18_bottom_50_percentages.var()\n",
    "    bottom_50_std_dev = column_18_bottom_50_percentages.std()\n",
    "\n",
    "    # Print the results for bottom 50 percentages\n",
    "    print(\"Bottom 50 WAR Players Winning Percentage Statistics:\")\n",
    "    print(f\"Sample Mean: {bottom_50_mean:.2f}%\")\n",
    "    print(f\"Sample Median: {bottom_50_median:.2f}%\")\n",
    "    print(f\"Sample Variance: {bottom_50_variance:.2f}\")\n",
    "    print(f\"Sample Standard Deviation: {bottom_50_std_dev:.2f}\")\n",
    "\n",
    "    # Create interactive horizontal box plot for bottom 50 percentages using Plotly\n",
    "    fig = go.Figure()\n",
    "\n",
    "    # Adding a horizontal box plot for the bottom 50 winning percentages\n",
    "    fig.add_trace(go.Box(\n",
    "        x=column_18_bottom_50_percentages,\n",
    "        name='Bottom 50 Winning Percentages',\n",
    "        boxmean='sd',  # Display mean and standard deviation\n",
    "        marker=dict(color='purple')\n",
    "    ))\n",
    "\n",
    "    # Customize the layout of the plot\n",
    "    fig.update_layout(\n",
    "        title=\"Bottom 50 WAR Players Winning Percentage\",\n",
    "        xaxis_title=\"Winning Percentage (%)\",\n",
    "        yaxis_title=\"\",\n",
    "        template=\"plotly_dark\",\n",
    "        showlegend=False,\n",
    "        hovermode=\"x\"\n",
    "    )\n",
    "\n",
    "    # Display the interactive plot\n",
    "    fig.show()\n",
    "\n",
    "except Exception as e:\n",
    "    raise ValueError(f\"Error processing the data: {e}\")\n"
   ]
  },
  {
   "cell_type": "code",
   "execution_count": 92,
   "metadata": {},
   "outputs": [
    {
     "data": {
      "application/vnd.plotly.v1+json": {
       "config": {
        "plotlyServerURL": "https://plot.ly"
       },
       "data": [
        {
         "hovertemplate": "Group=Top 50<br>WAR Value=%{x}<br>Winning Percentage=%{y}<extra></extra>",
         "legendgroup": "Top 50",
         "marker": {
          "color": "lightblue",
          "symbol": "circle"
         },
         "mode": "markers",
         "name": "Top 50",
         "orientation": "v",
         "showlegend": true,
         "type": "scatter",
         "x": [
          8.3,
          8.2,
          7.4,
          7.4,
          6.9,
          6.5,
          6.2,
          6,
          6,
          5.9,
          5.8,
          5.5,
          5.5,
          5.5,
          5.4,
          5.4,
          5.3,
          5.3,
          5.2,
          5.1,
          5.1,
          5.1,
          5,
          4.9,
          4.9,
          4.9,
          4.9,
          4.8,
          4.7,
          4.6,
          4.5,
          4.4,
          4.4,
          4.4,
          4.4,
          4.3,
          4.3,
          4.3,
          4.3,
          4.2,
          4.2,
          4.1,
          4,
          3.9,
          3.9,
          3.9,
          3.9,
          3.8,
          3.8,
          3.8
         ],
         "xaxis": "x",
         "y": [
          0.539,
          0.538,
          0.532,
          0.531,
          0.532,
          0.527,
          0.525,
          0.524,
          0.528,
          0.523,
          0.523,
          0.524,
          0.52,
          0.522,
          0.521,
          0.52,
          0.52,
          0.519,
          0.52,
          0.519,
          0.519,
          0.518,
          0.519,
          0.518,
          0.519,
          0.516,
          0.518,
          0.517,
          0.517,
          0.519,
          0.518,
          0.516,
          0.514,
          0.515,
          0.513,
          0.518,
          0.519,
          0.513,
          0.514,
          0.513,
          0.514,
          0.515,
          0.514,
          0.515,
          0.516,
          0.512,
          0.512,
          0.511,
          0.513,
          0.511
         ],
         "yaxis": "y"
        },
        {
         "hovertemplate": "Group=Bottom 50<br>WAR Value=%{x}<br>Winning Percentage=%{y}<extra></extra>",
         "legendgroup": "Bottom 50",
         "marker": {
          "color": "purple",
          "symbol": "circle"
         },
         "mode": "markers",
         "name": "Bottom 50",
         "orientation": "v",
         "showlegend": true,
         "type": "scatter",
         "x": [
          -2,
          -1.9,
          -1.5,
          -1.5,
          -1.5,
          -1.5,
          -1.5,
          -1.4,
          -1.4,
          -1.4,
          -1.4,
          -1.3,
          -1.3,
          -1.3,
          -1.1,
          -1.1,
          -1.1,
          -1.1,
          -1.1,
          -1.1,
          -1.1,
          -1,
          -1,
          -0.9,
          -0.9,
          -0.9,
          -0.9,
          -0.9,
          -0.9,
          -0.8,
          -0.8,
          -0.8,
          -0.8,
          -0.8,
          -0.8,
          -0.8,
          -0.8,
          -0.7,
          -0.7,
          -0.7,
          -0.7,
          -0.7,
          -0.7,
          -0.7,
          -0.7,
          -0.7,
          -0.6,
          -0.6,
          -0.6,
          -0.6
         ],
         "xaxis": "x",
         "y": [
          0.477,
          0.482,
          0.484,
          0.485,
          0.485,
          0.483,
          0.488,
          0.486,
          0.486,
          0.488,
          0.486,
          0.486,
          0.485,
          0.483,
          0.489,
          0.487,
          0.493,
          0.49,
          0.492,
          0.49,
          0.489,
          0.487,
          0.485,
          0.489,
          0.487,
          0.489,
          0.493,
          0.492,
          0.491,
          0.488,
          0.494,
          0.488,
          0.494,
          0.494,
          0.491,
          0.492,
          0.487,
          0.495,
          0.487,
          0.494,
          0.494,
          0.494,
          0.492,
          0.496,
          0.492,
          0.494,
          0.494,
          0.494,
          0.489,
          0.493
         ],
         "yaxis": "y"
        }
       ],
       "layout": {
        "font": {
         "color": "white"
        },
        "legend": {
         "title": {
          "text": "Group"
         },
         "tracegroupgap": 0
        },
        "paper_bgcolor": "black",
        "plot_bgcolor": "black",
        "template": {
         "data": {
          "bar": [
           {
            "error_x": {
             "color": "#2a3f5f"
            },
            "error_y": {
             "color": "#2a3f5f"
            },
            "marker": {
             "line": {
              "color": "#E5ECF6",
              "width": 0.5
             },
             "pattern": {
              "fillmode": "overlay",
              "size": 10,
              "solidity": 0.2
             }
            },
            "type": "bar"
           }
          ],
          "barpolar": [
           {
            "marker": {
             "line": {
              "color": "#E5ECF6",
              "width": 0.5
             },
             "pattern": {
              "fillmode": "overlay",
              "size": 10,
              "solidity": 0.2
             }
            },
            "type": "barpolar"
           }
          ],
          "carpet": [
           {
            "aaxis": {
             "endlinecolor": "#2a3f5f",
             "gridcolor": "white",
             "linecolor": "white",
             "minorgridcolor": "white",
             "startlinecolor": "#2a3f5f"
            },
            "baxis": {
             "endlinecolor": "#2a3f5f",
             "gridcolor": "white",
             "linecolor": "white",
             "minorgridcolor": "white",
             "startlinecolor": "#2a3f5f"
            },
            "type": "carpet"
           }
          ],
          "choropleth": [
           {
            "colorbar": {
             "outlinewidth": 0,
             "ticks": ""
            },
            "type": "choropleth"
           }
          ],
          "contour": [
           {
            "colorbar": {
             "outlinewidth": 0,
             "ticks": ""
            },
            "colorscale": [
             [
              0,
              "#0d0887"
             ],
             [
              0.1111111111111111,
              "#46039f"
             ],
             [
              0.2222222222222222,
              "#7201a8"
             ],
             [
              0.3333333333333333,
              "#9c179e"
             ],
             [
              0.4444444444444444,
              "#bd3786"
             ],
             [
              0.5555555555555556,
              "#d8576b"
             ],
             [
              0.6666666666666666,
              "#ed7953"
             ],
             [
              0.7777777777777778,
              "#fb9f3a"
             ],
             [
              0.8888888888888888,
              "#fdca26"
             ],
             [
              1,
              "#f0f921"
             ]
            ],
            "type": "contour"
           }
          ],
          "contourcarpet": [
           {
            "colorbar": {
             "outlinewidth": 0,
             "ticks": ""
            },
            "type": "contourcarpet"
           }
          ],
          "heatmap": [
           {
            "colorbar": {
             "outlinewidth": 0,
             "ticks": ""
            },
            "colorscale": [
             [
              0,
              "#0d0887"
             ],
             [
              0.1111111111111111,
              "#46039f"
             ],
             [
              0.2222222222222222,
              "#7201a8"
             ],
             [
              0.3333333333333333,
              "#9c179e"
             ],
             [
              0.4444444444444444,
              "#bd3786"
             ],
             [
              0.5555555555555556,
              "#d8576b"
             ],
             [
              0.6666666666666666,
              "#ed7953"
             ],
             [
              0.7777777777777778,
              "#fb9f3a"
             ],
             [
              0.8888888888888888,
              "#fdca26"
             ],
             [
              1,
              "#f0f921"
             ]
            ],
            "type": "heatmap"
           }
          ],
          "heatmapgl": [
           {
            "colorbar": {
             "outlinewidth": 0,
             "ticks": ""
            },
            "colorscale": [
             [
              0,
              "#0d0887"
             ],
             [
              0.1111111111111111,
              "#46039f"
             ],
             [
              0.2222222222222222,
              "#7201a8"
             ],
             [
              0.3333333333333333,
              "#9c179e"
             ],
             [
              0.4444444444444444,
              "#bd3786"
             ],
             [
              0.5555555555555556,
              "#d8576b"
             ],
             [
              0.6666666666666666,
              "#ed7953"
             ],
             [
              0.7777777777777778,
              "#fb9f3a"
             ],
             [
              0.8888888888888888,
              "#fdca26"
             ],
             [
              1,
              "#f0f921"
             ]
            ],
            "type": "heatmapgl"
           }
          ],
          "histogram": [
           {
            "marker": {
             "pattern": {
              "fillmode": "overlay",
              "size": 10,
              "solidity": 0.2
             }
            },
            "type": "histogram"
           }
          ],
          "histogram2d": [
           {
            "colorbar": {
             "outlinewidth": 0,
             "ticks": ""
            },
            "colorscale": [
             [
              0,
              "#0d0887"
             ],
             [
              0.1111111111111111,
              "#46039f"
             ],
             [
              0.2222222222222222,
              "#7201a8"
             ],
             [
              0.3333333333333333,
              "#9c179e"
             ],
             [
              0.4444444444444444,
              "#bd3786"
             ],
             [
              0.5555555555555556,
              "#d8576b"
             ],
             [
              0.6666666666666666,
              "#ed7953"
             ],
             [
              0.7777777777777778,
              "#fb9f3a"
             ],
             [
              0.8888888888888888,
              "#fdca26"
             ],
             [
              1,
              "#f0f921"
             ]
            ],
            "type": "histogram2d"
           }
          ],
          "histogram2dcontour": [
           {
            "colorbar": {
             "outlinewidth": 0,
             "ticks": ""
            },
            "colorscale": [
             [
              0,
              "#0d0887"
             ],
             [
              0.1111111111111111,
              "#46039f"
             ],
             [
              0.2222222222222222,
              "#7201a8"
             ],
             [
              0.3333333333333333,
              "#9c179e"
             ],
             [
              0.4444444444444444,
              "#bd3786"
             ],
             [
              0.5555555555555556,
              "#d8576b"
             ],
             [
              0.6666666666666666,
              "#ed7953"
             ],
             [
              0.7777777777777778,
              "#fb9f3a"
             ],
             [
              0.8888888888888888,
              "#fdca26"
             ],
             [
              1,
              "#f0f921"
             ]
            ],
            "type": "histogram2dcontour"
           }
          ],
          "mesh3d": [
           {
            "colorbar": {
             "outlinewidth": 0,
             "ticks": ""
            },
            "type": "mesh3d"
           }
          ],
          "parcoords": [
           {
            "line": {
             "colorbar": {
              "outlinewidth": 0,
              "ticks": ""
             }
            },
            "type": "parcoords"
           }
          ],
          "pie": [
           {
            "automargin": true,
            "type": "pie"
           }
          ],
          "scatter": [
           {
            "fillpattern": {
             "fillmode": "overlay",
             "size": 10,
             "solidity": 0.2
            },
            "type": "scatter"
           }
          ],
          "scatter3d": [
           {
            "line": {
             "colorbar": {
              "outlinewidth": 0,
              "ticks": ""
             }
            },
            "marker": {
             "colorbar": {
              "outlinewidth": 0,
              "ticks": ""
             }
            },
            "type": "scatter3d"
           }
          ],
          "scattercarpet": [
           {
            "marker": {
             "colorbar": {
              "outlinewidth": 0,
              "ticks": ""
             }
            },
            "type": "scattercarpet"
           }
          ],
          "scattergeo": [
           {
            "marker": {
             "colorbar": {
              "outlinewidth": 0,
              "ticks": ""
             }
            },
            "type": "scattergeo"
           }
          ],
          "scattergl": [
           {
            "marker": {
             "colorbar": {
              "outlinewidth": 0,
              "ticks": ""
             }
            },
            "type": "scattergl"
           }
          ],
          "scattermapbox": [
           {
            "marker": {
             "colorbar": {
              "outlinewidth": 0,
              "ticks": ""
             }
            },
            "type": "scattermapbox"
           }
          ],
          "scatterpolar": [
           {
            "marker": {
             "colorbar": {
              "outlinewidth": 0,
              "ticks": ""
             }
            },
            "type": "scatterpolar"
           }
          ],
          "scatterpolargl": [
           {
            "marker": {
             "colorbar": {
              "outlinewidth": 0,
              "ticks": ""
             }
            },
            "type": "scatterpolargl"
           }
          ],
          "scatterternary": [
           {
            "marker": {
             "colorbar": {
              "outlinewidth": 0,
              "ticks": ""
             }
            },
            "type": "scatterternary"
           }
          ],
          "surface": [
           {
            "colorbar": {
             "outlinewidth": 0,
             "ticks": ""
            },
            "colorscale": [
             [
              0,
              "#0d0887"
             ],
             [
              0.1111111111111111,
              "#46039f"
             ],
             [
              0.2222222222222222,
              "#7201a8"
             ],
             [
              0.3333333333333333,
              "#9c179e"
             ],
             [
              0.4444444444444444,
              "#bd3786"
             ],
             [
              0.5555555555555556,
              "#d8576b"
             ],
             [
              0.6666666666666666,
              "#ed7953"
             ],
             [
              0.7777777777777778,
              "#fb9f3a"
             ],
             [
              0.8888888888888888,
              "#fdca26"
             ],
             [
              1,
              "#f0f921"
             ]
            ],
            "type": "surface"
           }
          ],
          "table": [
           {
            "cells": {
             "fill": {
              "color": "#EBF0F8"
             },
             "line": {
              "color": "white"
             }
            },
            "header": {
             "fill": {
              "color": "#C8D4E3"
             },
             "line": {
              "color": "white"
             }
            },
            "type": "table"
           }
          ]
         },
         "layout": {
          "annotationdefaults": {
           "arrowcolor": "#2a3f5f",
           "arrowhead": 0,
           "arrowwidth": 1
          },
          "autotypenumbers": "strict",
          "coloraxis": {
           "colorbar": {
            "outlinewidth": 0,
            "ticks": ""
           }
          },
          "colorscale": {
           "diverging": [
            [
             0,
             "#8e0152"
            ],
            [
             0.1,
             "#c51b7d"
            ],
            [
             0.2,
             "#de77ae"
            ],
            [
             0.3,
             "#f1b6da"
            ],
            [
             0.4,
             "#fde0ef"
            ],
            [
             0.5,
             "#f7f7f7"
            ],
            [
             0.6,
             "#e6f5d0"
            ],
            [
             0.7,
             "#b8e186"
            ],
            [
             0.8,
             "#7fbc41"
            ],
            [
             0.9,
             "#4d9221"
            ],
            [
             1,
             "#276419"
            ]
           ],
           "sequential": [
            [
             0,
             "#0d0887"
            ],
            [
             0.1111111111111111,
             "#46039f"
            ],
            [
             0.2222222222222222,
             "#7201a8"
            ],
            [
             0.3333333333333333,
             "#9c179e"
            ],
            [
             0.4444444444444444,
             "#bd3786"
            ],
            [
             0.5555555555555556,
             "#d8576b"
            ],
            [
             0.6666666666666666,
             "#ed7953"
            ],
            [
             0.7777777777777778,
             "#fb9f3a"
            ],
            [
             0.8888888888888888,
             "#fdca26"
            ],
            [
             1,
             "#f0f921"
            ]
           ],
           "sequentialminus": [
            [
             0,
             "#0d0887"
            ],
            [
             0.1111111111111111,
             "#46039f"
            ],
            [
             0.2222222222222222,
             "#7201a8"
            ],
            [
             0.3333333333333333,
             "#9c179e"
            ],
            [
             0.4444444444444444,
             "#bd3786"
            ],
            [
             0.5555555555555556,
             "#d8576b"
            ],
            [
             0.6666666666666666,
             "#ed7953"
            ],
            [
             0.7777777777777778,
             "#fb9f3a"
            ],
            [
             0.8888888888888888,
             "#fdca26"
            ],
            [
             1,
             "#f0f921"
            ]
           ]
          },
          "colorway": [
           "#636efa",
           "#EF553B",
           "#00cc96",
           "#ab63fa",
           "#FFA15A",
           "#19d3f3",
           "#FF6692",
           "#B6E880",
           "#FF97FF",
           "#FECB52"
          ],
          "font": {
           "color": "#2a3f5f"
          },
          "geo": {
           "bgcolor": "white",
           "lakecolor": "white",
           "landcolor": "#E5ECF6",
           "showlakes": true,
           "showland": true,
           "subunitcolor": "white"
          },
          "hoverlabel": {
           "align": "left"
          },
          "hovermode": "closest",
          "mapbox": {
           "style": "light"
          },
          "paper_bgcolor": "white",
          "plot_bgcolor": "#E5ECF6",
          "polar": {
           "angularaxis": {
            "gridcolor": "white",
            "linecolor": "white",
            "ticks": ""
           },
           "bgcolor": "#E5ECF6",
           "radialaxis": {
            "gridcolor": "white",
            "linecolor": "white",
            "ticks": ""
           }
          },
          "scene": {
           "xaxis": {
            "backgroundcolor": "#E5ECF6",
            "gridcolor": "white",
            "gridwidth": 2,
            "linecolor": "white",
            "showbackground": true,
            "ticks": "",
            "zerolinecolor": "white"
           },
           "yaxis": {
            "backgroundcolor": "#E5ECF6",
            "gridcolor": "white",
            "gridwidth": 2,
            "linecolor": "white",
            "showbackground": true,
            "ticks": "",
            "zerolinecolor": "white"
           },
           "zaxis": {
            "backgroundcolor": "#E5ECF6",
            "gridcolor": "white",
            "gridwidth": 2,
            "linecolor": "white",
            "showbackground": true,
            "ticks": "",
            "zerolinecolor": "white"
           }
          },
          "shapedefaults": {
           "line": {
            "color": "#2a3f5f"
           }
          },
          "ternary": {
           "aaxis": {
            "gridcolor": "white",
            "linecolor": "white",
            "ticks": ""
           },
           "baxis": {
            "gridcolor": "white",
            "linecolor": "white",
            "ticks": ""
           },
           "bgcolor": "#E5ECF6",
           "caxis": {
            "gridcolor": "white",
            "linecolor": "white",
            "ticks": ""
           }
          },
          "title": {
           "x": 0.05
          },
          "xaxis": {
           "automargin": true,
           "gridcolor": "white",
           "linecolor": "white",
           "ticks": "",
           "title": {
            "standoff": 15
           },
           "zerolinecolor": "white",
           "zerolinewidth": 2
          },
          "yaxis": {
           "automargin": true,
           "gridcolor": "white",
           "linecolor": "white",
           "ticks": "",
           "title": {
            "standoff": 15
           },
           "zerolinecolor": "white",
           "zerolinewidth": 2
          }
         }
        },
        "title": {
         "text": "Top 50 vs Bottom 50 WAR Values and Winning Percentages"
        },
        "xaxis": {
         "anchor": "y",
         "domain": [
          0,
          1
         ],
         "title": {
          "text": "WAR Value"
         }
        },
        "yaxis": {
         "anchor": "x",
         "domain": [
          0,
          1
         ],
         "title": {
          "text": "Winning Percentage"
         }
        }
       }
      }
     },
     "metadata": {},
     "output_type": "display_data"
    }
   ],
   "source": [
    "import os\n",
    "import pandas as pd\n",
    "import plotly.express as px\n",
    "\n",
    "# Define the path to your CSV file\n",
    "csv_file_path = 'WAR_2023.csv'\n",
    "\n",
    "# Check if the file exists\n",
    "if not os.path.exists(csv_file_path):\n",
    "    raise FileNotFoundError(f\"The file '{csv_file_path}' does not exist.\")\n",
    "\n",
    "try:\n",
    "    # Attempt to read the CSV file with different encodings\n",
    "    try:\n",
    "        df = pd.read_csv(csv_file_path, encoding='utf-8')\n",
    "    except UnicodeDecodeError:\n",
    "        try:\n",
    "            df = pd.read_csv(csv_file_path, encoding='latin1')\n",
    "        except UnicodeDecodeError:\n",
    "            df = pd.read_csv(csv_file_path, encoding='iso-8859-1')\n",
    "except Exception as e:\n",
    "    raise ValueError(f\"Error reading the CSV file: {e}\")\n",
    "\n",
    "# Ensure the CSV file has at least 18 columns\n",
    "if df.shape[1] < 18:\n",
    "    raise ValueError(\"The CSV file does not have at least 18 columns.\")\n",
    "\n",
    "try:\n",
    "    # Extract the 16th column (index 15, since indexing starts from 0)\n",
    "    column_16 = df.iloc[:, 15]\n",
    "\n",
    "    # Ensure the column contains numeric values\n",
    "    column_16 = pd.to_numeric(column_16, errors='coerce')\n",
    "    \n",
    "    # Drop NaN values that cannot be converted to numeric\n",
    "    column_16 = column_16.dropna()\n",
    "\n",
    "    # Sort the column in descending order and select the top 50 values\n",
    "    top_50_values = column_16.nlargest(50)\n",
    "\n",
    "    # Sort the column in ascending order and select the bottom 50 values\n",
    "    bottom_50_values = column_16.nsmallest(50)\n",
    "\n",
    "    # Extract the corresponding 18th column (index 17, since indexing starts from 0) values\n",
    "    top_50_column_18 = df.iloc[top_50_values.index, 17]\n",
    "    bottom_50_column_18 = df.iloc[bottom_50_values.index, 17]\n",
    "\n",
    "    # Ensure the columns contain numeric values\n",
    "    top_50_column_18 = pd.to_numeric(top_50_column_18, errors='coerce').dropna()\n",
    "    bottom_50_column_18 = pd.to_numeric(bottom_50_column_18, errors='coerce').dropna()\n",
    "\n",
    "    # Create a DataFrame for Plotly\n",
    "    plot_df = pd.DataFrame({\n",
    "        'WAR Value': pd.concat([top_50_values, bottom_50_values]),\n",
    "        'Winning Percentage': pd.concat([top_50_column_18, bottom_50_column_18]),\n",
    "        'Group': ['Top 50'] * len(top_50_values) + ['Bottom 50'] * len(bottom_50_values)\n",
    "    })\n",
    "\n",
    "    # Create the interactive scatter plot with customized colors and black background\n",
    "    fig = px.scatter(\n",
    "        plot_df,\n",
    "        x='WAR Value',\n",
    "        y='Winning Percentage',\n",
    "        color='Group',\n",
    "        title='Top 50 vs Bottom 50 WAR Values and Winning Percentages',\n",
    "        labels={'WAR Value': 'WAR Value', 'Winning Percentage': 'Winning Percentage'},\n",
    "        color_discrete_map={'Top 50': 'lightblue', 'Bottom 50': 'purple'}\n",
    "    )\n",
    "\n",
    "    # Update layout for black background\n",
    "    fig.update_layout(\n",
    "        legend_title_text='Group',\n",
    "        plot_bgcolor='black',  # Set plot background to black\n",
    "        paper_bgcolor='black',  # Set overall background to black\n",
    "        font_color='white'  # Set font color to white for better visibility\n",
    "    )\n",
    "\n",
    "    fig.show()\n",
    "\n",
    "except Exception as e:\n",
    "    raise ValueError(f\"Error processing the columns: {e}\")\n"
   ]
  },
  {
   "cell_type": "code",
   "execution_count": 93,
   "metadata": {},
   "outputs": [
    {
     "data": {
      "application/vnd.plotly.v1+json": {
       "config": {
        "plotlyServerURL": "https://plot.ly"
       },
       "data": [
        {
         "boxmean": true,
         "jitter": 0.3,
         "line": {
          "color": "lightblue"
         },
         "marker": {
          "color": "lightblue"
         },
         "name": "Top 50",
         "pointpos": -1.5,
         "type": "box",
         "y": [
          0.539,
          0.538,
          0.532,
          0.531,
          0.532,
          0.527,
          0.525,
          0.524,
          0.528,
          0.523,
          0.523,
          0.524,
          0.52,
          0.522,
          0.521,
          0.52,
          0.52,
          0.519,
          0.52,
          0.519,
          0.519,
          0.518,
          0.519,
          0.518,
          0.519,
          0.516,
          0.518,
          0.517,
          0.517,
          0.519,
          0.518,
          0.516,
          0.514,
          0.515,
          0.513,
          0.518,
          0.519,
          0.513,
          0.514,
          0.513,
          0.514,
          0.515,
          0.514,
          0.515,
          0.516,
          0.512,
          0.512,
          0.511,
          0.513,
          0.511
         ]
        },
        {
         "boxmean": true,
         "jitter": 0.3,
         "line": {
          "color": "purple"
         },
         "marker": {
          "color": "purple"
         },
         "name": "Bottom 50",
         "pointpos": -1.5,
         "type": "box",
         "y": [
          0.477,
          0.482,
          0.484,
          0.485,
          0.485,
          0.483,
          0.488,
          0.486,
          0.486,
          0.488,
          0.486,
          0.486,
          0.485,
          0.483,
          0.489,
          0.487,
          0.493,
          0.49,
          0.492,
          0.49,
          0.489,
          0.487,
          0.485,
          0.489,
          0.487,
          0.489,
          0.493,
          0.492,
          0.491,
          0.488,
          0.494,
          0.488,
          0.494,
          0.494,
          0.491,
          0.492,
          0.487,
          0.495,
          0.487,
          0.494,
          0.494,
          0.494,
          0.492,
          0.496,
          0.492,
          0.494,
          0.494,
          0.494,
          0.489,
          0.493
         ]
        }
       ],
       "layout": {
        "showlegend": true,
        "template": {
         "data": {
          "bar": [
           {
            "error_x": {
             "color": "#f2f5fa"
            },
            "error_y": {
             "color": "#f2f5fa"
            },
            "marker": {
             "line": {
              "color": "rgb(17,17,17)",
              "width": 0.5
             },
             "pattern": {
              "fillmode": "overlay",
              "size": 10,
              "solidity": 0.2
             }
            },
            "type": "bar"
           }
          ],
          "barpolar": [
           {
            "marker": {
             "line": {
              "color": "rgb(17,17,17)",
              "width": 0.5
             },
             "pattern": {
              "fillmode": "overlay",
              "size": 10,
              "solidity": 0.2
             }
            },
            "type": "barpolar"
           }
          ],
          "carpet": [
           {
            "aaxis": {
             "endlinecolor": "#A2B1C6",
             "gridcolor": "#506784",
             "linecolor": "#506784",
             "minorgridcolor": "#506784",
             "startlinecolor": "#A2B1C6"
            },
            "baxis": {
             "endlinecolor": "#A2B1C6",
             "gridcolor": "#506784",
             "linecolor": "#506784",
             "minorgridcolor": "#506784",
             "startlinecolor": "#A2B1C6"
            },
            "type": "carpet"
           }
          ],
          "choropleth": [
           {
            "colorbar": {
             "outlinewidth": 0,
             "ticks": ""
            },
            "type": "choropleth"
           }
          ],
          "contour": [
           {
            "colorbar": {
             "outlinewidth": 0,
             "ticks": ""
            },
            "colorscale": [
             [
              0,
              "#0d0887"
             ],
             [
              0.1111111111111111,
              "#46039f"
             ],
             [
              0.2222222222222222,
              "#7201a8"
             ],
             [
              0.3333333333333333,
              "#9c179e"
             ],
             [
              0.4444444444444444,
              "#bd3786"
             ],
             [
              0.5555555555555556,
              "#d8576b"
             ],
             [
              0.6666666666666666,
              "#ed7953"
             ],
             [
              0.7777777777777778,
              "#fb9f3a"
             ],
             [
              0.8888888888888888,
              "#fdca26"
             ],
             [
              1,
              "#f0f921"
             ]
            ],
            "type": "contour"
           }
          ],
          "contourcarpet": [
           {
            "colorbar": {
             "outlinewidth": 0,
             "ticks": ""
            },
            "type": "contourcarpet"
           }
          ],
          "heatmap": [
           {
            "colorbar": {
             "outlinewidth": 0,
             "ticks": ""
            },
            "colorscale": [
             [
              0,
              "#0d0887"
             ],
             [
              0.1111111111111111,
              "#46039f"
             ],
             [
              0.2222222222222222,
              "#7201a8"
             ],
             [
              0.3333333333333333,
              "#9c179e"
             ],
             [
              0.4444444444444444,
              "#bd3786"
             ],
             [
              0.5555555555555556,
              "#d8576b"
             ],
             [
              0.6666666666666666,
              "#ed7953"
             ],
             [
              0.7777777777777778,
              "#fb9f3a"
             ],
             [
              0.8888888888888888,
              "#fdca26"
             ],
             [
              1,
              "#f0f921"
             ]
            ],
            "type": "heatmap"
           }
          ],
          "heatmapgl": [
           {
            "colorbar": {
             "outlinewidth": 0,
             "ticks": ""
            },
            "colorscale": [
             [
              0,
              "#0d0887"
             ],
             [
              0.1111111111111111,
              "#46039f"
             ],
             [
              0.2222222222222222,
              "#7201a8"
             ],
             [
              0.3333333333333333,
              "#9c179e"
             ],
             [
              0.4444444444444444,
              "#bd3786"
             ],
             [
              0.5555555555555556,
              "#d8576b"
             ],
             [
              0.6666666666666666,
              "#ed7953"
             ],
             [
              0.7777777777777778,
              "#fb9f3a"
             ],
             [
              0.8888888888888888,
              "#fdca26"
             ],
             [
              1,
              "#f0f921"
             ]
            ],
            "type": "heatmapgl"
           }
          ],
          "histogram": [
           {
            "marker": {
             "pattern": {
              "fillmode": "overlay",
              "size": 10,
              "solidity": 0.2
             }
            },
            "type": "histogram"
           }
          ],
          "histogram2d": [
           {
            "colorbar": {
             "outlinewidth": 0,
             "ticks": ""
            },
            "colorscale": [
             [
              0,
              "#0d0887"
             ],
             [
              0.1111111111111111,
              "#46039f"
             ],
             [
              0.2222222222222222,
              "#7201a8"
             ],
             [
              0.3333333333333333,
              "#9c179e"
             ],
             [
              0.4444444444444444,
              "#bd3786"
             ],
             [
              0.5555555555555556,
              "#d8576b"
             ],
             [
              0.6666666666666666,
              "#ed7953"
             ],
             [
              0.7777777777777778,
              "#fb9f3a"
             ],
             [
              0.8888888888888888,
              "#fdca26"
             ],
             [
              1,
              "#f0f921"
             ]
            ],
            "type": "histogram2d"
           }
          ],
          "histogram2dcontour": [
           {
            "colorbar": {
             "outlinewidth": 0,
             "ticks": ""
            },
            "colorscale": [
             [
              0,
              "#0d0887"
             ],
             [
              0.1111111111111111,
              "#46039f"
             ],
             [
              0.2222222222222222,
              "#7201a8"
             ],
             [
              0.3333333333333333,
              "#9c179e"
             ],
             [
              0.4444444444444444,
              "#bd3786"
             ],
             [
              0.5555555555555556,
              "#d8576b"
             ],
             [
              0.6666666666666666,
              "#ed7953"
             ],
             [
              0.7777777777777778,
              "#fb9f3a"
             ],
             [
              0.8888888888888888,
              "#fdca26"
             ],
             [
              1,
              "#f0f921"
             ]
            ],
            "type": "histogram2dcontour"
           }
          ],
          "mesh3d": [
           {
            "colorbar": {
             "outlinewidth": 0,
             "ticks": ""
            },
            "type": "mesh3d"
           }
          ],
          "parcoords": [
           {
            "line": {
             "colorbar": {
              "outlinewidth": 0,
              "ticks": ""
             }
            },
            "type": "parcoords"
           }
          ],
          "pie": [
           {
            "automargin": true,
            "type": "pie"
           }
          ],
          "scatter": [
           {
            "marker": {
             "line": {
              "color": "#283442"
             }
            },
            "type": "scatter"
           }
          ],
          "scatter3d": [
           {
            "line": {
             "colorbar": {
              "outlinewidth": 0,
              "ticks": ""
             }
            },
            "marker": {
             "colorbar": {
              "outlinewidth": 0,
              "ticks": ""
             }
            },
            "type": "scatter3d"
           }
          ],
          "scattercarpet": [
           {
            "marker": {
             "colorbar": {
              "outlinewidth": 0,
              "ticks": ""
             }
            },
            "type": "scattercarpet"
           }
          ],
          "scattergeo": [
           {
            "marker": {
             "colorbar": {
              "outlinewidth": 0,
              "ticks": ""
             }
            },
            "type": "scattergeo"
           }
          ],
          "scattergl": [
           {
            "marker": {
             "line": {
              "color": "#283442"
             }
            },
            "type": "scattergl"
           }
          ],
          "scattermapbox": [
           {
            "marker": {
             "colorbar": {
              "outlinewidth": 0,
              "ticks": ""
             }
            },
            "type": "scattermapbox"
           }
          ],
          "scatterpolar": [
           {
            "marker": {
             "colorbar": {
              "outlinewidth": 0,
              "ticks": ""
             }
            },
            "type": "scatterpolar"
           }
          ],
          "scatterpolargl": [
           {
            "marker": {
             "colorbar": {
              "outlinewidth": 0,
              "ticks": ""
             }
            },
            "type": "scatterpolargl"
           }
          ],
          "scatterternary": [
           {
            "marker": {
             "colorbar": {
              "outlinewidth": 0,
              "ticks": ""
             }
            },
            "type": "scatterternary"
           }
          ],
          "surface": [
           {
            "colorbar": {
             "outlinewidth": 0,
             "ticks": ""
            },
            "colorscale": [
             [
              0,
              "#0d0887"
             ],
             [
              0.1111111111111111,
              "#46039f"
             ],
             [
              0.2222222222222222,
              "#7201a8"
             ],
             [
              0.3333333333333333,
              "#9c179e"
             ],
             [
              0.4444444444444444,
              "#bd3786"
             ],
             [
              0.5555555555555556,
              "#d8576b"
             ],
             [
              0.6666666666666666,
              "#ed7953"
             ],
             [
              0.7777777777777778,
              "#fb9f3a"
             ],
             [
              0.8888888888888888,
              "#fdca26"
             ],
             [
              1,
              "#f0f921"
             ]
            ],
            "type": "surface"
           }
          ],
          "table": [
           {
            "cells": {
             "fill": {
              "color": "#506784"
             },
             "line": {
              "color": "rgb(17,17,17)"
             }
            },
            "header": {
             "fill": {
              "color": "#2a3f5f"
             },
             "line": {
              "color": "rgb(17,17,17)"
             }
            },
            "type": "table"
           }
          ]
         },
         "layout": {
          "annotationdefaults": {
           "arrowcolor": "#f2f5fa",
           "arrowhead": 0,
           "arrowwidth": 1
          },
          "autotypenumbers": "strict",
          "coloraxis": {
           "colorbar": {
            "outlinewidth": 0,
            "ticks": ""
           }
          },
          "colorscale": {
           "diverging": [
            [
             0,
             "#8e0152"
            ],
            [
             0.1,
             "#c51b7d"
            ],
            [
             0.2,
             "#de77ae"
            ],
            [
             0.3,
             "#f1b6da"
            ],
            [
             0.4,
             "#fde0ef"
            ],
            [
             0.5,
             "#f7f7f7"
            ],
            [
             0.6,
             "#e6f5d0"
            ],
            [
             0.7,
             "#b8e186"
            ],
            [
             0.8,
             "#7fbc41"
            ],
            [
             0.9,
             "#4d9221"
            ],
            [
             1,
             "#276419"
            ]
           ],
           "sequential": [
            [
             0,
             "#0d0887"
            ],
            [
             0.1111111111111111,
             "#46039f"
            ],
            [
             0.2222222222222222,
             "#7201a8"
            ],
            [
             0.3333333333333333,
             "#9c179e"
            ],
            [
             0.4444444444444444,
             "#bd3786"
            ],
            [
             0.5555555555555556,
             "#d8576b"
            ],
            [
             0.6666666666666666,
             "#ed7953"
            ],
            [
             0.7777777777777778,
             "#fb9f3a"
            ],
            [
             0.8888888888888888,
             "#fdca26"
            ],
            [
             1,
             "#f0f921"
            ]
           ],
           "sequentialminus": [
            [
             0,
             "#0d0887"
            ],
            [
             0.1111111111111111,
             "#46039f"
            ],
            [
             0.2222222222222222,
             "#7201a8"
            ],
            [
             0.3333333333333333,
             "#9c179e"
            ],
            [
             0.4444444444444444,
             "#bd3786"
            ],
            [
             0.5555555555555556,
             "#d8576b"
            ],
            [
             0.6666666666666666,
             "#ed7953"
            ],
            [
             0.7777777777777778,
             "#fb9f3a"
            ],
            [
             0.8888888888888888,
             "#fdca26"
            ],
            [
             1,
             "#f0f921"
            ]
           ]
          },
          "colorway": [
           "#636efa",
           "#EF553B",
           "#00cc96",
           "#ab63fa",
           "#FFA15A",
           "#19d3f3",
           "#FF6692",
           "#B6E880",
           "#FF97FF",
           "#FECB52"
          ],
          "font": {
           "color": "#f2f5fa"
          },
          "geo": {
           "bgcolor": "rgb(17,17,17)",
           "lakecolor": "rgb(17,17,17)",
           "landcolor": "rgb(17,17,17)",
           "showlakes": true,
           "showland": true,
           "subunitcolor": "#506784"
          },
          "hoverlabel": {
           "align": "left"
          },
          "hovermode": "closest",
          "mapbox": {
           "style": "dark"
          },
          "paper_bgcolor": "rgb(17,17,17)",
          "plot_bgcolor": "rgb(17,17,17)",
          "polar": {
           "angularaxis": {
            "gridcolor": "#506784",
            "linecolor": "#506784",
            "ticks": ""
           },
           "bgcolor": "rgb(17,17,17)",
           "radialaxis": {
            "gridcolor": "#506784",
            "linecolor": "#506784",
            "ticks": ""
           }
          },
          "scene": {
           "xaxis": {
            "backgroundcolor": "rgb(17,17,17)",
            "gridcolor": "#506784",
            "gridwidth": 2,
            "linecolor": "#506784",
            "showbackground": true,
            "ticks": "",
            "zerolinecolor": "#C8D4E3"
           },
           "yaxis": {
            "backgroundcolor": "rgb(17,17,17)",
            "gridcolor": "#506784",
            "gridwidth": 2,
            "linecolor": "#506784",
            "showbackground": true,
            "ticks": "",
            "zerolinecolor": "#C8D4E3"
           },
           "zaxis": {
            "backgroundcolor": "rgb(17,17,17)",
            "gridcolor": "#506784",
            "gridwidth": 2,
            "linecolor": "#506784",
            "showbackground": true,
            "ticks": "",
            "zerolinecolor": "#C8D4E3"
           }
          },
          "shapedefaults": {
           "line": {
            "color": "#f2f5fa"
           }
          },
          "sliderdefaults": {
           "bgcolor": "#C8D4E3",
           "bordercolor": "rgb(17,17,17)",
           "borderwidth": 1,
           "tickwidth": 0
          },
          "ternary": {
           "aaxis": {
            "gridcolor": "#506784",
            "linecolor": "#506784",
            "ticks": ""
           },
           "baxis": {
            "gridcolor": "#506784",
            "linecolor": "#506784",
            "ticks": ""
           },
           "bgcolor": "rgb(17,17,17)",
           "caxis": {
            "gridcolor": "#506784",
            "linecolor": "#506784",
            "ticks": ""
           }
          },
          "title": {
           "x": 0.05
          },
          "updatemenudefaults": {
           "bgcolor": "#506784",
           "borderwidth": 0
          },
          "xaxis": {
           "automargin": true,
           "gridcolor": "#283442",
           "linecolor": "#506784",
           "ticks": "",
           "title": {
            "standoff": 15
           },
           "zerolinecolor": "#283442",
           "zerolinewidth": 2
          },
          "yaxis": {
           "automargin": true,
           "gridcolor": "#283442",
           "linecolor": "#506784",
           "ticks": "",
           "title": {
            "standoff": 15
           },
           "zerolinecolor": "#283442",
           "zerolinewidth": 2
          }
         }
        },
        "title": {
         "text": "Winning Percentages: Top 50 vs Bottom 50 WAR Values"
        },
        "xaxis": {
         "title": {
          "text": "WAR Group"
         }
        },
        "yaxis": {
         "title": {
          "text": "Winning Percentage (%)"
         }
        }
       }
      }
     },
     "metadata": {},
     "output_type": "display_data"
    }
   ],
   "source": [
    "import os\n",
    "import pandas as pd\n",
    "import plotly.graph_objects as go\n",
    "\n",
    "# Define the path to your CSV file\n",
    "csv_file_path = 'WAR_2023.csv'\n",
    "\n",
    "# Check if the file exists\n",
    "if not os.path.exists(csv_file_path):\n",
    "    raise FileNotFoundError(f\"The file '{csv_file_path}' does not exist.\")\n",
    "\n",
    "try:\n",
    "    # Attempt to read the CSV file with different encodings\n",
    "    try:\n",
    "        df = pd.read_csv(csv_file_path, encoding='utf-8')\n",
    "    except UnicodeDecodeError:\n",
    "        try:\n",
    "            df = pd.read_csv(csv_file_path, encoding='latin1')\n",
    "        except UnicodeDecodeError:\n",
    "            df = pd.read_csv(csv_file_path, encoding='iso-8859-1')\n",
    "except Exception as e:\n",
    "    raise ValueError(f\"Error reading the CSV file: {e}\")\n",
    "\n",
    "# Ensure the CSV file has at least 18 columns\n",
    "if df.shape[1] < 18:\n",
    "    raise ValueError(\"The CSV file does not have at least 18 columns.\")\n",
    "\n",
    "try:\n",
    "    # Extract the 16th column (index 15, since indexing starts from 0)\n",
    "    column_16 = df.iloc[:, 15]\n",
    "\n",
    "    # Ensure the column contains numeric values\n",
    "    column_16 = pd.to_numeric(column_16, errors='coerce')\n",
    "    \n",
    "    # Drop NaN values that cannot be converted to numeric\n",
    "    column_16 = column_16.dropna()\n",
    "\n",
    "    # Sort the column in descending order and select the top 50 values\n",
    "    top_50_values = column_16.nlargest(50)\n",
    "\n",
    "    # Sort the column in ascending order and select the bottom 50 values\n",
    "    bottom_50_values = column_16.nsmallest(50)\n",
    "\n",
    "    # Extract the corresponding 18th column (index 17, since indexing starts from 0) values\n",
    "    top_50_column_18 = df.iloc[top_50_values.index, 17]\n",
    "    bottom_50_column_18 = df.iloc[bottom_50_values.index, 17]\n",
    "\n",
    "    # Ensure the columns contain numeric values\n",
    "    top_50_column_18 = pd.to_numeric(top_50_column_18, errors='coerce').dropna()\n",
    "    bottom_50_column_18 = pd.to_numeric(bottom_50_column_18, errors='coerce').dropna()\n",
    "\n",
    "    # Create a DataFrame for Plotly\n",
    "    plot_df = pd.DataFrame({\n",
    "        'WAR Group': ['Top 50'] * len(top_50_column_18) + ['Bottom 50'] * len(bottom_50_column_18),\n",
    "        'Winning Percentage': pd.concat([top_50_column_18, bottom_50_column_18])\n",
    "    })\n",
    "\n",
    "    # Create the enhanced box plot with individual data points\n",
    "    fig = go.Figure()\n",
    "\n",
    "    # Add box plots for Top 50 and Bottom 50\n",
    "    fig.add_trace(go.Box(\n",
    "        y=plot_df[plot_df['WAR Group'] == 'Top 50']['Winning Percentage'],\n",
    "        name='Top 50',\n",
    "        boxmean=True,  # Display mean line\n",
    "        jitter=0.3,  # Spread out points for better visibility\n",
    "        pointpos=-1.5,  # Position points to the left of the box plot\n",
    "        marker=dict(color='lightblue'),\n",
    "        line=dict(color='lightblue')\n",
    "    ))\n",
    "\n",
    "    fig.add_trace(go.Box(\n",
    "        y=plot_df[plot_df['WAR Group'] == 'Bottom 50']['Winning Percentage'],\n",
    "        name='Bottom 50',\n",
    "        boxmean=True,  # Display mean line\n",
    "        jitter=0.3,  # Spread out points for better visibility\n",
    "        pointpos=-1.5,  # Position points to the left of the box plot\n",
    "        marker=dict(color='purple'),\n",
    "        line=dict(color='purple')\n",
    "    ))\n",
    "\n",
    "    # Customize the layout\n",
    "    fig.update_layout(\n",
    "        title='Winning Percentages: Top 50 vs Bottom 50 WAR Values',\n",
    "        yaxis_title='Winning Percentage (%)',\n",
    "        xaxis_title='WAR Group',\n",
    "        template='plotly_dark',\n",
    "        showlegend=True\n",
    "    )\n",
    "\n",
    "    # Show the interactive plot\n",
    "    fig.show()\n",
    "\n",
    "except Exception as e:\n",
    "    raise ValueError(f\"Error processing the columns: {e}\")\n"
   ]
  },
  {
   "cell_type": "markdown",
   "metadata": {},
   "source": [
    "# WPA"
   ]
  },
  {
   "cell_type": "code",
   "execution_count": 94,
   "metadata": {},
   "outputs": [
    {
     "name": "stdout",
     "output_type": "stream",
     "text": [
      "loading from file\n",
      "done\n"
     ]
    }
   ],
   "source": [
    "\n",
    "file_path = \"WPA_2023.csv\"\n",
    "\n",
    "if os.path.isfile(file_path):\n",
    "    print(\"loading from file\")\n",
    "    try:\n",
    "        WPA_2023 = pd.read_csv(file_path, encoding='utf-8')\n",
    "    except UnicodeDecodeError:\n",
    "        WPA_2023 = pd.read_csv(file_path, encoding='ISO-8859-1')\n",
    "else:\n",
    "    print(\"loading from the internet\")\n",
    "    url = \"https://www.baseball-reference.com/leagues/majors/2023-win_probability-batting.shtml\"\n",
    "    response = requests.get(url)\n",
    "    \n",
    "    if response.status_code == 200:\n",
    "        tables = pd.read_html(response.text)\n",
    "        \n",
    "        # Assuming the first table on the page is the one we want\n",
    "        WPA_2023 = tables[0]\n",
    "        \n",
    "        # Save the table as a CSV file for future use\n",
    "        WPA_2023.to_csv(file_path, index=False, encoding='utf-8')\n",
    "    else:\n",
    "        print(\"Failed to retrieve data from the internet.\")\n",
    "        WPA_2023 = pd.DataFrame()  # Return an empty DataFrame in case of failure\n",
    "\n",
    "print(\"done\")\n"
   ]
  },
  {
   "cell_type": "code",
   "execution_count": 95,
   "metadata": {},
   "outputs": [
    {
     "data": {
      "application/vnd.plotly.v1+json": {
       "config": {
        "plotlyServerURL": "https://plot.ly"
       },
       "data": [
        {
         "cells": {
          "align": "left",
          "fill": {
           "color": "lavender"
          },
          "values": [
           [
            "Excellent",
            "Great",
            "Above Average",
            "Average",
            "Below Average",
            "Poor",
            "Awful"
           ],
           [
            6,
            3,
            2,
            1,
            0,
            -1,
            -3
           ]
          ]
         },
         "header": {
          "align": "left",
          "fill": {
           "color": "paleturquoise"
          },
          "values": [
           "<b>Rating</b>",
           "<b>WPA</b>"
          ]
         },
         "type": "table"
        }
       ],
       "layout": {
        "template": {
         "data": {
          "bar": [
           {
            "error_x": {
             "color": "#2a3f5f"
            },
            "error_y": {
             "color": "#2a3f5f"
            },
            "marker": {
             "line": {
              "color": "#E5ECF6",
              "width": 0.5
             },
             "pattern": {
              "fillmode": "overlay",
              "size": 10,
              "solidity": 0.2
             }
            },
            "type": "bar"
           }
          ],
          "barpolar": [
           {
            "marker": {
             "line": {
              "color": "#E5ECF6",
              "width": 0.5
             },
             "pattern": {
              "fillmode": "overlay",
              "size": 10,
              "solidity": 0.2
             }
            },
            "type": "barpolar"
           }
          ],
          "carpet": [
           {
            "aaxis": {
             "endlinecolor": "#2a3f5f",
             "gridcolor": "white",
             "linecolor": "white",
             "minorgridcolor": "white",
             "startlinecolor": "#2a3f5f"
            },
            "baxis": {
             "endlinecolor": "#2a3f5f",
             "gridcolor": "white",
             "linecolor": "white",
             "minorgridcolor": "white",
             "startlinecolor": "#2a3f5f"
            },
            "type": "carpet"
           }
          ],
          "choropleth": [
           {
            "colorbar": {
             "outlinewidth": 0,
             "ticks": ""
            },
            "type": "choropleth"
           }
          ],
          "contour": [
           {
            "colorbar": {
             "outlinewidth": 0,
             "ticks": ""
            },
            "colorscale": [
             [
              0,
              "#0d0887"
             ],
             [
              0.1111111111111111,
              "#46039f"
             ],
             [
              0.2222222222222222,
              "#7201a8"
             ],
             [
              0.3333333333333333,
              "#9c179e"
             ],
             [
              0.4444444444444444,
              "#bd3786"
             ],
             [
              0.5555555555555556,
              "#d8576b"
             ],
             [
              0.6666666666666666,
              "#ed7953"
             ],
             [
              0.7777777777777778,
              "#fb9f3a"
             ],
             [
              0.8888888888888888,
              "#fdca26"
             ],
             [
              1,
              "#f0f921"
             ]
            ],
            "type": "contour"
           }
          ],
          "contourcarpet": [
           {
            "colorbar": {
             "outlinewidth": 0,
             "ticks": ""
            },
            "type": "contourcarpet"
           }
          ],
          "heatmap": [
           {
            "colorbar": {
             "outlinewidth": 0,
             "ticks": ""
            },
            "colorscale": [
             [
              0,
              "#0d0887"
             ],
             [
              0.1111111111111111,
              "#46039f"
             ],
             [
              0.2222222222222222,
              "#7201a8"
             ],
             [
              0.3333333333333333,
              "#9c179e"
             ],
             [
              0.4444444444444444,
              "#bd3786"
             ],
             [
              0.5555555555555556,
              "#d8576b"
             ],
             [
              0.6666666666666666,
              "#ed7953"
             ],
             [
              0.7777777777777778,
              "#fb9f3a"
             ],
             [
              0.8888888888888888,
              "#fdca26"
             ],
             [
              1,
              "#f0f921"
             ]
            ],
            "type": "heatmap"
           }
          ],
          "heatmapgl": [
           {
            "colorbar": {
             "outlinewidth": 0,
             "ticks": ""
            },
            "colorscale": [
             [
              0,
              "#0d0887"
             ],
             [
              0.1111111111111111,
              "#46039f"
             ],
             [
              0.2222222222222222,
              "#7201a8"
             ],
             [
              0.3333333333333333,
              "#9c179e"
             ],
             [
              0.4444444444444444,
              "#bd3786"
             ],
             [
              0.5555555555555556,
              "#d8576b"
             ],
             [
              0.6666666666666666,
              "#ed7953"
             ],
             [
              0.7777777777777778,
              "#fb9f3a"
             ],
             [
              0.8888888888888888,
              "#fdca26"
             ],
             [
              1,
              "#f0f921"
             ]
            ],
            "type": "heatmapgl"
           }
          ],
          "histogram": [
           {
            "marker": {
             "pattern": {
              "fillmode": "overlay",
              "size": 10,
              "solidity": 0.2
             }
            },
            "type": "histogram"
           }
          ],
          "histogram2d": [
           {
            "colorbar": {
             "outlinewidth": 0,
             "ticks": ""
            },
            "colorscale": [
             [
              0,
              "#0d0887"
             ],
             [
              0.1111111111111111,
              "#46039f"
             ],
             [
              0.2222222222222222,
              "#7201a8"
             ],
             [
              0.3333333333333333,
              "#9c179e"
             ],
             [
              0.4444444444444444,
              "#bd3786"
             ],
             [
              0.5555555555555556,
              "#d8576b"
             ],
             [
              0.6666666666666666,
              "#ed7953"
             ],
             [
              0.7777777777777778,
              "#fb9f3a"
             ],
             [
              0.8888888888888888,
              "#fdca26"
             ],
             [
              1,
              "#f0f921"
             ]
            ],
            "type": "histogram2d"
           }
          ],
          "histogram2dcontour": [
           {
            "colorbar": {
             "outlinewidth": 0,
             "ticks": ""
            },
            "colorscale": [
             [
              0,
              "#0d0887"
             ],
             [
              0.1111111111111111,
              "#46039f"
             ],
             [
              0.2222222222222222,
              "#7201a8"
             ],
             [
              0.3333333333333333,
              "#9c179e"
             ],
             [
              0.4444444444444444,
              "#bd3786"
             ],
             [
              0.5555555555555556,
              "#d8576b"
             ],
             [
              0.6666666666666666,
              "#ed7953"
             ],
             [
              0.7777777777777778,
              "#fb9f3a"
             ],
             [
              0.8888888888888888,
              "#fdca26"
             ],
             [
              1,
              "#f0f921"
             ]
            ],
            "type": "histogram2dcontour"
           }
          ],
          "mesh3d": [
           {
            "colorbar": {
             "outlinewidth": 0,
             "ticks": ""
            },
            "type": "mesh3d"
           }
          ],
          "parcoords": [
           {
            "line": {
             "colorbar": {
              "outlinewidth": 0,
              "ticks": ""
             }
            },
            "type": "parcoords"
           }
          ],
          "pie": [
           {
            "automargin": true,
            "type": "pie"
           }
          ],
          "scatter": [
           {
            "fillpattern": {
             "fillmode": "overlay",
             "size": 10,
             "solidity": 0.2
            },
            "type": "scatter"
           }
          ],
          "scatter3d": [
           {
            "line": {
             "colorbar": {
              "outlinewidth": 0,
              "ticks": ""
             }
            },
            "marker": {
             "colorbar": {
              "outlinewidth": 0,
              "ticks": ""
             }
            },
            "type": "scatter3d"
           }
          ],
          "scattercarpet": [
           {
            "marker": {
             "colorbar": {
              "outlinewidth": 0,
              "ticks": ""
             }
            },
            "type": "scattercarpet"
           }
          ],
          "scattergeo": [
           {
            "marker": {
             "colorbar": {
              "outlinewidth": 0,
              "ticks": ""
             }
            },
            "type": "scattergeo"
           }
          ],
          "scattergl": [
           {
            "marker": {
             "colorbar": {
              "outlinewidth": 0,
              "ticks": ""
             }
            },
            "type": "scattergl"
           }
          ],
          "scattermapbox": [
           {
            "marker": {
             "colorbar": {
              "outlinewidth": 0,
              "ticks": ""
             }
            },
            "type": "scattermapbox"
           }
          ],
          "scatterpolar": [
           {
            "marker": {
             "colorbar": {
              "outlinewidth": 0,
              "ticks": ""
             }
            },
            "type": "scatterpolar"
           }
          ],
          "scatterpolargl": [
           {
            "marker": {
             "colorbar": {
              "outlinewidth": 0,
              "ticks": ""
             }
            },
            "type": "scatterpolargl"
           }
          ],
          "scatterternary": [
           {
            "marker": {
             "colorbar": {
              "outlinewidth": 0,
              "ticks": ""
             }
            },
            "type": "scatterternary"
           }
          ],
          "surface": [
           {
            "colorbar": {
             "outlinewidth": 0,
             "ticks": ""
            },
            "colorscale": [
             [
              0,
              "#0d0887"
             ],
             [
              0.1111111111111111,
              "#46039f"
             ],
             [
              0.2222222222222222,
              "#7201a8"
             ],
             [
              0.3333333333333333,
              "#9c179e"
             ],
             [
              0.4444444444444444,
              "#bd3786"
             ],
             [
              0.5555555555555556,
              "#d8576b"
             ],
             [
              0.6666666666666666,
              "#ed7953"
             ],
             [
              0.7777777777777778,
              "#fb9f3a"
             ],
             [
              0.8888888888888888,
              "#fdca26"
             ],
             [
              1,
              "#f0f921"
             ]
            ],
            "type": "surface"
           }
          ],
          "table": [
           {
            "cells": {
             "fill": {
              "color": "#EBF0F8"
             },
             "line": {
              "color": "white"
             }
            },
            "header": {
             "fill": {
              "color": "#C8D4E3"
             },
             "line": {
              "color": "white"
             }
            },
            "type": "table"
           }
          ]
         },
         "layout": {
          "annotationdefaults": {
           "arrowcolor": "#2a3f5f",
           "arrowhead": 0,
           "arrowwidth": 1
          },
          "autotypenumbers": "strict",
          "coloraxis": {
           "colorbar": {
            "outlinewidth": 0,
            "ticks": ""
           }
          },
          "colorscale": {
           "diverging": [
            [
             0,
             "#8e0152"
            ],
            [
             0.1,
             "#c51b7d"
            ],
            [
             0.2,
             "#de77ae"
            ],
            [
             0.3,
             "#f1b6da"
            ],
            [
             0.4,
             "#fde0ef"
            ],
            [
             0.5,
             "#f7f7f7"
            ],
            [
             0.6,
             "#e6f5d0"
            ],
            [
             0.7,
             "#b8e186"
            ],
            [
             0.8,
             "#7fbc41"
            ],
            [
             0.9,
             "#4d9221"
            ],
            [
             1,
             "#276419"
            ]
           ],
           "sequential": [
            [
             0,
             "#0d0887"
            ],
            [
             0.1111111111111111,
             "#46039f"
            ],
            [
             0.2222222222222222,
             "#7201a8"
            ],
            [
             0.3333333333333333,
             "#9c179e"
            ],
            [
             0.4444444444444444,
             "#bd3786"
            ],
            [
             0.5555555555555556,
             "#d8576b"
            ],
            [
             0.6666666666666666,
             "#ed7953"
            ],
            [
             0.7777777777777778,
             "#fb9f3a"
            ],
            [
             0.8888888888888888,
             "#fdca26"
            ],
            [
             1,
             "#f0f921"
            ]
           ],
           "sequentialminus": [
            [
             0,
             "#0d0887"
            ],
            [
             0.1111111111111111,
             "#46039f"
            ],
            [
             0.2222222222222222,
             "#7201a8"
            ],
            [
             0.3333333333333333,
             "#9c179e"
            ],
            [
             0.4444444444444444,
             "#bd3786"
            ],
            [
             0.5555555555555556,
             "#d8576b"
            ],
            [
             0.6666666666666666,
             "#ed7953"
            ],
            [
             0.7777777777777778,
             "#fb9f3a"
            ],
            [
             0.8888888888888888,
             "#fdca26"
            ],
            [
             1,
             "#f0f921"
            ]
           ]
          },
          "colorway": [
           "#636efa",
           "#EF553B",
           "#00cc96",
           "#ab63fa",
           "#FFA15A",
           "#19d3f3",
           "#FF6692",
           "#B6E880",
           "#FF97FF",
           "#FECB52"
          ],
          "font": {
           "color": "#2a3f5f"
          },
          "geo": {
           "bgcolor": "white",
           "lakecolor": "white",
           "landcolor": "#E5ECF6",
           "showlakes": true,
           "showland": true,
           "subunitcolor": "white"
          },
          "hoverlabel": {
           "align": "left"
          },
          "hovermode": "closest",
          "mapbox": {
           "style": "light"
          },
          "paper_bgcolor": "white",
          "plot_bgcolor": "#E5ECF6",
          "polar": {
           "angularaxis": {
            "gridcolor": "white",
            "linecolor": "white",
            "ticks": ""
           },
           "bgcolor": "#E5ECF6",
           "radialaxis": {
            "gridcolor": "white",
            "linecolor": "white",
            "ticks": ""
           }
          },
          "scene": {
           "xaxis": {
            "backgroundcolor": "#E5ECF6",
            "gridcolor": "white",
            "gridwidth": 2,
            "linecolor": "white",
            "showbackground": true,
            "ticks": "",
            "zerolinecolor": "white"
           },
           "yaxis": {
            "backgroundcolor": "#E5ECF6",
            "gridcolor": "white",
            "gridwidth": 2,
            "linecolor": "white",
            "showbackground": true,
            "ticks": "",
            "zerolinecolor": "white"
           },
           "zaxis": {
            "backgroundcolor": "#E5ECF6",
            "gridcolor": "white",
            "gridwidth": 2,
            "linecolor": "white",
            "showbackground": true,
            "ticks": "",
            "zerolinecolor": "white"
           }
          },
          "shapedefaults": {
           "line": {
            "color": "#2a3f5f"
           }
          },
          "ternary": {
           "aaxis": {
            "gridcolor": "white",
            "linecolor": "white",
            "ticks": ""
           },
           "baxis": {
            "gridcolor": "white",
            "linecolor": "white",
            "ticks": ""
           },
           "bgcolor": "#E5ECF6",
           "caxis": {
            "gridcolor": "white",
            "linecolor": "white",
            "ticks": ""
           }
          },
          "title": {
           "x": 0.05
          },
          "xaxis": {
           "automargin": true,
           "gridcolor": "white",
           "linecolor": "white",
           "ticks": "",
           "title": {
            "standoff": 15
           },
           "zerolinecolor": "white",
           "zerolinewidth": 2
          },
          "yaxis": {
           "automargin": true,
           "gridcolor": "white",
           "linecolor": "white",
           "ticks": "",
           "title": {
            "standoff": 15
           },
           "zerolinecolor": "white",
           "zerolinewidth": 2
          }
         }
        },
        "title": {
         "text": "Rating vs WPA"
        }
       }
      }
     },
     "metadata": {},
     "output_type": "display_data"
    }
   ],
   "source": [
    "import pandas as pd\n",
    "import plotly.graph_objects as go\n",
    "\n",
    "# Define the data\n",
    "ratings = ['Excellent', 'Great', 'Above Average', 'Average', 'Below Average', 'Poor', 'Awful']\n",
    "wpa = [+6.0, +3.0, +2.0, +1.0, 0.0, -1.0, -3.0]\n",
    "\n",
    "# Create a DataFrame\n",
    "data = {'Rating': ratings, 'WPA': wpa}\n",
    "df = pd.DataFrame(data)\n",
    "\n",
    "# Create a table using Plotly\n",
    "fig = go.Figure(data=[go.Table(\n",
    "    header=dict(values=['<b>Rating</b>', '<b>WPA</b>'],\n",
    "                fill_color='paleturquoise',\n",
    "                align='left'),\n",
    "    cells=dict(values=[df['Rating'], df['WPA']],\n",
    "               fill_color='lavender',\n",
    "               align='left'))\n",
    "])\n",
    "\n",
    "# Update the layout\n",
    "fig.update_layout(title='Rating vs WPA')\n",
    "\n",
    "# Show the table\n",
    "fig.show()\n"
   ]
  },
  {
   "cell_type": "code",
   "execution_count": 96,
   "metadata": {},
   "outputs": [
    {
     "data": {
      "application/vnd.plotly.v1+json": {
       "config": {
        "plotlyServerURL": "https://plot.ly"
       },
       "data": [
        {
         "domain": {
          "x": [
           0,
           1
          ],
          "y": [
           0,
           1
          ]
         },
         "hoverinfo": "label+percent+value",
         "hovertemplate": "Rating=%{label}<br>Count=%{value}<extra></extra>",
         "labels": [
          "Excellent",
          "Great",
          "Above Average",
          "Average",
          "Below Average",
          "Poor",
          "Awful"
         ],
         "legendgroup": "",
         "marker": {
          "line": {
           "color": "#000000",
           "width": 2
          }
         },
         "name": "",
         "showlegend": true,
         "textinfo": "percent+label",
         "type": "pie",
         "values": [
          1,
          13,
          8,
          12,
          6,
          5,
          5
         ]
        }
       ],
       "layout": {
        "legend": {
         "tracegroupgap": 0
        },
        "template": {
         "data": {
          "bar": [
           {
            "error_x": {
             "color": "#2a3f5f"
            },
            "error_y": {
             "color": "#2a3f5f"
            },
            "marker": {
             "line": {
              "color": "#E5ECF6",
              "width": 0.5
             },
             "pattern": {
              "fillmode": "overlay",
              "size": 10,
              "solidity": 0.2
             }
            },
            "type": "bar"
           }
          ],
          "barpolar": [
           {
            "marker": {
             "line": {
              "color": "#E5ECF6",
              "width": 0.5
             },
             "pattern": {
              "fillmode": "overlay",
              "size": 10,
              "solidity": 0.2
             }
            },
            "type": "barpolar"
           }
          ],
          "carpet": [
           {
            "aaxis": {
             "endlinecolor": "#2a3f5f",
             "gridcolor": "white",
             "linecolor": "white",
             "minorgridcolor": "white",
             "startlinecolor": "#2a3f5f"
            },
            "baxis": {
             "endlinecolor": "#2a3f5f",
             "gridcolor": "white",
             "linecolor": "white",
             "minorgridcolor": "white",
             "startlinecolor": "#2a3f5f"
            },
            "type": "carpet"
           }
          ],
          "choropleth": [
           {
            "colorbar": {
             "outlinewidth": 0,
             "ticks": ""
            },
            "type": "choropleth"
           }
          ],
          "contour": [
           {
            "colorbar": {
             "outlinewidth": 0,
             "ticks": ""
            },
            "colorscale": [
             [
              0,
              "#0d0887"
             ],
             [
              0.1111111111111111,
              "#46039f"
             ],
             [
              0.2222222222222222,
              "#7201a8"
             ],
             [
              0.3333333333333333,
              "#9c179e"
             ],
             [
              0.4444444444444444,
              "#bd3786"
             ],
             [
              0.5555555555555556,
              "#d8576b"
             ],
             [
              0.6666666666666666,
              "#ed7953"
             ],
             [
              0.7777777777777778,
              "#fb9f3a"
             ],
             [
              0.8888888888888888,
              "#fdca26"
             ],
             [
              1,
              "#f0f921"
             ]
            ],
            "type": "contour"
           }
          ],
          "contourcarpet": [
           {
            "colorbar": {
             "outlinewidth": 0,
             "ticks": ""
            },
            "type": "contourcarpet"
           }
          ],
          "heatmap": [
           {
            "colorbar": {
             "outlinewidth": 0,
             "ticks": ""
            },
            "colorscale": [
             [
              0,
              "#0d0887"
             ],
             [
              0.1111111111111111,
              "#46039f"
             ],
             [
              0.2222222222222222,
              "#7201a8"
             ],
             [
              0.3333333333333333,
              "#9c179e"
             ],
             [
              0.4444444444444444,
              "#bd3786"
             ],
             [
              0.5555555555555556,
              "#d8576b"
             ],
             [
              0.6666666666666666,
              "#ed7953"
             ],
             [
              0.7777777777777778,
              "#fb9f3a"
             ],
             [
              0.8888888888888888,
              "#fdca26"
             ],
             [
              1,
              "#f0f921"
             ]
            ],
            "type": "heatmap"
           }
          ],
          "heatmapgl": [
           {
            "colorbar": {
             "outlinewidth": 0,
             "ticks": ""
            },
            "colorscale": [
             [
              0,
              "#0d0887"
             ],
             [
              0.1111111111111111,
              "#46039f"
             ],
             [
              0.2222222222222222,
              "#7201a8"
             ],
             [
              0.3333333333333333,
              "#9c179e"
             ],
             [
              0.4444444444444444,
              "#bd3786"
             ],
             [
              0.5555555555555556,
              "#d8576b"
             ],
             [
              0.6666666666666666,
              "#ed7953"
             ],
             [
              0.7777777777777778,
              "#fb9f3a"
             ],
             [
              0.8888888888888888,
              "#fdca26"
             ],
             [
              1,
              "#f0f921"
             ]
            ],
            "type": "heatmapgl"
           }
          ],
          "histogram": [
           {
            "marker": {
             "pattern": {
              "fillmode": "overlay",
              "size": 10,
              "solidity": 0.2
             }
            },
            "type": "histogram"
           }
          ],
          "histogram2d": [
           {
            "colorbar": {
             "outlinewidth": 0,
             "ticks": ""
            },
            "colorscale": [
             [
              0,
              "#0d0887"
             ],
             [
              0.1111111111111111,
              "#46039f"
             ],
             [
              0.2222222222222222,
              "#7201a8"
             ],
             [
              0.3333333333333333,
              "#9c179e"
             ],
             [
              0.4444444444444444,
              "#bd3786"
             ],
             [
              0.5555555555555556,
              "#d8576b"
             ],
             [
              0.6666666666666666,
              "#ed7953"
             ],
             [
              0.7777777777777778,
              "#fb9f3a"
             ],
             [
              0.8888888888888888,
              "#fdca26"
             ],
             [
              1,
              "#f0f921"
             ]
            ],
            "type": "histogram2d"
           }
          ],
          "histogram2dcontour": [
           {
            "colorbar": {
             "outlinewidth": 0,
             "ticks": ""
            },
            "colorscale": [
             [
              0,
              "#0d0887"
             ],
             [
              0.1111111111111111,
              "#46039f"
             ],
             [
              0.2222222222222222,
              "#7201a8"
             ],
             [
              0.3333333333333333,
              "#9c179e"
             ],
             [
              0.4444444444444444,
              "#bd3786"
             ],
             [
              0.5555555555555556,
              "#d8576b"
             ],
             [
              0.6666666666666666,
              "#ed7953"
             ],
             [
              0.7777777777777778,
              "#fb9f3a"
             ],
             [
              0.8888888888888888,
              "#fdca26"
             ],
             [
              1,
              "#f0f921"
             ]
            ],
            "type": "histogram2dcontour"
           }
          ],
          "mesh3d": [
           {
            "colorbar": {
             "outlinewidth": 0,
             "ticks": ""
            },
            "type": "mesh3d"
           }
          ],
          "parcoords": [
           {
            "line": {
             "colorbar": {
              "outlinewidth": 0,
              "ticks": ""
             }
            },
            "type": "parcoords"
           }
          ],
          "pie": [
           {
            "automargin": true,
            "type": "pie"
           }
          ],
          "scatter": [
           {
            "fillpattern": {
             "fillmode": "overlay",
             "size": 10,
             "solidity": 0.2
            },
            "type": "scatter"
           }
          ],
          "scatter3d": [
           {
            "line": {
             "colorbar": {
              "outlinewidth": 0,
              "ticks": ""
             }
            },
            "marker": {
             "colorbar": {
              "outlinewidth": 0,
              "ticks": ""
             }
            },
            "type": "scatter3d"
           }
          ],
          "scattercarpet": [
           {
            "marker": {
             "colorbar": {
              "outlinewidth": 0,
              "ticks": ""
             }
            },
            "type": "scattercarpet"
           }
          ],
          "scattergeo": [
           {
            "marker": {
             "colorbar": {
              "outlinewidth": 0,
              "ticks": ""
             }
            },
            "type": "scattergeo"
           }
          ],
          "scattergl": [
           {
            "marker": {
             "colorbar": {
              "outlinewidth": 0,
              "ticks": ""
             }
            },
            "type": "scattergl"
           }
          ],
          "scattermapbox": [
           {
            "marker": {
             "colorbar": {
              "outlinewidth": 0,
              "ticks": ""
             }
            },
            "type": "scattermapbox"
           }
          ],
          "scatterpolar": [
           {
            "marker": {
             "colorbar": {
              "outlinewidth": 0,
              "ticks": ""
             }
            },
            "type": "scatterpolar"
           }
          ],
          "scatterpolargl": [
           {
            "marker": {
             "colorbar": {
              "outlinewidth": 0,
              "ticks": ""
             }
            },
            "type": "scatterpolargl"
           }
          ],
          "scatterternary": [
           {
            "marker": {
             "colorbar": {
              "outlinewidth": 0,
              "ticks": ""
             }
            },
            "type": "scatterternary"
           }
          ],
          "surface": [
           {
            "colorbar": {
             "outlinewidth": 0,
             "ticks": ""
            },
            "colorscale": [
             [
              0,
              "#0d0887"
             ],
             [
              0.1111111111111111,
              "#46039f"
             ],
             [
              0.2222222222222222,
              "#7201a8"
             ],
             [
              0.3333333333333333,
              "#9c179e"
             ],
             [
              0.4444444444444444,
              "#bd3786"
             ],
             [
              0.5555555555555556,
              "#d8576b"
             ],
             [
              0.6666666666666666,
              "#ed7953"
             ],
             [
              0.7777777777777778,
              "#fb9f3a"
             ],
             [
              0.8888888888888888,
              "#fdca26"
             ],
             [
              1,
              "#f0f921"
             ]
            ],
            "type": "surface"
           }
          ],
          "table": [
           {
            "cells": {
             "fill": {
              "color": "#EBF0F8"
             },
             "line": {
              "color": "white"
             }
            },
            "header": {
             "fill": {
              "color": "#C8D4E3"
             },
             "line": {
              "color": "white"
             }
            },
            "type": "table"
           }
          ]
         },
         "layout": {
          "annotationdefaults": {
           "arrowcolor": "#2a3f5f",
           "arrowhead": 0,
           "arrowwidth": 1
          },
          "autotypenumbers": "strict",
          "coloraxis": {
           "colorbar": {
            "outlinewidth": 0,
            "ticks": ""
           }
          },
          "colorscale": {
           "diverging": [
            [
             0,
             "#8e0152"
            ],
            [
             0.1,
             "#c51b7d"
            ],
            [
             0.2,
             "#de77ae"
            ],
            [
             0.3,
             "#f1b6da"
            ],
            [
             0.4,
             "#fde0ef"
            ],
            [
             0.5,
             "#f7f7f7"
            ],
            [
             0.6,
             "#e6f5d0"
            ],
            [
             0.7,
             "#b8e186"
            ],
            [
             0.8,
             "#7fbc41"
            ],
            [
             0.9,
             "#4d9221"
            ],
            [
             1,
             "#276419"
            ]
           ],
           "sequential": [
            [
             0,
             "#0d0887"
            ],
            [
             0.1111111111111111,
             "#46039f"
            ],
            [
             0.2222222222222222,
             "#7201a8"
            ],
            [
             0.3333333333333333,
             "#9c179e"
            ],
            [
             0.4444444444444444,
             "#bd3786"
            ],
            [
             0.5555555555555556,
             "#d8576b"
            ],
            [
             0.6666666666666666,
             "#ed7953"
            ],
            [
             0.7777777777777778,
             "#fb9f3a"
            ],
            [
             0.8888888888888888,
             "#fdca26"
            ],
            [
             1,
             "#f0f921"
            ]
           ],
           "sequentialminus": [
            [
             0,
             "#0d0887"
            ],
            [
             0.1111111111111111,
             "#46039f"
            ],
            [
             0.2222222222222222,
             "#7201a8"
            ],
            [
             0.3333333333333333,
             "#9c179e"
            ],
            [
             0.4444444444444444,
             "#bd3786"
            ],
            [
             0.5555555555555556,
             "#d8576b"
            ],
            [
             0.6666666666666666,
             "#ed7953"
            ],
            [
             0.7777777777777778,
             "#fb9f3a"
            ],
            [
             0.8888888888888888,
             "#fdca26"
            ],
            [
             1,
             "#f0f921"
            ]
           ]
          },
          "colorway": [
           "#636efa",
           "#EF553B",
           "#00cc96",
           "#ab63fa",
           "#FFA15A",
           "#19d3f3",
           "#FF6692",
           "#B6E880",
           "#FF97FF",
           "#FECB52"
          ],
          "font": {
           "color": "#2a3f5f"
          },
          "geo": {
           "bgcolor": "white",
           "lakecolor": "white",
           "landcolor": "#E5ECF6",
           "showlakes": true,
           "showland": true,
           "subunitcolor": "white"
          },
          "hoverlabel": {
           "align": "left"
          },
          "hovermode": "closest",
          "mapbox": {
           "style": "light"
          },
          "paper_bgcolor": "white",
          "plot_bgcolor": "#E5ECF6",
          "polar": {
           "angularaxis": {
            "gridcolor": "white",
            "linecolor": "white",
            "ticks": ""
           },
           "bgcolor": "#E5ECF6",
           "radialaxis": {
            "gridcolor": "white",
            "linecolor": "white",
            "ticks": ""
           }
          },
          "scene": {
           "xaxis": {
            "backgroundcolor": "#E5ECF6",
            "gridcolor": "white",
            "gridwidth": 2,
            "linecolor": "white",
            "showbackground": true,
            "ticks": "",
            "zerolinecolor": "white"
           },
           "yaxis": {
            "backgroundcolor": "#E5ECF6",
            "gridcolor": "white",
            "gridwidth": 2,
            "linecolor": "white",
            "showbackground": true,
            "ticks": "",
            "zerolinecolor": "white"
           },
           "zaxis": {
            "backgroundcolor": "#E5ECF6",
            "gridcolor": "white",
            "gridwidth": 2,
            "linecolor": "white",
            "showbackground": true,
            "ticks": "",
            "zerolinecolor": "white"
           }
          },
          "shapedefaults": {
           "line": {
            "color": "#2a3f5f"
           }
          },
          "ternary": {
           "aaxis": {
            "gridcolor": "white",
            "linecolor": "white",
            "ticks": ""
           },
           "baxis": {
            "gridcolor": "white",
            "linecolor": "white",
            "ticks": ""
           },
           "bgcolor": "#E5ECF6",
           "caxis": {
            "gridcolor": "white",
            "linecolor": "white",
            "ticks": ""
           }
          },
          "title": {
           "x": 0.05
          },
          "xaxis": {
           "automargin": true,
           "gridcolor": "white",
           "linecolor": "white",
           "ticks": "",
           "title": {
            "standoff": 15
           },
           "zerolinecolor": "white",
           "zerolinewidth": 2
          },
          "yaxis": {
           "automargin": true,
           "gridcolor": "white",
           "linecolor": "white",
           "ticks": "",
           "title": {
            "standoff": 15
           },
           "zerolinecolor": "white",
           "zerolinewidth": 2
          }
         }
        },
        "title": {
         "text": "Distribution of WPA Ratings for Top 50 WAR Players"
        }
       }
      }
     },
     "metadata": {},
     "output_type": "display_data"
    }
   ],
   "source": [
    "import pandas as pd\n",
    "import plotly.express as px\n",
    "import os\n",
    "\n",
    "def get_top_50_unique_names(data):\n",
    "    column_2 = data.iloc[:, 1].rename(\"Player\")  # Column 2 (index 1)\n",
    "    column_16 = data.iloc[:, 15].rename(\"WAR\")  # Column 16 (index 15)\n",
    "    combined_data = pd.DataFrame({'Player': column_2, 'WAR': column_16})\n",
    "    sorted_data = combined_data.sort_values(by='WAR', ascending=False)\n",
    "    unique_sorted_data = sorted_data.drop_duplicates(subset='Player').reset_index(drop=True)\n",
    "    top_50 = unique_sorted_data.head(50)\n",
    "    return top_50\n",
    "\n",
    "def find_wpa_for_top_50_war(top_50_df, filepath):\n",
    "    data = pd.read_csv(filepath, encoding='latin1')\n",
    "    column_9 = data.iloc[:, 8].rename(\"WPA\")  # Column 9 (index 8)\n",
    "    matching_data = pd.DataFrame({'Player': data.iloc[:, 1], 'WPA': column_9}).drop_duplicates(subset='Player')\n",
    "    matching_rows = top_50_df.merge(matching_data, on='Player', how='left')\n",
    "    return matching_rows\n",
    "\n",
    "# Define the path to your CSV file\n",
    "csv_file_path = 'WAR_2023.csv'\n",
    "\n",
    "# Check if the file exists\n",
    "if not os.path.exists(csv_file_path):\n",
    "    raise FileNotFoundError(f\"The file '{csv_file_path}' does not exist.\")\n",
    "\n",
    "try:\n",
    "    # Attempt to read the CSV file with different encodings\n",
    "    try:\n",
    "        data = pd.read_csv(csv_file_path, encoding='utf-8')\n",
    "    except UnicodeDecodeError:\n",
    "        try:\n",
    "            data = pd.read_csv(csv_file_path, encoding='latin1')\n",
    "        except UnicodeDecodeError:\n",
    "            data = pd.read_csv(csv_file_path, encoding='iso-8859-1')\n",
    "except Exception as e:\n",
    "    raise ValueError(f\"Error reading the CSV file: {e}\")\n",
    "\n",
    "# Ensure the CSV file has at least 18 columns\n",
    "if data.shape[1] < 18:\n",
    "    raise ValueError(\"The CSV file does not have at least 18 columns.\")\n",
    "\n",
    "# Get the top 50 unique WAR players\n",
    "top_50 = get_top_50_unique_names(data)\n",
    "\n",
    "if top_50 is not None:\n",
    "    # Find the WPA for the top 50 WAR players in the second CSV\n",
    "    second_csv_filepath = \"WPA_2023.csv\"\n",
    "    matching_rows = find_wpa_for_top_50_war(top_50, second_csv_filepath)\n",
    "    \n",
    "    if matching_rows is not None and not matching_rows.empty:\n",
    "        # Extract the WPA values\n",
    "        wpa_values = matching_rows['WPA'].dropna()\n",
    "\n",
    "        # Categorize the WPA values based on the provided ratings\n",
    "        def categorize_wpa(wpa):\n",
    "            if wpa >= 6.0:\n",
    "                return 'Excellent'\n",
    "            elif wpa >= 3.0:\n",
    "                return 'Great'\n",
    "            elif wpa >= 2.0:\n",
    "                return 'Above Average'\n",
    "            elif wpa >= 1.0:\n",
    "                return 'Average'\n",
    "            elif wpa >= 0.0:\n",
    "                return 'Below Average'\n",
    "            elif wpa >= -1.0:\n",
    "                return 'Poor'\n",
    "            else:\n",
    "                return 'Awful'\n",
    "\n",
    "        wpa_categories = wpa_values.apply(categorize_wpa)\n",
    "        wpa_category_counts = wpa_categories.value_counts()\n",
    "\n",
    "        # Ensure the categories are in the correct order\n",
    "        categories_order = ['Excellent', 'Great', 'Above Average', 'Average', 'Below Average', 'Poor', 'Awful']\n",
    "        wpa_category_counts = wpa_category_counts.reindex(categories_order, fill_value=0)\n",
    "\n",
    "        # Create a DataFrame for the pie chart\n",
    "        pie_data = pd.DataFrame({'Rating': wpa_category_counts.index, 'Count': wpa_category_counts.values})\n",
    "\n",
    "        # Create an interactive pie chart using Plotly\n",
    "        fig_pie = px.pie(pie_data, names='Rating', values='Count', title='Distribution of WPA Ratings for Top 50 WAR Players')\n",
    "\n",
    "        # Update the layout for interactivity\n",
    "        fig_pie.update_traces(textinfo='percent+label', hoverinfo='label+percent+value', \n",
    "                              marker=dict(line=dict(color='#000000', width=2)))\n",
    "\n",
    "        # Show the pie chart\n",
    "        fig_pie.show()\n",
    "    else:\n",
    "        print(\"No matching rows found or an error occurred.\")\n",
    "else:\n",
    "    print(\"Could not extract top 50 names.\")\n"
   ]
  },
  {
   "cell_type": "code",
   "execution_count": 97,
   "metadata": {},
   "outputs": [
    {
     "data": {
      "application/vnd.plotly.v1+json": {
       "config": {
        "plotlyServerURL": "https://plot.ly"
       },
       "data": [
        {
         "domain": {
          "x": [
           0,
           1
          ],
          "y": [
           0,
           1
          ]
         },
         "hoverinfo": "label+percent+value",
         "hovertemplate": "Rating=%{label}<br>Count=%{value}<extra></extra>",
         "labels": [
          "Excellent",
          "Great",
          "Above Average",
          "Average",
          "Below Average",
          "Poor",
          "Awful"
         ],
         "legendgroup": "",
         "marker": {
          "line": {
           "color": "#000000",
           "width": 2
          }
         },
         "name": "",
         "showlegend": true,
         "textinfo": "percent+label",
         "type": "pie",
         "values": [
          0,
          0,
          0,
          1,
          1,
          20,
          28
         ]
        }
       ],
       "layout": {
        "legend": {
         "tracegroupgap": 0
        },
        "template": {
         "data": {
          "bar": [
           {
            "error_x": {
             "color": "#2a3f5f"
            },
            "error_y": {
             "color": "#2a3f5f"
            },
            "marker": {
             "line": {
              "color": "#E5ECF6",
              "width": 0.5
             },
             "pattern": {
              "fillmode": "overlay",
              "size": 10,
              "solidity": 0.2
             }
            },
            "type": "bar"
           }
          ],
          "barpolar": [
           {
            "marker": {
             "line": {
              "color": "#E5ECF6",
              "width": 0.5
             },
             "pattern": {
              "fillmode": "overlay",
              "size": 10,
              "solidity": 0.2
             }
            },
            "type": "barpolar"
           }
          ],
          "carpet": [
           {
            "aaxis": {
             "endlinecolor": "#2a3f5f",
             "gridcolor": "white",
             "linecolor": "white",
             "minorgridcolor": "white",
             "startlinecolor": "#2a3f5f"
            },
            "baxis": {
             "endlinecolor": "#2a3f5f",
             "gridcolor": "white",
             "linecolor": "white",
             "minorgridcolor": "white",
             "startlinecolor": "#2a3f5f"
            },
            "type": "carpet"
           }
          ],
          "choropleth": [
           {
            "colorbar": {
             "outlinewidth": 0,
             "ticks": ""
            },
            "type": "choropleth"
           }
          ],
          "contour": [
           {
            "colorbar": {
             "outlinewidth": 0,
             "ticks": ""
            },
            "colorscale": [
             [
              0,
              "#0d0887"
             ],
             [
              0.1111111111111111,
              "#46039f"
             ],
             [
              0.2222222222222222,
              "#7201a8"
             ],
             [
              0.3333333333333333,
              "#9c179e"
             ],
             [
              0.4444444444444444,
              "#bd3786"
             ],
             [
              0.5555555555555556,
              "#d8576b"
             ],
             [
              0.6666666666666666,
              "#ed7953"
             ],
             [
              0.7777777777777778,
              "#fb9f3a"
             ],
             [
              0.8888888888888888,
              "#fdca26"
             ],
             [
              1,
              "#f0f921"
             ]
            ],
            "type": "contour"
           }
          ],
          "contourcarpet": [
           {
            "colorbar": {
             "outlinewidth": 0,
             "ticks": ""
            },
            "type": "contourcarpet"
           }
          ],
          "heatmap": [
           {
            "colorbar": {
             "outlinewidth": 0,
             "ticks": ""
            },
            "colorscale": [
             [
              0,
              "#0d0887"
             ],
             [
              0.1111111111111111,
              "#46039f"
             ],
             [
              0.2222222222222222,
              "#7201a8"
             ],
             [
              0.3333333333333333,
              "#9c179e"
             ],
             [
              0.4444444444444444,
              "#bd3786"
             ],
             [
              0.5555555555555556,
              "#d8576b"
             ],
             [
              0.6666666666666666,
              "#ed7953"
             ],
             [
              0.7777777777777778,
              "#fb9f3a"
             ],
             [
              0.8888888888888888,
              "#fdca26"
             ],
             [
              1,
              "#f0f921"
             ]
            ],
            "type": "heatmap"
           }
          ],
          "heatmapgl": [
           {
            "colorbar": {
             "outlinewidth": 0,
             "ticks": ""
            },
            "colorscale": [
             [
              0,
              "#0d0887"
             ],
             [
              0.1111111111111111,
              "#46039f"
             ],
             [
              0.2222222222222222,
              "#7201a8"
             ],
             [
              0.3333333333333333,
              "#9c179e"
             ],
             [
              0.4444444444444444,
              "#bd3786"
             ],
             [
              0.5555555555555556,
              "#d8576b"
             ],
             [
              0.6666666666666666,
              "#ed7953"
             ],
             [
              0.7777777777777778,
              "#fb9f3a"
             ],
             [
              0.8888888888888888,
              "#fdca26"
             ],
             [
              1,
              "#f0f921"
             ]
            ],
            "type": "heatmapgl"
           }
          ],
          "histogram": [
           {
            "marker": {
             "pattern": {
              "fillmode": "overlay",
              "size": 10,
              "solidity": 0.2
             }
            },
            "type": "histogram"
           }
          ],
          "histogram2d": [
           {
            "colorbar": {
             "outlinewidth": 0,
             "ticks": ""
            },
            "colorscale": [
             [
              0,
              "#0d0887"
             ],
             [
              0.1111111111111111,
              "#46039f"
             ],
             [
              0.2222222222222222,
              "#7201a8"
             ],
             [
              0.3333333333333333,
              "#9c179e"
             ],
             [
              0.4444444444444444,
              "#bd3786"
             ],
             [
              0.5555555555555556,
              "#d8576b"
             ],
             [
              0.6666666666666666,
              "#ed7953"
             ],
             [
              0.7777777777777778,
              "#fb9f3a"
             ],
             [
              0.8888888888888888,
              "#fdca26"
             ],
             [
              1,
              "#f0f921"
             ]
            ],
            "type": "histogram2d"
           }
          ],
          "histogram2dcontour": [
           {
            "colorbar": {
             "outlinewidth": 0,
             "ticks": ""
            },
            "colorscale": [
             [
              0,
              "#0d0887"
             ],
             [
              0.1111111111111111,
              "#46039f"
             ],
             [
              0.2222222222222222,
              "#7201a8"
             ],
             [
              0.3333333333333333,
              "#9c179e"
             ],
             [
              0.4444444444444444,
              "#bd3786"
             ],
             [
              0.5555555555555556,
              "#d8576b"
             ],
             [
              0.6666666666666666,
              "#ed7953"
             ],
             [
              0.7777777777777778,
              "#fb9f3a"
             ],
             [
              0.8888888888888888,
              "#fdca26"
             ],
             [
              1,
              "#f0f921"
             ]
            ],
            "type": "histogram2dcontour"
           }
          ],
          "mesh3d": [
           {
            "colorbar": {
             "outlinewidth": 0,
             "ticks": ""
            },
            "type": "mesh3d"
           }
          ],
          "parcoords": [
           {
            "line": {
             "colorbar": {
              "outlinewidth": 0,
              "ticks": ""
             }
            },
            "type": "parcoords"
           }
          ],
          "pie": [
           {
            "automargin": true,
            "type": "pie"
           }
          ],
          "scatter": [
           {
            "fillpattern": {
             "fillmode": "overlay",
             "size": 10,
             "solidity": 0.2
            },
            "type": "scatter"
           }
          ],
          "scatter3d": [
           {
            "line": {
             "colorbar": {
              "outlinewidth": 0,
              "ticks": ""
             }
            },
            "marker": {
             "colorbar": {
              "outlinewidth": 0,
              "ticks": ""
             }
            },
            "type": "scatter3d"
           }
          ],
          "scattercarpet": [
           {
            "marker": {
             "colorbar": {
              "outlinewidth": 0,
              "ticks": ""
             }
            },
            "type": "scattercarpet"
           }
          ],
          "scattergeo": [
           {
            "marker": {
             "colorbar": {
              "outlinewidth": 0,
              "ticks": ""
             }
            },
            "type": "scattergeo"
           }
          ],
          "scattergl": [
           {
            "marker": {
             "colorbar": {
              "outlinewidth": 0,
              "ticks": ""
             }
            },
            "type": "scattergl"
           }
          ],
          "scattermapbox": [
           {
            "marker": {
             "colorbar": {
              "outlinewidth": 0,
              "ticks": ""
             }
            },
            "type": "scattermapbox"
           }
          ],
          "scatterpolar": [
           {
            "marker": {
             "colorbar": {
              "outlinewidth": 0,
              "ticks": ""
             }
            },
            "type": "scatterpolar"
           }
          ],
          "scatterpolargl": [
           {
            "marker": {
             "colorbar": {
              "outlinewidth": 0,
              "ticks": ""
             }
            },
            "type": "scatterpolargl"
           }
          ],
          "scatterternary": [
           {
            "marker": {
             "colorbar": {
              "outlinewidth": 0,
              "ticks": ""
             }
            },
            "type": "scatterternary"
           }
          ],
          "surface": [
           {
            "colorbar": {
             "outlinewidth": 0,
             "ticks": ""
            },
            "colorscale": [
             [
              0,
              "#0d0887"
             ],
             [
              0.1111111111111111,
              "#46039f"
             ],
             [
              0.2222222222222222,
              "#7201a8"
             ],
             [
              0.3333333333333333,
              "#9c179e"
             ],
             [
              0.4444444444444444,
              "#bd3786"
             ],
             [
              0.5555555555555556,
              "#d8576b"
             ],
             [
              0.6666666666666666,
              "#ed7953"
             ],
             [
              0.7777777777777778,
              "#fb9f3a"
             ],
             [
              0.8888888888888888,
              "#fdca26"
             ],
             [
              1,
              "#f0f921"
             ]
            ],
            "type": "surface"
           }
          ],
          "table": [
           {
            "cells": {
             "fill": {
              "color": "#EBF0F8"
             },
             "line": {
              "color": "white"
             }
            },
            "header": {
             "fill": {
              "color": "#C8D4E3"
             },
             "line": {
              "color": "white"
             }
            },
            "type": "table"
           }
          ]
         },
         "layout": {
          "annotationdefaults": {
           "arrowcolor": "#2a3f5f",
           "arrowhead": 0,
           "arrowwidth": 1
          },
          "autotypenumbers": "strict",
          "coloraxis": {
           "colorbar": {
            "outlinewidth": 0,
            "ticks": ""
           }
          },
          "colorscale": {
           "diverging": [
            [
             0,
             "#8e0152"
            ],
            [
             0.1,
             "#c51b7d"
            ],
            [
             0.2,
             "#de77ae"
            ],
            [
             0.3,
             "#f1b6da"
            ],
            [
             0.4,
             "#fde0ef"
            ],
            [
             0.5,
             "#f7f7f7"
            ],
            [
             0.6,
             "#e6f5d0"
            ],
            [
             0.7,
             "#b8e186"
            ],
            [
             0.8,
             "#7fbc41"
            ],
            [
             0.9,
             "#4d9221"
            ],
            [
             1,
             "#276419"
            ]
           ],
           "sequential": [
            [
             0,
             "#0d0887"
            ],
            [
             0.1111111111111111,
             "#46039f"
            ],
            [
             0.2222222222222222,
             "#7201a8"
            ],
            [
             0.3333333333333333,
             "#9c179e"
            ],
            [
             0.4444444444444444,
             "#bd3786"
            ],
            [
             0.5555555555555556,
             "#d8576b"
            ],
            [
             0.6666666666666666,
             "#ed7953"
            ],
            [
             0.7777777777777778,
             "#fb9f3a"
            ],
            [
             0.8888888888888888,
             "#fdca26"
            ],
            [
             1,
             "#f0f921"
            ]
           ],
           "sequentialminus": [
            [
             0,
             "#0d0887"
            ],
            [
             0.1111111111111111,
             "#46039f"
            ],
            [
             0.2222222222222222,
             "#7201a8"
            ],
            [
             0.3333333333333333,
             "#9c179e"
            ],
            [
             0.4444444444444444,
             "#bd3786"
            ],
            [
             0.5555555555555556,
             "#d8576b"
            ],
            [
             0.6666666666666666,
             "#ed7953"
            ],
            [
             0.7777777777777778,
             "#fb9f3a"
            ],
            [
             0.8888888888888888,
             "#fdca26"
            ],
            [
             1,
             "#f0f921"
            ]
           ]
          },
          "colorway": [
           "#636efa",
           "#EF553B",
           "#00cc96",
           "#ab63fa",
           "#FFA15A",
           "#19d3f3",
           "#FF6692",
           "#B6E880",
           "#FF97FF",
           "#FECB52"
          ],
          "font": {
           "color": "#2a3f5f"
          },
          "geo": {
           "bgcolor": "white",
           "lakecolor": "white",
           "landcolor": "#E5ECF6",
           "showlakes": true,
           "showland": true,
           "subunitcolor": "white"
          },
          "hoverlabel": {
           "align": "left"
          },
          "hovermode": "closest",
          "mapbox": {
           "style": "light"
          },
          "paper_bgcolor": "white",
          "plot_bgcolor": "#E5ECF6",
          "polar": {
           "angularaxis": {
            "gridcolor": "white",
            "linecolor": "white",
            "ticks": ""
           },
           "bgcolor": "#E5ECF6",
           "radialaxis": {
            "gridcolor": "white",
            "linecolor": "white",
            "ticks": ""
           }
          },
          "scene": {
           "xaxis": {
            "backgroundcolor": "#E5ECF6",
            "gridcolor": "white",
            "gridwidth": 2,
            "linecolor": "white",
            "showbackground": true,
            "ticks": "",
            "zerolinecolor": "white"
           },
           "yaxis": {
            "backgroundcolor": "#E5ECF6",
            "gridcolor": "white",
            "gridwidth": 2,
            "linecolor": "white",
            "showbackground": true,
            "ticks": "",
            "zerolinecolor": "white"
           },
           "zaxis": {
            "backgroundcolor": "#E5ECF6",
            "gridcolor": "white",
            "gridwidth": 2,
            "linecolor": "white",
            "showbackground": true,
            "ticks": "",
            "zerolinecolor": "white"
           }
          },
          "shapedefaults": {
           "line": {
            "color": "#2a3f5f"
           }
          },
          "ternary": {
           "aaxis": {
            "gridcolor": "white",
            "linecolor": "white",
            "ticks": ""
           },
           "baxis": {
            "gridcolor": "white",
            "linecolor": "white",
            "ticks": ""
           },
           "bgcolor": "#E5ECF6",
           "caxis": {
            "gridcolor": "white",
            "linecolor": "white",
            "ticks": ""
           }
          },
          "title": {
           "x": 0.05
          },
          "xaxis": {
           "automargin": true,
           "gridcolor": "white",
           "linecolor": "white",
           "ticks": "",
           "title": {
            "standoff": 15
           },
           "zerolinecolor": "white",
           "zerolinewidth": 2
          },
          "yaxis": {
           "automargin": true,
           "gridcolor": "white",
           "linecolor": "white",
           "ticks": "",
           "title": {
            "standoff": 15
           },
           "zerolinecolor": "white",
           "zerolinewidth": 2
          }
         }
        },
        "title": {
         "text": "Distribution of WPA Ratings for Bottom 50 WAR Players"
        }
       }
      }
     },
     "metadata": {},
     "output_type": "display_data"
    }
   ],
   "source": [
    "import pandas as pd\n",
    "import plotly.express as px\n",
    "import os\n",
    "\n",
    "def get_bottom_50_unique_names(data):\n",
    "    column_2 = data.iloc[:, 1].rename(\"Player\")  # Column 2 (index 1)\n",
    "    column_16 = data.iloc[:, 15].rename(\"WAR\")  # Column 16 (index 15)\n",
    "    combined_data = pd.DataFrame({'Player': column_2, 'WAR': column_16})\n",
    "    sorted_data = combined_data.sort_values(by='WAR', ascending=True)\n",
    "    unique_sorted_data = sorted_data.drop_duplicates(subset='Player').reset_index(drop=True)\n",
    "    bottom_50 = unique_sorted_data.head(50)\n",
    "    return bottom_50\n",
    "\n",
    "def find_wpa_for_bottom_50_war(bottom_50_df, filepath):\n",
    "    data = pd.read_csv(filepath, encoding='latin1')\n",
    "    column_9 = data.iloc[:, 8].rename(\"WPA\")  # Column 9 (index 8)\n",
    "    matching_data = pd.DataFrame({'Player': data.iloc[:, 1], 'WPA': column_9}).drop_duplicates(subset='Player')\n",
    "    matching_rows = bottom_50_df.merge(matching_data, on='Player', how='left')\n",
    "    return matching_rows\n",
    "\n",
    "# Define the path to your CSV file\n",
    "csv_file_path = 'WAR_2023.csv'\n",
    "\n",
    "# Check if the file exists\n",
    "if not os.path.exists(csv_file_path):\n",
    "    raise FileNotFoundError(f\"The file '{csv_file_path}' does not exist.\")\n",
    "\n",
    "try:\n",
    "    # Attempt to read the CSV file with different encodings\n",
    "    try:\n",
    "        data = pd.read_csv(csv_file_path, encoding='utf-8')\n",
    "    except UnicodeDecodeError:\n",
    "        try:\n",
    "            data = pd.read_csv(csv_file_path, encoding='latin1')\n",
    "        except UnicodeDecodeError:\n",
    "            data = pd.read_csv(csv_file_path, encoding='iso-8859-1')\n",
    "except Exception as e:\n",
    "    raise ValueError(f\"Error reading the CSV file: {e}\")\n",
    "\n",
    "# Ensure the CSV file has at least 18 columns\n",
    "if data.shape[1] < 18:\n",
    "    raise ValueError(\"The CSV file does not have at least 18 columns.\")\n",
    "\n",
    "# Get the bottom 50 unique WAR players\n",
    "bottom_50 = get_bottom_50_unique_names(data)\n",
    "\n",
    "if bottom_50 is not None:\n",
    "    # Find the WPA for the bottom 50 WAR players in the second CSV\n",
    "    second_csv_filepath = \"WPA_2023.csv\"\n",
    "    matching_rows = find_wpa_for_bottom_50_war(bottom_50, second_csv_filepath)\n",
    "    \n",
    "    if matching_rows is not None and not matching_rows.empty:\n",
    "        # Extract the WPA values\n",
    "        wpa_values = matching_rows['WPA'].dropna()\n",
    "\n",
    "        # Categorize the WPA values based on the provided ratings\n",
    "        def categorize_wpa(wpa):\n",
    "            if wpa >= 6.0:\n",
    "                return 'Excellent'\n",
    "            elif wpa >= 3.0:\n",
    "                return 'Great'\n",
    "            elif wpa >= 2.0:\n",
    "                return 'Above Average'\n",
    "            elif wpa >= 1.0:\n",
    "                return 'Average'\n",
    "            elif wpa >= 0.0:\n",
    "                return 'Below Average'\n",
    "            elif wpa >= -1.0:\n",
    "                return 'Poor'\n",
    "            else:\n",
    "                return 'Awful'\n",
    "\n",
    "        wpa_categories = wpa_values.apply(categorize_wpa)\n",
    "        wpa_category_counts = wpa_categories.value_counts()\n",
    "\n",
    "        # Ensure the categories are in the correct order\n",
    "        categories_order = ['Excellent', 'Great', 'Above Average', 'Average', 'Below Average', 'Poor', 'Awful']\n",
    "        wpa_category_counts = wpa_category_counts.reindex(categories_order, fill_value=0)\n",
    "\n",
    "        # Create a DataFrame for the pie chart\n",
    "        pie_data = pd.DataFrame({'Rating': wpa_category_counts.index, 'Count': wpa_category_counts.values})\n",
    "\n",
    "        # Create an interactive pie chart using Plotly\n",
    "        fig_pie = px.pie(pie_data, names='Rating', values='Count', title='Distribution of WPA Ratings for Bottom 50 WAR Players')\n",
    "\n",
    "        # Update the layout for interactivity\n",
    "        fig_pie.update_traces(textinfo='percent+label', hoverinfo='label+percent+value', \n",
    "                              marker=dict(line=dict(color='#000000', width=2)))\n",
    "\n",
    "        # Show the pie chart\n",
    "        fig_pie.show()\n",
    "    else:\n",
    "        print(\"No matching rows found or an error occurred.\")\n",
    "else:\n",
    "    print(\"Could not extract bottom 50 names.\")\n"
   ]
  },
  {
   "cell_type": "markdown",
   "metadata": {},
   "source": [
    "# WPA VS WAR\n"
   ]
  },
  {
   "cell_type": "code",
   "execution_count": null,
   "metadata": {},
   "outputs": [],
   "source": []
  },
  {
   "cell_type": "markdown",
   "metadata": {},
   "source": []
  },
  {
   "cell_type": "code",
   "execution_count": 98,
   "metadata": {},
   "outputs": [
    {
     "name": "stdout",
     "output_type": "stream",
     "text": [
      "Matching rows found in the second CSV:\n",
      "                Player  Age  WAR  WPA\n",
      "0         Mookie Betts   30  8.3  4.9\n",
      "1     Ronald Acuña Jr.   25  8.2  6.8\n",
      "2        Marcus Semien   32  7.4  1.0\n",
      "3          Matt Olson*   29  7.4  4.4\n",
      "4        Corey Seager*   29  6.9  4.4\n",
      "5     Freddie Freeman*   33  6.5  4.3\n",
      "6    Gunnar Henderson*   22  6.2  1.3\n",
      "7       Shohei Ohtani*   28  6.0  4.2\n",
      "8    Francisco Lindor#   29  6.0  1.4\n",
      "9         Austin Riley   26  5.9  1.9\n",
      "10        Ha-Seong Kim   27  5.8  0.9\n",
      "11          Juan Soto*   24  5.5  3.5\n",
      "12      Wander Franco#   22  5.5 -0.1\n",
      "13  Fernando Tatis Jr.   24  5.5  1.4\n",
      "14        Kyle Tucker*   26  5.4  4.6\n",
      "15     Corbin Carroll*   22  5.4  5.2\n",
      "16     Julio Rodríguez   22  5.3  2.2\n",
      "17     Andrés Giménez*   24  5.3 -0.6\n",
      "18          Yandy Díaz   31  5.2  4.4\n",
      "19       José Ramírez#   30  5.1  3.3\n",
      "20      J.P. Crawford*   28  5.1  2.7\n",
      "21        Nico Hoerner   26  5.1  0.9\n",
      "22     Luis Robert Jr.   25  5.0  2.7\n",
      "23        Luis Arráez*   26  4.9  0.7\n",
      "24        Ketel Marte#   29  4.9  2.3\n",
      "25        Alex Bregman   29  4.9  1.6\n",
      "26         Bo Bichette   25  4.9  1.2\n",
      "27      Dansby Swanson   29  4.8 -1.7\n",
      "28       Ozzie Albies#   26  4.7  2.1\n",
      "29     Yordan Alvarez*   26  4.6  4.7\n",
      "30         Aaron Judge   31  4.5  3.0\n",
      "31     Xander Bogaerts   30  4.4 -1.1\n",
      "32     Cody Bellinger*   27  4.4  2.3\n",
      "33      Bobby Witt Jr.   23  4.4 -0.2\n",
      "34        Matt Chapman   30  4.4 -1.2\n",
      "35    Adley Rutschman#   25  4.3  2.2\n",
      "36       Bryson Stott*   25  4.3  1.3\n",
      "37        Nolan Jones*   25  4.3  2.8\n",
      "38      Gabriel Moreno   23  4.3  0.3\n",
      "39       Isaac Paredes   24  4.2  1.1\n",
      "40       Adolis García   30  4.2  1.1\n",
      "41          Will Smith   28  4.1  0.2\n",
      "42      Ke'Bryan Hayes   26  4.0 -0.1\n",
      "43      Brandon Nimmo*   30  3.9  1.3\n",
      "44     Daulton Varsho*   26  3.9 -2.2\n",
      "45         Sean Murphy   28  3.9  0.1\n",
      "46    Kevin Kiermaier*   33  3.9 -0.3\n",
      "47         Jeremy Peña   25  3.8 -3.3\n",
      "48    Christian Walker   32  3.8  1.8\n",
      "49          TJ Friedl*   27  3.8  3.9\n"
     ]
    }
   ],
   "source": [
    "import pandas as pd\n",
    "\n",
    "def get_top_50_names(data):\n",
    "    try:\n",
    "        # Extract and rename columns 2, 3, and 16\n",
    "        column_2 = data.iloc[:, 1].rename(\"Player\")  # Column 2 (index 1)\n",
    "        column_3 = data.iloc[:, 2].rename(\"Age\")     # Column 3 (index 2)\n",
    "        column_16 = data.iloc[:, 15].rename(\"WAR\")   # Column 16 (index 15)\n",
    "        \n",
    "        # Combine the three columns into a new DataFrame\n",
    "        combined_data = pd.DataFrame({\n",
    "            'Player': column_2,\n",
    "            'Age': column_3,\n",
    "            'WAR': column_16\n",
    "        })\n",
    "        \n",
    "        # Sort the data based on column 16 (WAR) in descending order\n",
    "        sorted_data = combined_data.sort_values(by='WAR', ascending=False)\n",
    "        \n",
    "        # Retrieve the top 50 rows based on column 16 (WAR)\n",
    "        top_50 = sorted_data.head(50).reset_index(drop=True)\n",
    "        \n",
    "        return top_50\n",
    "        \n",
    "    except Exception as e:\n",
    "        print(f\"An error occurred: {e}\")\n",
    "        return None\n",
    "\n",
    "def find_names_in_another_csv(names_df, filepath):\n",
    "    try:\n",
    "        # Load the second CSV file\n",
    "        data = pd.read_csv(filepath, encoding='latin1')\n",
    "        \n",
    "        # Extract and rename column 9 (assuming it's named \"WPA\")\n",
    "        column_9 = data.iloc[:, 8].rename(\"WPA\")  # Column 9 (index 8)\n",
    "        \n",
    "        # Combine the relevant columns into a new DataFrame\n",
    "        matching_data = data[[data.columns[1], column_9.name]]  # Column 2 and column 9\n",
    "        matching_data = matching_data.rename(columns={data.columns[1]: \"Player\"})\n",
    "        \n",
    "        # Filter the rows where the names match\n",
    "        matching_rows = names_df.merge(matching_data, on='Player', how='left')\n",
    "        \n",
    "        return matching_rows\n",
    "        \n",
    "    except Exception as e:\n",
    "        print(f\"An error occurred: {e}\")\n",
    "        return None\n",
    "\n",
    "# Load the first CSV and get the top 50 names with their WAR values and Age\n",
    "data = pd.read_csv(\"WAR_2023.csv\", encoding='latin1')\n",
    "top_50 = get_top_50_names(data)\n",
    "\n",
    "if top_50 is not None:\n",
    "    # Find matching names in the second CSV\n",
    "    second_csv_filepath = \"WPA_2023.csv\"\n",
    "    matching_rows = find_names_in_another_csv(top_50, second_csv_filepath)\n",
    "    \n",
    "    if matching_rows is not None and not matching_rows.empty:\n",
    "        print(\"Matching rows found in the second CSV:\")\n",
    "        print(matching_rows)\n",
    "    else:\n",
    "        print(\"No matching rows found or an error occurred.\")\n",
    "else:\n",
    "    print(\"Could not extract top 50 names.\")\n"
   ]
  },
  {
   "cell_type": "code",
   "execution_count": 99,
   "metadata": {},
   "outputs": [
    {
     "data": {
      "application/vnd.plotly.v1+json": {
       "config": {
        "plotlyServerURL": "https://plot.ly"
       },
       "data": [
        {
         "marker": {
          "color": "lightblue",
          "line": {
           "color": "DarkSlateGrey",
           "width": 1
          },
          "size": 8,
          "symbol": "circle"
         },
         "mode": "markers",
         "name": "WPA Values",
         "type": "scatter",
         "x": [
          "Mookie Betts",
          "Ronald Acuña Jr.",
          "Marcus Semien",
          "Matt Olson*",
          "Corey Seager*",
          "Freddie Freeman*",
          "Gunnar Henderson*",
          "Shohei Ohtani*",
          "Francisco Lindor#",
          "Austin Riley",
          "Ha-Seong Kim",
          "Juan Soto*",
          "Wander Franco#",
          "Fernando Tatis Jr.",
          "Kyle Tucker*",
          "Corbin Carroll*",
          "Julio Rodríguez",
          "Andrés Giménez*",
          "Yandy Díaz",
          "José Ramírez#",
          "J.P. Crawford*",
          "Nico Hoerner",
          "Luis Robert Jr.",
          "Luis Arráez*",
          "Ketel Marte#",
          "Alex Bregman",
          "Bo Bichette",
          "Dansby Swanson",
          "Ozzie Albies#",
          "Yordan Alvarez*",
          "Aaron Judge",
          "Xander Bogaerts",
          "Cody Bellinger*",
          "Bobby Witt Jr.",
          "Matt Chapman",
          "Adley Rutschman#",
          "Bryson Stott*",
          "Nolan Jones*",
          "Gabriel Moreno",
          "Isaac Paredes",
          "Adolis García",
          "Will Smith",
          "Ke'Bryan Hayes",
          "Brandon Nimmo*",
          "Daulton Varsho*",
          "Sean Murphy",
          "Kevin Kiermaier*",
          "Jeremy Peña",
          "Christian Walker",
          "TJ Friedl*"
         ],
         "y": [
          4.9,
          6.8,
          1,
          4.4,
          4.4,
          4.3,
          1.3,
          4.2,
          1.4,
          1.9,
          0.9,
          3.5,
          -0.1,
          1.4,
          4.6,
          5.2,
          2.2,
          -0.6,
          4.4,
          3.3,
          2.7,
          0.9,
          2.7,
          0.7,
          2.3,
          1.6,
          1.2,
          -1.7,
          2.1,
          4.7,
          3,
          -1.1,
          2.3,
          -0.2,
          -1.2,
          2.2,
          1.3,
          2.8,
          0.3,
          1.1,
          1.1,
          0.2,
          -0.1,
          1.3,
          -2.2,
          0.1,
          -0.3,
          -3.3,
          1.8,
          3.9
         ]
        }
       ],
       "layout": {
        "annotations": [
         {
          "font": {
           "color": "black",
           "size": 16
          },
          "showarrow": false,
          "text": "Mean: 1.79, Median: 1.50, Variance: 4.41, Std Dev: 2.10",
          "x": 0.5,
          "xref": "paper",
          "y": 1.15,
          "yref": "paper"
         },
         {
          "align": "left",
          "font": {
           "color": "red",
           "size": 16
          },
          "showarrow": false,
          "text": "Mean",
          "x": 0,
          "xanchor": "left",
          "xref": "x domain",
          "y": 1.7920000000000003,
          "yanchor": "top",
          "yref": "y",
          "yshift": -10
         },
         {
          "align": "right",
          "font": {
           "color": "green",
           "size": 16
          },
          "showarrow": false,
          "text": "Median",
          "x": 1,
          "xanchor": "right",
          "xref": "x domain",
          "y": 1.5,
          "yanchor": "bottom",
          "yref": "y",
          "yshift": 10
         },
         {
          "align": "left",
          "font": {
           "color": "purple",
           "size": 16
          },
          "showarrow": false,
          "text": "Variance",
          "x": 0,
          "xanchor": "left",
          "xref": "x domain",
          "y": 4.406465306122449,
          "yanchor": "bottom",
          "yref": "y",
          "yshift": 20
         },
         {
          "align": "right",
          "font": {
           "color": "orange",
           "size": 16
          },
          "showarrow": false,
          "text": "Std Dev",
          "x": 1,
          "xanchor": "right",
          "xref": "x domain",
          "y": 2.0991582375138966,
          "yanchor": "top",
          "yref": "y",
          "yshift": -20
         }
        ],
        "legend": {
         "font": {
          "color": "black",
          "size": 16
         },
         "x": 0.01,
         "xanchor": "left",
         "y": 0.99,
         "yanchor": "top"
        },
        "margin": {
         "b": 100,
         "l": 50,
         "r": 50,
         "t": 100
        },
        "plot_bgcolor": "white",
        "shapes": [
         {
          "line": {
           "color": "red",
           "dash": "dash",
           "width": 2
          },
          "type": "line",
          "x0": 0,
          "x1": 1,
          "xref": "x domain",
          "y0": 1.7920000000000003,
          "y1": 1.7920000000000003,
          "yref": "y"
         },
         {
          "line": {
           "color": "green",
           "dash": "dash",
           "width": 2
          },
          "type": "line",
          "x0": 0,
          "x1": 1,
          "xref": "x domain",
          "y0": 1.5,
          "y1": 1.5,
          "yref": "y"
         },
         {
          "line": {
           "color": "purple",
           "dash": "dot",
           "width": 2
          },
          "type": "line",
          "x0": 0,
          "x1": 1,
          "xref": "x domain",
          "y0": 4.406465306122449,
          "y1": 4.406465306122449,
          "yref": "y"
         },
         {
          "line": {
           "color": "orange",
           "dash": "dot",
           "width": 2
          },
          "type": "line",
          "x0": 0,
          "x1": 1,
          "xref": "x domain",
          "y0": 2.0991582375138966,
          "y1": 2.0991582375138966,
          "yref": "y"
         }
        ],
        "template": {
         "data": {
          "bar": [
           {
            "error_x": {
             "color": "#2a3f5f"
            },
            "error_y": {
             "color": "#2a3f5f"
            },
            "marker": {
             "line": {
              "color": "#E5ECF6",
              "width": 0.5
             },
             "pattern": {
              "fillmode": "overlay",
              "size": 10,
              "solidity": 0.2
             }
            },
            "type": "bar"
           }
          ],
          "barpolar": [
           {
            "marker": {
             "line": {
              "color": "#E5ECF6",
              "width": 0.5
             },
             "pattern": {
              "fillmode": "overlay",
              "size": 10,
              "solidity": 0.2
             }
            },
            "type": "barpolar"
           }
          ],
          "carpet": [
           {
            "aaxis": {
             "endlinecolor": "#2a3f5f",
             "gridcolor": "white",
             "linecolor": "white",
             "minorgridcolor": "white",
             "startlinecolor": "#2a3f5f"
            },
            "baxis": {
             "endlinecolor": "#2a3f5f",
             "gridcolor": "white",
             "linecolor": "white",
             "minorgridcolor": "white",
             "startlinecolor": "#2a3f5f"
            },
            "type": "carpet"
           }
          ],
          "choropleth": [
           {
            "colorbar": {
             "outlinewidth": 0,
             "ticks": ""
            },
            "type": "choropleth"
           }
          ],
          "contour": [
           {
            "colorbar": {
             "outlinewidth": 0,
             "ticks": ""
            },
            "colorscale": [
             [
              0,
              "#0d0887"
             ],
             [
              0.1111111111111111,
              "#46039f"
             ],
             [
              0.2222222222222222,
              "#7201a8"
             ],
             [
              0.3333333333333333,
              "#9c179e"
             ],
             [
              0.4444444444444444,
              "#bd3786"
             ],
             [
              0.5555555555555556,
              "#d8576b"
             ],
             [
              0.6666666666666666,
              "#ed7953"
             ],
             [
              0.7777777777777778,
              "#fb9f3a"
             ],
             [
              0.8888888888888888,
              "#fdca26"
             ],
             [
              1,
              "#f0f921"
             ]
            ],
            "type": "contour"
           }
          ],
          "contourcarpet": [
           {
            "colorbar": {
             "outlinewidth": 0,
             "ticks": ""
            },
            "type": "contourcarpet"
           }
          ],
          "heatmap": [
           {
            "colorbar": {
             "outlinewidth": 0,
             "ticks": ""
            },
            "colorscale": [
             [
              0,
              "#0d0887"
             ],
             [
              0.1111111111111111,
              "#46039f"
             ],
             [
              0.2222222222222222,
              "#7201a8"
             ],
             [
              0.3333333333333333,
              "#9c179e"
             ],
             [
              0.4444444444444444,
              "#bd3786"
             ],
             [
              0.5555555555555556,
              "#d8576b"
             ],
             [
              0.6666666666666666,
              "#ed7953"
             ],
             [
              0.7777777777777778,
              "#fb9f3a"
             ],
             [
              0.8888888888888888,
              "#fdca26"
             ],
             [
              1,
              "#f0f921"
             ]
            ],
            "type": "heatmap"
           }
          ],
          "heatmapgl": [
           {
            "colorbar": {
             "outlinewidth": 0,
             "ticks": ""
            },
            "colorscale": [
             [
              0,
              "#0d0887"
             ],
             [
              0.1111111111111111,
              "#46039f"
             ],
             [
              0.2222222222222222,
              "#7201a8"
             ],
             [
              0.3333333333333333,
              "#9c179e"
             ],
             [
              0.4444444444444444,
              "#bd3786"
             ],
             [
              0.5555555555555556,
              "#d8576b"
             ],
             [
              0.6666666666666666,
              "#ed7953"
             ],
             [
              0.7777777777777778,
              "#fb9f3a"
             ],
             [
              0.8888888888888888,
              "#fdca26"
             ],
             [
              1,
              "#f0f921"
             ]
            ],
            "type": "heatmapgl"
           }
          ],
          "histogram": [
           {
            "marker": {
             "pattern": {
              "fillmode": "overlay",
              "size": 10,
              "solidity": 0.2
             }
            },
            "type": "histogram"
           }
          ],
          "histogram2d": [
           {
            "colorbar": {
             "outlinewidth": 0,
             "ticks": ""
            },
            "colorscale": [
             [
              0,
              "#0d0887"
             ],
             [
              0.1111111111111111,
              "#46039f"
             ],
             [
              0.2222222222222222,
              "#7201a8"
             ],
             [
              0.3333333333333333,
              "#9c179e"
             ],
             [
              0.4444444444444444,
              "#bd3786"
             ],
             [
              0.5555555555555556,
              "#d8576b"
             ],
             [
              0.6666666666666666,
              "#ed7953"
             ],
             [
              0.7777777777777778,
              "#fb9f3a"
             ],
             [
              0.8888888888888888,
              "#fdca26"
             ],
             [
              1,
              "#f0f921"
             ]
            ],
            "type": "histogram2d"
           }
          ],
          "histogram2dcontour": [
           {
            "colorbar": {
             "outlinewidth": 0,
             "ticks": ""
            },
            "colorscale": [
             [
              0,
              "#0d0887"
             ],
             [
              0.1111111111111111,
              "#46039f"
             ],
             [
              0.2222222222222222,
              "#7201a8"
             ],
             [
              0.3333333333333333,
              "#9c179e"
             ],
             [
              0.4444444444444444,
              "#bd3786"
             ],
             [
              0.5555555555555556,
              "#d8576b"
             ],
             [
              0.6666666666666666,
              "#ed7953"
             ],
             [
              0.7777777777777778,
              "#fb9f3a"
             ],
             [
              0.8888888888888888,
              "#fdca26"
             ],
             [
              1,
              "#f0f921"
             ]
            ],
            "type": "histogram2dcontour"
           }
          ],
          "mesh3d": [
           {
            "colorbar": {
             "outlinewidth": 0,
             "ticks": ""
            },
            "type": "mesh3d"
           }
          ],
          "parcoords": [
           {
            "line": {
             "colorbar": {
              "outlinewidth": 0,
              "ticks": ""
             }
            },
            "type": "parcoords"
           }
          ],
          "pie": [
           {
            "automargin": true,
            "type": "pie"
           }
          ],
          "scatter": [
           {
            "fillpattern": {
             "fillmode": "overlay",
             "size": 10,
             "solidity": 0.2
            },
            "type": "scatter"
           }
          ],
          "scatter3d": [
           {
            "line": {
             "colorbar": {
              "outlinewidth": 0,
              "ticks": ""
             }
            },
            "marker": {
             "colorbar": {
              "outlinewidth": 0,
              "ticks": ""
             }
            },
            "type": "scatter3d"
           }
          ],
          "scattercarpet": [
           {
            "marker": {
             "colorbar": {
              "outlinewidth": 0,
              "ticks": ""
             }
            },
            "type": "scattercarpet"
           }
          ],
          "scattergeo": [
           {
            "marker": {
             "colorbar": {
              "outlinewidth": 0,
              "ticks": ""
             }
            },
            "type": "scattergeo"
           }
          ],
          "scattergl": [
           {
            "marker": {
             "colorbar": {
              "outlinewidth": 0,
              "ticks": ""
             }
            },
            "type": "scattergl"
           }
          ],
          "scattermapbox": [
           {
            "marker": {
             "colorbar": {
              "outlinewidth": 0,
              "ticks": ""
             }
            },
            "type": "scattermapbox"
           }
          ],
          "scatterpolar": [
           {
            "marker": {
             "colorbar": {
              "outlinewidth": 0,
              "ticks": ""
             }
            },
            "type": "scatterpolar"
           }
          ],
          "scatterpolargl": [
           {
            "marker": {
             "colorbar": {
              "outlinewidth": 0,
              "ticks": ""
             }
            },
            "type": "scatterpolargl"
           }
          ],
          "scatterternary": [
           {
            "marker": {
             "colorbar": {
              "outlinewidth": 0,
              "ticks": ""
             }
            },
            "type": "scatterternary"
           }
          ],
          "surface": [
           {
            "colorbar": {
             "outlinewidth": 0,
             "ticks": ""
            },
            "colorscale": [
             [
              0,
              "#0d0887"
             ],
             [
              0.1111111111111111,
              "#46039f"
             ],
             [
              0.2222222222222222,
              "#7201a8"
             ],
             [
              0.3333333333333333,
              "#9c179e"
             ],
             [
              0.4444444444444444,
              "#bd3786"
             ],
             [
              0.5555555555555556,
              "#d8576b"
             ],
             [
              0.6666666666666666,
              "#ed7953"
             ],
             [
              0.7777777777777778,
              "#fb9f3a"
             ],
             [
              0.8888888888888888,
              "#fdca26"
             ],
             [
              1,
              "#f0f921"
             ]
            ],
            "type": "surface"
           }
          ],
          "table": [
           {
            "cells": {
             "fill": {
              "color": "#EBF0F8"
             },
             "line": {
              "color": "white"
             }
            },
            "header": {
             "fill": {
              "color": "#C8D4E3"
             },
             "line": {
              "color": "white"
             }
            },
            "type": "table"
           }
          ]
         },
         "layout": {
          "annotationdefaults": {
           "arrowcolor": "#2a3f5f",
           "arrowhead": 0,
           "arrowwidth": 1
          },
          "autotypenumbers": "strict",
          "coloraxis": {
           "colorbar": {
            "outlinewidth": 0,
            "ticks": ""
           }
          },
          "colorscale": {
           "diverging": [
            [
             0,
             "#8e0152"
            ],
            [
             0.1,
             "#c51b7d"
            ],
            [
             0.2,
             "#de77ae"
            ],
            [
             0.3,
             "#f1b6da"
            ],
            [
             0.4,
             "#fde0ef"
            ],
            [
             0.5,
             "#f7f7f7"
            ],
            [
             0.6,
             "#e6f5d0"
            ],
            [
             0.7,
             "#b8e186"
            ],
            [
             0.8,
             "#7fbc41"
            ],
            [
             0.9,
             "#4d9221"
            ],
            [
             1,
             "#276419"
            ]
           ],
           "sequential": [
            [
             0,
             "#0d0887"
            ],
            [
             0.1111111111111111,
             "#46039f"
            ],
            [
             0.2222222222222222,
             "#7201a8"
            ],
            [
             0.3333333333333333,
             "#9c179e"
            ],
            [
             0.4444444444444444,
             "#bd3786"
            ],
            [
             0.5555555555555556,
             "#d8576b"
            ],
            [
             0.6666666666666666,
             "#ed7953"
            ],
            [
             0.7777777777777778,
             "#fb9f3a"
            ],
            [
             0.8888888888888888,
             "#fdca26"
            ],
            [
             1,
             "#f0f921"
            ]
           ],
           "sequentialminus": [
            [
             0,
             "#0d0887"
            ],
            [
             0.1111111111111111,
             "#46039f"
            ],
            [
             0.2222222222222222,
             "#7201a8"
            ],
            [
             0.3333333333333333,
             "#9c179e"
            ],
            [
             0.4444444444444444,
             "#bd3786"
            ],
            [
             0.5555555555555556,
             "#d8576b"
            ],
            [
             0.6666666666666666,
             "#ed7953"
            ],
            [
             0.7777777777777778,
             "#fb9f3a"
            ],
            [
             0.8888888888888888,
             "#fdca26"
            ],
            [
             1,
             "#f0f921"
            ]
           ]
          },
          "colorway": [
           "#636efa",
           "#EF553B",
           "#00cc96",
           "#ab63fa",
           "#FFA15A",
           "#19d3f3",
           "#FF6692",
           "#B6E880",
           "#FF97FF",
           "#FECB52"
          ],
          "font": {
           "color": "#2a3f5f"
          },
          "geo": {
           "bgcolor": "white",
           "lakecolor": "white",
           "landcolor": "#E5ECF6",
           "showlakes": true,
           "showland": true,
           "subunitcolor": "white"
          },
          "hoverlabel": {
           "align": "left"
          },
          "hovermode": "closest",
          "mapbox": {
           "style": "light"
          },
          "paper_bgcolor": "white",
          "plot_bgcolor": "#E5ECF6",
          "polar": {
           "angularaxis": {
            "gridcolor": "white",
            "linecolor": "white",
            "ticks": ""
           },
           "bgcolor": "#E5ECF6",
           "radialaxis": {
            "gridcolor": "white",
            "linecolor": "white",
            "ticks": ""
           }
          },
          "scene": {
           "xaxis": {
            "backgroundcolor": "#E5ECF6",
            "gridcolor": "white",
            "gridwidth": 2,
            "linecolor": "white",
            "showbackground": true,
            "ticks": "",
            "zerolinecolor": "white"
           },
           "yaxis": {
            "backgroundcolor": "#E5ECF6",
            "gridcolor": "white",
            "gridwidth": 2,
            "linecolor": "white",
            "showbackground": true,
            "ticks": "",
            "zerolinecolor": "white"
           },
           "zaxis": {
            "backgroundcolor": "#E5ECF6",
            "gridcolor": "white",
            "gridwidth": 2,
            "linecolor": "white",
            "showbackground": true,
            "ticks": "",
            "zerolinecolor": "white"
           }
          },
          "shapedefaults": {
           "line": {
            "color": "#2a3f5f"
           }
          },
          "ternary": {
           "aaxis": {
            "gridcolor": "white",
            "linecolor": "white",
            "ticks": ""
           },
           "baxis": {
            "gridcolor": "white",
            "linecolor": "white",
            "ticks": ""
           },
           "bgcolor": "#E5ECF6",
           "caxis": {
            "gridcolor": "white",
            "linecolor": "white",
            "ticks": ""
           }
          },
          "title": {
           "x": 0.05
          },
          "xaxis": {
           "automargin": true,
           "gridcolor": "white",
           "linecolor": "white",
           "ticks": "",
           "title": {
            "standoff": 15
           },
           "zerolinecolor": "white",
           "zerolinewidth": 2
          },
          "yaxis": {
           "automargin": true,
           "gridcolor": "white",
           "linecolor": "white",
           "ticks": "",
           "title": {
            "standoff": 15
           },
           "zerolinecolor": "white",
           "zerolinewidth": 2
          }
         }
        },
        "title": {
         "font": {
          "color": "black",
          "size": 24
         },
         "text": "WPA for Top 50 WAR Players with Key Statistics"
        },
        "xaxis": {
         "gridcolor": "lightgrey",
         "gridwidth": 1,
         "showgrid": true,
         "showticklabels": false
        },
        "yaxis": {
         "gridcolor": "lightgrey",
         "gridwidth": 1,
         "showgrid": true,
         "tickfont": {
          "color": "black",
          "size": 14
         },
         "title": {
          "font": {
           "color": "black",
           "size": 20
          },
          "text": "WPA"
         }
        }
       }
      }
     },
     "metadata": {},
     "output_type": "display_data"
    }
   ],
   "source": [
    "import pandas as pd\n",
    "import plotly.graph_objects as go\n",
    "import numpy as np\n",
    "\n",
    "def get_top_50_unique_names(data):\n",
    "    try:\n",
    "        column_2 = data.iloc[:, 1].rename(\"Player\")  # Column 2 (index 1)\n",
    "        column_16 = data.iloc[:, 15].rename(\"WAR\")  # Column 16 (index 15)\n",
    "        \n",
    "        combined_data = pd.DataFrame({\n",
    "            'Player': column_2,\n",
    "            'WAR': column_16\n",
    "        })\n",
    "        \n",
    "        sorted_data = combined_data.sort_values(by='WAR', ascending=False)\n",
    "        unique_sorted_data = sorted_data.drop_duplicates(subset='Player').reset_index(drop=True)\n",
    "        top_50 = unique_sorted_data.head(50)\n",
    "        \n",
    "        return top_50\n",
    "        \n",
    "    except Exception as e:\n",
    "        print(f\"An error occurred: {e}\")\n",
    "        return None\n",
    "\n",
    "def find_wpa_for_top_50_war(top_50_df, filepath):\n",
    "    try:\n",
    "        data = pd.read_csv(filepath, encoding='latin1')\n",
    "        column_9 = data.iloc[:, 8].rename(\"WPA\")  # Column 9 (index 8)\n",
    "        \n",
    "        matching_data = pd.DataFrame({\n",
    "            'Player': data.iloc[:, 1],  # Column 2 (index 1)\n",
    "            'WPA': column_9\n",
    "        }).drop_duplicates(subset='Player')  # Drop duplicates to ensure uniqueness\n",
    "        \n",
    "        matching_rows = top_50_df.merge(matching_data, on='Player', how='left')\n",
    "        \n",
    "        return matching_rows\n",
    "        \n",
    "    except Exception as e:\n",
    "        print(f\"An error occurred: {e}\")\n",
    "        return None\n",
    "\n",
    "# Define the paths to your CSV files\n",
    "war_csv_file_path = 'WAR_2023.csv'\n",
    "wpa_csv_file_path = 'WPA_2023.csv'\n",
    "\n",
    "# Load the WAR data from the first CSV file\n",
    "war_data = pd.read_csv(war_csv_file_path, encoding='latin1')\n",
    "\n",
    "# Get the top 50 unique WAR players\n",
    "top_50 = get_top_50_unique_names(war_data)\n",
    "\n",
    "if top_50 is not None:\n",
    "    # Find the WPA for the top 50 WAR players in the WPA CSV\n",
    "    matching_rows = find_wpa_for_top_50_war(top_50, wpa_csv_file_path)\n",
    "    \n",
    "    if matching_rows is not None and not matching_rows.empty:\n",
    "        # Calculate statistics for WPA values\n",
    "        wpa_values = matching_rows['WPA'].dropna()\n",
    "        wpa_mean = wpa_values.mean()\n",
    "        wpa_median = wpa_values.median()\n",
    "        wpa_variance = wpa_values.var()\n",
    "        wpa_std_dev = wpa_values.std()\n",
    "\n",
    "        # Create the scatter plot\n",
    "        scatter_fig = go.Figure()\n",
    "\n",
    "        scatter_fig.add_trace(go.Scatter(\n",
    "            x=matching_rows['Player'],\n",
    "            y=matching_rows['WPA'],\n",
    "            mode='markers',\n",
    "            marker=dict(symbol='circle', color='lightblue', size=8, line=dict(color='DarkSlateGrey', width=1)),\n",
    "            name='WPA Values'\n",
    "        ))\n",
    "\n",
    "        # Add statistics as annotations above the graph\n",
    "        scatter_fig.add_annotation(\n",
    "            text=f\"Mean: {wpa_mean:.2f}, Median: {wpa_median:.2f}, Variance: {wpa_variance:.2f}, Std Dev: {wpa_std_dev:.2f}\",\n",
    "            xref=\"paper\", yref=\"paper\",\n",
    "            x=0.5, y=1.15, showarrow=False,\n",
    "            font=dict(size=16, color=\"black\")\n",
    "        )\n",
    "\n",
    "        # Add thinner horizontal lines for mean, median, variance, and standard deviation with enhanced annotations\n",
    "        scatter_fig.add_hline(y=wpa_mean, line_dash=\"dash\", line_color=\"red\", line_width=2, \n",
    "                              annotation_text=\"Mean\", annotation_position=\"bottom left\", \n",
    "                              annotation=dict(font_size=16, font_color=\"red\", align=\"left\", yshift=-10))\n",
    "        scatter_fig.add_hline(y=wpa_median, line_dash=\"dash\", line_color=\"green\", line_width=2, \n",
    "                              annotation_text=\"Median\", annotation_position=\"top right\", \n",
    "                              annotation=dict(font_size=16, font_color=\"green\", align=\"right\", yshift=10))\n",
    "        scatter_fig.add_hline(y=wpa_variance, line_dash=\"dot\", line_color=\"purple\", line_width=2, \n",
    "                              annotation_text=\"Variance\", annotation_position=\"top left\", \n",
    "                              annotation=dict(font_size=16, font_color=\"purple\", align=\"left\", yshift=20))\n",
    "        scatter_fig.add_hline(y=wpa_std_dev, line_dash=\"dot\", line_color=\"orange\", line_width=2, \n",
    "                              annotation_text=\"Std Dev\", annotation_position=\"bottom right\", \n",
    "                              annotation=dict(font_size=16, font_color=\"orange\", align=\"right\", yshift=-20))\n",
    "\n",
    "        # Update layout to remove the \"Player\" title\n",
    "        scatter_fig.update_layout(\n",
    "            title=dict(text='WPA for Top 50 WAR Players with Key Statistics', font=dict(size=24, color='black')),\n",
    "            yaxis_title=dict(text='WPA', font=dict(size=20, color='black')),\n",
    "            xaxis=dict(showticklabels=False),  # Remove individual player labels on x-axis\n",
    "            yaxis=dict(tickfont=dict(size=14, color='black')),  # Increase y-axis tick label size\n",
    "            legend=dict(yanchor=\"top\", y=0.99, xanchor=\"left\", x=0.01, font=dict(size=16, color='black')),  # Adjust legend font and position\n",
    "            plot_bgcolor='white',  # Set the background to white for a cleaner look\n",
    "            margin=dict(l=50, r=50, t=100, b=100)  # Adjust margins for better layout\n",
    "        )\n",
    "\n",
    "        # Add gridlines for better readability\n",
    "        scatter_fig.update_xaxes(showgrid=True, gridwidth=1, gridcolor='lightgrey')\n",
    "        scatter_fig.update_yaxes(showgrid=True, gridwidth=1, gridcolor='lightgrey')\n",
    "\n",
    "        # Show the figure\n",
    "        scatter_fig.show()\n",
    "    else:\n",
    "        print(\"No matching rows found or an error occurred.\")\n",
    "else:\n",
    "    print(\"Could not extract top 50 names.\")\n"
   ]
  },
  {
   "cell_type": "code",
   "execution_count": 100,
   "metadata": {},
   "outputs": [
    {
     "name": "stdout",
     "output_type": "stream",
     "text": [
      "Matching rows found in the second CSV:\n",
      "             Player  Age  WAR  WPA\n",
      "0      Tim Anderson   30 -2.0 -4.1\n",
      "1       Jean Segura   33 -1.9 -1.7\n",
      "2      Oscar Colás*   24 -1.5 -2.2\n",
      "3     Gavin Sheets*   27 -1.5 -0.6\n",
      "4   Michael Toglia#   24 -1.5 -1.3\n",
      "..              ...  ...  ...  ...\n",
      "61       Masyn Winn   21 -0.6 -1.1\n",
      "62        Wil Myers   32 -0.6 -1.4\n",
      "63   Hunter Renfroe   31 -0.6 -1.6\n",
      "64   Hunter Renfroe   31 -0.6 -1.2\n",
      "65   Hunter Renfroe   31 -0.6 -0.4\n",
      "\n",
      "[66 rows x 4 columns]\n"
     ]
    }
   ],
   "source": [
    "import pandas as pd\n",
    "\n",
    "def get_bottom_50_unique_names(data):\n",
    "    try:\n",
    "        # Extract and rename columns 2, 3, and 16\n",
    "        column_2 = data.iloc[:, 1].rename(\"Player\")  # Column 2 (index 1)\n",
    "        column_3 = data.iloc[:, 2].rename(\"Age\")     # Column 3 (index 2)\n",
    "        column_16 = data.iloc[:, 15].rename(\"WAR\")   # Column 16 (index 15)\n",
    "        \n",
    "        # Combine the three columns into a new DataFrame\n",
    "        combined_data = pd.DataFrame({\n",
    "            'Player': column_2,\n",
    "            'Age': column_3,\n",
    "            'WAR': column_16\n",
    "        })\n",
    "        \n",
    "        # Sort the data based on column 16 (WAR) in ascending order\n",
    "        sorted_data = combined_data.sort_values(by='WAR', ascending=True)\n",
    "        \n",
    "        # Drop duplicates to ensure uniqueness\n",
    "        unique_sorted_data = sorted_data.drop_duplicates(subset='Player').reset_index(drop=True)\n",
    "        \n",
    "        # Retrieve the bottom 50 unique rows based on column 16 (WAR)\n",
    "        bottom_50 = unique_sorted_data.head(50)\n",
    "        \n",
    "        return bottom_50\n",
    "        \n",
    "    except Exception as e:\n",
    "        print(f\"An error occurred: {e}\")\n",
    "        return None\n",
    "\n",
    "def find_wpa_for_bottom_50_war(bottom_50_df, filepath):\n",
    "    try:\n",
    "        # Load the second CSV file\n",
    "        data = pd.read_csv(filepath, encoding='latin1')\n",
    "        \n",
    "        # Extract and rename column 9 (assuming it's named \"WPA\")\n",
    "        column_9 = data.iloc[:, 8].rename(\"WPA\")  # Column 9 (index 8)\n",
    "        \n",
    "        # Combine the relevant columns into a new DataFrame\n",
    "        matching_data = pd.DataFrame({\n",
    "            'Player': data.iloc[:, 1],  # Column 2 (index 1)\n",
    "            'WPA': column_9\n",
    "        })\n",
    "        \n",
    "        # Filter the rows where the names match\n",
    "        matching_rows = bottom_50_df.merge(matching_data, on='Player', how='left')\n",
    "        \n",
    "        return matching_rows\n",
    "        \n",
    "    except Exception as e:\n",
    "        print(f\"An error occurred: {e}\")\n",
    "        return None\n",
    "\n",
    "# Load the first CSV and get the bottom 50 unique WAR players with their Age\n",
    "data = pd.read_csv(\"WAR_2023.csv\", encoding='latin1')\n",
    "bottom_50 = get_bottom_50_unique_names(data)\n",
    "\n",
    "if bottom_50 is not None:\n",
    "    # Find the WPA for the bottom 50 WAR players in the second CSV\n",
    "    second_csv_filepath = \"WPA_2023.csv\"\n",
    "    matching_rows = find_wpa_for_bottom_50_war(bottom_50, second_csv_filepath)\n",
    "    \n",
    "    if matching_rows is not None and not matching_rows.empty:\n",
    "        print(\"Matching rows found in the second CSV:\")\n",
    "        print(matching_rows)\n",
    "    else:\n",
    "        print(\"No matching rows found or an error occurred.\")\n",
    "else:\n",
    "    print(\"Could not extract bottom 50 names.\")\n"
   ]
  },
  {
   "cell_type": "code",
   "execution_count": 101,
   "metadata": {},
   "outputs": [
    {
     "name": "stdout",
     "output_type": "stream",
     "text": [
      "Matching rows found in the second CSV:\n",
      "           Player  Age  WAR  WPA\n",
      "     Tim Anderson   30 -2.0 -4.1\n",
      "      Jean Segura   33 -1.9 -1.7\n",
      "     Oscar Colás*   24 -1.5 -2.2\n",
      "    Gavin Sheets*   27 -1.5 -0.6\n",
      "  Michael Toglia#   24 -1.5 -1.3\n",
      "      Nick Maton*   26 -1.5 -0.6\n",
      " Oswaldo Cabrera#   24 -1.5 -0.6\n",
      "     Trey Mancini   31 -1.4 -0.9\n",
      "   Oscar González   25 -1.4 -1.7\n",
      "   Harold Castro*   29 -1.4 -1.3\n",
      "      Henry Davis   23 -1.4 -1.2\n",
      "     Nick Pratto*   24 -1.3 -1.1\n",
      "Jurickson Profar#   30 -1.3 -0.7\n",
      "Jurickson Profar#   30 -1.3 -0.7\n",
      "Jurickson Profar#   30 -1.3  0.0\n",
      "Brandon Crawford*   36 -1.3 -0.5\n",
      " Eduardo Escobar#   34 -1.1 -2.3\n",
      " Eduardo Escobar#   34 -1.1 -0.7\n",
      " Eduardo Escobar#   34 -1.1 -1.6\n",
      "Tyler Soderstrom*   21 -1.1 -1.6\n",
      "      Jordan Diaz   22 -1.1 -1.4\n",
      "    Austin Barnes   33 -1.1 -0.8\n",
      "    Cam Gallagher   30 -1.1 -1.9\n",
      "    Austin Hedges   30 -1.1 -1.7\n",
      "    Austin Hedges   30 -1.1 -1.5\n",
      "    Austin Hedges   30 -1.1 -0.3\n",
      "     Mark Vientos   23 -1.1 -1.5\n",
      "       Tony Kemp*   31 -1.0 -0.9\n",
      "      Kris Bryant   31 -1.0 -1.5\n",
      "     Jake Bauers*   27 -0.9 -1.1\n",
      "       Eric Haase   30 -0.9 -1.3\n",
      "       Eric Haase   30 -0.9 -1.3\n",
      "       Eric Haase   30 -0.9 -0.1\n",
      "     Jared Walsh*   29 -0.9 -1.2\n",
      "    Danny Mendick   29 -0.9 -0.7\n",
      "     Aledmys Díaz   32 -0.9 -1.7\n",
      "     Kolten Wong*   32 -0.9 -0.3\n",
      "     Kolten Wong*   32 -0.9 -0.4\n",
      "     Kolten Wong*   32 -0.9  0.1\n",
      "   Colton Cowser*   23 -0.8 -0.1\n",
      "Giancarlo Stanton   33 -0.8 -1.3\n",
      "     Pavin Smith*   27 -0.8 -0.5\n",
      "      Brett Baty*   23 -0.8 -1.7\n",
      "   Starling Marte   34 -0.8 -2.0\n",
      "       AJ Pollock   35 -0.8 -1.0\n",
      "       AJ Pollock   35 -0.8 -0.8\n",
      "       AJ Pollock   35 -0.8 -0.2\n",
      "       Tomás Nido   29 -0.8 -0.7\n",
      "       Lenyn Sosa   23 -0.8 -1.4\n",
      "       Juan Yepez   25 -0.7 -0.7\n",
      "    Oswald Peraza   23 -0.7 -0.9\n",
      "  Trayce Thompson   32 -0.7 -1.3\n",
      "  Trayce Thompson   32 -0.7 -0.3\n",
      "  Trayce Thompson   32 -0.7 -1.0\n",
      "    David Hensley   27 -0.7 -0.7\n",
      "        Korey Lee   24 -0.7 -0.9\n",
      "     Jordyn Adams   23 -0.7 -0.5\n",
      "   Vaughn Grissom   22 -0.7  0.1\n",
      "    Jesse Winker*   29 -0.7  1.0\n",
      " Yasmani Grandal#   34 -0.7 -2.3\n",
      "  Everson Pereira   22 -0.6 -0.5\n",
      "       Masyn Winn   21 -0.6 -1.1\n",
      "        Wil Myers   32 -0.6 -1.4\n",
      "   Hunter Renfroe   31 -0.6 -1.6\n",
      "   Hunter Renfroe   31 -0.6 -1.2\n",
      "   Hunter Renfroe   31 -0.6 -0.4\n"
     ]
    }
   ],
   "source": [
    "import pandas as pd\n",
    "\n",
    "def get_bottom_50_unique_names(data):\n",
    "    try:\n",
    "        # Extract and rename columns 2, 3, and 16\n",
    "        column_2 = data.iloc[:, 1].rename(\"Player\")  # Column 2 (index 1)\n",
    "        column_3 = data.iloc[:, 2].rename(\"Age\")     # Column 3 (index 2)\n",
    "        column_16 = data.iloc[:, 15].rename(\"WAR\")   # Column 16 (index 15)\n",
    "        \n",
    "        # Combine the three columns into a new DataFrame\n",
    "        combined_data = pd.DataFrame({\n",
    "            'Player': column_2,\n",
    "            'Age': column_3,\n",
    "            'WAR': column_16\n",
    "        })\n",
    "        \n",
    "        # Sort the data based on column 16 (WAR) in ascending order\n",
    "        sorted_data = combined_data.sort_values(by='WAR', ascending=True)\n",
    "        \n",
    "        # Drop duplicates to ensure uniqueness\n",
    "        unique_sorted_data = sorted_data.drop_duplicates(subset='Player').reset_index(drop=True)\n",
    "        \n",
    "        # Retrieve the bottom 50 unique rows based on column 16 (WAR)\n",
    "        bottom_50 = unique_sorted_data.head(50)\n",
    "        \n",
    "        return bottom_50\n",
    "        \n",
    "    except Exception as e:\n",
    "        print(f\"An error occurred: {e}\")\n",
    "        return None\n",
    "\n",
    "def find_wpa_for_bottom_50_war(bottom_50_df, filepath):\n",
    "    try:\n",
    "        # Load the second CSV file\n",
    "        data = pd.read_csv(filepath, encoding='latin1')\n",
    "        \n",
    "        # Extract and rename column 9 (assuming it's named \"WPA\")\n",
    "        column_9 = data.iloc[:, 8].rename(\"WPA\")  # Column 9 (index 8)\n",
    "        \n",
    "        # Combine the relevant columns into a new DataFrame\n",
    "        matching_data = pd.DataFrame({\n",
    "            'Player': data.iloc[:, 1],  # Column 2 (index 1)\n",
    "            'WPA': column_9\n",
    "        })\n",
    "        \n",
    "        # Filter the rows where the names match\n",
    "        matching_rows = bottom_50_df.merge(matching_data, on='Player', how='left')\n",
    "        \n",
    "        return matching_rows\n",
    "        \n",
    "    except Exception as e:\n",
    "        print(f\"An error occurred: {e}\")\n",
    "        return None\n",
    "\n",
    "# Load the first CSV and get the bottom 50 unique WAR players with their Age\n",
    "data = pd.read_csv(\"WAR_2023.csv\", encoding='latin1')\n",
    "bottom_50 = get_bottom_50_unique_names(data)\n",
    "\n",
    "if bottom_50 is not None:\n",
    "    # Find the WPA for the bottom 50 WAR players in the second CSV\n",
    "    second_csv_filepath = \"WPA_2023.csv\"\n",
    "    matching_rows = find_wpa_for_bottom_50_war(bottom_50, second_csv_filepath)\n",
    "    \n",
    "    if matching_rows is not None and not matching_rows.empty:\n",
    "        print(\"Matching rows found in the second CSV:\")\n",
    "        print(matching_rows.to_string(index=False))\n",
    "    else:\n",
    "        print(\"No matching rows found or an error occurred.\")\n",
    "else:\n",
    "    print(\"Could not extract bottom 50 names.\")\n"
   ]
  },
  {
   "cell_type": "code",
   "execution_count": 102,
   "metadata": {},
   "outputs": [
    {
     "data": {
      "application/vnd.plotly.v1+json": {
       "config": {
        "plotlyServerURL": "https://plot.ly"
       },
       "data": [
        {
         "marker": {
          "color": "purple",
          "line": {
           "color": "DarkSlateGrey",
           "width": 1
          },
          "size": 8,
          "symbol": "circle"
         },
         "mode": "markers",
         "name": "WPA Values",
         "type": "scatter",
         "x": [
          "Tim Anderson",
          "Jean Segura",
          "Oscar Colás*",
          "Gavin Sheets*",
          "Michael Toglia#",
          "Nick Maton*",
          "Oswaldo Cabrera#",
          "Trey Mancini",
          "Oscar González",
          "Harold Castro*",
          "Henry Davis",
          "Nick Pratto*",
          "Jurickson Profar#",
          "Brandon Crawford*",
          "Eduardo Escobar#",
          "Tyler Soderstrom*",
          "Jordan Diaz",
          "Austin Barnes",
          "Cam Gallagher",
          "Austin Hedges",
          "Mark Vientos",
          "Tony Kemp*",
          "Kris Bryant",
          "Jake Bauers*",
          "Eric Haase",
          "Jared Walsh*",
          "Danny Mendick",
          "Aledmys Díaz",
          "Kolten Wong*",
          "Colton Cowser*",
          "Giancarlo Stanton",
          "Pavin Smith*",
          "Brett Baty*",
          "Starling Marte",
          "AJ Pollock",
          "Tomás Nido",
          "Lenyn Sosa",
          "Juan Yepez",
          "Oswald Peraza",
          "Trayce Thompson",
          "David Hensley",
          "Korey Lee",
          "Jordyn Adams",
          "Vaughn Grissom",
          "Jesse Winker*",
          "Yasmani Grandal#",
          "Everson Pereira",
          "Masyn Winn",
          "Wil Myers",
          "Hunter Renfroe"
         ],
         "y": [
          -4.1,
          -1.7,
          -2.2,
          -0.6,
          -1.3,
          -0.6,
          -0.6,
          -0.9,
          -1.7,
          -1.3,
          -1.2,
          -1.1,
          -0.7,
          -0.5,
          -2.3,
          -1.6,
          -1.4,
          -0.8,
          -1.9,
          -1.7,
          -1.5,
          -0.9,
          -1.5,
          -1.1,
          -1.3,
          -1.2,
          -0.7,
          -1.7,
          -0.3,
          -0.1,
          -1.3,
          -0.5,
          -1.7,
          -2,
          -1,
          -0.7,
          -1.4,
          -0.7,
          -0.9,
          -1.3,
          -0.7,
          -0.9,
          -0.5,
          0.1,
          1,
          -2.3,
          -0.5,
          -1.1,
          -1.4,
          -1.6
         ]
        }
       ],
       "layout": {
        "annotations": [
         {
          "font": {
           "color": "black",
           "size": 16
          },
          "showarrow": false,
          "text": "Mean: -1.16, Median: -1.15, Variance: 0.58, Std Dev: 0.76",
          "x": 0.5,
          "xref": "paper",
          "y": 1.15,
          "yref": "paper"
         },
         {
          "align": "left",
          "font": {
           "color": "red",
           "size": 16
          },
          "showarrow": false,
          "text": "Mean",
          "x": 0,
          "xanchor": "left",
          "xref": "x domain",
          "y": -1.158,
          "yanchor": "top",
          "yref": "y",
          "yshift": -10
         },
         {
          "align": "right",
          "font": {
           "color": "green",
           "size": 16
          },
          "showarrow": false,
          "text": "Median",
          "x": 1,
          "xanchor": "right",
          "xref": "x domain",
          "y": -1.15,
          "yanchor": "bottom",
          "yref": "y",
          "yshift": 10
         },
         {
          "align": "left",
          "font": {
           "color": "purple",
           "size": 16
          },
          "showarrow": false,
          "text": "Variance",
          "x": 0,
          "xanchor": "left",
          "xref": "x domain",
          "y": 0.5759551020408162,
          "yanchor": "bottom",
          "yref": "y",
          "yshift": 20
         },
         {
          "align": "right",
          "font": {
           "color": "orange",
           "size": 16
          },
          "showarrow": false,
          "text": "Std Dev",
          "x": 1,
          "xanchor": "right",
          "xref": "x domain",
          "y": 0.7589170587362075,
          "yanchor": "top",
          "yref": "y",
          "yshift": -20
         }
        ],
        "legend": {
         "font": {
          "color": "black",
          "size": 16
         },
         "x": 0.01,
         "xanchor": "left",
         "y": 0.99,
         "yanchor": "top"
        },
        "margin": {
         "b": 100,
         "l": 50,
         "r": 50,
         "t": 100
        },
        "plot_bgcolor": "white",
        "shapes": [
         {
          "line": {
           "color": "red",
           "dash": "dash",
           "width": 2
          },
          "type": "line",
          "x0": 0,
          "x1": 1,
          "xref": "x domain",
          "y0": -1.158,
          "y1": -1.158,
          "yref": "y"
         },
         {
          "line": {
           "color": "green",
           "dash": "dash",
           "width": 2
          },
          "type": "line",
          "x0": 0,
          "x1": 1,
          "xref": "x domain",
          "y0": -1.15,
          "y1": -1.15,
          "yref": "y"
         },
         {
          "line": {
           "color": "purple",
           "dash": "dot",
           "width": 2
          },
          "type": "line",
          "x0": 0,
          "x1": 1,
          "xref": "x domain",
          "y0": 0.5759551020408162,
          "y1": 0.5759551020408162,
          "yref": "y"
         },
         {
          "line": {
           "color": "orange",
           "dash": "dot",
           "width": 2
          },
          "type": "line",
          "x0": 0,
          "x1": 1,
          "xref": "x domain",
          "y0": 0.7589170587362075,
          "y1": 0.7589170587362075,
          "yref": "y"
         }
        ],
        "template": {
         "data": {
          "bar": [
           {
            "error_x": {
             "color": "#2a3f5f"
            },
            "error_y": {
             "color": "#2a3f5f"
            },
            "marker": {
             "line": {
              "color": "#E5ECF6",
              "width": 0.5
             },
             "pattern": {
              "fillmode": "overlay",
              "size": 10,
              "solidity": 0.2
             }
            },
            "type": "bar"
           }
          ],
          "barpolar": [
           {
            "marker": {
             "line": {
              "color": "#E5ECF6",
              "width": 0.5
             },
             "pattern": {
              "fillmode": "overlay",
              "size": 10,
              "solidity": 0.2
             }
            },
            "type": "barpolar"
           }
          ],
          "carpet": [
           {
            "aaxis": {
             "endlinecolor": "#2a3f5f",
             "gridcolor": "white",
             "linecolor": "white",
             "minorgridcolor": "white",
             "startlinecolor": "#2a3f5f"
            },
            "baxis": {
             "endlinecolor": "#2a3f5f",
             "gridcolor": "white",
             "linecolor": "white",
             "minorgridcolor": "white",
             "startlinecolor": "#2a3f5f"
            },
            "type": "carpet"
           }
          ],
          "choropleth": [
           {
            "colorbar": {
             "outlinewidth": 0,
             "ticks": ""
            },
            "type": "choropleth"
           }
          ],
          "contour": [
           {
            "colorbar": {
             "outlinewidth": 0,
             "ticks": ""
            },
            "colorscale": [
             [
              0,
              "#0d0887"
             ],
             [
              0.1111111111111111,
              "#46039f"
             ],
             [
              0.2222222222222222,
              "#7201a8"
             ],
             [
              0.3333333333333333,
              "#9c179e"
             ],
             [
              0.4444444444444444,
              "#bd3786"
             ],
             [
              0.5555555555555556,
              "#d8576b"
             ],
             [
              0.6666666666666666,
              "#ed7953"
             ],
             [
              0.7777777777777778,
              "#fb9f3a"
             ],
             [
              0.8888888888888888,
              "#fdca26"
             ],
             [
              1,
              "#f0f921"
             ]
            ],
            "type": "contour"
           }
          ],
          "contourcarpet": [
           {
            "colorbar": {
             "outlinewidth": 0,
             "ticks": ""
            },
            "type": "contourcarpet"
           }
          ],
          "heatmap": [
           {
            "colorbar": {
             "outlinewidth": 0,
             "ticks": ""
            },
            "colorscale": [
             [
              0,
              "#0d0887"
             ],
             [
              0.1111111111111111,
              "#46039f"
             ],
             [
              0.2222222222222222,
              "#7201a8"
             ],
             [
              0.3333333333333333,
              "#9c179e"
             ],
             [
              0.4444444444444444,
              "#bd3786"
             ],
             [
              0.5555555555555556,
              "#d8576b"
             ],
             [
              0.6666666666666666,
              "#ed7953"
             ],
             [
              0.7777777777777778,
              "#fb9f3a"
             ],
             [
              0.8888888888888888,
              "#fdca26"
             ],
             [
              1,
              "#f0f921"
             ]
            ],
            "type": "heatmap"
           }
          ],
          "heatmapgl": [
           {
            "colorbar": {
             "outlinewidth": 0,
             "ticks": ""
            },
            "colorscale": [
             [
              0,
              "#0d0887"
             ],
             [
              0.1111111111111111,
              "#46039f"
             ],
             [
              0.2222222222222222,
              "#7201a8"
             ],
             [
              0.3333333333333333,
              "#9c179e"
             ],
             [
              0.4444444444444444,
              "#bd3786"
             ],
             [
              0.5555555555555556,
              "#d8576b"
             ],
             [
              0.6666666666666666,
              "#ed7953"
             ],
             [
              0.7777777777777778,
              "#fb9f3a"
             ],
             [
              0.8888888888888888,
              "#fdca26"
             ],
             [
              1,
              "#f0f921"
             ]
            ],
            "type": "heatmapgl"
           }
          ],
          "histogram": [
           {
            "marker": {
             "pattern": {
              "fillmode": "overlay",
              "size": 10,
              "solidity": 0.2
             }
            },
            "type": "histogram"
           }
          ],
          "histogram2d": [
           {
            "colorbar": {
             "outlinewidth": 0,
             "ticks": ""
            },
            "colorscale": [
             [
              0,
              "#0d0887"
             ],
             [
              0.1111111111111111,
              "#46039f"
             ],
             [
              0.2222222222222222,
              "#7201a8"
             ],
             [
              0.3333333333333333,
              "#9c179e"
             ],
             [
              0.4444444444444444,
              "#bd3786"
             ],
             [
              0.5555555555555556,
              "#d8576b"
             ],
             [
              0.6666666666666666,
              "#ed7953"
             ],
             [
              0.7777777777777778,
              "#fb9f3a"
             ],
             [
              0.8888888888888888,
              "#fdca26"
             ],
             [
              1,
              "#f0f921"
             ]
            ],
            "type": "histogram2d"
           }
          ],
          "histogram2dcontour": [
           {
            "colorbar": {
             "outlinewidth": 0,
             "ticks": ""
            },
            "colorscale": [
             [
              0,
              "#0d0887"
             ],
             [
              0.1111111111111111,
              "#46039f"
             ],
             [
              0.2222222222222222,
              "#7201a8"
             ],
             [
              0.3333333333333333,
              "#9c179e"
             ],
             [
              0.4444444444444444,
              "#bd3786"
             ],
             [
              0.5555555555555556,
              "#d8576b"
             ],
             [
              0.6666666666666666,
              "#ed7953"
             ],
             [
              0.7777777777777778,
              "#fb9f3a"
             ],
             [
              0.8888888888888888,
              "#fdca26"
             ],
             [
              1,
              "#f0f921"
             ]
            ],
            "type": "histogram2dcontour"
           }
          ],
          "mesh3d": [
           {
            "colorbar": {
             "outlinewidth": 0,
             "ticks": ""
            },
            "type": "mesh3d"
           }
          ],
          "parcoords": [
           {
            "line": {
             "colorbar": {
              "outlinewidth": 0,
              "ticks": ""
             }
            },
            "type": "parcoords"
           }
          ],
          "pie": [
           {
            "automargin": true,
            "type": "pie"
           }
          ],
          "scatter": [
           {
            "fillpattern": {
             "fillmode": "overlay",
             "size": 10,
             "solidity": 0.2
            },
            "type": "scatter"
           }
          ],
          "scatter3d": [
           {
            "line": {
             "colorbar": {
              "outlinewidth": 0,
              "ticks": ""
             }
            },
            "marker": {
             "colorbar": {
              "outlinewidth": 0,
              "ticks": ""
             }
            },
            "type": "scatter3d"
           }
          ],
          "scattercarpet": [
           {
            "marker": {
             "colorbar": {
              "outlinewidth": 0,
              "ticks": ""
             }
            },
            "type": "scattercarpet"
           }
          ],
          "scattergeo": [
           {
            "marker": {
             "colorbar": {
              "outlinewidth": 0,
              "ticks": ""
             }
            },
            "type": "scattergeo"
           }
          ],
          "scattergl": [
           {
            "marker": {
             "colorbar": {
              "outlinewidth": 0,
              "ticks": ""
             }
            },
            "type": "scattergl"
           }
          ],
          "scattermapbox": [
           {
            "marker": {
             "colorbar": {
              "outlinewidth": 0,
              "ticks": ""
             }
            },
            "type": "scattermapbox"
           }
          ],
          "scatterpolar": [
           {
            "marker": {
             "colorbar": {
              "outlinewidth": 0,
              "ticks": ""
             }
            },
            "type": "scatterpolar"
           }
          ],
          "scatterpolargl": [
           {
            "marker": {
             "colorbar": {
              "outlinewidth": 0,
              "ticks": ""
             }
            },
            "type": "scatterpolargl"
           }
          ],
          "scatterternary": [
           {
            "marker": {
             "colorbar": {
              "outlinewidth": 0,
              "ticks": ""
             }
            },
            "type": "scatterternary"
           }
          ],
          "surface": [
           {
            "colorbar": {
             "outlinewidth": 0,
             "ticks": ""
            },
            "colorscale": [
             [
              0,
              "#0d0887"
             ],
             [
              0.1111111111111111,
              "#46039f"
             ],
             [
              0.2222222222222222,
              "#7201a8"
             ],
             [
              0.3333333333333333,
              "#9c179e"
             ],
             [
              0.4444444444444444,
              "#bd3786"
             ],
             [
              0.5555555555555556,
              "#d8576b"
             ],
             [
              0.6666666666666666,
              "#ed7953"
             ],
             [
              0.7777777777777778,
              "#fb9f3a"
             ],
             [
              0.8888888888888888,
              "#fdca26"
             ],
             [
              1,
              "#f0f921"
             ]
            ],
            "type": "surface"
           }
          ],
          "table": [
           {
            "cells": {
             "fill": {
              "color": "#EBF0F8"
             },
             "line": {
              "color": "white"
             }
            },
            "header": {
             "fill": {
              "color": "#C8D4E3"
             },
             "line": {
              "color": "white"
             }
            },
            "type": "table"
           }
          ]
         },
         "layout": {
          "annotationdefaults": {
           "arrowcolor": "#2a3f5f",
           "arrowhead": 0,
           "arrowwidth": 1
          },
          "autotypenumbers": "strict",
          "coloraxis": {
           "colorbar": {
            "outlinewidth": 0,
            "ticks": ""
           }
          },
          "colorscale": {
           "diverging": [
            [
             0,
             "#8e0152"
            ],
            [
             0.1,
             "#c51b7d"
            ],
            [
             0.2,
             "#de77ae"
            ],
            [
             0.3,
             "#f1b6da"
            ],
            [
             0.4,
             "#fde0ef"
            ],
            [
             0.5,
             "#f7f7f7"
            ],
            [
             0.6,
             "#e6f5d0"
            ],
            [
             0.7,
             "#b8e186"
            ],
            [
             0.8,
             "#7fbc41"
            ],
            [
             0.9,
             "#4d9221"
            ],
            [
             1,
             "#276419"
            ]
           ],
           "sequential": [
            [
             0,
             "#0d0887"
            ],
            [
             0.1111111111111111,
             "#46039f"
            ],
            [
             0.2222222222222222,
             "#7201a8"
            ],
            [
             0.3333333333333333,
             "#9c179e"
            ],
            [
             0.4444444444444444,
             "#bd3786"
            ],
            [
             0.5555555555555556,
             "#d8576b"
            ],
            [
             0.6666666666666666,
             "#ed7953"
            ],
            [
             0.7777777777777778,
             "#fb9f3a"
            ],
            [
             0.8888888888888888,
             "#fdca26"
            ],
            [
             1,
             "#f0f921"
            ]
           ],
           "sequentialminus": [
            [
             0,
             "#0d0887"
            ],
            [
             0.1111111111111111,
             "#46039f"
            ],
            [
             0.2222222222222222,
             "#7201a8"
            ],
            [
             0.3333333333333333,
             "#9c179e"
            ],
            [
             0.4444444444444444,
             "#bd3786"
            ],
            [
             0.5555555555555556,
             "#d8576b"
            ],
            [
             0.6666666666666666,
             "#ed7953"
            ],
            [
             0.7777777777777778,
             "#fb9f3a"
            ],
            [
             0.8888888888888888,
             "#fdca26"
            ],
            [
             1,
             "#f0f921"
            ]
           ]
          },
          "colorway": [
           "#636efa",
           "#EF553B",
           "#00cc96",
           "#ab63fa",
           "#FFA15A",
           "#19d3f3",
           "#FF6692",
           "#B6E880",
           "#FF97FF",
           "#FECB52"
          ],
          "font": {
           "color": "#2a3f5f"
          },
          "geo": {
           "bgcolor": "white",
           "lakecolor": "white",
           "landcolor": "#E5ECF6",
           "showlakes": true,
           "showland": true,
           "subunitcolor": "white"
          },
          "hoverlabel": {
           "align": "left"
          },
          "hovermode": "closest",
          "mapbox": {
           "style": "light"
          },
          "paper_bgcolor": "white",
          "plot_bgcolor": "#E5ECF6",
          "polar": {
           "angularaxis": {
            "gridcolor": "white",
            "linecolor": "white",
            "ticks": ""
           },
           "bgcolor": "#E5ECF6",
           "radialaxis": {
            "gridcolor": "white",
            "linecolor": "white",
            "ticks": ""
           }
          },
          "scene": {
           "xaxis": {
            "backgroundcolor": "#E5ECF6",
            "gridcolor": "white",
            "gridwidth": 2,
            "linecolor": "white",
            "showbackground": true,
            "ticks": "",
            "zerolinecolor": "white"
           },
           "yaxis": {
            "backgroundcolor": "#E5ECF6",
            "gridcolor": "white",
            "gridwidth": 2,
            "linecolor": "white",
            "showbackground": true,
            "ticks": "",
            "zerolinecolor": "white"
           },
           "zaxis": {
            "backgroundcolor": "#E5ECF6",
            "gridcolor": "white",
            "gridwidth": 2,
            "linecolor": "white",
            "showbackground": true,
            "ticks": "",
            "zerolinecolor": "white"
           }
          },
          "shapedefaults": {
           "line": {
            "color": "#2a3f5f"
           }
          },
          "ternary": {
           "aaxis": {
            "gridcolor": "white",
            "linecolor": "white",
            "ticks": ""
           },
           "baxis": {
            "gridcolor": "white",
            "linecolor": "white",
            "ticks": ""
           },
           "bgcolor": "#E5ECF6",
           "caxis": {
            "gridcolor": "white",
            "linecolor": "white",
            "ticks": ""
           }
          },
          "title": {
           "x": 0.05
          },
          "xaxis": {
           "automargin": true,
           "gridcolor": "white",
           "linecolor": "white",
           "ticks": "",
           "title": {
            "standoff": 15
           },
           "zerolinecolor": "white",
           "zerolinewidth": 2
          },
          "yaxis": {
           "automargin": true,
           "gridcolor": "white",
           "linecolor": "white",
           "ticks": "",
           "title": {
            "standoff": 15
           },
           "zerolinecolor": "white",
           "zerolinewidth": 2
          }
         }
        },
        "title": {
         "font": {
          "color": "black",
          "size": 24
         },
         "text": "WPA for Bottom 50 WAR Players with Key Statistics"
        },
        "xaxis": {
         "gridcolor": "lightgrey",
         "gridwidth": 1,
         "showgrid": true,
         "showticklabels": false
        },
        "yaxis": {
         "gridcolor": "lightgrey",
         "gridwidth": 1,
         "showgrid": true,
         "tickfont": {
          "color": "black",
          "size": 14
         },
         "title": {
          "font": {
           "color": "black",
           "size": 20
          },
          "text": "WPA"
         }
        }
       }
      }
     },
     "metadata": {},
     "output_type": "display_data"
    }
   ],
   "source": [
    "import pandas as pd\n",
    "import plotly.graph_objects as go\n",
    "import numpy as np\n",
    "\n",
    "def get_bottom_50_unique_names(data):\n",
    "    try:\n",
    "        column_2 = data.iloc[:, 1].rename(\"Player\")  # Column 2 (index 1)\n",
    "        column_16 = data.iloc[:, 15].rename(\"WAR\")  # Column 16 (index 15)\n",
    "        \n",
    "        combined_data = pd.DataFrame({\n",
    "            'Player': column_2,\n",
    "            'WAR': column_16\n",
    "        })\n",
    "        \n",
    "        # Sort the data based on column 16 (WAR) in ascending order to get the bottom players\n",
    "        sorted_data = combined_data.sort_values(by='WAR', ascending=True)\n",
    "        unique_sorted_data = sorted_data.drop_duplicates(subset='Player').reset_index(drop=True)\n",
    "        bottom_50 = unique_sorted_data.head(50)\n",
    "        \n",
    "        return bottom_50\n",
    "        \n",
    "    except Exception as e:\n",
    "        print(f\"An error occurred: {e}\")\n",
    "        return None\n",
    "\n",
    "def find_wpa_for_bottom_50_war(bottom_50_df, filepath):\n",
    "    try:\n",
    "        data = pd.read_csv(filepath, encoding='latin1')\n",
    "        column_9 = data.iloc[:, 8].rename(\"WPA\")  # Column 9 (index 8)\n",
    "        \n",
    "        matching_data = pd.DataFrame({\n",
    "            'Player': data.iloc[:, 1],  # Column 2 (index 1)\n",
    "            'WPA': column_9\n",
    "        }).drop_duplicates(subset='Player')  # Drop duplicates to ensure uniqueness\n",
    "        \n",
    "        matching_rows = bottom_50_df.merge(matching_data, on='Player', how='left')\n",
    "        \n",
    "        return matching_rows\n",
    "        \n",
    "    except Exception as e:\n",
    "        print(f\"An error occurred: {e}\")\n",
    "        return None\n",
    "\n",
    "# Define the paths to your CSV files\n",
    "war_csv_file_path = 'WAR_2023.csv'\n",
    "wpa_csv_file_path = 'WPA_2023.csv'\n",
    "\n",
    "# Load the WAR data from the first CSV file\n",
    "war_data = pd.read_csv(war_csv_file_path, encoding='latin1')\n",
    "\n",
    "# Get the bottom 50 unique WAR players\n",
    "bottom_50 = get_bottom_50_unique_names(war_data)\n",
    "\n",
    "if bottom_50 is not None:\n",
    "    # Find the WPA for the bottom 50 WAR players in the WPA CSV\n",
    "    matching_rows = find_wpa_for_bottom_50_war(bottom_50, wpa_csv_file_path)\n",
    "    \n",
    "    if matching_rows is not None and not matching_rows.empty:\n",
    "        # Calculate statistics for WPA values\n",
    "        wpa_values = matching_rows['WPA'].dropna()\n",
    "        wpa_mean = wpa_values.mean()\n",
    "        wpa_median = wpa_values.median()\n",
    "        wpa_variance = wpa_values.var()\n",
    "        wpa_std_dev = wpa_values.std()\n",
    "\n",
    "        # Create the scatter plot with purple dots\n",
    "        scatter_fig = go.Figure()\n",
    "\n",
    "        scatter_fig.add_trace(go.Scatter(\n",
    "            x=matching_rows['Player'],\n",
    "            y=matching_rows['WPA'],\n",
    "            mode='markers',\n",
    "            marker=dict(symbol='circle', color='purple', size=8, line=dict(color='DarkSlateGrey', width=1)),\n",
    "            name='WPA Values'\n",
    "        ))\n",
    "\n",
    "        # Add statistics as annotations above the graph\n",
    "        scatter_fig.add_annotation(\n",
    "            text=f\"Mean: {wpa_mean:.2f}, Median: {wpa_median:.2f}, Variance: {wpa_variance:.2f}, Std Dev: {wpa_std_dev:.2f}\",\n",
    "            xref=\"paper\", yref=\"paper\",\n",
    "            x=0.5, y=1.15, showarrow=False,\n",
    "            font=dict(size=16, color=\"black\")\n",
    "        )\n",
    "\n",
    "        # Add thinner horizontal lines for mean, median, variance, and standard deviation with enhanced annotations\n",
    "        scatter_fig.add_hline(y=wpa_mean, line_dash=\"dash\", line_color=\"red\", line_width=2, \n",
    "                              annotation_text=\"Mean\", annotation_position=\"bottom left\", \n",
    "                              annotation=dict(font_size=16, font_color=\"red\", align=\"left\", yshift=-10))\n",
    "        scatter_fig.add_hline(y=wpa_median, line_dash=\"dash\", line_color=\"green\", line_width=2, \n",
    "                              annotation_text=\"Median\", annotation_position=\"top right\", \n",
    "                              annotation=dict(font_size=16, font_color=\"green\", align=\"right\", yshift=10))\n",
    "        scatter_fig.add_hline(y=wpa_variance, line_dash=\"dot\", line_color=\"purple\", line_width=2, \n",
    "                              annotation_text=\"Variance\", annotation_position=\"top left\", \n",
    "                              annotation=dict(font_size=16, font_color=\"purple\", align=\"left\", yshift=20))\n",
    "        scatter_fig.add_hline(y=wpa_std_dev, line_dash=\"dot\", line_color=\"orange\", line_width=2, \n",
    "                              annotation_text=\"Std Dev\", annotation_position=\"bottom right\", \n",
    "                              annotation=dict(font_size=16, font_color=\"orange\", align=\"right\", yshift=-20))\n",
    "\n",
    "        # Update layout to remove the \"Player\" title\n",
    "        scatter_fig.update_layout(\n",
    "            title=dict(text='WPA for Bottom 50 WAR Players with Key Statistics', font=dict(size=24, color='black')),\n",
    "            yaxis_title=dict(text='WPA', font=dict(size=20, color='black')),\n",
    "            xaxis=dict(showticklabels=False),  # Remove individual player labels on x-axis\n",
    "            yaxis=dict(tickfont=dict(size=14, color='black')),  # Increase y-axis tick label size\n",
    "            legend=dict(yanchor=\"top\", y=0.99, xanchor=\"left\", x=0.01, font=dict(size=16, color='black')),  # Adjust legend font and position\n",
    "            plot_bgcolor='white',  # Set the background to white for a cleaner look\n",
    "            margin=dict(l=50, r=50, t=100, b=100)  # Adjust margins for better layout\n",
    "        )\n",
    "\n",
    "        # Add gridlines for better readability\n",
    "        scatter_fig.update_xaxes(showgrid=True, gridwidth=1, gridcolor='lightgrey')\n",
    "        scatter_fig.update_yaxes(showgrid=True, gridwidth=1, gridcolor='lightgrey')\n",
    "\n",
    "        # Show the figure\n",
    "        scatter_fig.show()\n",
    "    else:\n",
    "        print(\"No matching rows found or an error occurred.\")\n",
    "else:\n",
    "    print(\"Could not extract bottom 50 names.\")\n"
   ]
  },
  {
   "cell_type": "markdown",
   "metadata": {},
   "source": [
    "$μ_2$ = war and  $μ_1$ = wpi \n",
    "\n",
    "this formula does this this and this\n",
    "will explain this this and this\n",
    "\n",
    "this is how ive applied it to my two datasets\n",
    "\n",
    "show box plot\n"
   ]
  },
  {
   "cell_type": "markdown",
   "metadata": {},
   "source": [
    "# Hypothesis Tests - Results and Discusssion"
   ]
  },
  {
   "cell_type": "markdown",
   "metadata": {},
   "source": [
    " To determine whether there is a correlation between WAR and winning percentage and WPA, a pooled variance t-test must be implemented, this is due to the ratio of the variances being less than three, as seen in Figures 2 and 3. This calculation assumes that the population data is not heavily skewed. The calculation of the test statistic (t) is calculated using:"
   ]
  },
  {
   "cell_type": "markdown",
   "metadata": {},
   "source": [
    "$\\bar{X_1} =  51.9$\n",
    "\n",
    "$\\bar{X_2} =  48.9$\n",
    "\n",
    "$S_1 =  0.423$\n",
    "\n",
    "$S_2 =  0.168$\n",
    "\n",
    "$n_1 = 50$\n",
    "\n",
    "$n_2 = 50$\n"
   ]
  },
  {
   "cell_type": "markdown",
   "metadata": {},
   "source": [
    "Using those values, t can be found:"
   ]
  },
  {
   "cell_type": "markdown",
   "metadata": {},
   "source": [
    "$t = \\frac{(\\bar{X_1} - \\bar{X_2}) - (\\mu_1 - \\mu_2)}{\\sqrt{s_p^2 \\left(\\frac{1}{n_1} + \\frac{1}{n_2}\\right)}}$\n"
   ]
  },
  {
   "cell_type": "markdown",
   "metadata": {},
   "source": [
    "Where:"
   ]
  },
  {
   "cell_type": "markdown",
   "metadata": {},
   "source": [
    "$s_p^2 = \\frac{(n_1 - 1) s_1^2 + (n_2 - 1) s_2^2}{(n_1 - 1) + (n_2 - 1)}$\n"
   ]
  },
  {
   "cell_type": "code",
   "execution_count": 103,
   "metadata": {},
   "outputs": [
    {
     "name": "stdout",
     "output_type": "stream",
     "text": [
      "The calculated t-value is: 46.60801889103182\n"
     ]
    }
   ],
   "source": [
    "# Given values\n",
    "X1_bar = 51.9\n",
    "X2_bar = 48.9\n",
    "S1 = 0.423\n",
    "S2 = 0.168\n",
    "n1 = 50\n",
    "n2 = 50\n",
    "\n",
    "# Calculating s_p^2\n",
    "s_p2 = ((n1 - 1) * S1**2 + (n2 - 1) * S2**2) / ((n1 - 1) + (n2 - 1))\n",
    "\n",
    "# Calculating t\n",
    "mu1_minus_mu2 = 0  # Assuming (μ1 - μ2) = 0 for the null hypothesis\n",
    "t = (X1_bar - X2_bar - mu1_minus_mu2) / ((s_p2 * (1/n1 + 1/n2)) ** 0.5)\n",
    "\n",
    "# Output the result\n",
    "print(f\"The calculated t-value is: {t}\")\n"
   ]
  },
  {
   "cell_type": "markdown",
   "metadata": {},
   "source": [
    "As the test statistic follows a $ n1+n2-2 $ distribution, the degrees of freedom = "
   ]
  },
  {
   "cell_type": "markdown",
   "metadata": {},
   "source": [
    "$n_1+n_2-2;   50+50-2$"
   ]
  },
  {
   "cell_type": "markdown",
   "metadata": {},
   "source": [
    "If we assume that the significance level α = 0.05, the critical value is:\n",
    "\n",
    "\n"
   ]
  },
  {
   "cell_type": "markdown",
   "metadata": {},
   "source": [
    "±*t* 46.59 = ±1.984"
   ]
  },
  {
   "cell_type": "markdown",
   "metadata": {},
   "source": [
    "\n",
    "For this example of WAR and team winning percentage, we reject the null hypothesis \\(H_0\\) if \\(t > 1.984\\) or \\(t < -1.984\\). As \\(46.59\\) is greater than \\(1.984\\), we reject the null hypothesis in favour of the alternative hypothesis \\(H_A\\). The p-value tells us how likely it is for the data obtained to occur under the null hypothesis (Bevans, 2022). To find the p-value, Excel’s `T.DIST` function will be utilized, using \\(t = 46.59\\) and degrees of freedom = 98. Therefore, the p-value is extremely small, essentially zero, indicating a significant difference between the means.\n"
   ]
  },
  {
   "cell_type": "markdown",
   "metadata": {},
   "source": [
    "\n",
    "Using $\\alpha = 0.05$, a confidence interval of 95% must be constructed:\n",
    "\n",
    "$(51.9 - 48.9) \\pm 1.984 \\sqrt{s_p^2 \\left(\\frac{1}{50} + \\frac{1}{50}\\right)}$"
   ]
  },
  {
   "cell_type": "markdown",
   "metadata": {},
   "source": [
    "We are therefore 95% confident that the mean value of team winning percentage is between 2.87229 and 3.12771."
   ]
  },
  {
   "cell_type": "markdown",
   "metadata": {},
   "source": [
    "The second hypothesis test that will be carried out is between WAR and WPA. It will follow a pooled variance t-test:"
   ]
  },
  {
   "cell_type": "markdown",
   "metadata": {},
   "source": [
    "$\\bar{X}_1 = 1.792$, $\\bar{X}_2 = -1.158$, $S_1 = 2.099$, $S_2 = 0.759$, $n_1 = 50$, $n_2 = 50$\n"
   ]
  },
  {
   "cell_type": "markdown",
   "metadata": {},
   "source": [
    "Using the above values, t can be found "
   ]
  },
  {
   "cell_type": "code",
   "execution_count": 104,
   "metadata": {},
   "outputs": [
    {
     "name": "stdout",
     "output_type": "stream",
     "text": [
      "The calculated t-value is: 9.345666943853194\n"
     ]
    }
   ],
   "source": [
    "# Given values\n",
    "X1_bar = 1.792\n",
    "X2_bar = -1.158\n",
    "S1 = 2.099\n",
    "S2 = 0.759\n",
    "n1 = 50\n",
    "n2 = 50\n",
    "\n",
    "# Calculating s_p^2\n",
    "s_p2 = ((n1 - 1) * S1**2 + (n2 - 1) * S2**2) / ((n1 - 1) + (n2 - 1))\n",
    "\n",
    "# Calculating t\n",
    "mu1_minus_mu2 = 0  # Assuming (μ1 - μ2) = 0 for the null hypothesis\n",
    "t = (X1_bar - X2_bar - mu1_minus_mu2) / ((s_p2 * (1/n1 + 1/n2)) ** 0.5)\n",
    "\n",
    "# Output the result\n",
    "print(f\"The calculated t-value is: {t}\")\n"
   ]
  },
  {
   "cell_type": "markdown",
   "metadata": {},
   "source": [
    "Assuming $\\alpha = 0.05$ and the degrees of freedom = 98, the critical value is:"
   ]
  },
  {
   "cell_type": "code",
   "execution_count": 105,
   "metadata": {},
   "outputs": [
    {
     "name": "stdout",
     "output_type": "stream",
     "text": [
      "The critical t-value is: 1.9845\n"
     ]
    }
   ],
   "source": [
    "from scipy.stats import t\n",
    "\n",
    "# Given values\n",
    "alpha = 0.05\n",
    "df = 98\n",
    "\n",
    "# Calculating the critical t-value for a two-tailed test\n",
    "critical_value = t.ppf(1 - alpha / 2, df)\n",
    "\n",
    "print(f\"The critical t-value is: {critical_value:.4f}\")\n"
   ]
  },
  {
   "cell_type": "markdown",
   "metadata": {},
   "source": [
    "±*t* 98,0.05 = ± 1.9845"
   ]
  },
  {
   "cell_type": "markdown",
   "metadata": {},
   "source": [
    "In this example of WAR and WPA, we reject the null hypothesis if $t > 1.984$ or $t < -1.984$. As $9.35$ is greater than $1.984$, we reject the null hypothesis, $H_0$, in favour of the alternative hypothesis of $H_A$. To calculate the p-value, the same T.DIST Excel function is implemented. The p-value $= 1.27 \\times 10^{-12}$, which $\\approx 0$.\n"
   ]
  },
  {
   "cell_type": "markdown",
   "metadata": {},
   "source": [
    "Using $\\alpha = 0.05$, a confidence interval of 95% must be constructed:"
   ]
  },
  {
   "cell_type": "markdown",
   "metadata": {},
   "source": [
    "$(1.792 - (-1.158)) \\pm 9.35 \\sqrt{\\left(\\frac{1}{50} + \\frac{1}{50}\\right)}$\n"
   ]
  },
  {
   "cell_type": "markdown",
   "metadata": {},
   "source": [
    "we are 95% confident that the mean scores of WPA will be between 1.08 and 4.82"
   ]
  },
  {
   "cell_type": "markdown",
   "metadata": {},
   "source": [
    "# Analysis of WAR's Impact on Team Winning Percentage and WPA\n",
    "\n",
    "After carrying out both hypothesis tests for WAR’s impact on team winning percentage and WAR’s impact on WPA, a few glaring concepts were exposed.\n",
    "\n",
    "## First Hypothesis Test: WAR’s Impact on Team Winning Percentage\n",
    "\n",
    "In the first hypothesis test, it was found that the test statistic, $t = 46.61$, was located well outside the rejection region of $\\pm 1.984$. This automatically results in $H_0$ being rejected in favour of $H_A$. Furthermore, using the test’s p-value, which is effectively zero, further emphasises the fact that the null hypothesis will be rejected, as the p-value is significantly less than the significance level of 0.05. This results in the hypothesis test being statistically significant (Beers, 2023). "
   ]
  },
  {
   "cell_type": "code",
   "execution_count": 106,
   "metadata": {},
   "outputs": [
    {
     "data": {
      "image/png": "[encoded data removed]",
      "text/plain": [
       "<Figure size 1000x600 with 1 Axes>"
      ]
     },
     "metadata": {},
     "output_type": "display_data"
    }
   ],
   "source": [
    "import numpy as np\n",
    "import pandas as pd\n",
    "import matplotlib.pyplot as plt\n",
    "import scipy.stats as stats\n",
    "\n",
    "# Define the parameters\n",
    "t_statistic = 46.61\n",
    "critical_value = 1.984\n",
    "alpha = 0.05\n",
    "\n",
    "# Create a DataFrame to hold t-distribution values\n",
    "x = np.linspace(-5, 5, 1000)\n",
    "t_dist = stats.t.pdf(x, df=1000)  # using a high degree of freedom for approximation\n",
    "df = pd.DataFrame({'x': x, 't_dist': t_dist})\n",
    "\n",
    "# Plot the t-distribution using pandas\n",
    "ax = df.plot(x='x', y='t_dist', legend=False, figsize=(10, 6), color='blue', title=\"Hypothesis Test Visualization\")\n",
    "\n",
    "# Shade the rejection regions\n",
    "ax.fill_between(df['x'], 0, df['t_dist'], where=(df['x'] <= -critical_value) | (df['x'] >= critical_value), color='red', alpha=0.3, label='Rejection region')\n",
    "\n",
    "# Mark the critical values\n",
    "ax.axvline(-critical_value, color='red', linestyle='--')\n",
    "ax.axvline(critical_value, color='red', linestyle='--')\n",
    "ax.text(-critical_value - 0.5, 0.02, '-1.984', color='red', fontsize=12)\n",
    "ax.text(critical_value + 0.1, 0.02, '1.984', color='red', fontsize=12)\n",
    "\n",
    "# Mark the test statistic\n",
    "ax.axvline(t_statistic, color='green', linestyle='-', label=f't = {t_statistic}')\n",
    "ax.text(t_statistic + 0.2, 0.02, f't = {t_statistic}', color='green', fontsize=12)\n",
    "\n",
    "# Add labels and legend\n",
    "ax.set_xlabel(\"t-value\")\n",
    "ax.set_ylabel(\"Density\")\n",
    "ax.legend()\n",
    "\n",
    "# Show the plot\n",
    "plt.show()\n"
   ]
  },
  {
   "cell_type": "markdown",
   "metadata": {},
   "source": [
    "The 95% confidence interval must also be taken into account, with the values of $[2.87, 3.13]$, showing that we are 95% confident that the mean difference in team winning percentage between high and low WAR is within this range. Considering the fact that most team winning percentages hover around 50%, it makes practical sense that this interval is realistic. Thus, we reject the null hypothesis $H_0$:\n",
    "\n",
    "$$\n",
    "H_0: \\mu_1 = \\mu_2 \\quad \\text{or} \\quad \\mu_1 - \\mu_2 = 0\n",
    "$$\n",
    "\n",
    "This indicates that WAR has a statistically significant impact on the winning percentage of a team."
   ]
  },
  {
   "cell_type": "markdown",
   "metadata": {},
   "source": [
    "## Second Hypothesis Test: WAR’s Impact on WPA\n",
    "\n",
    "The second hypothesis test between WAR and WPA proved to be more fruitful as well, as the test statistic, p-value, and confidence interval suggested that $H_0$ would be rejected in favour of $H_A$. The calculated test statistic of $t = 9.35$ was located well outside the rejection region of $\\pm 1.984$. This was reinforced with the calculation of the p-value, $1.27 \\times 10^{-12}$, which practically equals zero and is not only less than the significance level of 0.05 but also results in the hypothesis test being statistically significant."
   ]
  },
  {
   "cell_type": "code",
   "execution_count": 107,
   "metadata": {},
   "outputs": [
    {
     "data": {
      "image/png": "[encoded data removed]",
      "text/plain": [
       "<Figure size 1200x600 with 1 Axes>"
      ]
     },
     "metadata": {},
     "output_type": "display_data"
    }
   ],
   "source": [
    "import numpy as np\n",
    "import pandas as pd\n",
    "import matplotlib.pyplot as plt\n",
    "import scipy.stats as stats\n",
    "\n",
    "# Define the parameters for the second hypothesis test\n",
    "t_statistic = 9.35\n",
    "critical_value = 1.984\n",
    "p_value = 1.27e-12\n",
    "\n",
    "# Create a DataFrame for the t-distribution\n",
    "x = np.linspace(-5, 5, 1000)\n",
    "t_dist = stats.t.pdf(x, df=1000)  # using a high degree of freedom for approximation\n",
    "df = pd.DataFrame({'x': x, 't_dist': t_dist})\n",
    "\n",
    "# Plot the t-distribution using pandas\n",
    "ax = df.plot(x='x', y='t_dist', legend=False, figsize=(12, 6), color='blue', title=\"Hypothesis Test Visualization: WAR vs WPA\")\n",
    "\n",
    "# Shade the rejection regions\n",
    "ax.fill_between(df['x'], 0, df['t_dist'], where=(df['x'] <= -critical_value) | (df['x'] >= critical_value), color='red', alpha=0.3, label='Rejection region')\n",
    "\n",
    "# Mark the critical values\n",
    "ax.axvline(-critical_value, color='red', linestyle='--')\n",
    "ax.axvline(critical_value, color='red', linestyle='--')\n",
    "ax.text(-critical_value - 0.5, 0.02, '-1.984', color='red', fontsize=12)\n",
    "ax.text(critical_value + 0.1, 0.02, '1.984', color='red', fontsize=12)\n",
    "\n",
    "# Mark the test statistic\n",
    "ax.axvline(t_statistic, color='green', linestyle='-', label=f't = {t_statistic}')\n",
    "ax.text(t_statistic + 0.2, 0.03, f't = {t_statistic}', color='green', fontsize=12)\n",
    "\n",
    "# Annotate the p-value\n",
    "ax.text(-4.5, 0.15, f'p-value = {p_value:.2e}', fontsize=14, color='black', bbox=dict(facecolor='yellow', alpha=0.5))\n",
    "\n",
    "# Add labels and legend\n",
    "ax.set_xlabel(\"t-value\")\n",
    "ax.set_ylabel(\"Density\")\n",
    "ax.legend()\n",
    "\n",
    "# Show the plot\n",
    "plt.show()\n"
   ]
  },
  {
   "cell_type": "markdown",
   "metadata": {},
   "source": [
    "The confidence interval also makes more sense when comparing it to the real-world context. The 95% confidence interval of $[1.08, 4.82]$ suggests that the mean difference in WPA between high and low WAR is within this range. Although the mean of low WAR is excluded from this interval, this is likely a result of extreme outliers, such as a single player in high WAR. A good example of this is Barry Bonds in 2001, 2002, and 2004 in which he single-handedly raised the mean by significant amounts due to his record breaking WAR seasons."
   ]
  },
  {
   "cell_type": "code",
   "execution_count": 108,
   "metadata": {},
   "outputs": [
    {
     "data": {
      "image/png": "[encoded data removed]",
      "text/plain": [
       "<Figure size 1000x600 with 1 Axes>"
      ]
     },
     "metadata": {},
     "output_type": "display_data"
    }
   ],
   "source": [
    "import pandas as pd\n",
    "import matplotlib.pyplot as plt\n",
    "\n",
    "# Barry Bonds' WAR data\n",
    "bonds_war_data = {'Year': [2001, 2002, 2004],\n",
    "                  'Bonds WAR': [12.4, 11.8, 11.5]}\n",
    "bonds_war = pd.DataFrame(bonds_war_data)\n",
    "\n",
    "# Hypothetical average league WAR data without Bonds (this is a placeholder for actual league data)\n",
    "league_avg_without_bonds_data = {'Year': [2001, 2002, 2004],\n",
    "                                 'League Avg WAR without Bonds': [5.0, 5.0, 5.0]}  # Typical average WAR for comparison\n",
    "league_avg = pd.DataFrame(league_avg_without_bonds_data)\n",
    "\n",
    "# Calculate the league average WAR including Bonds' WAR\n",
    "league_avg['League Avg WAR with Bonds'] = (league_avg['League Avg WAR without Bonds'] * 49 + bonds_war['Bonds WAR']) / 50\n",
    "\n",
    "# Plotting the data\n",
    "plt.figure(figsize=(10, 6))\n",
    "plt.bar(league_avg['Year'] - 0.2, league_avg['League Avg WAR without Bonds'], width=0.4, label='Without Barry Bonds', color='blue')\n",
    "plt.bar(league_avg['Year'] + 0.2, league_avg['League Avg WAR with Bonds'], width=0.4, label='With Barry Bonds', color='red')\n",
    "\n",
    "# Customizing the plot\n",
    "plt.xlabel('Year')\n",
    "plt.ylabel('WAR')\n",
    "plt.title('Impact of Barry Bonds on League Average WAR')\n",
    "plt.xticks(league_avg['Year'])\n",
    "plt.legend()\n",
    "plt.show()\n"
   ]
  },
  {
   "cell_type": "markdown",
   "metadata": {},
   "source": [
    " Altogether, the test statistic, p-value, and confidence interval result in the null hypothesis $H_0$ being rejected in favour of $H_A$:\n",
    "\n",
    "$$\n",
    "H_A: \\mu_1 \\neq \\mu_2 \\quad \\text{or} \\quad \\mu_1 - \\mu_2 \\neq 0\n",
    "$$\n",
    "\n",
    "Therefore, there is a correlation between higher WAR and higher WPA, meaning that players who can accumulate high WAR give their team every possible chance to win.\n",
    "\n",
    "## Broader Report Conclusion\n",
    "\n",
    "Connecting these results to the broader report question, it has been found that despite high WAR players performing at all-time levels, that does not necessarily correlate with a significantly higher team winning percentage. This is the same for low WAR players. This is likely due to the fact that good and bad players can play for good or bad teams. For example, most of the players seen in the high and low WAR datasets were drafted by the teams where they had their historically good or bad seasons. When a team drafts a player, they have at least six years of that player’s MLB career (assuming they don’t trade or cut the player) (MLB Standard States, n.d.), meaning if a historically good player is drafted by a historically bad team, it truly doesn’t matter how well that player performs if his positional and pitching teammates are unable to perform as well.\n",
    "\n",
    "Furthermore, the types of players in low WAR can also explain the lack of correlation between team winning percentage and WAR. When analysing what kind of players were on the list, two major patterns occurred. The most common types of players were ageing superstars and young players with perceived potential. For example, Giancarlo Stanton, Kris Bryant and Henry Davis both appeared on the low WAR list. Stanton aged 33 and Bryant aged 31 in the 2023 season, had MVP seasons of the mid 2010s. "
   ]
  },
  {
   "cell_type": "code",
   "execution_count": 109,
   "metadata": {},
   "outputs": [
    {
     "data": {
      "image/png": "[encoded data removed]",
      "text/plain": [
       "<Figure size 1200x1200 with 2 Axes>"
      ]
     },
     "metadata": {},
     "output_type": "display_data"
    }
   ],
   "source": [
    "import pandas as pd\n",
    "import matplotlib.pyplot as plt\n",
    "\n",
    "# Giancarlo Stanton WAR Data (MVP in 2017)\n",
    "stanton_war_data = {\n",
    "    \"Year\": [2017, 2018, 2019, 2020, 2021, 2022, 2023],\n",
    "    \"WAR\": [7.6, 4.3, 0.4, 0.7, 3.1, 1.2, -0.8]\n",
    "}\n",
    "\n",
    "# Kris Bryant WAR Data (MVP in 2016)\n",
    "bryant_war_data = {\n",
    "    \"Year\": [2016, 2017, 2018, 2019, 2020, 2021, 2022, 2023],\n",
    "    \"WAR\": [7.3, 6.1, 2.3, 4.8, 1.9, 3.6, 0.5, -1.0]\n",
    "}\n",
    "\n",
    "# Creating DataFrames\n",
    "stanton_df = pd.DataFrame(stanton_war_data)\n",
    "bryant_df = pd.DataFrame(bryant_war_data)\n",
    "\n",
    "# Plotting\n",
    "fig, axs = plt.subplots(2, 1, figsize=(12, 12), sharex=True)\n",
    "\n",
    "# Stanton graph\n",
    "axs[0].plot(stanton_df[\"Year\"], stanton_df[\"WAR\"], marker='o', linestyle='-', color='blue', label='Giancarlo Stanton')\n",
    "axs[0].set_title('Giancarlo Stanton WAR Progression (2017 - 2023)')\n",
    "axs[0].set_ylabel('WAR')\n",
    "axs[0].legend()\n",
    "axs[0].grid(True, linestyle='--', alpha=0.7)\n",
    "axs[0].axhline(0, color='gray', linestyle='--')\n",
    "\n",
    "# Bryant graph\n",
    "axs[1].plot(bryant_df[\"Year\"], bryant_df[\"WAR\"], marker='o', linestyle='-', color='green', label='Kris Bryant')\n",
    "axs[1].set_title('Kris Bryant WAR Progression (2016 - 2023)')\n",
    "axs[1].set_xlabel('Year')\n",
    "axs[1].set_ylabel('WAR')\n",
    "axs[1].legend()\n",
    "axs[1].grid(True, linestyle='--', alpha=0.7)\n",
    "axs[1].axhline(0, color='gray', linestyle='--')\n",
    "\n",
    "# Adjust layout\n",
    "plt.tight_layout()\n",
    "\n",
    "plt.show()\n"
   ]
  },
  {
   "cell_type": "markdown",
   "metadata": {},
   "source": [
    "\n",
    " Davis, on the other hand, was a first-overall pick in 2021, making his rookie Debute in 2023 and was continuously played, despite his poor performances, due to his ‘potential’. Both player groups accumulated negative WAR, however, the way in which they achieved it was vastly different, with their season expectations also contrasting.\n"
   ]
  }
 ],
 "metadata": {
  "kernelspec": {
   "display_name": "Python 3",
   "language": "python",
   "name": "python3"
  },
  "language_info": {
   "codemirror_mode": {
    "name": "ipython",
    "version": 3
   },
   "file_extension": ".py",
   "mimetype": "text/x-python",
   "name": "python",
   "nbconvert_exporter": "python",
   "pygments_lexer": "ipython3",
   "version": "3.12.5"
  }
 },
 "nbformat": 4,
 "nbformat_minor": 2
}
