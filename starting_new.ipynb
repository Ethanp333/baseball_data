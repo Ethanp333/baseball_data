{
 "cells": [
  {
   "cell_type": "markdown",
   "metadata": {},
   "source": [
    "# FRESH START\n",
    "\n",
    "THIS SECTION IMPORTS THIS DATASET\\\n",
    "$H_0:μ_1=μ_2$  or $μ_1-μ_2=0$"
   ]
  },
  {
   "cell_type": "markdown",
   "metadata": {},
   "source": [
    "# Introduction\n",
    "\n",
    "The report will discuss the relationship between an individual Major League Baseball player’s Wins Above Replacement, or WAR, and the winning parentage, season outcome and Win Probability Added to the team that they played on. The null hypothesis of this report will be there that an individual’s ability to accumulate high WAR in a season will have little impact on the winning percentage of their team (μ1). Thereby, a player with a low WAR season has the same impact (μ2).\n",
    "\n",
    "$H_0:μ_1=μ_2$  or $μ_1-μ_2=0$\n",
    "\n",
    "The alternative hypothesis is that the higher or lower WAR gathered by a player will positively or negatively impact their team’s ability to win respectively:\n",
    "\n",
    "$H_A:μ_1≠μ_2  or μ_1-μ_2≠0$ \n",
    "\n",
    "This research question is of personal and practical interest as many Baseball fans have become accustomed towards the use of WAR when discussing current and retired Baseball players. However, very few know the actual formulas and calculations required for WAR, and fewer know if a player’s WAR correlates with winning, or if it’s simply used as an individualistic stat to compare one player to another. This report will attempt to acknowledge both areas of concern, by explaining WAR in a mathematical sense, whilst also employing Statistical Analysis between WAR and team winning percentage. The report will also use the WPA a player has gathered throughout their season, and by comparing that with WAR, it may provide statistical evidence that WAR correlates and leads to winning, or reveal that WAR has little to no impact on team success. Conducting this report will allow myself to gain a deeper appreciation for the baseball statistic that I use on an everyday basis.\n"
   ]
  },
  {
   "cell_type": "markdown",
   "metadata": {},
   "source": [
    "# Explanation of WAR and WPA\n",
    "Both Wins Above Replacement and Win Probability Added involve formulas developed during the sabermetric revolution of baseball. Sabermetric analysis of baseball was popularised by Bill James to question the traditional metrics that ruled baseball evaluation and was the creation of new metrics to determine the value of players (Society for American Baseball Research, n.d.). Despite there being many different versions of WAR, FanGraphs defines WAR as:\n",
    "\n",
    "$$\n",
    "\\text{WAR} = \\frac{\\text{Batting Runs} + \\text{Base Running Runs} + \\text{Fielding Runs} + \\text{Positional Adjustment} + \\text{League Adjustment} + \\text{Replacement Runs}}{\\text{Runs Per Win}}\n",
    "$$\n",
    "\n",
    "Each aspect of the formula can be broken down and explained, however in layman’s terms WAR attempts to encapsulate the overall value a player adds to a team. This includes batting, fielding and base-running. The formula takes those contributions and adds a positional adjustment which rewards players in more difficult fielding positions (figure 1). This is important as a good hitter in a hard position, like catcher, is more valuable to a team than a good-hitting designated hitter. It then adds the league adjustment, which ensures that runs above average equal 0, meaning the sum of all runs above average is balanced throughout the league. The formula then adds replacement runs, which is the difference between a replacement-level player and an average player. It is given by:\n",
    "\n",
    "$$\n",
    "\\text{Replacement Runs} = 570 \\left(\\frac{\\text{MLB Games}}{2430}\\right) \\left(\\frac{\\text{Runs Per Win}}{\\text{League Plate Appearances}}\\right) \\times \\text{Plate Appearances}\n",
    "$$\n",
    "\n",
    "Where the numeral 570 represents 57% of the 1000 WAR allocated to position players, and MLB games are how many games have been played in the MLB season at a specific point. \n",
    "\n",
    "Runs Per Win includes a second formula, which calculates the runs necessary to win an MLB game (usually between 9 and 10). RPW =  \n",
    "\n",
    "$$\n",
    "9 \\left(\\frac{\\text{MLB Runs Scored}}{\\text{MLB Innings Pitched}}\\right) \\times 1.5 + 3\n",
    "$$\n",
    "\n",
    "All that together allows for the FanGraphs calculation for WAR, however many smaller parts are included in the construction of the formula. This explanation just provides the necessary, surface-level information for how the pivotal statistic is calculated (Slowinski, 2012). \n",
    "\n",
    "FanGraphs Win Probability Added is easier to calculate, it uses a team’s probability of winning and is constantly changing and updating throughout the game. For example, if a player comes up to bat and the probability that his team wins the game at that moment is 20%, and the at-bat results in his team winning, he is credited with 0.8 WPA (from 20% to 100%). Inversely the pitcher who caused his team to lose is given a -0.8 WPA. WPA in a season is the sum of all events that a player has done to add, or take away from the probability that his team wins (Slowinski, 2010). For example, in 1929 Babe Ruth had a WPA of 9.4, meaning his actions throughout the season improved his teams’ ability to win by 940% (Baseball Reference, n.d.). \n",
    "\n",
    "It must be noted that WAR and WPA Per 162 games (a full season) will be used. As it allows for a fairer comparison between two players if their WAR and WPA are extrapolated across an entire season. It’s calculated by:\n",
    "\n",
    "$$\n",
    "\\left(\\frac{\\text{WAR}}{\\text{Games Played}}\\right) \\times 162\n",
    "$$\n",
    "\n",
    "$$\n",
    "\\left(\\frac{\\text{WPA}}{\\text{Games Played}}\\right) \\times 162\n",
    "$$\n",
    "\n",
    "It should also be noted that although the number of wins required to reach the post-season changes each season, the mean number of wins of a post-season team since 1994 is 93 to 94 (Manning, 2018). This equates to a winning percentage of 0.574 to 0.580, which can be used as a guide for which teams should have made the post-season, if they played in an “average” season. \n",
    "\n",
    "\n",
    "\n",
    "\n",
    "\n",
    "\n",
    "\n",
    "\n"
   ]
  },
  {
   "cell_type": "markdown",
   "metadata": {},
   "source": [
    "# _impoting pandas_"
   ]
  },
  {
   "cell_type": "code",
   "execution_count": 8,
   "metadata": {},
   "outputs": [],
   "source": [
    "import matplotlib\n",
    "import matplotlib.pyplot as plt\n",
    "import numpy as np\n",
    "import pandas as pd\n",
    "import os\n",
    "import openpyxl\n",
    "import xlrd\n",
    "from datetime import datetime\n"
   ]
  },
  {
   "cell_type": "markdown",
   "metadata": {},
   "source": [
    "Some magic that tells jupyter to put graphs and things in the notebook instead of the default behaviour which is to save it as a file."
   ]
  },
  {
   "cell_type": "code",
   "execution_count": 3,
   "metadata": {},
   "outputs": [],
   "source": [
    "\n",
    "%matplotlib inline"
   ]
  },
  {
   "cell_type": "markdown",
   "metadata": {},
   "source": [
    "# Downloading CSV For WAR"
   ]
  },
  {
   "cell_type": "code",
   "execution_count": 13,
   "metadata": {},
   "outputs": [
    {
     "name": "stdout",
     "output_type": "stream",
     "text": [
      "Loading from file\n",
      "Data loading failed: 'utf-8' codec can't decode byte 0xa0 in position 117: invalid start byte\n"
     ]
    }
   ],
   "source": [
    "\n",
    "def load_data(filepath, url):\n",
    "    if os.path.isfile(filepath):\n",
    "        print(\"Loading from file\")\n",
    "        return pd.read_csv(filepath)\n",
    "\n",
    "    print(\"Loading from the internet\")\n",
    "    response = requests.get(url)\n",
    "    response.raise_for_status()\n",
    "\n",
    "    soup = BeautifulSoup(response.content, \"html.parser\")\n",
    "    table = soup.find(\"table\", {\"id\": \"players_value_batting\"})\n",
    "    if table is None:\n",
    "        raise ValueError(\"Table with id 'players_value_batting' not found\")\n",
    "\n",
    "    data = pd.read_html(str(table))[0]\n",
    "    data.to_csv(filepath, index=False)\n",
    "    return data\n",
    "\n",
    "filepath = \"WAR_2023.csv\"\n",
    "url = \"https://www.baseball-reference.com/leagues/majors/2023-value-batting.shtml\"\n",
    "\n",
    "try:\n",
    "    WAR_2023 = load_data(filepath, url)\n",
    "    print(\"Data loading complete\")\n",
    "except Exception as e:\n",
    "    print(f\"Data loading failed: {e}\")"
   ]
  },
  {
   "cell_type": "code",
   "execution_count": 19,
   "metadata": {},
   "outputs": [
    {
     "name": "stdout",
     "output_type": "stream",
     "text": [
      "              Column_2  Column_16\n",
      "0         Mookie Betts        8.3\n",
      "1     Ronald Acuña Jr.        8.2\n",
      "2        Marcus Semien        7.4\n",
      "3          Matt Olson*        7.4\n",
      "4        Corey Seager*        6.9\n",
      "5     Freddie Freeman*        6.5\n",
      "6    Gunnar Henderson*        6.2\n",
      "7       Shohei Ohtani*        6.0\n",
      "8    Francisco Lindor#        6.0\n",
      "9         Austin Riley        5.9\n",
      "10        Ha-Seong Kim        5.8\n",
      "11          Juan Soto*        5.5\n",
      "12      Wander Franco#        5.5\n",
      "13  Fernando Tatis Jr.        5.5\n",
      "14        Kyle Tucker*        5.4\n",
      "15     Corbin Carroll*        5.4\n",
      "16     Julio Rodríguez        5.3\n",
      "17     Andrés Giménez*        5.3\n",
      "18          Yandy Díaz        5.2\n",
      "19       José Ramírez#        5.1\n",
      "20      J.P. Crawford*        5.1\n",
      "21        Nico Hoerner        5.1\n",
      "22     Luis Robert Jr.        5.0\n",
      "23        Luis Arráez*        4.9\n",
      "24        Ketel Marte#        4.9\n",
      "25        Alex Bregman        4.9\n",
      "26         Bo Bichette        4.9\n",
      "27      Dansby Swanson        4.8\n",
      "28       Ozzie Albies#        4.7\n",
      "29     Yordan Alvarez*        4.6\n",
      "30         Aaron Judge        4.5\n",
      "31     Xander Bogaerts        4.4\n",
      "32     Cody Bellinger*        4.4\n",
      "33      Bobby Witt Jr.        4.4\n",
      "34        Matt Chapman        4.4\n",
      "35    Adley Rutschman#        4.3\n",
      "36       Bryson Stott*        4.3\n",
      "37        Nolan Jones*        4.3\n",
      "38      Gabriel Moreno        4.3\n",
      "39       Isaac Paredes        4.2\n",
      "40       Adolis García        4.2\n",
      "41          Will Smith        4.1\n",
      "42      Ke'Bryan Hayes        4.0\n",
      "43      Brandon Nimmo*        3.9\n",
      "44     Daulton Varsho*        3.9\n",
      "45         Sean Murphy        3.9\n",
      "46    Kevin Kiermaier*        3.9\n",
      "47         Jeremy Peña        3.8\n",
      "48    Christian Walker        3.8\n",
      "49          TJ Friedl*        3.8\n"
     ]
    }
   ],
   "source": [
    "\n",
    "def get_top_50_numbers(data):\n",
    "    try:\n",
    "        # Extract column 2 and column 16\n",
    "        column_2 = data.iloc[:, 1]  # Column 2 (index 1)\n",
    "        column_16 = data.iloc[:, 15]  # Column 16 (index 15)\n",
    "        \n",
    "        # Combine the two columns into a new DataFrame\n",
    "        combined_data = pd.DataFrame({\n",
    "            'Column_2': column_2,\n",
    "            'Column_16': column_16\n",
    "        })\n",
    "        \n",
    "        # Sort the data based on column 16 in descending order\n",
    "        sorted_data = combined_data.sort_values(by='Column_16', ascending=False)\n",
    "        \n",
    "        # Retrieve the top 50 rows based on column 16\n",
    "        top_50 = sorted_data.head(50).reset_index(drop=True)\n",
    "        \n",
    "        # Print the results\n",
    "        print(top_50)\n",
    "        \n",
    "    except Exception as e:\n",
    "        print(f\"An error occurred: {e}\")\n",
    "\n",
    "# Assuming `data` is already a DataFrame loaded with the necessary data\n",
    "data = pd.read_csv(\"WAR_2023.csv\", encoding='latin1')\n",
    "\n",
    "# Get the top 50 numbers from column 16 and their corresponding values in column 2\n",
    "get_top_50_numbers(data)\n"
   ]
  },
  {
   "cell_type": "code",
   "execution_count": 20,
   "metadata": {},
   "outputs": [
    {
     "name": "stdout",
     "output_type": "stream",
     "text": [
      "Top 50 WAR Values:\n",
      "Sample Mean: 5.09\n",
      "Sample Median: 4.9\n",
      "Sample Variance: 1.2356122448979592\n",
      "Sample Standard Deviation: 1.1115809664158338\n",
      "Top 50 values saved to 'top_50_values.csv'\n",
      "Statistics saved to 'top_50_stats.csv'\n"
     ]
    },
    {
     "data": {
      "image/png": "[encoded data removed]",
      "text/plain": [
       "<Figure size 800x600 with 1 Axes>"
      ]
     },
     "metadata": {},
     "output_type": "display_data"
    }
   ],
   "source": [
    "csv_file_path = 'WAR_2023.csv'\n",
    "\n",
    "# Check if the file exists\n",
    "if not os.path.exists(csv_file_path):\n",
    "    raise FileNotFoundError(f\"The file '{csv_file_path}' does not exist.\")\n",
    "\n",
    "try:\n",
    "    # Attempt to read the CSV file with different encodings\n",
    "    try:\n",
    "        df = pd.read_csv(csv_file_path, encoding='utf-8')\n",
    "    except UnicodeDecodeError:\n",
    "        try:\n",
    "            df = pd.read_csv(csv_file_path, encoding='latin1')\n",
    "        except UnicodeDecodeError:\n",
    "            df = pd.read_csv(csv_file_path, encoding='iso-8859-1')\n",
    "except Exception as e:\n",
    "    raise ValueError(f\"Error reading the CSV file: {e}\")\n",
    "\n",
    "# Ensure the CSV file has at least 16 columns\n",
    "if df.shape[1] < 16:\n",
    "    raise ValueError(\"The CSV file does not have at least 16 columns.\")\n",
    "\n",
    "try:\n",
    "    # Extract the 16th column (index 15, since indexing starts from 0)\n",
    "    column_16 = df.iloc[:, 15]\n",
    "\n",
    "    # Ensure the column contains numeric values\n",
    "    column_16 = pd.to_numeric(column_16, errors='coerce')\n",
    "    \n",
    "    # Drop NaN values that cannot be converted to numeric\n",
    "    column_16 = column_16.dropna()\n",
    "\n",
    "    # Sort the column in descending order and select the top 50 values\n",
    "    top_50_values = column_16.nlargest(50)\n",
    "\n",
    "    # Compute statistics for top 50 values\n",
    "    top_50_mean = top_50_values.mean()\n",
    "    top_50_median = top_50_values.median()\n",
    "    top_50_variance = top_50_values.var()\n",
    "    top_50_std_dev = top_50_values.std()\n",
    "\n",
    "    # Print the results for top 50 values\n",
    "    print(\"Top 50 WAR Values:\")\n",
    "    print(\"Sample Mean:\", top_50_mean)\n",
    "    print(\"Sample Median:\", top_50_median)\n",
    "    print(\"Sample Variance:\", top_50_variance)\n",
    "    print(\"Sample Standard Deviation:\", top_50_std_dev)\n",
    "\n",
    "    # Save the top 50 values and their statistics to a new CSV file\n",
    "    top_50_values.to_csv('top_50_values.csv', index=False)\n",
    "    top_50_stats_df = pd.DataFrame({\n",
    "        'Statistic': ['Sample Mean', 'Sample Median', 'Sample Variance', 'Sample Standard Deviation'],\n",
    "        'Value': [top_50_mean, top_50_median, top_50_variance, top_50_std_dev]\n",
    "    })\n",
    "    top_50_stats_df.to_csv('top_50_stats.csv', index=False)\n",
    "    print(\"Top 50 values saved to 'top_50_values.csv'\")\n",
    "    print(\"Statistics saved to 'top_50_stats.csv'\")\n",
    "\n",
    "    # Create box plot for top 50 values\n",
    "    plt.figure(figsize=(8, 6))\n",
    "    plt.boxplot(top_50_values, vert=False, patch_artist=True, boxprops=dict(facecolor='lightblue'))\n",
    "    plt.title('Top 50 2023 WAR Values')\n",
    "    plt.xlabel('WAR Value')\n",
    "    plt.yticks([])  # Remove the left side numbers\n",
    "\n",
    "    # Show the box plot\n",
    "    plt.tight_layout()\n",
    "    plt.show()\n",
    "\n",
    "except Exception as e:\n",
    "    raise ValueError(f\"Error processing the 16th column: {e}\")\n"
   ]
  },
  {
   "cell_type": "markdown",
   "metadata": {},
   "source": [
    "collecting the top 50 war vales team wining percentages"
   ]
  },
  {
   "cell_type": "code",
   "execution_count": 23,
   "metadata": {},
   "outputs": [
    {
     "name": "stdout",
     "output_type": "stream",
     "text": [
      "Column 18 Data for Top 50 Players based on Column 15:\n",
      "0.538\n",
      "0.539\n",
      "0.532\n",
      "0.531\n",
      "0.532\n",
      "0.527\n",
      "0.528\n",
      "0.525\n",
      "0.524\n",
      "0.523\n",
      "0.523\n",
      "0.520\n",
      "0.521\n",
      "0.522\n",
      "0.524\n",
      "0.519\n",
      "0.520\n",
      "0.520\n",
      "0.519\n",
      "0.520\n",
      "0.519\n",
      "0.518\n",
      "0.518\n",
      "0.518\n",
      "0.519\n",
      "0.517\n",
      "0.519\n",
      "0.516\n",
      "0.517\n",
      "0.519\n",
      "0.514\n",
      "0.516\n",
      "0.518\n",
      "0.515\n",
      "0.518\n",
      "0.519\n",
      "0.513\n",
      "0.514\n",
      "0.513\n",
      "0.513\n",
      "0.514\n",
      "0.515\n",
      "0.514\n",
      "0.516\n",
      "0.512\n",
      "0.511\n",
      "0.511\n",
      "0.513\n",
      "0.512\n",
      "0.515\n"
     ]
    }
   ],
   "source": [
    "\n",
    "csv_file_path = 'WAR_2023.csv'\n",
    "\n",
    "# Check if the file exists\n",
    "if not os.path.exists(csv_file_path):\n",
    "    raise FileNotFoundError(f\"The file '{csv_file_path}' does not exist.\")\n",
    "\n",
    "try:\n",
    "    # Attempt to read the CSV file with different encodings\n",
    "    try:\n",
    "        df = pd.read_csv(csv_file_path, encoding='utf-8')\n",
    "    except UnicodeDecodeError:\n",
    "        try:\n",
    "            df = pd.read_csv(csv_file_path, encoding='latin1')\n",
    "        except UnicodeDecodeError:\n",
    "            df = pd.read_csv(csv_file_path, encoding='iso-8859-1')\n",
    "except Exception as e:\n",
    "    raise ValueError(f\"Error reading the CSV file: {e}\")\n",
    "\n",
    "# Ensure the CSV file has at least 18 columns\n",
    "if df.shape[1] < 18:\n",
    "    raise ValueError(\"The CSV file does not have at least 18 columns.\")\n",
    "\n",
    "try:\n",
    "    # Extract the 15th column (index 14, since indexing starts from 0)\n",
    "    column_15 = df.iloc[:, 14]\n",
    "\n",
    "    # Ensure the column contains numeric values\n",
    "    column_15 = pd.to_numeric(column_15, errors='coerce')\n",
    "    \n",
    "    # Drop NaN values that cannot be converted to numeric\n",
    "    column_15 = column_15.dropna()\n",
    "\n",
    "    # Sort the column in descending order and select the top 50 values\n",
    "    top_50_indices = column_15.nlargest(50).index\n",
    "\n",
    "    # Extract the 18th column (index 17) for these top 50 players\n",
    "    column_18_top_50 = df.iloc[top_50_indices, 17]\n",
    "\n",
    "    # Print the corresponding data in column 18 for the top 50 players\n",
    "    print(\"Column 18 Data for Top 50 Players based on Column 15:\")\n",
    "    print(column_18_top_50.to_string(index=False))\n",
    "\n",
    "except Exception as e:\n",
    "    raise ValueError(f\"Error processing the data: {e}\")\n"
   ]
  },
  {
   "cell_type": "code",
   "execution_count": 30,
   "metadata": {},
   "outputs": [
    {
     "name": "stdout",
     "output_type": "stream",
     "text": [
      "Statistics for Column 18 Data of Top 50 Players based on Column 15:\n",
      "Mean: 0.51946\n",
      "Median: 0.5185\n",
      "Variance: 4.225346938775519e-05\n",
      "Standard Deviation: 0.006500266870502717\n"
     ]
    },
    {
     "data": {
      "image/png": "[encoded data removed]",
      "text/plain": [
       "<Figure size 800x600 with 1 Axes>"
      ]
     },
     "metadata": {},
     "output_type": "display_data"
    }
   ],
   "source": [
    "\n",
    "# Define the path to your CSV file\n",
    "csv_file_path = 'WAR_2023.csv'\n",
    "\n",
    "# Check if the file exists\n",
    "if not os.path.exists(csv_file_path):\n",
    "    raise FileNotFoundError(f\"The file '{csv_file_path}' does not exist.\")\n",
    "\n",
    "try:\n",
    "    # Attempt to read the CSV file with different encodings\n",
    "    try:\n",
    "        df = pd.read_csv(csv_file_path, encoding='utf-8')\n",
    "    except UnicodeDecodeError:\n",
    "        try:\n",
    "            df = pd.read_csv(csv_file_path, encoding='latin1')\n",
    "        except UnicodeDecodeError:\n",
    "            df = pd.read_csv(csv_file_path, encoding='iso-8859-1')\n",
    "except Exception as e:\n",
    "    raise ValueError(f\"Error reading the CSV file: {e}\")\n",
    "\n",
    "# Ensure the CSV file has at least 18 columns\n",
    "if df.shape[1] < 18:\n",
    "    raise ValueError(\"The CSV file does not have at least 18 columns.\")\n",
    "\n",
    "try:\n",
    "    # Extract the 15th column (index 14, since indexing starts from 0)\n",
    "    column_15 = df.iloc[:, 14]\n",
    "\n",
    "    # Ensure the column contains numeric values\n",
    "    column_15 = pd.to_numeric(column_15, errors='coerce')\n",
    "    \n",
    "    # Drop NaN values that cannot be converted to numeric\n",
    "    column_15 = column_15.dropna()\n",
    "\n",
    "    # Sort the column in descending order and select the top 50 values\n",
    "    top_50_indices = column_15.nlargest(50).index\n",
    "\n",
    "    # Extract the 18th column (index 17) for these top 50 players\n",
    "    column_18_top_50 = df.iloc[top_50_indices, 17]\n",
    "\n",
    "    # Calculate statistics for column 18 data\n",
    "    mean = column_18_top_50.mean()\n",
    "    median = column_18_top_50.median()\n",
    "    variance = column_18_top_50.var()\n",
    "    std_dev = column_18_top_50.std()\n",
    "\n",
    "    # Print the calculated statistics\n",
    "    print(\"Statistics for Column 18 Data of Top 50 Players based on Column 15:\")\n",
    "    print(\"Mean:\", mean)\n",
    "    print(\"Median:\", median)\n",
    "    print(\"Variance:\", variance)\n",
    "    print(\"Standard Deviation:\", std_dev)\n",
    "\n",
    "    # Create box plot for the data in column 18\n",
    "    plt.figure(figsize=(8, 6))\n",
    "    plt.boxplot(column_18_top_50, vert=False, patch_artist=True, boxprops=dict(facecolor='lightblue'))\n",
    "    plt.title('High WAR Winning Percentage')\n",
    "    plt.xlabel('Value')\n",
    "    plt.yticks([])  # Remove the left side numbers\n",
    "\n",
    "    # Show the box plot\n",
    "    plt.tight_layout()\n",
    "    plt.show()\n",
    "\n",
    "except Exception as e:\n",
    "    raise ValueError(f\"Error processing the data: {e}\")\n",
    "\n"
   ]
  },
  {
   "cell_type": "code",
   "execution_count": 53,
   "metadata": {},
   "outputs": [
    {
     "name": "stdout",
     "output_type": "stream",
     "text": [
      "Statistics for Column 18 of Top 50 Values (Multiplied by 100):\n",
      "Sample Mean: 51.946000000000005\n",
      "Sample Median: 51.85\n",
      "Sample Variance: 0.4225346938775519\n",
      "Sample Standard Deviation: 0.6500266870502717\n",
      "Top 50 combined values saved to 'top_50_combined.csv'\n",
      "Statistics for column 18 saved to 'top_50_stats_column_18.csv'\n"
     ]
    },
    {
     "data": {
      "image/png": "[encoded data removed]",
      "text/plain": [
       "<Figure size 800x600 with 1 Axes>"
      ]
     },
     "metadata": {},
     "output_type": "display_data"
    }
   ],
   "source": [
    "import os\n",
    "import pandas as pd\n",
    "import matplotlib.pyplot as plt\n",
    "\n",
    "# Define the path to your CSV file\n",
    "csv_file_path = 'WAR_2023.csv'\n",
    "\n",
    "# Check if the file exists\n",
    "if not os.path.exists(csv_file_path):\n",
    "    raise FileNotFoundError(f\"The file '{csv_file_path}' does not exist.\")\n",
    "\n",
    "try:\n",
    "    # Attempt to read the CSV file with different encodings\n",
    "    try:\n",
    "        df = pd.read_csv(csv_file_path, encoding='utf-8')\n",
    "    except UnicodeDecodeError:\n",
    "        try:\n",
    "            df = pd.read_csv(csv_file_path, encoding='latin1')\n",
    "        except UnicodeDecodeError:\n",
    "            df = pd.read_csv(csv_file_path, encoding='iso-8859-1')\n",
    "except Exception as e:\n",
    "    raise ValueError(f\"Error reading the CSV file: {e}\")\n",
    "\n",
    "# Ensure the CSV file has at least 18 columns\n",
    "if df.shape[1] < 18:\n",
    "    raise ValueError(\"The CSV file does not have at least 18 columns.\")\n",
    "\n",
    "try:\n",
    "    # Extract the 15th column (index 14, since indexing starts from 0)\n",
    "    column_15 = df.iloc[:, 14]\n",
    "\n",
    "    # Ensure the column contains numeric values\n",
    "    column_15 = pd.to_numeric(column_15, errors='coerce')\n",
    "    \n",
    "    # Drop NaN values that cannot be converted to numeric\n",
    "    column_15 = column_15.dropna()\n",
    "\n",
    "    # Sort the column in descending order and select the top 50 values\n",
    "    top_50_indices = column_15.nlargest(50).index\n",
    "\n",
    "    # Extract the corresponding 18th column (index 17) values\n",
    "    column_18_top_50 = df.iloc[top_50_indices, 17]\n",
    "\n",
    "    # Ensure the column contains numeric values\n",
    "    column_18_top_50 = pd.to_numeric(column_18_top_50, errors='coerce')\n",
    "    \n",
    "    # Drop NaN values that cannot be converted to numeric\n",
    "    column_18_top_50 = column_18_top_50.dropna()\n",
    "\n",
    "    # Multiply the data in column 18 by 100\n",
    "    column_18_top_50 *= 100\n",
    "\n",
    "    # Compute statistics for the 18th column of the top 50 values\n",
    "    column_18_mean = column_18_top_50.mean()\n",
    "    column_18_median = column_18_top_50.median()\n",
    "    column_18_variance = column_18_top_50.var()\n",
    "    column_18_std_dev = column_18_top_50.std()\n",
    "\n",
    "    # Print the statistics for the 18th column of the top 50 values\n",
    "    print(\"Statistics for Column 18 of Top 50 Values (Multiplied by 100):\")\n",
    "    print(\"Sample Mean:\", column_18_mean)\n",
    "    print(\"Sample Median:\", column_18_median)\n",
    "    print(\"Sample Variance:\", column_18_variance)\n",
    "    print(\"Sample Standard Deviation:\", column_18_std_dev)\n",
    "\n",
    "    # Save the top 50 values and their statistics to a new CSV file\n",
    "    combined_df = pd.DataFrame({\n",
    "        'Column 15': column_15.loc[top_50_indices],\n",
    "        'Column 18': column_18_top_50\n",
    "    })\n",
    "    combined_df.to_csv('top_50_combined.csv', index=False)\n",
    "    top_50_stats_df = pd.DataFrame({\n",
    "        'Statistic': ['Sample Mean', 'Sample Median', 'Sample Variance', 'Sample Standard Deviation'],\n",
    "        'Value': [column_18_mean, column_18_median, column_18_variance, column_18_std_dev]\n",
    "    })\n",
    "    top_50_stats_df.to_csv('top_50_stats_column_18.csv', index=False)\n",
    "    print(\"Top 50 combined values saved to 'top_50_combined.csv'\")\n",
    "    print(\"Statistics for column 18 saved to 'top_50_stats_column_18.csv'\")\n",
    "\n",
    "    # Create box plot for corresponding column 18 values\n",
    "    plt.figure(figsize=(8, 6))\n",
    "    plt.boxplot(column_18_top_50, vert=False, patch_artist=True, boxprops=dict(facecolor='lightblue'))\n",
    "    plt.title('High WAR Winning Percentage')\n",
    "    plt.xlabel('Winning Percentage')\n",
    "    plt.yticks([])  # Remove the left side numbers\n",
    "    plt.tight_layout()\n",
    "    plt.show()\n",
    "\n",
    "except Exception as e:\n",
    "    raise ValueError(f\"Error processing the data: {e}\")\n"
   ]
  },
  {
   "cell_type": "code",
   "execution_count": 31,
   "metadata": {},
   "outputs": [
    {
     "name": "stdout",
     "output_type": "stream",
     "text": [
      "             Column_2  Column_16\n",
      "0        Tim Anderson       -2.0\n",
      "1         Jean Segura       -1.9\n",
      "2        Oscar Colás*       -1.5\n",
      "3       Gavin Sheets*       -1.5\n",
      "4     Michael Toglia#       -1.5\n",
      "5         Nick Maton*       -1.5\n",
      "6    Oswaldo Cabrera#       -1.5\n",
      "7        Trey Mancini       -1.4\n",
      "8      Oscar González       -1.4\n",
      "9      Harold Castro*       -1.4\n",
      "10        Henry Davis       -1.4\n",
      "11       Nick Pratto*       -1.3\n",
      "12  Jurickson Profar#       -1.3\n",
      "13  Brandon Crawford*       -1.3\n",
      "14   Eduardo Escobar#       -1.1\n",
      "15  Tyler Soderstrom*       -1.1\n",
      "16        Jordan Diaz       -1.1\n",
      "17      Austin Barnes       -1.1\n",
      "18      Cam Gallagher       -1.1\n",
      "19      Austin Hedges       -1.1\n",
      "20       Mark Vientos       -1.1\n",
      "21         Tony Kemp*       -1.0\n",
      "22        Kris Bryant       -1.0\n",
      "23       Jake Bauers*       -0.9\n",
      "24         Eric Haase       -0.9\n",
      "25       Jared Walsh*       -0.9\n",
      "26      Danny Mendick       -0.9\n",
      "27       Aledmys Díaz       -0.9\n",
      "28       Kolten Wong*       -0.9\n",
      "29     Colton Cowser*       -0.8\n",
      "30  Giancarlo Stanton       -0.8\n",
      "31       Pavin Smith*       -0.8\n",
      "32        Brett Baty*       -0.8\n",
      "33     Starling Marte       -0.8\n",
      "34         AJ Pollock       -0.8\n",
      "35         Tomás Nido       -0.8\n",
      "36         Lenyn Sosa       -0.8\n",
      "37         Juan Yepez       -0.7\n",
      "38      Oswald Peraza       -0.7\n",
      "39    Trayce Thompson       -0.7\n",
      "40      David Hensley       -0.7\n",
      "41          Korey Lee       -0.7\n",
      "42       Jordyn Adams       -0.7\n",
      "43     Vaughn Grissom       -0.7\n",
      "44      Jesse Winker*       -0.7\n",
      "45   Yasmani Grandal#       -0.7\n",
      "46    Everson Pereira       -0.6\n",
      "47         Masyn Winn       -0.6\n",
      "48          Wil Myers       -0.6\n",
      "49     Hunter Renfroe       -0.6\n"
     ]
    }
   ],
   "source": [
    "\n",
    "def get_bottom_50_numbers(data):\n",
    "    try:\n",
    "        # Extract column 2 and column 16\n",
    "        column_2 = data.iloc[:, 1]  # Column 2 (index 1)\n",
    "        column_16 = data.iloc[:, 15]  # Column 16 (index 15)\n",
    "        \n",
    "        # Combine the two columns into a new DataFrame\n",
    "        combined_data = pd.DataFrame({\n",
    "            'Column_2': column_2,\n",
    "            'Column_16': column_16\n",
    "        })\n",
    "        \n",
    "        # Sort the data based on column 16 in ascending order\n",
    "        sorted_data = combined_data.sort_values(by='Column_16', ascending=True)\n",
    "        \n",
    "        # Retrieve the bottom 50 rows based on column 16\n",
    "        bottom_50 = sorted_data.head(50).reset_index(drop=True)\n",
    "        \n",
    "        # Print the results\n",
    "        print(bottom_50)\n",
    "        \n",
    "    except Exception as e:\n",
    "        print(f\"An error occurred: {e}\")\n",
    "\n",
    "# Assuming `data` is already a DataFrame loaded with the necessary data\n",
    "data = pd.read_csv(\"WAR_2023.csv\", encoding='latin1')\n",
    "\n",
    "# Get the bottom 50 numbers from column 16 and their corresponding values in column 2\n",
    "get_bottom_50_numbers(data)\n"
   ]
  },
  {
   "cell_type": "code",
   "execution_count": 36,
   "metadata": {},
   "outputs": [
    {
     "name": "stdout",
     "output_type": "stream",
     "text": [
      "Low WAR Values:\n",
      "Sample Mean: -1.022\n",
      "Sample Median: -0.9\n",
      "Sample Variance: 0.11930204081632655\n",
      "Sample Standard Deviation: 0.3454012750647087\n",
      "Bottom 50 values saved to 'bottom_50_values.csv'\n",
      "Statistics saved to 'bottom_50_stats.csv'\n"
     ]
    },
    {
     "data": {
      "image/png": "[encoded data removed]",
      "text/plain": [
       "<Figure size 800x600 with 1 Axes>"
      ]
     },
     "metadata": {},
     "output_type": "display_data"
    }
   ],
   "source": [
    "# Define the path to your CSV file\n",
    "csv_file_path = 'WAR_2023.csv'\n",
    "\n",
    "# Check if the file exists\n",
    "if not os.path.exists(csv_file_path):\n",
    "    raise FileNotFoundError(f\"The file '{csv_file_path}' does not exist.\")\n",
    "\n",
    "try:\n",
    "    # Attempt to read the CSV file with different encodings\n",
    "    try:\n",
    "        df = pd.read_csv(csv_file_path, encoding='utf-8')\n",
    "    except UnicodeDecodeError:\n",
    "        try:\n",
    "            df = pd.read_csv(csv_file_path, encoding='latin1')\n",
    "        except UnicodeDecodeError:\n",
    "            df = pd.read_csv(csv_file_path, encoding='iso-8859-1')\n",
    "except Exception as e:\n",
    "    raise ValueError(f\"Error reading the CSV file: {e}\")\n",
    "\n",
    "# Ensure the CSV file has at least 16 columns\n",
    "if df.shape[1] < 16:\n",
    "    raise ValueError(\"The CSV file does not have at least 16 columns.\")\n",
    "\n",
    "try:\n",
    "    # Extract the 16th column (index 15, since indexing starts from 0)\n",
    "    column_16 = df.iloc[:, 15]\n",
    "\n",
    "    # Ensure the column contains numeric values\n",
    "    column_16 = pd.to_numeric(column_16, errors='coerce')\n",
    "    \n",
    "    # Drop NaN values that cannot be converted to numeric\n",
    "    column_16 = column_16.dropna()\n",
    "\n",
    "    # Sort the column in ascending order and select the bottom 50 values\n",
    "    bottom_50_values = column_16.nsmallest(50)\n",
    "\n",
    "    # Compute statistics for bottom 50 values\n",
    "    bottom_50_mean = bottom_50_values.mean()\n",
    "    bottom_50_median = bottom_50_values.median()\n",
    "    bottom_50_variance = bottom_50_values.var()\n",
    "    bottom_50_std_dev = bottom_50_values.std()\n",
    "\n",
    "    # Print the results for bottom 50 values\n",
    "    print(\"Low WAR Values:\")\n",
    "    print(\"Sample Mean:\", bottom_50_mean)\n",
    "    print(\"Sample Median:\", bottom_50_median)\n",
    "    print(\"Sample Variance:\", bottom_50_variance)\n",
    "    print(\"Sample Standard Deviation:\", bottom_50_std_dev)\n",
    "\n",
    "    # Save the bottom 50 values and their statistics to a new CSV file\n",
    "    bottom_50_values.to_csv('bottom_50_values.csv', index=False)\n",
    "    bottom_50_stats_df = pd.DataFrame({\n",
    "        'Statistic': ['Sample Mean', 'Sample Median', 'Sample Variance', 'Sample Standard Deviation'],\n",
    "        'Value': [bottom_50_mean, bottom_50_median, bottom_50_variance, bottom_50_std_dev]\n",
    "    })\n",
    "    bottom_50_stats_df.to_csv('bottom_50_stats.csv', index=False)\n",
    "    print(\"Bottom 50 values saved to 'bottom_50_values.csv'\")\n",
    "    print(\"Statistics saved to 'bottom_50_stats.csv'\")\n",
    "\n",
    "    # Create box plot for bottom 50 values\n",
    "    plt.figure(figsize=(8, 6))\n",
    "    plt.boxplot(bottom_50_values, vert=False, patch_artist=True, boxprops=dict(facecolor='lightblue'))\n",
    "    plt.title('Low WAR Values')\n",
    "    plt.xlabel('WAR Value')\n",
    "    plt.yticks([])  # Remove the left side numbers\n",
    "\n",
    "    # Show the box plot\n",
    "    plt.tight_layout()\n",
    "    plt.show()\n",
    "\n",
    "except Exception as e:\n",
    "    raise ValueError(f\"Error processing the 16th column: {e}\")\n"
   ]
  },
  {
   "cell_type": "code",
   "execution_count": 42,
   "metadata": {},
   "outputs": [
    {
     "name": "stdout",
     "output_type": "stream",
     "text": [
      "Statistics for Column 18 of Low WAR Values:\n",
      "Sample Mean: 0.48926000000000003\n",
      "Sample Median: 0.489\n",
      "Sample Variance: 1.6808571428571462e-05\n",
      "Sample Standard Deviation: 0.004099825780270604\n",
      "Bottom 50 combined values saved to 'bottom_50_combined.csv'\n",
      "Statistics for column 18 saved to 'bottom_50_stats_column_18.csv'\n"
     ]
    },
    {
     "data": {
      "image/png": "[encoded data removed]",
      "text/plain": [
       "<Figure size 800x600 with 1 Axes>"
      ]
     },
     "metadata": {},
     "output_type": "display_data"
    }
   ],
   "source": [
    "# Define the path to your CSV file\n",
    "csv_file_path = 'WAR_2023.csv'\n",
    "\n",
    "# Check if the file exists\n",
    "if not os.path.exists(csv_file_path):\n",
    "    raise FileNotFoundError(f\"The file '{csv_file_path}' does not exist.\")\n",
    "\n",
    "try:\n",
    "    # Attempt to read the CSV file with different encodings\n",
    "    try:\n",
    "        df = pd.read_csv(csv_file_path, encoding='utf-8')\n",
    "    except UnicodeDecodeError:\n",
    "        try:\n",
    "            df = pd.read_csv(csv_file_path, encoding='latin1')\n",
    "        except UnicodeDecodeError:\n",
    "            df = pd.read_csv(csv_file_path, encoding='iso-8859-1')\n",
    "except Exception as e:\n",
    "    raise ValueError(f(\"Error reading the CSV file: {e}\"))\n",
    "\n",
    "# Ensure the CSV file has at least 18 columns\n",
    "if df.shape[1] < 18:\n",
    "    raise ValueError(\"The CSV file does not have at least 18 columns.\")\n",
    "\n",
    "try:\n",
    "    # Extract the 16th column (index 15, since indexing starts from 0)\n",
    "    column_16 = df.iloc[:, 15]\n",
    "\n",
    "    # Ensure the column contains numeric values\n",
    "    column_16 = pd.to_numeric(column_16, errors='coerce')\n",
    "    \n",
    "    # Drop NaN values that cannot be converted to numeric\n",
    "    column_16 = column_16.dropna()\n",
    "\n",
    "    # Sort the column in ascending order and select the bottom 50 values\n",
    "    bottom_50_values = column_16.nsmallest(50)\n",
    "\n",
    "    # Get the indices of the bottom 50 values\n",
    "    bottom_50_indices = bottom_50_values.index\n",
    "\n",
    "    # Extract the corresponding 18th column (index 17, since indexing starts from 0) values\n",
    "    bottom_50_column_18 = df.iloc[bottom_50_indices, 17]\n",
    "\n",
    "    # Ensure the column contains numeric values\n",
    "    bottom_50_column_18 = pd.to_numeric(bottom_50_column_18, errors='coerce')\n",
    "    \n",
    "    # Drop NaN values that cannot be converted to numeric\n",
    "    bottom_50_column_18 = bottom_50_column_18.dropna()\n",
    "\n",
    "    # Compute statistics for the 18th column of the bottom 50 values\n",
    "    column_18_mean = bottom_50_column_18.mean()\n",
    "    column_18_median = bottom_50_column_18.median()\n",
    "    column_18_variance = bottom_50_column_18.var()\n",
    "    column_18_std_dev = bottom_50_column_18.std()\n",
    "\n",
    "    # Print the statistics for the 18th column of the bottom 50 values\n",
    "    print(\"Statistics for Column 18 of Low WAR Values:\")\n",
    "    print(\"Sample Mean:\", column_18_mean)\n",
    "    print(\"Sample Median:\", column_18_median)\n",
    "    print(\"Sample Variance:\", column_18_variance)\n",
    "    print(\"Sample Standard Deviation:\", column_18_std_dev)\n",
    "\n",
    "    # Save the bottom 50 values and their statistics to a new CSV file\n",
    "    combined_df = pd.DataFrame({\n",
    "        'Column 16': bottom_50_values,\n",
    "        'Column 18': bottom_50_column_18\n",
    "    })\n",
    "    combined_df.to_csv('bottom_50_combined.csv', index=False)\n",
    "    bottom_50_stats_df = pd.DataFrame({\n",
    "        'Statistic': ['Sample Mean', 'Sample Median', 'Sample Variance', 'Sample Standard Deviation'],\n",
    "        'Value': [column_18_mean, column_18_median, column_18_variance, column_18_std_dev]\n",
    "    })\n",
    "    bottom_50_stats_df.to_csv('bottom_50_stats_column_18.csv', index=False)\n",
    "    print(\"Bottom 50 combined values saved to 'bottom_50_combined.csv'\")\n",
    "    print(\"Statistics for column 18 saved to 'bottom_50_stats_column_18.csv'\")\n",
    "\n",
    "    # Create box plot for corresponding column 18 values\n",
    "    plt.figure(figsize=(8, 6))\n",
    "    plt.boxplot(bottom_50_column_18, vert=False, patch_artist=True, boxprops=dict(facecolor='lightgreen'))\n",
    "    plt.title('Low WAR Winning Percentage')\n",
    "    plt.xlabel('Winning Percentage')\n",
    "    plt.yticks([])  # Remove the left side numbers\n",
    "    plt.tight_layout()\n",
    "    plt.show()\n",
    "\n",
    "except Exception as e:\n",
    "    raise ValueError(f(\"Error processing the 16th column: {e}\"))\n"
   ]
  },
  {
   "cell_type": "code",
   "execution_count": 52,
   "metadata": {},
   "outputs": [
    {
     "name": "stdout",
     "output_type": "stream",
     "text": [
      "Statistics for Column 18 of Low WAR Values (Multiplied by 100):\n",
      "Sample Mean: 48.926\n",
      "Sample Median: 48.9\n",
      "Sample Variance: 0.1680857142857148\n",
      "Sample Standard Deviation: 0.40998257802706056\n",
      "Bottom 50 combined values saved to 'bottom_50_combined.csv'\n",
      "Statistics for column 18 saved to 'bottom_50_stats_column_18.csv'\n"
     ]
    },
    {
     "data": {
      "image/png": "[encoded data removed]",
      "text/plain": [
       "<Figure size 800x600 with 1 Axes>"
      ]
     },
     "metadata": {},
     "output_type": "display_data"
    }
   ],
   "source": [
    "import os\n",
    "import pandas as pd\n",
    "import matplotlib.pyplot as plt\n",
    "\n",
    "# Define the path to your CSV file\n",
    "csv_file_path = 'WAR_2023.csv'\n",
    "\n",
    "# Check if the file exists\n",
    "if not os.path.exists(csv_file_path):\n",
    "    raise FileNotFoundError(f\"The file '{csv_file_path}' does not exist.\")\n",
    "\n",
    "try:\n",
    "    # Attempt to read the CSV file with different encodings\n",
    "    try:\n",
    "        df = pd.read_csv(csv_file_path, encoding='utf-8')\n",
    "    except UnicodeDecodeError:\n",
    "        try:\n",
    "            df = pd.read_csv(csv_file_path, encoding='latin1')\n",
    "        except UnicodeDecodeError:\n",
    "            df = pd.read_csv(csv_file_path, encoding='iso-8859-1')\n",
    "except Exception as e:\n",
    "    raise ValueError(f\"Error reading the CSV file: {e}\")\n",
    "\n",
    "# Ensure the CSV file has at least 18 columns\n",
    "if df.shape[1] < 18:\n",
    "    raise ValueError(\"The CSV file does not have at least 18 columns.\")\n",
    "\n",
    "try:\n",
    "    # Extract the 16th column (index 15, since indexing starts from 0)\n",
    "    column_16 = df.iloc[:, 15]\n",
    "\n",
    "    # Ensure the column contains numeric values\n",
    "    column_16 = pd.to_numeric(column_16, errors='coerce')\n",
    "    \n",
    "    # Drop NaN values that cannot be converted to numeric\n",
    "    column_16 = column_16.dropna()\n",
    "\n",
    "    # Sort the column in ascending order and select the bottom 50 values\n",
    "    bottom_50_values = column_16.nsmallest(50)\n",
    "\n",
    "    # Get the indices of the bottom 50 values\n",
    "    bottom_50_indices = bottom_50_values.index\n",
    "\n",
    "    # Extract the corresponding 18th column (index 17, since indexing starts from 0) values\n",
    "    bottom_50_column_18 = df.iloc[bottom_50_indices, 17]\n",
    "\n",
    "    # Ensure the column contains numeric values\n",
    "    bottom_50_column_18 = pd.to_numeric(bottom_50_column_18, errors='coerce')\n",
    "    \n",
    "    # Drop NaN values that cannot be converted to numeric\n",
    "    bottom_50_column_18 = bottom_50_column_18.dropna()\n",
    "\n",
    "    # Multiply the data in column 18 by 100\n",
    "    bottom_50_column_18 *= 100\n",
    "\n",
    "    # Compute statistics for the 18th column of the bottom 50 values\n",
    "    column_18_mean = bottom_50_column_18.mean()\n",
    "    column_18_median = bottom_50_column_18.median()\n",
    "    column_18_variance = bottom_50_column_18.var()\n",
    "    column_18_std_dev = bottom_50_column_18.std()\n",
    "\n",
    "    # Print the statistics for the 18th column of the bottom 50 values\n",
    "    print(\"Statistics for Column 18 of Low WAR Values (Multiplied by 100):\")\n",
    "    print(\"Sample Mean:\", column_18_mean)\n",
    "    print(\"Sample Median:\", column_18_median)\n",
    "    print(\"Sample Variance:\", column_18_variance)\n",
    "    print(\"Sample Standard Deviation:\", column_18_std_dev)\n",
    "\n",
    "    # Save the bottom 50 values and their statistics to a new CSV file\n",
    "    combined_df = pd.DataFrame({\n",
    "        'Column 16': bottom_50_values,\n",
    "        'Column 18': bottom_50_column_18\n",
    "    })\n",
    "    combined_df.to_csv('bottom_50_combined.csv', index=False)\n",
    "    bottom_50_stats_df = pd.DataFrame({\n",
    "        'Statistic': ['Sample Mean', 'Sample Median', 'Sample Variance', 'Sample Standard Deviation'],\n",
    "        'Value': [column_18_mean, column_18_median, column_18_variance, column_18_std_dev]\n",
    "    })\n",
    "    bottom_50_stats_df.to_csv('bottom_50_stats_column_18.csv', index=False)\n",
    "    print(\"Bottom 50 combined values saved to 'bottom_50_combined.csv'\")\n",
    "    print(\"Statistics for column 18 saved to 'bottom_50_stats_column_18.csv'\")\n",
    "\n",
    "    # Create box plot for corresponding column 18 values\n",
    "    plt.figure(figsize=(8, 6))\n",
    "    plt.boxplot(bottom_50_column_18, vert=False, patch_artist=True, boxprops=dict(facecolor='lightgreen'))\n",
    "    plt.title('Low WAR Winning Percentage')\n",
    "    plt.xlabel('Winning Percentage')\n",
    "    plt.yticks([])  # Remove the left side numbers\n",
    "    plt.tight_layout()\n",
    "    plt.show()\n",
    "\n",
    "except Exception as e:\n",
    "    raise ValueError(f\"Error processing the 16th column: {e}\")\n"
   ]
  },
  {
   "cell_type": "code",
   "execution_count": 49,
   "metadata": {},
   "outputs": [
    {
     "name": "stdout",
     "output_type": "stream",
     "text": [
      "Statistics for Column 18 of Low WAR Values (as percentages):\n",
      "Sample Mean: 48.926\n",
      "Sample Median: 48.9\n",
      "Sample Variance: 0.1680857142857148\n",
      "Sample Standard Deviation: 0.40998257802706056\n",
      "Bottom 50 combined values saved to 'bottom_50_combined.csv'\n",
      "Statistics for column 18 saved to 'bottom_50_stats_column_18.csv'\n"
     ]
    },
    {
     "data": {
      "image/png": "[encoded data removed]",
      "text/plain": [
       "<Figure size 800x600 with 1 Axes>"
      ]
     },
     "metadata": {},
     "output_type": "display_data"
    }
   ],
   "source": [
    "import os\n",
    "import pandas as pd\n",
    "import matplotlib.pyplot as plt\n",
    "\n",
    "# Define the path to your CSV file\n",
    "csv_file_path = 'WAR_2023.csv'\n",
    "\n",
    "# Check if the file exists\n",
    "if not os.path.exists(csv_file_path):\n",
    "    raise FileNotFoundError(f\"The file '{csv_file_path}' does not exist.\")\n",
    "\n",
    "try:\n",
    "    # Attempt to read the CSV file with different encodings\n",
    "    try:\n",
    "        df = pd.read_csv(csv_file_path, encoding='utf-8')\n",
    "    except UnicodeDecodeError:\n",
    "        try:\n",
    "            df = pd.read_csv(csv_file_path, encoding='latin1')\n",
    "        except UnicodeDecodeError:\n",
    "            df = pd.read_csv(csv_file_path, encoding='iso-8859-1')\n",
    "except Exception as e:\n",
    "    raise ValueError(f\"Error reading the CSV file: {e}\")\n",
    "\n",
    "# Ensure the CSV file has at least 18 columns\n",
    "if df.shape[1] < 18:\n",
    "    raise ValueError(\"The CSV file does not have at least 18 columns.\")\n",
    "\n",
    "try:\n",
    "    # Extract the 16th column (index 15, since indexing starts from 0)\n",
    "    column_16 = df.iloc[:, 15]\n",
    "\n",
    "    # Ensure the column contains numeric values\n",
    "    column_16 = pd.to_numeric(column_16, errors='coerce')\n",
    "    \n",
    "    # Drop NaN values that cannot be converted to numeric\n",
    "    column_16 = column_16.dropna()\n",
    "\n",
    "    # Sort the column in ascending order and select the bottom 50 values\n",
    "    bottom_50_values = column_16.nsmallest(50)\n",
    "\n",
    "    # Get the indices of the bottom 50 values\n",
    "    bottom_50_indices = bottom_50_values.index\n",
    "\n",
    "    # Extract the corresponding 18th column (index 17, since indexing starts from 0) values\n",
    "    bottom_50_column_18 = df.iloc[bottom_50_indices, 17]\n",
    "\n",
    "    # Ensure the column contains numeric values\n",
    "    bottom_50_column_18 = pd.to_numeric(bottom_50_column_18, errors='coerce')\n",
    "    \n",
    "    # Drop NaN values that cannot be converted to numeric\n",
    "    bottom_50_column_18 = bottom_50_column_18.dropna()\n",
    "\n",
    "    # Multiply by 100 to convert to percentages\n",
    "    bottom_50_column_18 *= 100\n",
    "\n",
    "    # Compute statistics for the 18th column of the bottom 50 values\n",
    "    column_18_mean = bottom_50_column_18.mean()\n",
    "    column_18_median = bottom_50_column_18.median()\n",
    "    column_18_variance = bottom_50_column_18.var()\n",
    "    column_18_std_dev = bottom_50_column_18.std()\n",
    "\n",
    "    # Print the statistics for the 18th column of the bottom 50 values\n",
    "    print(\"Statistics for Column 18 of Low WAR Values (as percentages):\")\n",
    "    print(\"Sample Mean:\", column_18_mean)\n",
    "    print(\"Sample Median:\", column_18_median)\n",
    "    print(\"Sample Variance:\", column_18_variance)\n",
    "    print(\"Sample Standard Deviation:\", column_18_std_dev)\n",
    "\n",
    "    # Save the bottom 50 values and their statistics to a new CSV file\n",
    "    combined_df = pd.DataFrame({\n",
    "        'Column 16': bottom_50_values,\n",
    "        'Column 18': bottom_50_column_18\n",
    "    })\n",
    "    combined_df.to_csv('bottom_50_combined.csv', index=False)\n",
    "    bottom_50_stats_df = pd.DataFrame({\n",
    "        'Statistic': ['Sample Mean', 'Sample Median', 'Sample Variance', 'Sample Standard Deviation'],\n",
    "        'Value': [column_18_mean, column_18_median, column_18_variance, column_18_std_dev]\n",
    "    })\n",
    "    bottom_50_stats_df.to_csv('bottom_50_stats_column_18.csv', index=False)\n",
    "    print(\"Bottom 50 combined values saved to 'bottom_50_combined.csv'\")\n",
    "    print(\"Statistics for column 18 saved to 'bottom_50_stats_column_18.csv'\")\n",
    "\n",
    "    # Create box plot for corresponding column 18 values\n",
    "    plt.figure(figsize=(8, 6))\n",
    "    plt.boxplot(bottom_50_column_18, vert=False, patch_artist=True, boxprops=dict(facecolor='lightgreen'))\n",
    "    plt.title('Low WAR Winning Percentage')\n",
    "    plt.xlabel('Winning Percentage')\n",
    "    plt.yticks([])  # Remove the left side numbers\n",
    "    plt.tight_layout()\n",
    "    plt.show()\n",
    "\n",
    "except Exception as e:\n",
    "    raise ValueError(f\"Error processing the 16th column: {e}\")\n"
   ]
  },
  {
   "cell_type": "code",
   "execution_count": 51,
   "metadata": {},
   "outputs": [
    {
     "name": "stdout",
     "output_type": "stream",
     "text": [
      "Statistics for Column 18 of Low WAR Values (Multiplied by 100):\n",
      "Sample Mean: 48.926\n",
      "Sample Median: 48.9\n",
      "Sample Variance: 0.1680857142857148\n",
      "Sample Standard Deviation: 0.40998257802706056\n",
      "Bottom 50 combined values saved to 'bottom_50_combined.csv'\n",
      "Statistics for column 18 saved to 'bottom_50_stats_column_18.csv'\n"
     ]
    },
    {
     "data": {
      "image/png": "[encoded data removed]",
      "text/plain": [
       "<Figure size 800x600 with 1 Axes>"
      ]
     },
     "metadata": {},
     "output_type": "display_data"
    }
   ],
   "source": [
    "import os\n",
    "import pandas as pd\n",
    "import matplotlib.pyplot as plt\n",
    "\n",
    "# Define the path to your CSV file\n",
    "csv_file_path = 'WAR_2023.csv'\n",
    "\n",
    "# Check if the file exists\n",
    "if not os.path.exists(csv_file_path):\n",
    "    raise FileNotFoundError(f\"The file '{csv_file_path}' does not exist.\")\n",
    "\n",
    "try:\n",
    "    # Attempt to read the CSV file with different encodings\n",
    "    try:\n",
    "        df = pd.read_csv(csv_file_path, encoding='utf-8')\n",
    "    except UnicodeDecodeError:\n",
    "        try:\n",
    "            df = pd.read_csv(csv_file_path, encoding='latin1')\n",
    "        except UnicodeDecodeError:\n",
    "            df = pd.read_csv(csv_file_path, encoding='iso-8859-1')\n",
    "except Exception as e:\n",
    "    raise ValueError(f\"Error reading the CSV file: {e}\")\n",
    "\n",
    "# Ensure the CSV file has at least 18 columns\n",
    "if df.shape[1] < 18:\n",
    "    raise ValueError(\"The CSV file does not have at least 18 columns.\")\n",
    "\n",
    "try:\n",
    "    # Extract the 16th column (index 15, since indexing starts from 0)\n",
    "    column_16 = df.iloc[:, 15]\n",
    "\n",
    "    # Ensure the column contains numeric values\n",
    "    column_16 = pd.to_numeric(column_16, errors='coerce')\n",
    "    \n",
    "    # Drop NaN values that cannot be converted to numeric\n",
    "    column_16 = column_16.dropna()\n",
    "\n",
    "    # Sort the column in ascending order and select the bottom 50 values\n",
    "    bottom_50_values = column_16.nsmallest(50)\n",
    "\n",
    "    # Get the indices of the bottom 50 values\n",
    "    bottom_50_indices = bottom_50_values.index\n",
    "\n",
    "    # Extract the corresponding 18th column (index 17, since indexing starts from 0) values\n",
    "    bottom_50_column_18 = df.iloc[bottom_50_indices, 17]\n",
    "\n",
    "    # Ensure the column contains numeric values\n",
    "    bottom_50_column_18 = pd.to_numeric(bottom_50_column_18, errors='coerce')\n",
    "    \n",
    "    # Drop NaN values that cannot be converted to numeric\n",
    "    bottom_50_column_18 = bottom_50_column_18.dropna()\n",
    "\n",
    "    # Multiply the data in column 18 by 100\n",
    "    bottom_50_column_18 *= 100\n",
    "\n",
    "    # Compute statistics for the 18th column of the bottom 50 values\n",
    "    column_18_mean = bottom_50_column_18.mean()\n",
    "    column_18_median = bottom_50_column_18.median()\n",
    "    column_18_variance = bottom_50_column_18.var()\n",
    "    column_18_std_dev = bottom_50_column_18.std()\n",
    "\n",
    "    # Print the statistics for the 18th column of the bottom 50 values\n",
    "    print(\"Statistics for Column 18 of Low WAR Values (Multiplied by 100):\")\n",
    "    print(\"Sample Mean:\", column_18_mean)\n",
    "    print(\"Sample Median:\", column_18_median)\n",
    "    print(\"Sample Variance:\", column_18_variance)\n",
    "    print(\"Sample Standard Deviation:\", column_18_std_dev)\n",
    "\n",
    "    # Save the bottom 50 values and their statistics to a new CSV file\n",
    "    combined_df = pd.DataFrame({\n",
    "        'Column 16': bottom_50_values,\n",
    "        'Column 18': bottom_50_column_18\n",
    "    })\n",
    "    combined_df.to_csv('bottom_50_combined.csv', index=False)\n",
    "    bottom_50_stats_df = pd.DataFrame({\n",
    "        'Statistic': ['Sample Mean', 'Sample Median', 'Sample Variance', 'Sample Standard Deviation'],\n",
    "        'Value': [column_18_mean, column_18_median, column_18_variance, column_18_std_dev]\n",
    "    })\n",
    "    bottom_50_stats_df.to_csv('bottom_50_stats_column_18.csv', index=False)\n",
    "    print(\"Bottom 50 combined values saved to 'bottom_50_combined.csv'\")\n",
    "    print(\"Statistics for column 18 saved to 'bottom_50_stats_column_18.csv'\")\n",
    "\n",
    "    # Create box plot for corresponding column 18 values\n",
    "    plt.figure(figsize=(8, 6))\n",
    "    plt.boxplot(bottom_50_column_18, vert=False, patch_artist=True, boxprops=dict(facecolor='lightgreen'))\n",
    "    plt.title('Low WAR Winning Percentage')\n",
    "    plt.xlabel('Winning Percentage')\n",
    "    plt.yticks([])  # Remove the left side numbers\n",
    "    plt.tight_layout()\n",
    "    plt.show()\n",
    "\n",
    "except Exception as e:\n",
    "    raise ValueError(f\"Error processing the 16th column: {e}\")\n"
   ]
  },
  {
   "cell_type": "code",
   "execution_count": 45,
   "metadata": {},
   "outputs": [
    {
     "data": {
      "application/vnd.plotly.v1+json": {
       "config": {
        "plotlyServerURL": "https://plot.ly"
       },
       "data": [
        {
         "hovertemplate": "Group=Top 50<br>WAR Value=%{x}<br>Winning Percentage=%{y}<extra></extra>",
         "legendgroup": "Top 50",
         "marker": {
          "color": "#636efa",
          "symbol": "circle"
         },
         "mode": "markers",
         "name": "Top 50",
         "orientation": "v",
         "showlegend": true,
         "type": "scatter",
         "x": [
          8.3,
          8.2,
          7.4,
          7.4,
          6.9,
          6.5,
          6.2,
          6,
          6,
          5.9,
          5.8,
          5.5,
          5.5,
          5.5,
          5.4,
          5.4,
          5.3,
          5.3,
          5.2,
          5.1,
          5.1,
          5.1,
          5,
          4.9,
          4.9,
          4.9,
          4.9,
          4.8,
          4.7,
          4.6,
          4.5,
          4.4,
          4.4,
          4.4,
          4.4,
          4.3,
          4.3,
          4.3,
          4.3,
          4.2,
          4.2,
          4.1,
          4,
          3.9,
          3.9,
          3.9,
          3.9,
          3.8,
          3.8,
          3.8
         ],
         "xaxis": "x",
         "y": [
          0.539,
          0.538,
          0.532,
          0.531,
          0.532,
          0.527,
          0.525,
          0.524,
          0.528,
          0.523,
          0.523,
          0.524,
          0.52,
          0.522,
          0.521,
          0.52,
          0.52,
          0.519,
          0.52,
          0.519,
          0.519,
          0.518,
          0.519,
          0.518,
          0.519,
          0.516,
          0.518,
          0.517,
          0.517,
          0.519,
          0.518,
          0.516,
          0.514,
          0.515,
          0.513,
          0.518,
          0.519,
          0.513,
          0.514,
          0.513,
          0.514,
          0.515,
          0.514,
          0.515,
          0.516,
          0.512,
          0.512,
          0.511,
          0.513,
          0.511
         ],
         "yaxis": "y"
        },
        {
         "hovertemplate": "Group=Bottom 50<br>WAR Value=%{x}<br>Winning Percentage=%{y}<extra></extra>",
         "legendgroup": "Bottom 50",
         "marker": {
          "color": "#EF553B",
          "symbol": "circle"
         },
         "mode": "markers",
         "name": "Bottom 50",
         "orientation": "v",
         "showlegend": true,
         "type": "scatter",
         "x": [
          -2,
          -1.9,
          -1.5,
          -1.5,
          -1.5,
          -1.5,
          -1.5,
          -1.4,
          -1.4,
          -1.4,
          -1.4,
          -1.3,
          -1.3,
          -1.3,
          -1.1,
          -1.1,
          -1.1,
          -1.1,
          -1.1,
          -1.1,
          -1.1,
          -1,
          -1,
          -0.9,
          -0.9,
          -0.9,
          -0.9,
          -0.9,
          -0.9,
          -0.8,
          -0.8,
          -0.8,
          -0.8,
          -0.8,
          -0.8,
          -0.8,
          -0.8,
          -0.7,
          -0.7,
          -0.7,
          -0.7,
          -0.7,
          -0.7,
          -0.7,
          -0.7,
          -0.7,
          -0.6,
          -0.6,
          -0.6,
          -0.6
         ],
         "xaxis": "x",
         "y": [
          0.477,
          0.482,
          0.484,
          0.485,
          0.485,
          0.483,
          0.488,
          0.486,
          0.486,
          0.488,
          0.486,
          0.486,
          0.485,
          0.483,
          0.489,
          0.487,
          0.493,
          0.49,
          0.492,
          0.49,
          0.489,
          0.487,
          0.485,
          0.489,
          0.487,
          0.489,
          0.493,
          0.492,
          0.491,
          0.488,
          0.494,
          0.488,
          0.494,
          0.494,
          0.491,
          0.492,
          0.487,
          0.495,
          0.487,
          0.494,
          0.494,
          0.494,
          0.492,
          0.496,
          0.492,
          0.494,
          0.494,
          0.494,
          0.489,
          0.493
         ],
         "yaxis": "y"
        }
       ],
       "layout": {
        "legend": {
         "title": {
          "text": "Group"
         },
         "tracegroupgap": 0
        },
        "template": {
         "data": {
          "bar": [
           {
            "error_x": {
             "color": "#2a3f5f"
            },
            "error_y": {
             "color": "#2a3f5f"
            },
            "marker": {
             "line": {
              "color": "#E5ECF6",
              "width": 0.5
             },
             "pattern": {
              "fillmode": "overlay",
              "size": 10,
              "solidity": 0.2
             }
            },
            "type": "bar"
           }
          ],
          "barpolar": [
           {
            "marker": {
             "line": {
              "color": "#E5ECF6",
              "width": 0.5
             },
             "pattern": {
              "fillmode": "overlay",
              "size": 10,
              "solidity": 0.2
             }
            },
            "type": "barpolar"
           }
          ],
          "carpet": [
           {
            "aaxis": {
             "endlinecolor": "#2a3f5f",
             "gridcolor": "white",
             "linecolor": "white",
             "minorgridcolor": "white",
             "startlinecolor": "#2a3f5f"
            },
            "baxis": {
             "endlinecolor": "#2a3f5f",
             "gridcolor": "white",
             "linecolor": "white",
             "minorgridcolor": "white",
             "startlinecolor": "#2a3f5f"
            },
            "type": "carpet"
           }
          ],
          "choropleth": [
           {
            "colorbar": {
             "outlinewidth": 0,
             "ticks": ""
            },
            "type": "choropleth"
           }
          ],
          "contour": [
           {
            "colorbar": {
             "outlinewidth": 0,
             "ticks": ""
            },
            "colorscale": [
             [
              0,
              "#0d0887"
             ],
             [
              0.1111111111111111,
              "#46039f"
             ],
             [
              0.2222222222222222,
              "#7201a8"
             ],
             [
              0.3333333333333333,
              "#9c179e"
             ],
             [
              0.4444444444444444,
              "#bd3786"
             ],
             [
              0.5555555555555556,
              "#d8576b"
             ],
             [
              0.6666666666666666,
              "#ed7953"
             ],
             [
              0.7777777777777778,
              "#fb9f3a"
             ],
             [
              0.8888888888888888,
              "#fdca26"
             ],
             [
              1,
              "#f0f921"
             ]
            ],
            "type": "contour"
           }
          ],
          "contourcarpet": [
           {
            "colorbar": {
             "outlinewidth": 0,
             "ticks": ""
            },
            "type": "contourcarpet"
           }
          ],
          "heatmap": [
           {
            "colorbar": {
             "outlinewidth": 0,
             "ticks": ""
            },
            "colorscale": [
             [
              0,
              "#0d0887"
             ],
             [
              0.1111111111111111,
              "#46039f"
             ],
             [
              0.2222222222222222,
              "#7201a8"
             ],
             [
              0.3333333333333333,
              "#9c179e"
             ],
             [
              0.4444444444444444,
              "#bd3786"
             ],
             [
              0.5555555555555556,
              "#d8576b"
             ],
             [
              0.6666666666666666,
              "#ed7953"
             ],
             [
              0.7777777777777778,
              "#fb9f3a"
             ],
             [
              0.8888888888888888,
              "#fdca26"
             ],
             [
              1,
              "#f0f921"
             ]
            ],
            "type": "heatmap"
           }
          ],
          "heatmapgl": [
           {
            "colorbar": {
             "outlinewidth": 0,
             "ticks": ""
            },
            "colorscale": [
             [
              0,
              "#0d0887"
             ],
             [
              0.1111111111111111,
              "#46039f"
             ],
             [
              0.2222222222222222,
              "#7201a8"
             ],
             [
              0.3333333333333333,
              "#9c179e"
             ],
             [
              0.4444444444444444,
              "#bd3786"
             ],
             [
              0.5555555555555556,
              "#d8576b"
             ],
             [
              0.6666666666666666,
              "#ed7953"
             ],
             [
              0.7777777777777778,
              "#fb9f3a"
             ],
             [
              0.8888888888888888,
              "#fdca26"
             ],
             [
              1,
              "#f0f921"
             ]
            ],
            "type": "heatmapgl"
           }
          ],
          "histogram": [
           {
            "marker": {
             "pattern": {
              "fillmode": "overlay",
              "size": 10,
              "solidity": 0.2
             }
            },
            "type": "histogram"
           }
          ],
          "histogram2d": [
           {
            "colorbar": {
             "outlinewidth": 0,
             "ticks": ""
            },
            "colorscale": [
             [
              0,
              "#0d0887"
             ],
             [
              0.1111111111111111,
              "#46039f"
             ],
             [
              0.2222222222222222,
              "#7201a8"
             ],
             [
              0.3333333333333333,
              "#9c179e"
             ],
             [
              0.4444444444444444,
              "#bd3786"
             ],
             [
              0.5555555555555556,
              "#d8576b"
             ],
             [
              0.6666666666666666,
              "#ed7953"
             ],
             [
              0.7777777777777778,
              "#fb9f3a"
             ],
             [
              0.8888888888888888,
              "#fdca26"
             ],
             [
              1,
              "#f0f921"
             ]
            ],
            "type": "histogram2d"
           }
          ],
          "histogram2dcontour": [
           {
            "colorbar": {
             "outlinewidth": 0,
             "ticks": ""
            },
            "colorscale": [
             [
              0,
              "#0d0887"
             ],
             [
              0.1111111111111111,
              "#46039f"
             ],
             [
              0.2222222222222222,
              "#7201a8"
             ],
             [
              0.3333333333333333,
              "#9c179e"
             ],
             [
              0.4444444444444444,
              "#bd3786"
             ],
             [
              0.5555555555555556,
              "#d8576b"
             ],
             [
              0.6666666666666666,
              "#ed7953"
             ],
             [
              0.7777777777777778,
              "#fb9f3a"
             ],
             [
              0.8888888888888888,
              "#fdca26"
             ],
             [
              1,
              "#f0f921"
             ]
            ],
            "type": "histogram2dcontour"
           }
          ],
          "mesh3d": [
           {
            "colorbar": {
             "outlinewidth": 0,
             "ticks": ""
            },
            "type": "mesh3d"
           }
          ],
          "parcoords": [
           {
            "line": {
             "colorbar": {
              "outlinewidth": 0,
              "ticks": ""
             }
            },
            "type": "parcoords"
           }
          ],
          "pie": [
           {
            "automargin": true,
            "type": "pie"
           }
          ],
          "scatter": [
           {
            "fillpattern": {
             "fillmode": "overlay",
             "size": 10,
             "solidity": 0.2
            },
            "type": "scatter"
           }
          ],
          "scatter3d": [
           {
            "line": {
             "colorbar": {
              "outlinewidth": 0,
              "ticks": ""
             }
            },
            "marker": {
             "colorbar": {
              "outlinewidth": 0,
              "ticks": ""
             }
            },
            "type": "scatter3d"
           }
          ],
          "scattercarpet": [
           {
            "marker": {
             "colorbar": {
              "outlinewidth": 0,
              "ticks": ""
             }
            },
            "type": "scattercarpet"
           }
          ],
          "scattergeo": [
           {
            "marker": {
             "colorbar": {
              "outlinewidth": 0,
              "ticks": ""
             }
            },
            "type": "scattergeo"
           }
          ],
          "scattergl": [
           {
            "marker": {
             "colorbar": {
              "outlinewidth": 0,
              "ticks": ""
             }
            },
            "type": "scattergl"
           }
          ],
          "scattermapbox": [
           {
            "marker": {
             "colorbar": {
              "outlinewidth": 0,
              "ticks": ""
             }
            },
            "type": "scattermapbox"
           }
          ],
          "scatterpolar": [
           {
            "marker": {
             "colorbar": {
              "outlinewidth": 0,
              "ticks": ""
             }
            },
            "type": "scatterpolar"
           }
          ],
          "scatterpolargl": [
           {
            "marker": {
             "colorbar": {
              "outlinewidth": 0,
              "ticks": ""
             }
            },
            "type": "scatterpolargl"
           }
          ],
          "scatterternary": [
           {
            "marker": {
             "colorbar": {
              "outlinewidth": 0,
              "ticks": ""
             }
            },
            "type": "scatterternary"
           }
          ],
          "surface": [
           {
            "colorbar": {
             "outlinewidth": 0,
             "ticks": ""
            },
            "colorscale": [
             [
              0,
              "#0d0887"
             ],
             [
              0.1111111111111111,
              "#46039f"
             ],
             [
              0.2222222222222222,
              "#7201a8"
             ],
             [
              0.3333333333333333,
              "#9c179e"
             ],
             [
              0.4444444444444444,
              "#bd3786"
             ],
             [
              0.5555555555555556,
              "#d8576b"
             ],
             [
              0.6666666666666666,
              "#ed7953"
             ],
             [
              0.7777777777777778,
              "#fb9f3a"
             ],
             [
              0.8888888888888888,
              "#fdca26"
             ],
             [
              1,
              "#f0f921"
             ]
            ],
            "type": "surface"
           }
          ],
          "table": [
           {
            "cells": {
             "fill": {
              "color": "#EBF0F8"
             },
             "line": {
              "color": "white"
             }
            },
            "header": {
             "fill": {
              "color": "#C8D4E3"
             },
             "line": {
              "color": "white"
             }
            },
            "type": "table"
           }
          ]
         },
         "layout": {
          "annotationdefaults": {
           "arrowcolor": "#2a3f5f",
           "arrowhead": 0,
           "arrowwidth": 1
          },
          "autotypenumbers": "strict",
          "coloraxis": {
           "colorbar": {
            "outlinewidth": 0,
            "ticks": ""
           }
          },
          "colorscale": {
           "diverging": [
            [
             0,
             "#8e0152"
            ],
            [
             0.1,
             "#c51b7d"
            ],
            [
             0.2,
             "#de77ae"
            ],
            [
             0.3,
             "#f1b6da"
            ],
            [
             0.4,
             "#fde0ef"
            ],
            [
             0.5,
             "#f7f7f7"
            ],
            [
             0.6,
             "#e6f5d0"
            ],
            [
             0.7,
             "#b8e186"
            ],
            [
             0.8,
             "#7fbc41"
            ],
            [
             0.9,
             "#4d9221"
            ],
            [
             1,
             "#276419"
            ]
           ],
           "sequential": [
            [
             0,
             "#0d0887"
            ],
            [
             0.1111111111111111,
             "#46039f"
            ],
            [
             0.2222222222222222,
             "#7201a8"
            ],
            [
             0.3333333333333333,
             "#9c179e"
            ],
            [
             0.4444444444444444,
             "#bd3786"
            ],
            [
             0.5555555555555556,
             "#d8576b"
            ],
            [
             0.6666666666666666,
             "#ed7953"
            ],
            [
             0.7777777777777778,
             "#fb9f3a"
            ],
            [
             0.8888888888888888,
             "#fdca26"
            ],
            [
             1,
             "#f0f921"
            ]
           ],
           "sequentialminus": [
            [
             0,
             "#0d0887"
            ],
            [
             0.1111111111111111,
             "#46039f"
            ],
            [
             0.2222222222222222,
             "#7201a8"
            ],
            [
             0.3333333333333333,
             "#9c179e"
            ],
            [
             0.4444444444444444,
             "#bd3786"
            ],
            [
             0.5555555555555556,
             "#d8576b"
            ],
            [
             0.6666666666666666,
             "#ed7953"
            ],
            [
             0.7777777777777778,
             "#fb9f3a"
            ],
            [
             0.8888888888888888,
             "#fdca26"
            ],
            [
             1,
             "#f0f921"
            ]
           ]
          },
          "colorway": [
           "#636efa",
           "#EF553B",
           "#00cc96",
           "#ab63fa",
           "#FFA15A",
           "#19d3f3",
           "#FF6692",
           "#B6E880",
           "#FF97FF",
           "#FECB52"
          ],
          "font": {
           "color": "#2a3f5f"
          },
          "geo": {
           "bgcolor": "white",
           "lakecolor": "white",
           "landcolor": "#E5ECF6",
           "showlakes": true,
           "showland": true,
           "subunitcolor": "white"
          },
          "hoverlabel": {
           "align": "left"
          },
          "hovermode": "closest",
          "mapbox": {
           "style": "light"
          },
          "paper_bgcolor": "white",
          "plot_bgcolor": "#E5ECF6",
          "polar": {
           "angularaxis": {
            "gridcolor": "white",
            "linecolor": "white",
            "ticks": ""
           },
           "bgcolor": "#E5ECF6",
           "radialaxis": {
            "gridcolor": "white",
            "linecolor": "white",
            "ticks": ""
           }
          },
          "scene": {
           "xaxis": {
            "backgroundcolor": "#E5ECF6",
            "gridcolor": "white",
            "gridwidth": 2,
            "linecolor": "white",
            "showbackground": true,
            "ticks": "",
            "zerolinecolor": "white"
           },
           "yaxis": {
            "backgroundcolor": "#E5ECF6",
            "gridcolor": "white",
            "gridwidth": 2,
            "linecolor": "white",
            "showbackground": true,
            "ticks": "",
            "zerolinecolor": "white"
           },
           "zaxis": {
            "backgroundcolor": "#E5ECF6",
            "gridcolor": "white",
            "gridwidth": 2,
            "linecolor": "white",
            "showbackground": true,
            "ticks": "",
            "zerolinecolor": "white"
           }
          },
          "shapedefaults": {
           "line": {
            "color": "#2a3f5f"
           }
          },
          "ternary": {
           "aaxis": {
            "gridcolor": "white",
            "linecolor": "white",
            "ticks": ""
           },
           "baxis": {
            "gridcolor": "white",
            "linecolor": "white",
            "ticks": ""
           },
           "bgcolor": "#E5ECF6",
           "caxis": {
            "gridcolor": "white",
            "linecolor": "white",
            "ticks": ""
           }
          },
          "title": {
           "x": 0.05
          },
          "xaxis": {
           "automargin": true,
           "gridcolor": "white",
           "linecolor": "white",
           "ticks": "",
           "title": {
            "standoff": 15
           },
           "zerolinecolor": "white",
           "zerolinewidth": 2
          },
          "yaxis": {
           "automargin": true,
           "gridcolor": "white",
           "linecolor": "white",
           "ticks": "",
           "title": {
            "standoff": 15
           },
           "zerolinecolor": "white",
           "zerolinewidth": 2
          }
         }
        },
        "title": {
         "text": "Top 50 vs Bottom 50 WAR Values and Winning Percentages"
        },
        "xaxis": {
         "anchor": "y",
         "domain": [
          0,
          1
         ],
         "title": {
          "text": "WAR Value"
         }
        },
        "yaxis": {
         "anchor": "x",
         "domain": [
          0,
          1
         ],
         "title": {
          "text": "Winning Percentage"
         }
        }
       }
      }
     },
     "metadata": {},
     "output_type": "display_data"
    }
   ],
   "source": [
    "import os\n",
    "import pandas as pd\n",
    "import plotly.express as px\n",
    "import plotly.graph_objs as go\n",
    "\n",
    "# Define the path to your CSV file\n",
    "csv_file_path = 'WAR_2023.csv'\n",
    "\n",
    "# Check if the file exists\n",
    "if not os.path.exists(csv_file_path):\n",
    "    raise FileNotFoundError(f\"The file '{csv_file_path}' does not exist.\")\n",
    "\n",
    "try:\n",
    "    # Attempt to read the CSV file with different encodings\n",
    "    try:\n",
    "        df = pd.read_csv(csv_file_path, encoding='utf-8')\n",
    "    except UnicodeDecodeError:\n",
    "        try:\n",
    "            df = pd.read_csv(csv_file_path, encoding='latin1')\n",
    "        except UnicodeDecodeError:\n",
    "            df = pd.read_csv(csv_file_path, encoding='iso-8859-1')\n",
    "except Exception as e:\n",
    "    raise ValueError(f\"Error reading the CSV file: {e}\")\n",
    "\n",
    "# Ensure the CSV file has at least 18 columns\n",
    "if df.shape[1] < 18:\n",
    "    raise ValueError(\"The CSV file does not have at least 18 columns.\")\n",
    "\n",
    "try:\n",
    "    # Extract the 16th column (index 15, since indexing starts from 0)\n",
    "    column_16 = df.iloc[:, 15]\n",
    "\n",
    "    # Ensure the column contains numeric values\n",
    "    column_16 = pd.to_numeric(column_16, errors='coerce')\n",
    "    \n",
    "    # Drop NaN values that cannot be converted to numeric\n",
    "    column_16 = column_16.dropna()\n",
    "\n",
    "    # Sort the column in descending order and select the top 50 values\n",
    "    top_50_values = column_16.nlargest(50)\n",
    "\n",
    "    # Sort the column in ascending order and select the bottom 50 values\n",
    "    bottom_50_values = column_16.nsmallest(50)\n",
    "\n",
    "    # Extract the corresponding 18th column (index 17, since indexing starts from 0) values\n",
    "    top_50_column_18 = df.iloc[top_50_values.index, 17]\n",
    "    bottom_50_column_18 = df.iloc[bottom_50_values.index, 17]\n",
    "\n",
    "    # Ensure the columns contain numeric values\n",
    "    top_50_column_18 = pd.to_numeric(top_50_column_18, errors='coerce').dropna()\n",
    "    bottom_50_column_18 = pd.to_numeric(bottom_50_column_18, errors='coerce').dropna()\n",
    "\n",
    "    # Create a DataFrame for Plotly\n",
    "    plot_df = pd.DataFrame({\n",
    "        'WAR Value': pd.concat([top_50_values, bottom_50_values]),\n",
    "        'Winning Percentage': pd.concat([top_50_column_18, bottom_50_column_18]),\n",
    "        'Group': ['Top 50'] * len(top_50_values) + ['Bottom 50'] * len(bottom_50_values)\n",
    "    })\n",
    "\n",
    "    # Create the interactive plot\n",
    "    fig = px.scatter(\n",
    "        plot_df,\n",
    "        x='WAR Value',\n",
    "        y='Winning Percentage',\n",
    "        color='Group',\n",
    "        title='Top 50 vs Bottom 50 WAR Values and Winning Percentages',\n",
    "        labels={'WAR Value': 'WAR Value', 'Winning Percentage': 'Winning Percentage'}\n",
    "    )\n",
    "\n",
    "    fig.update_layout(legend_title_text='Group')\n",
    "    fig.show()\n",
    "\n",
    "except Exception as e:\n",
    "    raise ValueError(f\"Error processing the columns: {e}\")\n"
   ]
  },
  {
   "cell_type": "code",
   "execution_count": 47,
   "metadata": {},
   "outputs": [
    {
     "data": {
      "application/vnd.plotly.v1+json": {
       "config": {
        "plotlyServerURL": "https://plot.ly"
       },
       "data": [
        {
         "alignmentgroup": "True",
         "hovertemplate": "WAR Group=%{x}<br>Winning Percentage=%{y}<extra></extra>",
         "legendgroup": "",
         "marker": {
          "color": "#636efa"
         },
         "name": "",
         "notched": false,
         "offsetgroup": "",
         "orientation": "v",
         "showlegend": false,
         "type": "box",
         "x": [
          "Top 50",
          "Top 50",
          "Top 50",
          "Top 50",
          "Top 50",
          "Top 50",
          "Top 50",
          "Top 50",
          "Top 50",
          "Top 50",
          "Top 50",
          "Top 50",
          "Top 50",
          "Top 50",
          "Top 50",
          "Top 50",
          "Top 50",
          "Top 50",
          "Top 50",
          "Top 50",
          "Top 50",
          "Top 50",
          "Top 50",
          "Top 50",
          "Top 50",
          "Top 50",
          "Top 50",
          "Top 50",
          "Top 50",
          "Top 50",
          "Top 50",
          "Top 50",
          "Top 50",
          "Top 50",
          "Top 50",
          "Top 50",
          "Top 50",
          "Top 50",
          "Top 50",
          "Top 50",
          "Top 50",
          "Top 50",
          "Top 50",
          "Top 50",
          "Top 50",
          "Top 50",
          "Top 50",
          "Top 50",
          "Top 50",
          "Top 50",
          "Bottom 50",
          "Bottom 50",
          "Bottom 50",
          "Bottom 50",
          "Bottom 50",
          "Bottom 50",
          "Bottom 50",
          "Bottom 50",
          "Bottom 50",
          "Bottom 50",
          "Bottom 50",
          "Bottom 50",
          "Bottom 50",
          "Bottom 50",
          "Bottom 50",
          "Bottom 50",
          "Bottom 50",
          "Bottom 50",
          "Bottom 50",
          "Bottom 50",
          "Bottom 50",
          "Bottom 50",
          "Bottom 50",
          "Bottom 50",
          "Bottom 50",
          "Bottom 50",
          "Bottom 50",
          "Bottom 50",
          "Bottom 50",
          "Bottom 50",
          "Bottom 50",
          "Bottom 50",
          "Bottom 50",
          "Bottom 50",
          "Bottom 50",
          "Bottom 50",
          "Bottom 50",
          "Bottom 50",
          "Bottom 50",
          "Bottom 50",
          "Bottom 50",
          "Bottom 50",
          "Bottom 50",
          "Bottom 50",
          "Bottom 50",
          "Bottom 50",
          "Bottom 50",
          "Bottom 50",
          "Bottom 50",
          "Bottom 50"
         ],
         "x0": " ",
         "xaxis": "x",
         "y": [
          0.539,
          0.538,
          0.532,
          0.531,
          0.532,
          0.527,
          0.525,
          0.524,
          0.528,
          0.523,
          0.523,
          0.524,
          0.52,
          0.522,
          0.521,
          0.52,
          0.52,
          0.519,
          0.52,
          0.519,
          0.519,
          0.518,
          0.519,
          0.518,
          0.519,
          0.516,
          0.518,
          0.517,
          0.517,
          0.519,
          0.518,
          0.516,
          0.514,
          0.515,
          0.513,
          0.518,
          0.519,
          0.513,
          0.514,
          0.513,
          0.514,
          0.515,
          0.514,
          0.515,
          0.516,
          0.512,
          0.512,
          0.511,
          0.513,
          0.511,
          0.477,
          0.482,
          0.484,
          0.485,
          0.485,
          0.483,
          0.488,
          0.486,
          0.486,
          0.488,
          0.486,
          0.486,
          0.485,
          0.483,
          0.489,
          0.487,
          0.493,
          0.49,
          0.492,
          0.49,
          0.489,
          0.487,
          0.485,
          0.489,
          0.487,
          0.489,
          0.493,
          0.492,
          0.491,
          0.488,
          0.494,
          0.488,
          0.494,
          0.494,
          0.491,
          0.492,
          0.487,
          0.495,
          0.487,
          0.494,
          0.494,
          0.494,
          0.492,
          0.496,
          0.492,
          0.494,
          0.494,
          0.494,
          0.489,
          0.493
         ],
         "y0": " ",
         "yaxis": "y"
        }
       ],
       "layout": {
        "boxmode": "group",
        "legend": {
         "title": {
          "text": "WAR Group"
         },
         "tracegroupgap": 0
        },
        "template": {
         "data": {
          "bar": [
           {
            "error_x": {
             "color": "#2a3f5f"
            },
            "error_y": {
             "color": "#2a3f5f"
            },
            "marker": {
             "line": {
              "color": "#E5ECF6",
              "width": 0.5
             },
             "pattern": {
              "fillmode": "overlay",
              "size": 10,
              "solidity": 0.2
             }
            },
            "type": "bar"
           }
          ],
          "barpolar": [
           {
            "marker": {
             "line": {
              "color": "#E5ECF6",
              "width": 0.5
             },
             "pattern": {
              "fillmode": "overlay",
              "size": 10,
              "solidity": 0.2
             }
            },
            "type": "barpolar"
           }
          ],
          "carpet": [
           {
            "aaxis": {
             "endlinecolor": "#2a3f5f",
             "gridcolor": "white",
             "linecolor": "white",
             "minorgridcolor": "white",
             "startlinecolor": "#2a3f5f"
            },
            "baxis": {
             "endlinecolor": "#2a3f5f",
             "gridcolor": "white",
             "linecolor": "white",
             "minorgridcolor": "white",
             "startlinecolor": "#2a3f5f"
            },
            "type": "carpet"
           }
          ],
          "choropleth": [
           {
            "colorbar": {
             "outlinewidth": 0,
             "ticks": ""
            },
            "type": "choropleth"
           }
          ],
          "contour": [
           {
            "colorbar": {
             "outlinewidth": 0,
             "ticks": ""
            },
            "colorscale": [
             [
              0,
              "#0d0887"
             ],
             [
              0.1111111111111111,
              "#46039f"
             ],
             [
              0.2222222222222222,
              "#7201a8"
             ],
             [
              0.3333333333333333,
              "#9c179e"
             ],
             [
              0.4444444444444444,
              "#bd3786"
             ],
             [
              0.5555555555555556,
              "#d8576b"
             ],
             [
              0.6666666666666666,
              "#ed7953"
             ],
             [
              0.7777777777777778,
              "#fb9f3a"
             ],
             [
              0.8888888888888888,
              "#fdca26"
             ],
             [
              1,
              "#f0f921"
             ]
            ],
            "type": "contour"
           }
          ],
          "contourcarpet": [
           {
            "colorbar": {
             "outlinewidth": 0,
             "ticks": ""
            },
            "type": "contourcarpet"
           }
          ],
          "heatmap": [
           {
            "colorbar": {
             "outlinewidth": 0,
             "ticks": ""
            },
            "colorscale": [
             [
              0,
              "#0d0887"
             ],
             [
              0.1111111111111111,
              "#46039f"
             ],
             [
              0.2222222222222222,
              "#7201a8"
             ],
             [
              0.3333333333333333,
              "#9c179e"
             ],
             [
              0.4444444444444444,
              "#bd3786"
             ],
             [
              0.5555555555555556,
              "#d8576b"
             ],
             [
              0.6666666666666666,
              "#ed7953"
             ],
             [
              0.7777777777777778,
              "#fb9f3a"
             ],
             [
              0.8888888888888888,
              "#fdca26"
             ],
             [
              1,
              "#f0f921"
             ]
            ],
            "type": "heatmap"
           }
          ],
          "heatmapgl": [
           {
            "colorbar": {
             "outlinewidth": 0,
             "ticks": ""
            },
            "colorscale": [
             [
              0,
              "#0d0887"
             ],
             [
              0.1111111111111111,
              "#46039f"
             ],
             [
              0.2222222222222222,
              "#7201a8"
             ],
             [
              0.3333333333333333,
              "#9c179e"
             ],
             [
              0.4444444444444444,
              "#bd3786"
             ],
             [
              0.5555555555555556,
              "#d8576b"
             ],
             [
              0.6666666666666666,
              "#ed7953"
             ],
             [
              0.7777777777777778,
              "#fb9f3a"
             ],
             [
              0.8888888888888888,
              "#fdca26"
             ],
             [
              1,
              "#f0f921"
             ]
            ],
            "type": "heatmapgl"
           }
          ],
          "histogram": [
           {
            "marker": {
             "pattern": {
              "fillmode": "overlay",
              "size": 10,
              "solidity": 0.2
             }
            },
            "type": "histogram"
           }
          ],
          "histogram2d": [
           {
            "colorbar": {
             "outlinewidth": 0,
             "ticks": ""
            },
            "colorscale": [
             [
              0,
              "#0d0887"
             ],
             [
              0.1111111111111111,
              "#46039f"
             ],
             [
              0.2222222222222222,
              "#7201a8"
             ],
             [
              0.3333333333333333,
              "#9c179e"
             ],
             [
              0.4444444444444444,
              "#bd3786"
             ],
             [
              0.5555555555555556,
              "#d8576b"
             ],
             [
              0.6666666666666666,
              "#ed7953"
             ],
             [
              0.7777777777777778,
              "#fb9f3a"
             ],
             [
              0.8888888888888888,
              "#fdca26"
             ],
             [
              1,
              "#f0f921"
             ]
            ],
            "type": "histogram2d"
           }
          ],
          "histogram2dcontour": [
           {
            "colorbar": {
             "outlinewidth": 0,
             "ticks": ""
            },
            "colorscale": [
             [
              0,
              "#0d0887"
             ],
             [
              0.1111111111111111,
              "#46039f"
             ],
             [
              0.2222222222222222,
              "#7201a8"
             ],
             [
              0.3333333333333333,
              "#9c179e"
             ],
             [
              0.4444444444444444,
              "#bd3786"
             ],
             [
              0.5555555555555556,
              "#d8576b"
             ],
             [
              0.6666666666666666,
              "#ed7953"
             ],
             [
              0.7777777777777778,
              "#fb9f3a"
             ],
             [
              0.8888888888888888,
              "#fdca26"
             ],
             [
              1,
              "#f0f921"
             ]
            ],
            "type": "histogram2dcontour"
           }
          ],
          "mesh3d": [
           {
            "colorbar": {
             "outlinewidth": 0,
             "ticks": ""
            },
            "type": "mesh3d"
           }
          ],
          "parcoords": [
           {
            "line": {
             "colorbar": {
              "outlinewidth": 0,
              "ticks": ""
             }
            },
            "type": "parcoords"
           }
          ],
          "pie": [
           {
            "automargin": true,
            "type": "pie"
           }
          ],
          "scatter": [
           {
            "fillpattern": {
             "fillmode": "overlay",
             "size": 10,
             "solidity": 0.2
            },
            "type": "scatter"
           }
          ],
          "scatter3d": [
           {
            "line": {
             "colorbar": {
              "outlinewidth": 0,
              "ticks": ""
             }
            },
            "marker": {
             "colorbar": {
              "outlinewidth": 0,
              "ticks": ""
             }
            },
            "type": "scatter3d"
           }
          ],
          "scattercarpet": [
           {
            "marker": {
             "colorbar": {
              "outlinewidth": 0,
              "ticks": ""
             }
            },
            "type": "scattercarpet"
           }
          ],
          "scattergeo": [
           {
            "marker": {
             "colorbar": {
              "outlinewidth": 0,
              "ticks": ""
             }
            },
            "type": "scattergeo"
           }
          ],
          "scattergl": [
           {
            "marker": {
             "colorbar": {
              "outlinewidth": 0,
              "ticks": ""
             }
            },
            "type": "scattergl"
           }
          ],
          "scattermapbox": [
           {
            "marker": {
             "colorbar": {
              "outlinewidth": 0,
              "ticks": ""
             }
            },
            "type": "scattermapbox"
           }
          ],
          "scatterpolar": [
           {
            "marker": {
             "colorbar": {
              "outlinewidth": 0,
              "ticks": ""
             }
            },
            "type": "scatterpolar"
           }
          ],
          "scatterpolargl": [
           {
            "marker": {
             "colorbar": {
              "outlinewidth": 0,
              "ticks": ""
             }
            },
            "type": "scatterpolargl"
           }
          ],
          "scatterternary": [
           {
            "marker": {
             "colorbar": {
              "outlinewidth": 0,
              "ticks": ""
             }
            },
            "type": "scatterternary"
           }
          ],
          "surface": [
           {
            "colorbar": {
             "outlinewidth": 0,
             "ticks": ""
            },
            "colorscale": [
             [
              0,
              "#0d0887"
             ],
             [
              0.1111111111111111,
              "#46039f"
             ],
             [
              0.2222222222222222,
              "#7201a8"
             ],
             [
              0.3333333333333333,
              "#9c179e"
             ],
             [
              0.4444444444444444,
              "#bd3786"
             ],
             [
              0.5555555555555556,
              "#d8576b"
             ],
             [
              0.6666666666666666,
              "#ed7953"
             ],
             [
              0.7777777777777778,
              "#fb9f3a"
             ],
             [
              0.8888888888888888,
              "#fdca26"
             ],
             [
              1,
              "#f0f921"
             ]
            ],
            "type": "surface"
           }
          ],
          "table": [
           {
            "cells": {
             "fill": {
              "color": "#EBF0F8"
             },
             "line": {
              "color": "white"
             }
            },
            "header": {
             "fill": {
              "color": "#C8D4E3"
             },
             "line": {
              "color": "white"
             }
            },
            "type": "table"
           }
          ]
         },
         "layout": {
          "annotationdefaults": {
           "arrowcolor": "#2a3f5f",
           "arrowhead": 0,
           "arrowwidth": 1
          },
          "autotypenumbers": "strict",
          "coloraxis": {
           "colorbar": {
            "outlinewidth": 0,
            "ticks": ""
           }
          },
          "colorscale": {
           "diverging": [
            [
             0,
             "#8e0152"
            ],
            [
             0.1,
             "#c51b7d"
            ],
            [
             0.2,
             "#de77ae"
            ],
            [
             0.3,
             "#f1b6da"
            ],
            [
             0.4,
             "#fde0ef"
            ],
            [
             0.5,
             "#f7f7f7"
            ],
            [
             0.6,
             "#e6f5d0"
            ],
            [
             0.7,
             "#b8e186"
            ],
            [
             0.8,
             "#7fbc41"
            ],
            [
             0.9,
             "#4d9221"
            ],
            [
             1,
             "#276419"
            ]
           ],
           "sequential": [
            [
             0,
             "#0d0887"
            ],
            [
             0.1111111111111111,
             "#46039f"
            ],
            [
             0.2222222222222222,
             "#7201a8"
            ],
            [
             0.3333333333333333,
             "#9c179e"
            ],
            [
             0.4444444444444444,
             "#bd3786"
            ],
            [
             0.5555555555555556,
             "#d8576b"
            ],
            [
             0.6666666666666666,
             "#ed7953"
            ],
            [
             0.7777777777777778,
             "#fb9f3a"
            ],
            [
             0.8888888888888888,
             "#fdca26"
            ],
            [
             1,
             "#f0f921"
            ]
           ],
           "sequentialminus": [
            [
             0,
             "#0d0887"
            ],
            [
             0.1111111111111111,
             "#46039f"
            ],
            [
             0.2222222222222222,
             "#7201a8"
            ],
            [
             0.3333333333333333,
             "#9c179e"
            ],
            [
             0.4444444444444444,
             "#bd3786"
            ],
            [
             0.5555555555555556,
             "#d8576b"
            ],
            [
             0.6666666666666666,
             "#ed7953"
            ],
            [
             0.7777777777777778,
             "#fb9f3a"
            ],
            [
             0.8888888888888888,
             "#fdca26"
            ],
            [
             1,
             "#f0f921"
            ]
           ]
          },
          "colorway": [
           "#636efa",
           "#EF553B",
           "#00cc96",
           "#ab63fa",
           "#FFA15A",
           "#19d3f3",
           "#FF6692",
           "#B6E880",
           "#FF97FF",
           "#FECB52"
          ],
          "font": {
           "color": "#2a3f5f"
          },
          "geo": {
           "bgcolor": "white",
           "lakecolor": "white",
           "landcolor": "#E5ECF6",
           "showlakes": true,
           "showland": true,
           "subunitcolor": "white"
          },
          "hoverlabel": {
           "align": "left"
          },
          "hovermode": "closest",
          "mapbox": {
           "style": "light"
          },
          "paper_bgcolor": "white",
          "plot_bgcolor": "#E5ECF6",
          "polar": {
           "angularaxis": {
            "gridcolor": "white",
            "linecolor": "white",
            "ticks": ""
           },
           "bgcolor": "#E5ECF6",
           "radialaxis": {
            "gridcolor": "white",
            "linecolor": "white",
            "ticks": ""
           }
          },
          "scene": {
           "xaxis": {
            "backgroundcolor": "#E5ECF6",
            "gridcolor": "white",
            "gridwidth": 2,
            "linecolor": "white",
            "showbackground": true,
            "ticks": "",
            "zerolinecolor": "white"
           },
           "yaxis": {
            "backgroundcolor": "#E5ECF6",
            "gridcolor": "white",
            "gridwidth": 2,
            "linecolor": "white",
            "showbackground": true,
            "ticks": "",
            "zerolinecolor": "white"
           },
           "zaxis": {
            "backgroundcolor": "#E5ECF6",
            "gridcolor": "white",
            "gridwidth": 2,
            "linecolor": "white",
            "showbackground": true,
            "ticks": "",
            "zerolinecolor": "white"
           }
          },
          "shapedefaults": {
           "line": {
            "color": "#2a3f5f"
           }
          },
          "ternary": {
           "aaxis": {
            "gridcolor": "white",
            "linecolor": "white",
            "ticks": ""
           },
           "baxis": {
            "gridcolor": "white",
            "linecolor": "white",
            "ticks": ""
           },
           "bgcolor": "#E5ECF6",
           "caxis": {
            "gridcolor": "white",
            "linecolor": "white",
            "ticks": ""
           }
          },
          "title": {
           "x": 0.05
          },
          "xaxis": {
           "automargin": true,
           "gridcolor": "white",
           "linecolor": "white",
           "ticks": "",
           "title": {
            "standoff": 15
           },
           "zerolinecolor": "white",
           "zerolinewidth": 2
          },
          "yaxis": {
           "automargin": true,
           "gridcolor": "white",
           "linecolor": "white",
           "ticks": "",
           "title": {
            "standoff": 15
           },
           "zerolinecolor": "white",
           "zerolinewidth": 2
          }
         }
        },
        "title": {
         "text": "Winning Percentages: Top 50 vs Bottom 50 WAR Values"
        },
        "xaxis": {
         "anchor": "y",
         "domain": [
          0,
          1
         ],
         "title": {
          "text": "WAR Group"
         }
        },
        "yaxis": {
         "anchor": "x",
         "domain": [
          0,
          1
         ],
         "title": {
          "text": "Winning Percentage"
         }
        }
       }
      }
     },
     "metadata": {},
     "output_type": "display_data"
    }
   ],
   "source": [
    "\n",
    "# Define the path to your CSV file\n",
    "csv_file_path = 'WAR_2023.csv'\n",
    "\n",
    "# Check if the file exists\n",
    "if not os.path.exists(csv_file_path):\n",
    "    raise FileNotFoundError(f\"The file '{csv_file_path}' does not exist.\")\n",
    "\n",
    "try:\n",
    "    # Attempt to read the CSV file with different encodings\n",
    "    try:\n",
    "        df = pd.read_csv(csv_file_path, encoding='utf-8')\n",
    "    except UnicodeDecodeError:\n",
    "        try:\n",
    "            df = pd.read_csv(csv_file_path, encoding='latin1')\n",
    "        except UnicodeDecodeError:\n",
    "            df = pd.read_csv(csv_file_path, encoding='iso-8859-1')\n",
    "except Exception as e:\n",
    "    raise ValueError(f\"Error reading the CSV file: {e}\")\n",
    "\n",
    "# Ensure the CSV file has at least 18 columns\n",
    "if df.shape[1] < 18:\n",
    "    raise ValueError(\"The CSV file does not have at least 18 columns.\")\n",
    "\n",
    "try:\n",
    "    # Extract the 16th column (index 15, since indexing starts from 0)\n",
    "    column_16 = df.iloc[:, 15]\n",
    "\n",
    "    # Ensure the column contains numeric values\n",
    "    column_16 = pd.to_numeric(column_16, errors='coerce')\n",
    "    \n",
    "    # Drop NaN values that cannot be converted to numeric\n",
    "    column_16 = column_16.dropna()\n",
    "\n",
    "    # Sort the column in descending order and select the top 50 values\n",
    "    top_50_values = column_16.nlargest(50)\n",
    "\n",
    "    # Sort the column in ascending order and select the bottom 50 values\n",
    "    bottom_50_values = column_16.nsmallest(50)\n",
    "\n",
    "    # Extract the corresponding 18th column (index 17, since indexing starts from 0) values\n",
    "    top_50_column_18 = df.iloc[top_50_values.index, 17]\n",
    "    bottom_50_column_18 = df.iloc[bottom_50_values.index, 17]\n",
    "\n",
    "    # Ensure the columns contain numeric values\n",
    "    top_50_column_18 = pd.to_numeric(top_50_column_18, errors='coerce').dropna()\n",
    "    bottom_50_column_18 = pd.to_numeric(bottom_50_column_18, errors='coerce').dropna()\n",
    "\n",
    "    # Create a DataFrame for Plotly\n",
    "    plot_df = pd.DataFrame({\n",
    "        'WAR Group': ['Top 50'] * len(top_50_column_18) + ['Bottom 50'] * len(bottom_50_column_18),\n",
    "        'Winning Percentage': pd.concat([top_50_column_18, bottom_50_column_18])\n",
    "    })\n",
    "\n",
    "    # Create the interactive box plot\n",
    "    fig = px.box(\n",
    "        plot_df,\n",
    "        x='WAR Group',\n",
    "        y='Winning Percentage',\n",
    "        title='Winning Percentages: Top 50 vs Bottom 50 WAR Values',\n",
    "        labels={'WAR Group': 'WAR Group', 'Winning Percentage': 'Winning Percentage'}\n",
    "    )\n",
    "\n",
    "    fig.update_layout(legend_title_text='WAR Group')\n",
    "    fig.show()\n",
    "\n",
    "except Exception as e:\n",
    "    raise ValueError(f\"Error processing the columns: {e}\")\n"
   ]
  },
  {
   "cell_type": "markdown",
   "metadata": {},
   "source": [
    "# WPA"
   ]
  },
  {
   "cell_type": "code",
   "execution_count": 14,
   "metadata": {},
   "outputs": [
    {
     "name": "stdout",
     "output_type": "stream",
     "text": [
      "loading from file\n",
      "done\n"
     ]
    }
   ],
   "source": [
    "\n",
    "file_path = \"WPA_2023.csv\"\n",
    "\n",
    "if os.path.isfile(file_path):\n",
    "    print(\"loading from file\")\n",
    "    try:\n",
    "        WPA_2023 = pd.read_csv(file_path, encoding='utf-8')\n",
    "    except UnicodeDecodeError:\n",
    "        WPA_2023 = pd.read_csv(file_path, encoding='ISO-8859-1')\n",
    "else:\n",
    "    print(\"loading from the internet\")\n",
    "    url = \"https://www.baseball-reference.com/leagues/majors/2023-win_probability-batting.shtml\"\n",
    "    response = requests.get(url)\n",
    "    \n",
    "    if response.status_code == 200:\n",
    "        tables = pd.read_html(response.text)\n",
    "        \n",
    "        # Assuming the first table on the page is the one we want\n",
    "        WPA_2023 = tables[0]\n",
    "        \n",
    "        # Save the table as a CSV file for future use\n",
    "        WPA_2023.to_csv(file_path, index=False, encoding='utf-8')\n",
    "    else:\n",
    "        print(\"Failed to retrieve data from the internet.\")\n",
    "        WPA_2023 = pd.DataFrame()  # Return an empty DataFrame in case of failure\n",
    "\n",
    "print(\"done\")\n"
   ]
  },
  {
   "cell_type": "code",
   "execution_count": 48,
   "metadata": {},
   "outputs": [
    {
     "data": {
      "application/vnd.plotly.v1+json": {
       "config": {
        "plotlyServerURL": "https://plot.ly"
       },
       "data": [
        {
         "cells": {
          "align": "left",
          "fill": {
           "color": "lavender"
          },
          "values": [
           [
            "Excellent",
            "Great",
            "Above Average",
            "Average",
            "Below Average",
            "Poor",
            "Awful"
           ],
           [
            6,
            3,
            2,
            1,
            0,
            -1,
            -3
           ]
          ]
         },
         "header": {
          "align": "left",
          "fill": {
           "color": "paleturquoise"
          },
          "values": [
           "<b>Rating</b>",
           "<b>WPA</b>"
          ]
         },
         "type": "table"
        }
       ],
       "layout": {
        "template": {
         "data": {
          "bar": [
           {
            "error_x": {
             "color": "#2a3f5f"
            },
            "error_y": {
             "color": "#2a3f5f"
            },
            "marker": {
             "line": {
              "color": "#E5ECF6",
              "width": 0.5
             },
             "pattern": {
              "fillmode": "overlay",
              "size": 10,
              "solidity": 0.2
             }
            },
            "type": "bar"
           }
          ],
          "barpolar": [
           {
            "marker": {
             "line": {
              "color": "#E5ECF6",
              "width": 0.5
             },
             "pattern": {
              "fillmode": "overlay",
              "size": 10,
              "solidity": 0.2
             }
            },
            "type": "barpolar"
           }
          ],
          "carpet": [
           {
            "aaxis": {
             "endlinecolor": "#2a3f5f",
             "gridcolor": "white",
             "linecolor": "white",
             "minorgridcolor": "white",
             "startlinecolor": "#2a3f5f"
            },
            "baxis": {
             "endlinecolor": "#2a3f5f",
             "gridcolor": "white",
             "linecolor": "white",
             "minorgridcolor": "white",
             "startlinecolor": "#2a3f5f"
            },
            "type": "carpet"
           }
          ],
          "choropleth": [
           {
            "colorbar": {
             "outlinewidth": 0,
             "ticks": ""
            },
            "type": "choropleth"
           }
          ],
          "contour": [
           {
            "colorbar": {
             "outlinewidth": 0,
             "ticks": ""
            },
            "colorscale": [
             [
              0,
              "#0d0887"
             ],
             [
              0.1111111111111111,
              "#46039f"
             ],
             [
              0.2222222222222222,
              "#7201a8"
             ],
             [
              0.3333333333333333,
              "#9c179e"
             ],
             [
              0.4444444444444444,
              "#bd3786"
             ],
             [
              0.5555555555555556,
              "#d8576b"
             ],
             [
              0.6666666666666666,
              "#ed7953"
             ],
             [
              0.7777777777777778,
              "#fb9f3a"
             ],
             [
              0.8888888888888888,
              "#fdca26"
             ],
             [
              1,
              "#f0f921"
             ]
            ],
            "type": "contour"
           }
          ],
          "contourcarpet": [
           {
            "colorbar": {
             "outlinewidth": 0,
             "ticks": ""
            },
            "type": "contourcarpet"
           }
          ],
          "heatmap": [
           {
            "colorbar": {
             "outlinewidth": 0,
             "ticks": ""
            },
            "colorscale": [
             [
              0,
              "#0d0887"
             ],
             [
              0.1111111111111111,
              "#46039f"
             ],
             [
              0.2222222222222222,
              "#7201a8"
             ],
             [
              0.3333333333333333,
              "#9c179e"
             ],
             [
              0.4444444444444444,
              "#bd3786"
             ],
             [
              0.5555555555555556,
              "#d8576b"
             ],
             [
              0.6666666666666666,
              "#ed7953"
             ],
             [
              0.7777777777777778,
              "#fb9f3a"
             ],
             [
              0.8888888888888888,
              "#fdca26"
             ],
             [
              1,
              "#f0f921"
             ]
            ],
            "type": "heatmap"
           }
          ],
          "heatmapgl": [
           {
            "colorbar": {
             "outlinewidth": 0,
             "ticks": ""
            },
            "colorscale": [
             [
              0,
              "#0d0887"
             ],
             [
              0.1111111111111111,
              "#46039f"
             ],
             [
              0.2222222222222222,
              "#7201a8"
             ],
             [
              0.3333333333333333,
              "#9c179e"
             ],
             [
              0.4444444444444444,
              "#bd3786"
             ],
             [
              0.5555555555555556,
              "#d8576b"
             ],
             [
              0.6666666666666666,
              "#ed7953"
             ],
             [
              0.7777777777777778,
              "#fb9f3a"
             ],
             [
              0.8888888888888888,
              "#fdca26"
             ],
             [
              1,
              "#f0f921"
             ]
            ],
            "type": "heatmapgl"
           }
          ],
          "histogram": [
           {
            "marker": {
             "pattern": {
              "fillmode": "overlay",
              "size": 10,
              "solidity": 0.2
             }
            },
            "type": "histogram"
           }
          ],
          "histogram2d": [
           {
            "colorbar": {
             "outlinewidth": 0,
             "ticks": ""
            },
            "colorscale": [
             [
              0,
              "#0d0887"
             ],
             [
              0.1111111111111111,
              "#46039f"
             ],
             [
              0.2222222222222222,
              "#7201a8"
             ],
             [
              0.3333333333333333,
              "#9c179e"
             ],
             [
              0.4444444444444444,
              "#bd3786"
             ],
             [
              0.5555555555555556,
              "#d8576b"
             ],
             [
              0.6666666666666666,
              "#ed7953"
             ],
             [
              0.7777777777777778,
              "#fb9f3a"
             ],
             [
              0.8888888888888888,
              "#fdca26"
             ],
             [
              1,
              "#f0f921"
             ]
            ],
            "type": "histogram2d"
           }
          ],
          "histogram2dcontour": [
           {
            "colorbar": {
             "outlinewidth": 0,
             "ticks": ""
            },
            "colorscale": [
             [
              0,
              "#0d0887"
             ],
             [
              0.1111111111111111,
              "#46039f"
             ],
             [
              0.2222222222222222,
              "#7201a8"
             ],
             [
              0.3333333333333333,
              "#9c179e"
             ],
             [
              0.4444444444444444,
              "#bd3786"
             ],
             [
              0.5555555555555556,
              "#d8576b"
             ],
             [
              0.6666666666666666,
              "#ed7953"
             ],
             [
              0.7777777777777778,
              "#fb9f3a"
             ],
             [
              0.8888888888888888,
              "#fdca26"
             ],
             [
              1,
              "#f0f921"
             ]
            ],
            "type": "histogram2dcontour"
           }
          ],
          "mesh3d": [
           {
            "colorbar": {
             "outlinewidth": 0,
             "ticks": ""
            },
            "type": "mesh3d"
           }
          ],
          "parcoords": [
           {
            "line": {
             "colorbar": {
              "outlinewidth": 0,
              "ticks": ""
             }
            },
            "type": "parcoords"
           }
          ],
          "pie": [
           {
            "automargin": true,
            "type": "pie"
           }
          ],
          "scatter": [
           {
            "fillpattern": {
             "fillmode": "overlay",
             "size": 10,
             "solidity": 0.2
            },
            "type": "scatter"
           }
          ],
          "scatter3d": [
           {
            "line": {
             "colorbar": {
              "outlinewidth": 0,
              "ticks": ""
             }
            },
            "marker": {
             "colorbar": {
              "outlinewidth": 0,
              "ticks": ""
             }
            },
            "type": "scatter3d"
           }
          ],
          "scattercarpet": [
           {
            "marker": {
             "colorbar": {
              "outlinewidth": 0,
              "ticks": ""
             }
            },
            "type": "scattercarpet"
           }
          ],
          "scattergeo": [
           {
            "marker": {
             "colorbar": {
              "outlinewidth": 0,
              "ticks": ""
             }
            },
            "type": "scattergeo"
           }
          ],
          "scattergl": [
           {
            "marker": {
             "colorbar": {
              "outlinewidth": 0,
              "ticks": ""
             }
            },
            "type": "scattergl"
           }
          ],
          "scattermapbox": [
           {
            "marker": {
             "colorbar": {
              "outlinewidth": 0,
              "ticks": ""
             }
            },
            "type": "scattermapbox"
           }
          ],
          "scatterpolar": [
           {
            "marker": {
             "colorbar": {
              "outlinewidth": 0,
              "ticks": ""
             }
            },
            "type": "scatterpolar"
           }
          ],
          "scatterpolargl": [
           {
            "marker": {
             "colorbar": {
              "outlinewidth": 0,
              "ticks": ""
             }
            },
            "type": "scatterpolargl"
           }
          ],
          "scatterternary": [
           {
            "marker": {
             "colorbar": {
              "outlinewidth": 0,
              "ticks": ""
             }
            },
            "type": "scatterternary"
           }
          ],
          "surface": [
           {
            "colorbar": {
             "outlinewidth": 0,
             "ticks": ""
            },
            "colorscale": [
             [
              0,
              "#0d0887"
             ],
             [
              0.1111111111111111,
              "#46039f"
             ],
             [
              0.2222222222222222,
              "#7201a8"
             ],
             [
              0.3333333333333333,
              "#9c179e"
             ],
             [
              0.4444444444444444,
              "#bd3786"
             ],
             [
              0.5555555555555556,
              "#d8576b"
             ],
             [
              0.6666666666666666,
              "#ed7953"
             ],
             [
              0.7777777777777778,
              "#fb9f3a"
             ],
             [
              0.8888888888888888,
              "#fdca26"
             ],
             [
              1,
              "#f0f921"
             ]
            ],
            "type": "surface"
           }
          ],
          "table": [
           {
            "cells": {
             "fill": {
              "color": "#EBF0F8"
             },
             "line": {
              "color": "white"
             }
            },
            "header": {
             "fill": {
              "color": "#C8D4E3"
             },
             "line": {
              "color": "white"
             }
            },
            "type": "table"
           }
          ]
         },
         "layout": {
          "annotationdefaults": {
           "arrowcolor": "#2a3f5f",
           "arrowhead": 0,
           "arrowwidth": 1
          },
          "autotypenumbers": "strict",
          "coloraxis": {
           "colorbar": {
            "outlinewidth": 0,
            "ticks": ""
           }
          },
          "colorscale": {
           "diverging": [
            [
             0,
             "#8e0152"
            ],
            [
             0.1,
             "#c51b7d"
            ],
            [
             0.2,
             "#de77ae"
            ],
            [
             0.3,
             "#f1b6da"
            ],
            [
             0.4,
             "#fde0ef"
            ],
            [
             0.5,
             "#f7f7f7"
            ],
            [
             0.6,
             "#e6f5d0"
            ],
            [
             0.7,
             "#b8e186"
            ],
            [
             0.8,
             "#7fbc41"
            ],
            [
             0.9,
             "#4d9221"
            ],
            [
             1,
             "#276419"
            ]
           ],
           "sequential": [
            [
             0,
             "#0d0887"
            ],
            [
             0.1111111111111111,
             "#46039f"
            ],
            [
             0.2222222222222222,
             "#7201a8"
            ],
            [
             0.3333333333333333,
             "#9c179e"
            ],
            [
             0.4444444444444444,
             "#bd3786"
            ],
            [
             0.5555555555555556,
             "#d8576b"
            ],
            [
             0.6666666666666666,
             "#ed7953"
            ],
            [
             0.7777777777777778,
             "#fb9f3a"
            ],
            [
             0.8888888888888888,
             "#fdca26"
            ],
            [
             1,
             "#f0f921"
            ]
           ],
           "sequentialminus": [
            [
             0,
             "#0d0887"
            ],
            [
             0.1111111111111111,
             "#46039f"
            ],
            [
             0.2222222222222222,
             "#7201a8"
            ],
            [
             0.3333333333333333,
             "#9c179e"
            ],
            [
             0.4444444444444444,
             "#bd3786"
            ],
            [
             0.5555555555555556,
             "#d8576b"
            ],
            [
             0.6666666666666666,
             "#ed7953"
            ],
            [
             0.7777777777777778,
             "#fb9f3a"
            ],
            [
             0.8888888888888888,
             "#fdca26"
            ],
            [
             1,
             "#f0f921"
            ]
           ]
          },
          "colorway": [
           "#636efa",
           "#EF553B",
           "#00cc96",
           "#ab63fa",
           "#FFA15A",
           "#19d3f3",
           "#FF6692",
           "#B6E880",
           "#FF97FF",
           "#FECB52"
          ],
          "font": {
           "color": "#2a3f5f"
          },
          "geo": {
           "bgcolor": "white",
           "lakecolor": "white",
           "landcolor": "#E5ECF6",
           "showlakes": true,
           "showland": true,
           "subunitcolor": "white"
          },
          "hoverlabel": {
           "align": "left"
          },
          "hovermode": "closest",
          "mapbox": {
           "style": "light"
          },
          "paper_bgcolor": "white",
          "plot_bgcolor": "#E5ECF6",
          "polar": {
           "angularaxis": {
            "gridcolor": "white",
            "linecolor": "white",
            "ticks": ""
           },
           "bgcolor": "#E5ECF6",
           "radialaxis": {
            "gridcolor": "white",
            "linecolor": "white",
            "ticks": ""
           }
          },
          "scene": {
           "xaxis": {
            "backgroundcolor": "#E5ECF6",
            "gridcolor": "white",
            "gridwidth": 2,
            "linecolor": "white",
            "showbackground": true,
            "ticks": "",
            "zerolinecolor": "white"
           },
           "yaxis": {
            "backgroundcolor": "#E5ECF6",
            "gridcolor": "white",
            "gridwidth": 2,
            "linecolor": "white",
            "showbackground": true,
            "ticks": "",
            "zerolinecolor": "white"
           },
           "zaxis": {
            "backgroundcolor": "#E5ECF6",
            "gridcolor": "white",
            "gridwidth": 2,
            "linecolor": "white",
            "showbackground": true,
            "ticks": "",
            "zerolinecolor": "white"
           }
          },
          "shapedefaults": {
           "line": {
            "color": "#2a3f5f"
           }
          },
          "ternary": {
           "aaxis": {
            "gridcolor": "white",
            "linecolor": "white",
            "ticks": ""
           },
           "baxis": {
            "gridcolor": "white",
            "linecolor": "white",
            "ticks": ""
           },
           "bgcolor": "#E5ECF6",
           "caxis": {
            "gridcolor": "white",
            "linecolor": "white",
            "ticks": ""
           }
          },
          "title": {
           "x": 0.05
          },
          "xaxis": {
           "automargin": true,
           "gridcolor": "white",
           "linecolor": "white",
           "ticks": "",
           "title": {
            "standoff": 15
           },
           "zerolinecolor": "white",
           "zerolinewidth": 2
          },
          "yaxis": {
           "automargin": true,
           "gridcolor": "white",
           "linecolor": "white",
           "ticks": "",
           "title": {
            "standoff": 15
           },
           "zerolinecolor": "white",
           "zerolinewidth": 2
          }
         }
        },
        "title": {
         "text": "Rating vs WPA"
        }
       }
      }
     },
     "metadata": {},
     "output_type": "display_data"
    }
   ],
   "source": [
    "import pandas as pd\n",
    "import plotly.graph_objects as go\n",
    "\n",
    "# Define the data\n",
    "ratings = ['Excellent', 'Great', 'Above Average', 'Average', 'Below Average', 'Poor', 'Awful']\n",
    "wpa = [+6.0, +3.0, +2.0, +1.0, 0.0, -1.0, -3.0]\n",
    "\n",
    "# Create a DataFrame\n",
    "data = {'Rating': ratings, 'WPA': wpa}\n",
    "df = pd.DataFrame(data)\n",
    "\n",
    "# Create a table using Plotly\n",
    "fig = go.Figure(data=[go.Table(\n",
    "    header=dict(values=['<b>Rating</b>', '<b>WPA</b>'],\n",
    "                fill_color='paleturquoise',\n",
    "                align='left'),\n",
    "    cells=dict(values=[df['Rating'], df['WPA']],\n",
    "               fill_color='lavender',\n",
    "               align='left'))\n",
    "])\n",
    "\n",
    "# Update the layout\n",
    "fig.update_layout(title='Rating vs WPA')\n",
    "\n",
    "# Show the table\n",
    "fig.show()\n"
   ]
  },
  {
   "cell_type": "code",
   "execution_count": 40,
   "metadata": {},
   "outputs": [
    {
     "data": {
      "application/vnd.plotly.v1+json": {
       "config": {
        "plotlyServerURL": "https://plot.ly"
       },
       "data": [
        {
         "domain": {
          "x": [
           0,
           1
          ],
          "y": [
           0,
           1
          ]
         },
         "hoverinfo": "label+percent+value",
         "hovertemplate": "Rating=%{label}<br>Count=%{value}<extra></extra>",
         "labels": [
          "Excellent",
          "Great",
          "Above Average",
          "Average",
          "Below Average",
          "Poor",
          "Awful"
         ],
         "legendgroup": "",
         "marker": {
          "line": {
           "color": "#000000",
           "width": 2
          }
         },
         "name": "",
         "showlegend": true,
         "textinfo": "percent+label",
         "type": "pie",
         "values": [
          1,
          13,
          8,
          12,
          6,
          5,
          5
         ]
        }
       ],
       "layout": {
        "legend": {
         "tracegroupgap": 0
        },
        "template": {
         "data": {
          "bar": [
           {
            "error_x": {
             "color": "#2a3f5f"
            },
            "error_y": {
             "color": "#2a3f5f"
            },
            "marker": {
             "line": {
              "color": "#E5ECF6",
              "width": 0.5
             },
             "pattern": {
              "fillmode": "overlay",
              "size": 10,
              "solidity": 0.2
             }
            },
            "type": "bar"
           }
          ],
          "barpolar": [
           {
            "marker": {
             "line": {
              "color": "#E5ECF6",
              "width": 0.5
             },
             "pattern": {
              "fillmode": "overlay",
              "size": 10,
              "solidity": 0.2
             }
            },
            "type": "barpolar"
           }
          ],
          "carpet": [
           {
            "aaxis": {
             "endlinecolor": "#2a3f5f",
             "gridcolor": "white",
             "linecolor": "white",
             "minorgridcolor": "white",
             "startlinecolor": "#2a3f5f"
            },
            "baxis": {
             "endlinecolor": "#2a3f5f",
             "gridcolor": "white",
             "linecolor": "white",
             "minorgridcolor": "white",
             "startlinecolor": "#2a3f5f"
            },
            "type": "carpet"
           }
          ],
          "choropleth": [
           {
            "colorbar": {
             "outlinewidth": 0,
             "ticks": ""
            },
            "type": "choropleth"
           }
          ],
          "contour": [
           {
            "colorbar": {
             "outlinewidth": 0,
             "ticks": ""
            },
            "colorscale": [
             [
              0,
              "#0d0887"
             ],
             [
              0.1111111111111111,
              "#46039f"
             ],
             [
              0.2222222222222222,
              "#7201a8"
             ],
             [
              0.3333333333333333,
              "#9c179e"
             ],
             [
              0.4444444444444444,
              "#bd3786"
             ],
             [
              0.5555555555555556,
              "#d8576b"
             ],
             [
              0.6666666666666666,
              "#ed7953"
             ],
             [
              0.7777777777777778,
              "#fb9f3a"
             ],
             [
              0.8888888888888888,
              "#fdca26"
             ],
             [
              1,
              "#f0f921"
             ]
            ],
            "type": "contour"
           }
          ],
          "contourcarpet": [
           {
            "colorbar": {
             "outlinewidth": 0,
             "ticks": ""
            },
            "type": "contourcarpet"
           }
          ],
          "heatmap": [
           {
            "colorbar": {
             "outlinewidth": 0,
             "ticks": ""
            },
            "colorscale": [
             [
              0,
              "#0d0887"
             ],
             [
              0.1111111111111111,
              "#46039f"
             ],
             [
              0.2222222222222222,
              "#7201a8"
             ],
             [
              0.3333333333333333,
              "#9c179e"
             ],
             [
              0.4444444444444444,
              "#bd3786"
             ],
             [
              0.5555555555555556,
              "#d8576b"
             ],
             [
              0.6666666666666666,
              "#ed7953"
             ],
             [
              0.7777777777777778,
              "#fb9f3a"
             ],
             [
              0.8888888888888888,
              "#fdca26"
             ],
             [
              1,
              "#f0f921"
             ]
            ],
            "type": "heatmap"
           }
          ],
          "heatmapgl": [
           {
            "colorbar": {
             "outlinewidth": 0,
             "ticks": ""
            },
            "colorscale": [
             [
              0,
              "#0d0887"
             ],
             [
              0.1111111111111111,
              "#46039f"
             ],
             [
              0.2222222222222222,
              "#7201a8"
             ],
             [
              0.3333333333333333,
              "#9c179e"
             ],
             [
              0.4444444444444444,
              "#bd3786"
             ],
             [
              0.5555555555555556,
              "#d8576b"
             ],
             [
              0.6666666666666666,
              "#ed7953"
             ],
             [
              0.7777777777777778,
              "#fb9f3a"
             ],
             [
              0.8888888888888888,
              "#fdca26"
             ],
             [
              1,
              "#f0f921"
             ]
            ],
            "type": "heatmapgl"
           }
          ],
          "histogram": [
           {
            "marker": {
             "pattern": {
              "fillmode": "overlay",
              "size": 10,
              "solidity": 0.2
             }
            },
            "type": "histogram"
           }
          ],
          "histogram2d": [
           {
            "colorbar": {
             "outlinewidth": 0,
             "ticks": ""
            },
            "colorscale": [
             [
              0,
              "#0d0887"
             ],
             [
              0.1111111111111111,
              "#46039f"
             ],
             [
              0.2222222222222222,
              "#7201a8"
             ],
             [
              0.3333333333333333,
              "#9c179e"
             ],
             [
              0.4444444444444444,
              "#bd3786"
             ],
             [
              0.5555555555555556,
              "#d8576b"
             ],
             [
              0.6666666666666666,
              "#ed7953"
             ],
             [
              0.7777777777777778,
              "#fb9f3a"
             ],
             [
              0.8888888888888888,
              "#fdca26"
             ],
             [
              1,
              "#f0f921"
             ]
            ],
            "type": "histogram2d"
           }
          ],
          "histogram2dcontour": [
           {
            "colorbar": {
             "outlinewidth": 0,
             "ticks": ""
            },
            "colorscale": [
             [
              0,
              "#0d0887"
             ],
             [
              0.1111111111111111,
              "#46039f"
             ],
             [
              0.2222222222222222,
              "#7201a8"
             ],
             [
              0.3333333333333333,
              "#9c179e"
             ],
             [
              0.4444444444444444,
              "#bd3786"
             ],
             [
              0.5555555555555556,
              "#d8576b"
             ],
             [
              0.6666666666666666,
              "#ed7953"
             ],
             [
              0.7777777777777778,
              "#fb9f3a"
             ],
             [
              0.8888888888888888,
              "#fdca26"
             ],
             [
              1,
              "#f0f921"
             ]
            ],
            "type": "histogram2dcontour"
           }
          ],
          "mesh3d": [
           {
            "colorbar": {
             "outlinewidth": 0,
             "ticks": ""
            },
            "type": "mesh3d"
           }
          ],
          "parcoords": [
           {
            "line": {
             "colorbar": {
              "outlinewidth": 0,
              "ticks": ""
             }
            },
            "type": "parcoords"
           }
          ],
          "pie": [
           {
            "automargin": true,
            "type": "pie"
           }
          ],
          "scatter": [
           {
            "fillpattern": {
             "fillmode": "overlay",
             "size": 10,
             "solidity": 0.2
            },
            "type": "scatter"
           }
          ],
          "scatter3d": [
           {
            "line": {
             "colorbar": {
              "outlinewidth": 0,
              "ticks": ""
             }
            },
            "marker": {
             "colorbar": {
              "outlinewidth": 0,
              "ticks": ""
             }
            },
            "type": "scatter3d"
           }
          ],
          "scattercarpet": [
           {
            "marker": {
             "colorbar": {
              "outlinewidth": 0,
              "ticks": ""
             }
            },
            "type": "scattercarpet"
           }
          ],
          "scattergeo": [
           {
            "marker": {
             "colorbar": {
              "outlinewidth": 0,
              "ticks": ""
             }
            },
            "type": "scattergeo"
           }
          ],
          "scattergl": [
           {
            "marker": {
             "colorbar": {
              "outlinewidth": 0,
              "ticks": ""
             }
            },
            "type": "scattergl"
           }
          ],
          "scattermapbox": [
           {
            "marker": {
             "colorbar": {
              "outlinewidth": 0,
              "ticks": ""
             }
            },
            "type": "scattermapbox"
           }
          ],
          "scatterpolar": [
           {
            "marker": {
             "colorbar": {
              "outlinewidth": 0,
              "ticks": ""
             }
            },
            "type": "scatterpolar"
           }
          ],
          "scatterpolargl": [
           {
            "marker": {
             "colorbar": {
              "outlinewidth": 0,
              "ticks": ""
             }
            },
            "type": "scatterpolargl"
           }
          ],
          "scatterternary": [
           {
            "marker": {
             "colorbar": {
              "outlinewidth": 0,
              "ticks": ""
             }
            },
            "type": "scatterternary"
           }
          ],
          "surface": [
           {
            "colorbar": {
             "outlinewidth": 0,
             "ticks": ""
            },
            "colorscale": [
             [
              0,
              "#0d0887"
             ],
             [
              0.1111111111111111,
              "#46039f"
             ],
             [
              0.2222222222222222,
              "#7201a8"
             ],
             [
              0.3333333333333333,
              "#9c179e"
             ],
             [
              0.4444444444444444,
              "#bd3786"
             ],
             [
              0.5555555555555556,
              "#d8576b"
             ],
             [
              0.6666666666666666,
              "#ed7953"
             ],
             [
              0.7777777777777778,
              "#fb9f3a"
             ],
             [
              0.8888888888888888,
              "#fdca26"
             ],
             [
              1,
              "#f0f921"
             ]
            ],
            "type": "surface"
           }
          ],
          "table": [
           {
            "cells": {
             "fill": {
              "color": "#EBF0F8"
             },
             "line": {
              "color": "white"
             }
            },
            "header": {
             "fill": {
              "color": "#C8D4E3"
             },
             "line": {
              "color": "white"
             }
            },
            "type": "table"
           }
          ]
         },
         "layout": {
          "annotationdefaults": {
           "arrowcolor": "#2a3f5f",
           "arrowhead": 0,
           "arrowwidth": 1
          },
          "autotypenumbers": "strict",
          "coloraxis": {
           "colorbar": {
            "outlinewidth": 0,
            "ticks": ""
           }
          },
          "colorscale": {
           "diverging": [
            [
             0,
             "#8e0152"
            ],
            [
             0.1,
             "#c51b7d"
            ],
            [
             0.2,
             "#de77ae"
            ],
            [
             0.3,
             "#f1b6da"
            ],
            [
             0.4,
             "#fde0ef"
            ],
            [
             0.5,
             "#f7f7f7"
            ],
            [
             0.6,
             "#e6f5d0"
            ],
            [
             0.7,
             "#b8e186"
            ],
            [
             0.8,
             "#7fbc41"
            ],
            [
             0.9,
             "#4d9221"
            ],
            [
             1,
             "#276419"
            ]
           ],
           "sequential": [
            [
             0,
             "#0d0887"
            ],
            [
             0.1111111111111111,
             "#46039f"
            ],
            [
             0.2222222222222222,
             "#7201a8"
            ],
            [
             0.3333333333333333,
             "#9c179e"
            ],
            [
             0.4444444444444444,
             "#bd3786"
            ],
            [
             0.5555555555555556,
             "#d8576b"
            ],
            [
             0.6666666666666666,
             "#ed7953"
            ],
            [
             0.7777777777777778,
             "#fb9f3a"
            ],
            [
             0.8888888888888888,
             "#fdca26"
            ],
            [
             1,
             "#f0f921"
            ]
           ],
           "sequentialminus": [
            [
             0,
             "#0d0887"
            ],
            [
             0.1111111111111111,
             "#46039f"
            ],
            [
             0.2222222222222222,
             "#7201a8"
            ],
            [
             0.3333333333333333,
             "#9c179e"
            ],
            [
             0.4444444444444444,
             "#bd3786"
            ],
            [
             0.5555555555555556,
             "#d8576b"
            ],
            [
             0.6666666666666666,
             "#ed7953"
            ],
            [
             0.7777777777777778,
             "#fb9f3a"
            ],
            [
             0.8888888888888888,
             "#fdca26"
            ],
            [
             1,
             "#f0f921"
            ]
           ]
          },
          "colorway": [
           "#636efa",
           "#EF553B",
           "#00cc96",
           "#ab63fa",
           "#FFA15A",
           "#19d3f3",
           "#FF6692",
           "#B6E880",
           "#FF97FF",
           "#FECB52"
          ],
          "font": {
           "color": "#2a3f5f"
          },
          "geo": {
           "bgcolor": "white",
           "lakecolor": "white",
           "landcolor": "#E5ECF6",
           "showlakes": true,
           "showland": true,
           "subunitcolor": "white"
          },
          "hoverlabel": {
           "align": "left"
          },
          "hovermode": "closest",
          "mapbox": {
           "style": "light"
          },
          "paper_bgcolor": "white",
          "plot_bgcolor": "#E5ECF6",
          "polar": {
           "angularaxis": {
            "gridcolor": "white",
            "linecolor": "white",
            "ticks": ""
           },
           "bgcolor": "#E5ECF6",
           "radialaxis": {
            "gridcolor": "white",
            "linecolor": "white",
            "ticks": ""
           }
          },
          "scene": {
           "xaxis": {
            "backgroundcolor": "#E5ECF6",
            "gridcolor": "white",
            "gridwidth": 2,
            "linecolor": "white",
            "showbackground": true,
            "ticks": "",
            "zerolinecolor": "white"
           },
           "yaxis": {
            "backgroundcolor": "#E5ECF6",
            "gridcolor": "white",
            "gridwidth": 2,
            "linecolor": "white",
            "showbackground": true,
            "ticks": "",
            "zerolinecolor": "white"
           },
           "zaxis": {
            "backgroundcolor": "#E5ECF6",
            "gridcolor": "white",
            "gridwidth": 2,
            "linecolor": "white",
            "showbackground": true,
            "ticks": "",
            "zerolinecolor": "white"
           }
          },
          "shapedefaults": {
           "line": {
            "color": "#2a3f5f"
           }
          },
          "ternary": {
           "aaxis": {
            "gridcolor": "white",
            "linecolor": "white",
            "ticks": ""
           },
           "baxis": {
            "gridcolor": "white",
            "linecolor": "white",
            "ticks": ""
           },
           "bgcolor": "#E5ECF6",
           "caxis": {
            "gridcolor": "white",
            "linecolor": "white",
            "ticks": ""
           }
          },
          "title": {
           "x": 0.05
          },
          "xaxis": {
           "automargin": true,
           "gridcolor": "white",
           "linecolor": "white",
           "ticks": "",
           "title": {
            "standoff": 15
           },
           "zerolinecolor": "white",
           "zerolinewidth": 2
          },
          "yaxis": {
           "automargin": true,
           "gridcolor": "white",
           "linecolor": "white",
           "ticks": "",
           "title": {
            "standoff": 15
           },
           "zerolinecolor": "white",
           "zerolinewidth": 2
          }
         }
        },
        "title": {
         "text": "Distribution of WPA Ratings for Top 50 WAR Players"
        }
       }
      }
     },
     "metadata": {},
     "output_type": "display_data"
    }
   ],
   "source": [
    "import pandas as pd\n",
    "import plotly.express as px\n",
    "import os\n",
    "\n",
    "def get_top_50_unique_names(data):\n",
    "    column_2 = data.iloc[:, 1].rename(\"Player\")  # Column 2 (index 1)\n",
    "    column_16 = data.iloc[:, 15].rename(\"WAR\")  # Column 16 (index 15)\n",
    "    combined_data = pd.DataFrame({'Player': column_2, 'WAR': column_16})\n",
    "    sorted_data = combined_data.sort_values(by='WAR', ascending=False)\n",
    "    unique_sorted_data = sorted_data.drop_duplicates(subset='Player').reset_index(drop=True)\n",
    "    top_50 = unique_sorted_data.head(50)\n",
    "    return top_50\n",
    "\n",
    "def find_wpa_for_top_50_war(top_50_df, filepath):\n",
    "    data = pd.read_csv(filepath, encoding='latin1')\n",
    "    column_9 = data.iloc[:, 8].rename(\"WPA\")  # Column 9 (index 8)\n",
    "    matching_data = pd.DataFrame({'Player': data.iloc[:, 1], 'WPA': column_9}).drop_duplicates(subset='Player')\n",
    "    matching_rows = top_50_df.merge(matching_data, on='Player', how='left')\n",
    "    return matching_rows\n",
    "\n",
    "# Define the path to your CSV file\n",
    "csv_file_path = 'WAR_2023.csv'\n",
    "\n",
    "# Check if the file exists\n",
    "if not os.path.exists(csv_file_path):\n",
    "    raise FileNotFoundError(f\"The file '{csv_file_path}' does not exist.\")\n",
    "\n",
    "try:\n",
    "    # Attempt to read the CSV file with different encodings\n",
    "    try:\n",
    "        data = pd.read_csv(csv_file_path, encoding='utf-8')\n",
    "    except UnicodeDecodeError:\n",
    "        try:\n",
    "            data = pd.read_csv(csv_file_path, encoding='latin1')\n",
    "        except UnicodeDecodeError:\n",
    "            data = pd.read_csv(csv_file_path, encoding='iso-8859-1')\n",
    "except Exception as e:\n",
    "    raise ValueError(f\"Error reading the CSV file: {e}\")\n",
    "\n",
    "# Ensure the CSV file has at least 18 columns\n",
    "if data.shape[1] < 18:\n",
    "    raise ValueError(\"The CSV file does not have at least 18 columns.\")\n",
    "\n",
    "# Get the top 50 unique WAR players\n",
    "top_50 = get_top_50_unique_names(data)\n",
    "\n",
    "if top_50 is not None:\n",
    "    # Find the WPA for the top 50 WAR players in the second CSV\n",
    "    second_csv_filepath = \"WPA_2023.csv\"\n",
    "    matching_rows = find_wpa_for_top_50_war(top_50, second_csv_filepath)\n",
    "    \n",
    "    if matching_rows is not None and not matching_rows.empty:\n",
    "        # Extract the WPA values\n",
    "        wpa_values = matching_rows['WPA'].dropna()\n",
    "\n",
    "        # Categorize the WPA values based on the provided ratings\n",
    "        def categorize_wpa(wpa):\n",
    "            if wpa >= 6.0:\n",
    "                return 'Excellent'\n",
    "            elif wpa >= 3.0:\n",
    "                return 'Great'\n",
    "            elif wpa >= 2.0:\n",
    "                return 'Above Average'\n",
    "            elif wpa >= 1.0:\n",
    "                return 'Average'\n",
    "            elif wpa >= 0.0:\n",
    "                return 'Below Average'\n",
    "            elif wpa >= -1.0:\n",
    "                return 'Poor'\n",
    "            else:\n",
    "                return 'Awful'\n",
    "\n",
    "        wpa_categories = wpa_values.apply(categorize_wpa)\n",
    "        wpa_category_counts = wpa_categories.value_counts()\n",
    "\n",
    "        # Ensure the categories are in the correct order\n",
    "        categories_order = ['Excellent', 'Great', 'Above Average', 'Average', 'Below Average', 'Poor', 'Awful']\n",
    "        wpa_category_counts = wpa_category_counts.reindex(categories_order, fill_value=0)\n",
    "\n",
    "        # Create a DataFrame for the pie chart\n",
    "        pie_data = pd.DataFrame({'Rating': wpa_category_counts.index, 'Count': wpa_category_counts.values})\n",
    "\n",
    "        # Create an interactive pie chart using Plotly\n",
    "        fig_pie = px.pie(pie_data, names='Rating', values='Count', title='Distribution of WPA Ratings for Top 50 WAR Players')\n",
    "\n",
    "        # Update the layout for interactivity\n",
    "        fig_pie.update_traces(textinfo='percent+label', hoverinfo='label+percent+value', \n",
    "                              marker=dict(line=dict(color='#000000', width=2)))\n",
    "\n",
    "        # Show the pie chart\n",
    "        fig_pie.show()\n",
    "    else:\n",
    "        print(\"No matching rows found or an error occurred.\")\n",
    "else:\n",
    "    print(\"Could not extract top 50 names.\")\n"
   ]
  },
  {
   "cell_type": "code",
   "execution_count": 41,
   "metadata": {},
   "outputs": [
    {
     "data": {
      "application/vnd.plotly.v1+json": {
       "config": {
        "plotlyServerURL": "https://plot.ly"
       },
       "data": [
        {
         "domain": {
          "x": [
           0,
           1
          ],
          "y": [
           0,
           1
          ]
         },
         "hoverinfo": "label+percent+value",
         "hovertemplate": "Rating=%{label}<br>Count=%{value}<extra></extra>",
         "labels": [
          "Excellent",
          "Great",
          "Above Average",
          "Average",
          "Below Average",
          "Poor",
          "Awful"
         ],
         "legendgroup": "",
         "marker": {
          "line": {
           "color": "#000000",
           "width": 2
          }
         },
         "name": "",
         "showlegend": true,
         "textinfo": "percent+label",
         "type": "pie",
         "values": [
          0,
          0,
          0,
          1,
          1,
          20,
          28
         ]
        }
       ],
       "layout": {
        "legend": {
         "tracegroupgap": 0
        },
        "template": {
         "data": {
          "bar": [
           {
            "error_x": {
             "color": "#2a3f5f"
            },
            "error_y": {
             "color": "#2a3f5f"
            },
            "marker": {
             "line": {
              "color": "#E5ECF6",
              "width": 0.5
             },
             "pattern": {
              "fillmode": "overlay",
              "size": 10,
              "solidity": 0.2
             }
            },
            "type": "bar"
           }
          ],
          "barpolar": [
           {
            "marker": {
             "line": {
              "color": "#E5ECF6",
              "width": 0.5
             },
             "pattern": {
              "fillmode": "overlay",
              "size": 10,
              "solidity": 0.2
             }
            },
            "type": "barpolar"
           }
          ],
          "carpet": [
           {
            "aaxis": {
             "endlinecolor": "#2a3f5f",
             "gridcolor": "white",
             "linecolor": "white",
             "minorgridcolor": "white",
             "startlinecolor": "#2a3f5f"
            },
            "baxis": {
             "endlinecolor": "#2a3f5f",
             "gridcolor": "white",
             "linecolor": "white",
             "minorgridcolor": "white",
             "startlinecolor": "#2a3f5f"
            },
            "type": "carpet"
           }
          ],
          "choropleth": [
           {
            "colorbar": {
             "outlinewidth": 0,
             "ticks": ""
            },
            "type": "choropleth"
           }
          ],
          "contour": [
           {
            "colorbar": {
             "outlinewidth": 0,
             "ticks": ""
            },
            "colorscale": [
             [
              0,
              "#0d0887"
             ],
             [
              0.1111111111111111,
              "#46039f"
             ],
             [
              0.2222222222222222,
              "#7201a8"
             ],
             [
              0.3333333333333333,
              "#9c179e"
             ],
             [
              0.4444444444444444,
              "#bd3786"
             ],
             [
              0.5555555555555556,
              "#d8576b"
             ],
             [
              0.6666666666666666,
              "#ed7953"
             ],
             [
              0.7777777777777778,
              "#fb9f3a"
             ],
             [
              0.8888888888888888,
              "#fdca26"
             ],
             [
              1,
              "#f0f921"
             ]
            ],
            "type": "contour"
           }
          ],
          "contourcarpet": [
           {
            "colorbar": {
             "outlinewidth": 0,
             "ticks": ""
            },
            "type": "contourcarpet"
           }
          ],
          "heatmap": [
           {
            "colorbar": {
             "outlinewidth": 0,
             "ticks": ""
            },
            "colorscale": [
             [
              0,
              "#0d0887"
             ],
             [
              0.1111111111111111,
              "#46039f"
             ],
             [
              0.2222222222222222,
              "#7201a8"
             ],
             [
              0.3333333333333333,
              "#9c179e"
             ],
             [
              0.4444444444444444,
              "#bd3786"
             ],
             [
              0.5555555555555556,
              "#d8576b"
             ],
             [
              0.6666666666666666,
              "#ed7953"
             ],
             [
              0.7777777777777778,
              "#fb9f3a"
             ],
             [
              0.8888888888888888,
              "#fdca26"
             ],
             [
              1,
              "#f0f921"
             ]
            ],
            "type": "heatmap"
           }
          ],
          "heatmapgl": [
           {
            "colorbar": {
             "outlinewidth": 0,
             "ticks": ""
            },
            "colorscale": [
             [
              0,
              "#0d0887"
             ],
             [
              0.1111111111111111,
              "#46039f"
             ],
             [
              0.2222222222222222,
              "#7201a8"
             ],
             [
              0.3333333333333333,
              "#9c179e"
             ],
             [
              0.4444444444444444,
              "#bd3786"
             ],
             [
              0.5555555555555556,
              "#d8576b"
             ],
             [
              0.6666666666666666,
              "#ed7953"
             ],
             [
              0.7777777777777778,
              "#fb9f3a"
             ],
             [
              0.8888888888888888,
              "#fdca26"
             ],
             [
              1,
              "#f0f921"
             ]
            ],
            "type": "heatmapgl"
           }
          ],
          "histogram": [
           {
            "marker": {
             "pattern": {
              "fillmode": "overlay",
              "size": 10,
              "solidity": 0.2
             }
            },
            "type": "histogram"
           }
          ],
          "histogram2d": [
           {
            "colorbar": {
             "outlinewidth": 0,
             "ticks": ""
            },
            "colorscale": [
             [
              0,
              "#0d0887"
             ],
             [
              0.1111111111111111,
              "#46039f"
             ],
             [
              0.2222222222222222,
              "#7201a8"
             ],
             [
              0.3333333333333333,
              "#9c179e"
             ],
             [
              0.4444444444444444,
              "#bd3786"
             ],
             [
              0.5555555555555556,
              "#d8576b"
             ],
             [
              0.6666666666666666,
              "#ed7953"
             ],
             [
              0.7777777777777778,
              "#fb9f3a"
             ],
             [
              0.8888888888888888,
              "#fdca26"
             ],
             [
              1,
              "#f0f921"
             ]
            ],
            "type": "histogram2d"
           }
          ],
          "histogram2dcontour": [
           {
            "colorbar": {
             "outlinewidth": 0,
             "ticks": ""
            },
            "colorscale": [
             [
              0,
              "#0d0887"
             ],
             [
              0.1111111111111111,
              "#46039f"
             ],
             [
              0.2222222222222222,
              "#7201a8"
             ],
             [
              0.3333333333333333,
              "#9c179e"
             ],
             [
              0.4444444444444444,
              "#bd3786"
             ],
             [
              0.5555555555555556,
              "#d8576b"
             ],
             [
              0.6666666666666666,
              "#ed7953"
             ],
             [
              0.7777777777777778,
              "#fb9f3a"
             ],
             [
              0.8888888888888888,
              "#fdca26"
             ],
             [
              1,
              "#f0f921"
             ]
            ],
            "type": "histogram2dcontour"
           }
          ],
          "mesh3d": [
           {
            "colorbar": {
             "outlinewidth": 0,
             "ticks": ""
            },
            "type": "mesh3d"
           }
          ],
          "parcoords": [
           {
            "line": {
             "colorbar": {
              "outlinewidth": 0,
              "ticks": ""
             }
            },
            "type": "parcoords"
           }
          ],
          "pie": [
           {
            "automargin": true,
            "type": "pie"
           }
          ],
          "scatter": [
           {
            "fillpattern": {
             "fillmode": "overlay",
             "size": 10,
             "solidity": 0.2
            },
            "type": "scatter"
           }
          ],
          "scatter3d": [
           {
            "line": {
             "colorbar": {
              "outlinewidth": 0,
              "ticks": ""
             }
            },
            "marker": {
             "colorbar": {
              "outlinewidth": 0,
              "ticks": ""
             }
            },
            "type": "scatter3d"
           }
          ],
          "scattercarpet": [
           {
            "marker": {
             "colorbar": {
              "outlinewidth": 0,
              "ticks": ""
             }
            },
            "type": "scattercarpet"
           }
          ],
          "scattergeo": [
           {
            "marker": {
             "colorbar": {
              "outlinewidth": 0,
              "ticks": ""
             }
            },
            "type": "scattergeo"
           }
          ],
          "scattergl": [
           {
            "marker": {
             "colorbar": {
              "outlinewidth": 0,
              "ticks": ""
             }
            },
            "type": "scattergl"
           }
          ],
          "scattermapbox": [
           {
            "marker": {
             "colorbar": {
              "outlinewidth": 0,
              "ticks": ""
             }
            },
            "type": "scattermapbox"
           }
          ],
          "scatterpolar": [
           {
            "marker": {
             "colorbar": {
              "outlinewidth": 0,
              "ticks": ""
             }
            },
            "type": "scatterpolar"
           }
          ],
          "scatterpolargl": [
           {
            "marker": {
             "colorbar": {
              "outlinewidth": 0,
              "ticks": ""
             }
            },
            "type": "scatterpolargl"
           }
          ],
          "scatterternary": [
           {
            "marker": {
             "colorbar": {
              "outlinewidth": 0,
              "ticks": ""
             }
            },
            "type": "scatterternary"
           }
          ],
          "surface": [
           {
            "colorbar": {
             "outlinewidth": 0,
             "ticks": ""
            },
            "colorscale": [
             [
              0,
              "#0d0887"
             ],
             [
              0.1111111111111111,
              "#46039f"
             ],
             [
              0.2222222222222222,
              "#7201a8"
             ],
             [
              0.3333333333333333,
              "#9c179e"
             ],
             [
              0.4444444444444444,
              "#bd3786"
             ],
             [
              0.5555555555555556,
              "#d8576b"
             ],
             [
              0.6666666666666666,
              "#ed7953"
             ],
             [
              0.7777777777777778,
              "#fb9f3a"
             ],
             [
              0.8888888888888888,
              "#fdca26"
             ],
             [
              1,
              "#f0f921"
             ]
            ],
            "type": "surface"
           }
          ],
          "table": [
           {
            "cells": {
             "fill": {
              "color": "#EBF0F8"
             },
             "line": {
              "color": "white"
             }
            },
            "header": {
             "fill": {
              "color": "#C8D4E3"
             },
             "line": {
              "color": "white"
             }
            },
            "type": "table"
           }
          ]
         },
         "layout": {
          "annotationdefaults": {
           "arrowcolor": "#2a3f5f",
           "arrowhead": 0,
           "arrowwidth": 1
          },
          "autotypenumbers": "strict",
          "coloraxis": {
           "colorbar": {
            "outlinewidth": 0,
            "ticks": ""
           }
          },
          "colorscale": {
           "diverging": [
            [
             0,
             "#8e0152"
            ],
            [
             0.1,
             "#c51b7d"
            ],
            [
             0.2,
             "#de77ae"
            ],
            [
             0.3,
             "#f1b6da"
            ],
            [
             0.4,
             "#fde0ef"
            ],
            [
             0.5,
             "#f7f7f7"
            ],
            [
             0.6,
             "#e6f5d0"
            ],
            [
             0.7,
             "#b8e186"
            ],
            [
             0.8,
             "#7fbc41"
            ],
            [
             0.9,
             "#4d9221"
            ],
            [
             1,
             "#276419"
            ]
           ],
           "sequential": [
            [
             0,
             "#0d0887"
            ],
            [
             0.1111111111111111,
             "#46039f"
            ],
            [
             0.2222222222222222,
             "#7201a8"
            ],
            [
             0.3333333333333333,
             "#9c179e"
            ],
            [
             0.4444444444444444,
             "#bd3786"
            ],
            [
             0.5555555555555556,
             "#d8576b"
            ],
            [
             0.6666666666666666,
             "#ed7953"
            ],
            [
             0.7777777777777778,
             "#fb9f3a"
            ],
            [
             0.8888888888888888,
             "#fdca26"
            ],
            [
             1,
             "#f0f921"
            ]
           ],
           "sequentialminus": [
            [
             0,
             "#0d0887"
            ],
            [
             0.1111111111111111,
             "#46039f"
            ],
            [
             0.2222222222222222,
             "#7201a8"
            ],
            [
             0.3333333333333333,
             "#9c179e"
            ],
            [
             0.4444444444444444,
             "#bd3786"
            ],
            [
             0.5555555555555556,
             "#d8576b"
            ],
            [
             0.6666666666666666,
             "#ed7953"
            ],
            [
             0.7777777777777778,
             "#fb9f3a"
            ],
            [
             0.8888888888888888,
             "#fdca26"
            ],
            [
             1,
             "#f0f921"
            ]
           ]
          },
          "colorway": [
           "#636efa",
           "#EF553B",
           "#00cc96",
           "#ab63fa",
           "#FFA15A",
           "#19d3f3",
           "#FF6692",
           "#B6E880",
           "#FF97FF",
           "#FECB52"
          ],
          "font": {
           "color": "#2a3f5f"
          },
          "geo": {
           "bgcolor": "white",
           "lakecolor": "white",
           "landcolor": "#E5ECF6",
           "showlakes": true,
           "showland": true,
           "subunitcolor": "white"
          },
          "hoverlabel": {
           "align": "left"
          },
          "hovermode": "closest",
          "mapbox": {
           "style": "light"
          },
          "paper_bgcolor": "white",
          "plot_bgcolor": "#E5ECF6",
          "polar": {
           "angularaxis": {
            "gridcolor": "white",
            "linecolor": "white",
            "ticks": ""
           },
           "bgcolor": "#E5ECF6",
           "radialaxis": {
            "gridcolor": "white",
            "linecolor": "white",
            "ticks": ""
           }
          },
          "scene": {
           "xaxis": {
            "backgroundcolor": "#E5ECF6",
            "gridcolor": "white",
            "gridwidth": 2,
            "linecolor": "white",
            "showbackground": true,
            "ticks": "",
            "zerolinecolor": "white"
           },
           "yaxis": {
            "backgroundcolor": "#E5ECF6",
            "gridcolor": "white",
            "gridwidth": 2,
            "linecolor": "white",
            "showbackground": true,
            "ticks": "",
            "zerolinecolor": "white"
           },
           "zaxis": {
            "backgroundcolor": "#E5ECF6",
            "gridcolor": "white",
            "gridwidth": 2,
            "linecolor": "white",
            "showbackground": true,
            "ticks": "",
            "zerolinecolor": "white"
           }
          },
          "shapedefaults": {
           "line": {
            "color": "#2a3f5f"
           }
          },
          "ternary": {
           "aaxis": {
            "gridcolor": "white",
            "linecolor": "white",
            "ticks": ""
           },
           "baxis": {
            "gridcolor": "white",
            "linecolor": "white",
            "ticks": ""
           },
           "bgcolor": "#E5ECF6",
           "caxis": {
            "gridcolor": "white",
            "linecolor": "white",
            "ticks": ""
           }
          },
          "title": {
           "x": 0.05
          },
          "xaxis": {
           "automargin": true,
           "gridcolor": "white",
           "linecolor": "white",
           "ticks": "",
           "title": {
            "standoff": 15
           },
           "zerolinecolor": "white",
           "zerolinewidth": 2
          },
          "yaxis": {
           "automargin": true,
           "gridcolor": "white",
           "linecolor": "white",
           "ticks": "",
           "title": {
            "standoff": 15
           },
           "zerolinecolor": "white",
           "zerolinewidth": 2
          }
         }
        },
        "title": {
         "text": "Distribution of WPA Ratings for Bottom 50 WAR Players"
        }
       }
      }
     },
     "metadata": {},
     "output_type": "display_data"
    }
   ],
   "source": [
    "import pandas as pd\n",
    "import plotly.express as px\n",
    "import os\n",
    "\n",
    "def get_bottom_50_unique_names(data):\n",
    "    column_2 = data.iloc[:, 1].rename(\"Player\")  # Column 2 (index 1)\n",
    "    column_16 = data.iloc[:, 15].rename(\"WAR\")  # Column 16 (index 15)\n",
    "    combined_data = pd.DataFrame({'Player': column_2, 'WAR': column_16})\n",
    "    sorted_data = combined_data.sort_values(by='WAR', ascending=True)\n",
    "    unique_sorted_data = sorted_data.drop_duplicates(subset='Player').reset_index(drop=True)\n",
    "    bottom_50 = unique_sorted_data.head(50)\n",
    "    return bottom_50\n",
    "\n",
    "def find_wpa_for_bottom_50_war(bottom_50_df, filepath):\n",
    "    data = pd.read_csv(filepath, encoding='latin1')\n",
    "    column_9 = data.iloc[:, 8].rename(\"WPA\")  # Column 9 (index 8)\n",
    "    matching_data = pd.DataFrame({'Player': data.iloc[:, 1], 'WPA': column_9}).drop_duplicates(subset='Player')\n",
    "    matching_rows = bottom_50_df.merge(matching_data, on='Player', how='left')\n",
    "    return matching_rows\n",
    "\n",
    "# Define the path to your CSV file\n",
    "csv_file_path = 'WAR_2023.csv'\n",
    "\n",
    "# Check if the file exists\n",
    "if not os.path.exists(csv_file_path):\n",
    "    raise FileNotFoundError(f\"The file '{csv_file_path}' does not exist.\")\n",
    "\n",
    "try:\n",
    "    # Attempt to read the CSV file with different encodings\n",
    "    try:\n",
    "        data = pd.read_csv(csv_file_path, encoding='utf-8')\n",
    "    except UnicodeDecodeError:\n",
    "        try:\n",
    "            data = pd.read_csv(csv_file_path, encoding='latin1')\n",
    "        except UnicodeDecodeError:\n",
    "            data = pd.read_csv(csv_file_path, encoding='iso-8859-1')\n",
    "except Exception as e:\n",
    "    raise ValueError(f\"Error reading the CSV file: {e}\")\n",
    "\n",
    "# Ensure the CSV file has at least 18 columns\n",
    "if data.shape[1] < 18:\n",
    "    raise ValueError(\"The CSV file does not have at least 18 columns.\")\n",
    "\n",
    "# Get the bottom 50 unique WAR players\n",
    "bottom_50 = get_bottom_50_unique_names(data)\n",
    "\n",
    "if bottom_50 is not None:\n",
    "    # Find the WPA for the bottom 50 WAR players in the second CSV\n",
    "    second_csv_filepath = \"WPA_2023.csv\"\n",
    "    matching_rows = find_wpa_for_bottom_50_war(bottom_50, second_csv_filepath)\n",
    "    \n",
    "    if matching_rows is not None and not matching_rows.empty:\n",
    "        # Extract the WPA values\n",
    "        wpa_values = matching_rows['WPA'].dropna()\n",
    "\n",
    "        # Categorize the WPA values based on the provided ratings\n",
    "        def categorize_wpa(wpa):\n",
    "            if wpa >= 6.0:\n",
    "                return 'Excellent'\n",
    "            elif wpa >= 3.0:\n",
    "                return 'Great'\n",
    "            elif wpa >= 2.0:\n",
    "                return 'Above Average'\n",
    "            elif wpa >= 1.0:\n",
    "                return 'Average'\n",
    "            elif wpa >= 0.0:\n",
    "                return 'Below Average'\n",
    "            elif wpa >= -1.0:\n",
    "                return 'Poor'\n",
    "            else:\n",
    "                return 'Awful'\n",
    "\n",
    "        wpa_categories = wpa_values.apply(categorize_wpa)\n",
    "        wpa_category_counts = wpa_categories.value_counts()\n",
    "\n",
    "        # Ensure the categories are in the correct order\n",
    "        categories_order = ['Excellent', 'Great', 'Above Average', 'Average', 'Below Average', 'Poor', 'Awful']\n",
    "        wpa_category_counts = wpa_category_counts.reindex(categories_order, fill_value=0)\n",
    "\n",
    "        # Create a DataFrame for the pie chart\n",
    "        pie_data = pd.DataFrame({'Rating': wpa_category_counts.index, 'Count': wpa_category_counts.values})\n",
    "\n",
    "        # Create an interactive pie chart using Plotly\n",
    "        fig_pie = px.pie(pie_data, names='Rating', values='Count', title='Distribution of WPA Ratings for Bottom 50 WAR Players')\n",
    "\n",
    "        # Update the layout for interactivity\n",
    "        fig_pie.update_traces(textinfo='percent+label', hoverinfo='label+percent+value', \n",
    "                              marker=dict(line=dict(color='#000000', width=2)))\n",
    "\n",
    "        # Show the pie chart\n",
    "        fig_pie.show()\n",
    "    else:\n",
    "        print(\"No matching rows found or an error occurred.\")\n",
    "else:\n",
    "    print(\"Could not extract bottom 50 names.\")\n"
   ]
  },
  {
   "cell_type": "markdown",
   "metadata": {},
   "source": [
    "# WPA VS WAR\n"
   ]
  },
  {
   "cell_type": "code",
   "execution_count": null,
   "metadata": {},
   "outputs": [],
   "source": []
  },
  {
   "cell_type": "markdown",
   "metadata": {},
   "source": [
    "# just clean it up to the egzact number i need\n"
   ]
  },
  {
   "cell_type": "markdown",
   "metadata": {},
   "source": []
  },
  {
   "cell_type": "code",
   "execution_count": 26,
   "metadata": {},
   "outputs": [
    {
     "name": "stdout",
     "output_type": "stream",
     "text": [
      "Matching rows found in the second CSV:\n",
      "                Player  WAR  WPA\n",
      "0         Mookie Betts  8.3  4.9\n",
      "1     Ronald Acuña Jr.  8.2  6.8\n",
      "2        Marcus Semien  7.4  1.0\n",
      "3          Matt Olson*  7.4  4.4\n",
      "4        Corey Seager*  6.9  4.4\n",
      "5     Freddie Freeman*  6.5  4.3\n",
      "6    Gunnar Henderson*  6.2  1.3\n",
      "7       Shohei Ohtani*  6.0  4.2\n",
      "8    Francisco Lindor#  6.0  1.4\n",
      "9         Austin Riley  5.9  1.9\n",
      "10        Ha-Seong Kim  5.8  0.9\n",
      "11          Juan Soto*  5.5  3.5\n",
      "12      Wander Franco#  5.5 -0.1\n",
      "13  Fernando Tatis Jr.  5.5  1.4\n",
      "14        Kyle Tucker*  5.4  4.6\n",
      "15     Corbin Carroll*  5.4  5.2\n",
      "16     Julio Rodríguez  5.3  2.2\n",
      "17     Andrés Giménez*  5.3 -0.6\n",
      "18          Yandy Díaz  5.2  4.4\n",
      "19       José Ramírez#  5.1  3.3\n",
      "20      J.P. Crawford*  5.1  2.7\n",
      "21        Nico Hoerner  5.1  0.9\n",
      "22     Luis Robert Jr.  5.0  2.7\n",
      "23        Luis Arráez*  4.9  0.7\n",
      "24        Ketel Marte#  4.9  2.3\n",
      "25        Alex Bregman  4.9  1.6\n",
      "26         Bo Bichette  4.9  1.2\n",
      "27      Dansby Swanson  4.8 -1.7\n",
      "28       Ozzie Albies#  4.7  2.1\n",
      "29     Yordan Alvarez*  4.6  4.7\n",
      "30         Aaron Judge  4.5  3.0\n",
      "31     Xander Bogaerts  4.4 -1.1\n",
      "32     Cody Bellinger*  4.4  2.3\n",
      "33      Bobby Witt Jr.  4.4 -0.2\n",
      "34        Matt Chapman  4.4 -1.2\n",
      "35    Adley Rutschman#  4.3  2.2\n",
      "36       Bryson Stott*  4.3  1.3\n",
      "37        Nolan Jones*  4.3  2.8\n",
      "38      Gabriel Moreno  4.3  0.3\n",
      "39       Isaac Paredes  4.2  1.1\n",
      "40       Adolis García  4.2  1.1\n",
      "41          Will Smith  4.1  0.2\n",
      "42      Ke'Bryan Hayes  4.0 -0.1\n",
      "43      Brandon Nimmo*  3.9  1.3\n",
      "44     Daulton Varsho*  3.9 -2.2\n",
      "45         Sean Murphy  3.9  0.1\n",
      "46    Kevin Kiermaier*  3.9 -0.3\n",
      "47         Jeremy Peña  3.8 -3.3\n",
      "48    Christian Walker  3.8  1.8\n",
      "49          TJ Friedl*  3.8  3.9\n"
     ]
    }
   ],
   "source": [
    "import pandas as pd\n",
    "\n",
    "def get_top_50_names(data):\n",
    "    try:\n",
    "        # Extract and rename columns 2 and 16\n",
    "        column_2 = data.iloc[:, 1].rename(\"Player\")  # Column 2 (index 1)\n",
    "        column_16 = data.iloc[:, 15].rename(\"WAR\")  # Column 16 (index 15)\n",
    "        \n",
    "        # Combine the two columns into a new DataFrame\n",
    "        combined_data = pd.DataFrame({\n",
    "            'Player': column_2,\n",
    "            'WAR': column_16\n",
    "        })\n",
    "        \n",
    "        # Sort the data based on column 16 (WAR) in descending order\n",
    "        sorted_data = combined_data.sort_values(by='WAR', ascending=False)\n",
    "        \n",
    "        # Retrieve the top 50 rows based on column 16 (WAR)\n",
    "        top_50 = sorted_data.head(50).reset_index(drop=True)\n",
    "        \n",
    "        return top_50\n",
    "        \n",
    "    except Exception as e:\n",
    "        print(f\"An error occurred: {e}\")\n",
    "        return None\n",
    "\n",
    "def find_names_in_another_csv(names_df, filepath):\n",
    "    try:\n",
    "        # Load the second CSV file\n",
    "        data = pd.read_csv(filepath, encoding='latin1')\n",
    "        \n",
    "        # Extract and rename column 9 (assuming it's named \"WPA\")\n",
    "        column_9 = data.iloc[:, 8].rename(\"WPA\")  # Column 9 (index 8)\n",
    "        \n",
    "        # Combine the relevant columns into a new DataFrame\n",
    "        matching_data = data[[data.columns[1], column_9.name]]  # Column 2 and column 9\n",
    "        matching_data = matching_data.rename(columns={data.columns[1]: \"Player\"})\n",
    "        \n",
    "        # Filter the rows where the names match\n",
    "        matching_rows = names_df.merge(matching_data, on='Player', how='left')\n",
    "        \n",
    "        return matching_rows\n",
    "        \n",
    "    except Exception as e:\n",
    "        print(f\"An error occurred: {e}\")\n",
    "        return None\n",
    "\n",
    "# Load the first CSV and get the top 50 names with their WAR values\n",
    "data = pd.read_csv(\"WAR_2023.csv\", encoding='latin1')\n",
    "top_50 = get_top_50_names(data)\n",
    "\n",
    "if top_50 is not None:\n",
    "    # Find matching names in the second CSV\n",
    "    second_csv_filepath = \"WPA_2023.csv\"\n",
    "    matching_rows = find_names_in_another_csv(top_50, second_csv_filepath)\n",
    "    \n",
    "    if matching_rows is not None and not matching_rows.empty:\n",
    "        print(\"Matching rows found in the second CSV:\")\n",
    "        print(matching_rows)\n",
    "    else:\n",
    "        print(\"No matching rows found or an error occurred.\")\n",
    "else:\n",
    "    print(\"Could not extract top 50 names.\")\n"
   ]
  },
  {
   "cell_type": "code",
   "execution_count": 36,
   "metadata": {},
   "outputs": [
    {
     "name": "stdout",
     "output_type": "stream",
     "text": [
      "Statistics for WPA values of Top 50 WAR Players:\n",
      "Sample Mean: 1.7920000000000003\n",
      "Sample Median: 1.5\n",
      "Sample Variance: 4.406465306122449\n",
      "Sample Standard Deviation: 2.0991582375138966\n",
      "Top 50 WPA values saved to 'top_50_wpa_values.csv'\n",
      "Statistics for WPA saved to 'top_50_wpa_stats.csv'\n"
     ]
    },
    {
     "data": {
      "image/png": "[encoded data removed]",
      "text/plain": [
       "<Figure size 800x600 with 1 Axes>"
      ]
     },
     "metadata": {},
     "output_type": "display_data"
    }
   ],
   "source": [
    "\n",
    "def get_top_50_unique_names(data):\n",
    "    try:\n",
    "        # Extract and rename columns 2 and 16\n",
    "        column_2 = data.iloc[:, 1].rename(\"Player\")  # Column 2 (index 1)\n",
    "        column_16 = data.iloc[:, 15].rename(\"WAR\")  # Column 16 (index 15)\n",
    "        \n",
    "        # Combine the two columns into a new DataFrame\n",
    "        combined_data = pd.DataFrame({\n",
    "            'Player': column_2,\n",
    "            'WAR': column_16\n",
    "        })\n",
    "        \n",
    "        # Sort the data based on column 16 (WAR) in descending order\n",
    "        sorted_data = combined_data.sort_values(by='WAR', ascending=False)\n",
    "        \n",
    "        # Drop duplicates to ensure uniqueness\n",
    "        unique_sorted_data = sorted_data.drop_duplicates(subset='Player').reset_index(drop=True)\n",
    "        \n",
    "        # Retrieve the top 50 unique rows based on column 16 (WAR)\n",
    "        top_50 = unique_sorted_data.head(50)\n",
    "        \n",
    "        return top_50\n",
    "        \n",
    "    except Exception as e:\n",
    "        print(f\"An error occurred: {e}\")\n",
    "        return None\n",
    "\n",
    "def find_wpa_for_top_50_war(top_50_df, filepath):\n",
    "    try:\n",
    "        # Load the second CSV file\n",
    "        data = pd.read_csv(filepath, encoding='latin1')\n",
    "        \n",
    "        # Extract and rename column 9 (assuming it's named \"WPA\")\n",
    "        column_9 = data.iloc[:, 8].rename(\"WPA\")  # Column 9 (index 8)\n",
    "        \n",
    "        # Combine the relevant columns into a new DataFrame\n",
    "        matching_data = pd.DataFrame({\n",
    "            'Player': data.iloc[:, 1],  # Column 2 (index 1)\n",
    "            'WPA': column_9\n",
    "        }).drop_duplicates(subset='Player')  # Drop duplicates to ensure uniqueness\n",
    "        \n",
    "        # Filter the rows where the names match\n",
    "        matching_rows = top_50_df.merge(matching_data, on='Player', how='left')\n",
    "        \n",
    "        return matching_rows\n",
    "        \n",
    "    except Exception as e:\n",
    "        print(f\"An error occurred: {e}\")\n",
    "        return None\n",
    "\n",
    "# Define the path to your CSV file\n",
    "csv_file_path = 'WAR_2023.csv'\n",
    "\n",
    "# Check if the file exists\n",
    "if not os.path.exists(csv_file_path):\n",
    "    raise FileNotFoundError(f\"The file '{csv_file_path}' does not exist.\")\n",
    "\n",
    "try:\n",
    "    # Attempt to read the CSV file with different encodings\n",
    "    try:\n",
    "        data = pd.read_csv(csv_file_path, encoding='utf-8')\n",
    "    except UnicodeDecodeError:\n",
    "        try:\n",
    "            data = pd.read_csv(csv_file_path, encoding='latin1')\n",
    "        except UnicodeDecodeError:\n",
    "            data = pd.read_csv(csv_file_path, encoding='iso-8859-1')\n",
    "except Exception as e:\n",
    "    raise ValueError(f\"Error reading the CSV file: {e}\")\n",
    "\n",
    "# Ensure the CSV file has at least 18 columns\n",
    "if data.shape[1] < 18:\n",
    "    raise ValueError(\"The CSV file does not have at least 18 columns.\")\n",
    "\n",
    "# Get the top 50 unique WAR players\n",
    "top_50 = get_top_50_unique_names(data)\n",
    "\n",
    "if top_50 is not None:\n",
    "    # Find the WPA for the top 50 WAR players in the second CSV\n",
    "    second_csv_filepath = \"WPA_2023.csv\"\n",
    "    matching_rows = find_wpa_for_top_50_war(top_50, second_csv_filepath)\n",
    "    \n",
    "    if matching_rows is not None and not matching_rows.empty:\n",
    "        # Extract the WPA values\n",
    "        wpa_values = matching_rows['WPA'].dropna()\n",
    "\n",
    "        # Compute statistics for WPA values\n",
    "        wpa_mean = wpa_values.mean()\n",
    "        wpa_median = wpa_values.median()\n",
    "        wpa_variance = wpa_values.var()\n",
    "        wpa_std_dev = wpa_values.std()\n",
    "\n",
    "        # Print the statistics for WPA values\n",
    "        print(\"Statistics for WPA values of Top 50 WAR Players:\")\n",
    "        print(\"Sample Mean:\", wpa_mean)\n",
    "        print(\"Sample Median:\", wpa_median)\n",
    "        print(\"Sample Variance:\", wpa_variance)\n",
    "        print(\"Sample Standard Deviation:\", wpa_std_dev)\n",
    "\n",
    "        # Save the WPA values and their statistics to a new CSV file\n",
    "        wpa_values_df = pd.DataFrame({'WPA': wpa_values})\n",
    "        wpa_values_df.to_csv('top_50_wpa_values.csv', index=False)\n",
    "        wpa_stats_df = pd.DataFrame({\n",
    "            'Statistic': ['Sample Mean', 'Sample Median', 'Sample Variance', 'Sample Standard Deviation'],\n",
    "            'Value': [wpa_mean, wpa_median, wpa_variance, wpa_std_dev]\n",
    "        })\n",
    "        wpa_stats_df.to_csv('top_50_wpa_stats.csv', index=False)\n",
    "        print(\"Top 50 WPA values saved to 'top_50_wpa_values.csv'\")\n",
    "        print(\"Statistics for WPA saved to 'top_50_wpa_stats.csv'\")\n",
    "\n",
    "        # Create box plot for WPA values\n",
    "        plt.figure(figsize=(8, 6))\n",
    "        plt.boxplot(wpa_values, vert=False, patch_artist=True, boxprops=dict(facecolor='lightgreen'))\n",
    "        plt.title('WPA for Top 50 WAR Players')\n",
    "        plt.xlabel('WPA')\n",
    "        plt.yticks([])  # Remove the left side numbers\n",
    "        plt.tight_layout()\n",
    "        plt.show()\n",
    "    else:\n",
    "        print(\"No matching rows found or an error occurred.\")\n",
    "else:\n",
    "    print(\"Could not extract top 50 names.\")\n"
   ]
  },
  {
   "cell_type": "code",
   "execution_count": 34,
   "metadata": {},
   "outputs": [
    {
     "name": "stdout",
     "output_type": "stream",
     "text": [
      "Matching rows found in the second CSV:\n",
      "             Player  WAR  WPA\n",
      "0      Tim Anderson -2.0 -4.1\n",
      "1       Jean Segura -1.9 -1.7\n",
      "2      Oscar Colás* -1.5 -2.2\n",
      "3     Gavin Sheets* -1.5 -0.6\n",
      "4   Michael Toglia# -1.5 -1.3\n",
      "..              ...  ...  ...\n",
      "61       Masyn Winn -0.6 -1.1\n",
      "62        Wil Myers -0.6 -1.4\n",
      "63   Hunter Renfroe -0.6 -1.6\n",
      "64   Hunter Renfroe -0.6 -1.2\n",
      "65   Hunter Renfroe -0.6 -0.4\n",
      "\n",
      "[66 rows x 3 columns]\n"
     ]
    }
   ],
   "source": [
    "\n",
    "def get_bottom_50_unique_names(data):\n",
    "    try:\n",
    "        # Extract and rename columns 2 and 16\n",
    "        column_2 = data.iloc[:, 1].rename(\"Player\")  # Column 2 (index 1)\n",
    "        column_16 = data.iloc[:, 15].rename(\"WAR\")  # Column 16 (index 15)\n",
    "        \n",
    "        # Combine the two columns into a new DataFrame\n",
    "        combined_data = pd.DataFrame({\n",
    "            'Player': column_2,\n",
    "            'WAR': column_16\n",
    "        })\n",
    "        \n",
    "        # Sort the data based on column 16 (WAR) in ascending order\n",
    "        sorted_data = combined_data.sort_values(by='WAR', ascending=True)\n",
    "        \n",
    "        # Drop duplicates to ensure uniqueness\n",
    "        unique_sorted_data = sorted_data.drop_duplicates(subset='Player').reset_index(drop=True)\n",
    "        \n",
    "        # Retrieve the bottom 50 unique rows based on column 16 (WAR)\n",
    "        bottom_50 = unique_sorted_data.head(50)\n",
    "        \n",
    "        return bottom_50\n",
    "        \n",
    "    except Exception as e:\n",
    "        print(f\"An error occurred: {e}\")\n",
    "        return None\n",
    "\n",
    "def find_wpa_for_bottom_50_war(bottom_50_df, filepath):\n",
    "    try:\n",
    "        # Load the second CSV file\n",
    "        data = pd.read_csv(filepath, encoding='latin1')\n",
    "        \n",
    "        # Extract and rename column 9 (assuming it's named \"WPA\")\n",
    "        column_9 = data.iloc[:, 8].rename(\"WPA\")  # Column 9 (index 8)\n",
    "        \n",
    "        # Combine the relevant columns into a new DataFrame\n",
    "        matching_data = pd.DataFrame({\n",
    "            'Player': data.iloc[:, 1],  # Column 2 (index 1)\n",
    "            'WPA': column_9\n",
    "        })\n",
    "        \n",
    "        # Filter the rows where the names match\n",
    "        matching_rows = bottom_50_df.merge(matching_data, on='Player', how='left')\n",
    "        \n",
    "        return matching_rows\n",
    "        \n",
    "    except Exception as e:\n",
    "        print(f\"An error occurred: {e}\")\n",
    "        return None\n",
    "\n",
    "# Load the first CSV and get the bottom 50 unique WAR players\n",
    "data = pd.read_csv(\"WAR_2023.csv\", encoding='latin1')\n",
    "bottom_50 = get_bottom_50_unique_names(data)\n",
    "\n",
    "if bottom_50 is not None:\n",
    "    # Find the WPA for the bottom 50 WAR players in the second CSV\n",
    "    second_csv_filepath = \"WPA_2023.csv\"\n",
    "    matching_rows = find_wpa_for_bottom_50_war(bottom_50, second_csv_filepath)\n",
    "    \n",
    "    if matching_rows is not None and not matching_rows.empty:\n",
    "        print(\"Matching rows found in the second CSV:\")\n",
    "        print(matching_rows)\n",
    "    else:\n",
    "        print(\"No matching rows found or an error occurred.\")\n",
    "else:\n",
    "    print(\"Could not extract bottom 50 names.\")\n"
   ]
  },
  {
   "cell_type": "code",
   "execution_count": 37,
   "metadata": {},
   "outputs": [
    {
     "name": "stdout",
     "output_type": "stream",
     "text": [
      "Statistics for WPA values of Bottom 50 WAR Players:\n",
      "Sample Mean: -1.158\n",
      "Sample Median: -1.15\n",
      "Sample Variance: 0.5759551020408162\n",
      "Sample Standard Deviation: 0.7589170587362075\n",
      "Bottom 50 WPA values saved to 'bottom_50_wpa_values.csv'\n",
      "Statistics for WPA saved to 'bottom_50_wpa_stats.csv'\n"
     ]
    },
    {
     "data": {
      "image/png": "[encoded data removed]",
      "text/plain": [
       "<Figure size 800x600 with 1 Axes>"
      ]
     },
     "metadata": {},
     "output_type": "display_data"
    }
   ],
   "source": [
    "import pandas as pd\n",
    "import matplotlib.pyplot as plt\n",
    "import os\n",
    "\n",
    "def get_bottom_50_unique_names(data):\n",
    "    try:\n",
    "        # Extract and rename columns 2 and 16\n",
    "        column_2 = data.iloc[:, 1].rename(\"Player\")  # Column 2 (index 1)\n",
    "        column_16 = data.iloc[:, 15].rename(\"WAR\")  # Column 16 (index 15)\n",
    "        \n",
    "        # Combine the two columns into a new DataFrame\n",
    "        combined_data = pd.DataFrame({\n",
    "            'Player': column_2,\n",
    "            'WAR': column_16\n",
    "        })\n",
    "        \n",
    "        # Sort the data based on column 16 (WAR) in ascending order\n",
    "        sorted_data = combined_data.sort_values(by='WAR', ascending=True)\n",
    "        \n",
    "        # Drop duplicates to ensure uniqueness\n",
    "        unique_sorted_data = sorted_data.drop_duplicates(subset='Player').reset_index(drop=True)\n",
    "        \n",
    "        # Retrieve the bottom 50 unique rows based on column 16 (WAR)\n",
    "        bottom_50 = unique_sorted_data.head(50)\n",
    "        \n",
    "        return bottom_50\n",
    "        \n",
    "    except Exception as e:\n",
    "        print(f\"An error occurred: {e}\")\n",
    "        return None\n",
    "\n",
    "def find_wpa_for_bottom_50_war(bottom_50_df, filepath):\n",
    "    try:\n",
    "        # Load the second CSV file\n",
    "        data = pd.read_csv(filepath, encoding='latin1')\n",
    "        \n",
    "        # Extract and rename column 9 (assuming it's named \"WPA\")\n",
    "        column_9 = data.iloc[:, 8].rename(\"WPA\")  # Column 9 (index 8)\n",
    "        \n",
    "        # Combine the relevant columns into a new DataFrame\n",
    "        matching_data = pd.DataFrame({\n",
    "            'Player': data.iloc[:, 1],  # Column 2 (index 1)\n",
    "            'WPA': column_9\n",
    "        }).drop_duplicates(subset='Player')  # Drop duplicates to ensure uniqueness\n",
    "        \n",
    "        # Filter the rows where the names match\n",
    "        matching_rows = bottom_50_df.merge(matching_data, on='Player', how='left')\n",
    "        \n",
    "        return matching_rows\n",
    "        \n",
    "    except Exception as e:\n",
    "        print(f\"An error occurred: {e}\")\n",
    "        return None\n",
    "\n",
    "# Define the path to your CSV file\n",
    "csv_file_path = 'WAR_2023.csv'\n",
    "\n",
    "# Check if the file exists\n",
    "if not os.path.exists(csv_file_path):\n",
    "    raise FileNotFoundError(f\"The file '{csv_file_path}' does not exist.\")\n",
    "\n",
    "try:\n",
    "    # Attempt to read the CSV file with different encodings\n",
    "    try:\n",
    "        data = pd.read_csv(csv_file_path, encoding='utf-8')\n",
    "    except UnicodeDecodeError:\n",
    "        try:\n",
    "            data = pd.read_csv(csv_file_path, encoding='latin1')\n",
    "        except UnicodeDecodeError:\n",
    "            data = pd.read_csv(csv_file_path, encoding='iso-8859-1')\n",
    "except Exception as e:\n",
    "    raise ValueError(f\"Error reading the CSV file: {e}\")\n",
    "\n",
    "# Ensure the CSV file has at least 18 columns\n",
    "if data.shape[1] < 18:\n",
    "    raise ValueError(\"The CSV file does not have at least 18 columns.\")\n",
    "\n",
    "# Get the bottom 50 unique WAR players\n",
    "bottom_50 = get_bottom_50_unique_names(data)\n",
    "\n",
    "if bottom_50 is not None:\n",
    "    # Find the WPA for the bottom 50 WAR players in the second CSV\n",
    "    second_csv_filepath = \"WPA_2023.csv\"\n",
    "    matching_rows = find_wpa_for_bottom_50_war(bottom_50, second_csv_filepath)\n",
    "    \n",
    "    if matching_rows is not None and not matching_rows.empty:\n",
    "        # Extract the WPA values\n",
    "        wpa_values = matching_rows['WPA'].dropna()\n",
    "\n",
    "        # Compute statistics for WPA values\n",
    "        wpa_mean = wpa_values.mean()\n",
    "        wpa_median = wpa_values.median()\n",
    "        wpa_variance = wpa_values.var()\n",
    "        wpa_std_dev = wpa_values.std()\n",
    "\n",
    "        # Print the statistics for WPA values\n",
    "        print(\"Statistics for WPA values of Bottom 50 WAR Players:\")\n",
    "        print(\"Sample Mean:\", wpa_mean)\n",
    "        print(\"Sample Median:\", wpa_median)\n",
    "        print(\"Sample Variance:\", wpa_variance)\n",
    "        print(\"Sample Standard Deviation:\", wpa_std_dev)\n",
    "\n",
    "        # Save the WPA values and their statistics to a new CSV file\n",
    "        wpa_values_df = pd.DataFrame({'WPA': wpa_values})\n",
    "        wpa_values_df.to_csv('bottom_50_wpa_values.csv', index=False)\n",
    "        wpa_stats_df = pd.DataFrame({\n",
    "            'Statistic': ['Sample Mean', 'Sample Median', 'Sample Variance', 'Sample Standard Deviation'],\n",
    "            'Value': [wpa_mean, wpa_median, wpa_variance, wpa_std_dev]\n",
    "        })\n",
    "        wpa_stats_df.to_csv('bottom_50_wpa_stats.csv', index=False)\n",
    "        print(\"Bottom 50 WPA values saved to 'bottom_50_wpa_values.csv'\")\n",
    "        print(\"Statistics for WPA saved to 'bottom_50_wpa_stats.csv'\")\n",
    "\n",
    "        # Create box plot for WPA values\n",
    "        plt.figure(figsize=(8, 6))\n",
    "        plt.boxplot(wpa_values, vert=False, patch_artist=True, boxprops=dict(facecolor='lightgreen'))\n",
    "        plt.title('WPA for Bottom 50 WAR Players')\n",
    "        plt.xlabel('WPA')\n",
    "        plt.yticks([])  # Remove the left side numbers\n",
    "        plt.tight_layout()\n",
    "        plt.show()\n",
    "    else:\n",
    "        print(\"No matching rows found or an error occurred.\")\n",
    "else:\n",
    "    print(\"Could not extract bottom 50 names.\")\n"
   ]
  },
  {
   "cell_type": "markdown",
   "metadata": {},
   "source": [
    "$μ_2$ = war and  $μ_1$ = wpi \n",
    "\n",
    "this formula does this this and this\n",
    "will explain this this and this\n",
    "\n",
    "this is how ive applied it to my two datasets\n",
    "\n",
    "show box plot\n"
   ]
  },
  {
   "cell_type": "markdown",
   "metadata": {},
   "source": [
    "# Hypothesis Tests - Results and Discusssion"
   ]
  },
  {
   "cell_type": "markdown",
   "metadata": {},
   "source": [
    "To determine whether there is a correlation between WAR and winning percentage and WPA, a pooled variance t-test must be implemented, this is due to the ratio of the variances being less than three, as seen in Figures 2 and 3. This calculation assumes that the population data is not heavily skewed. The calculation of the test statistic (t) is calculated using:"
   ]
  },
  {
   "cell_type": "markdown",
   "metadata": {},
   "source": [
    "$\\bar{X_1} =  51.9$\n",
    "\n",
    "$\\bar{X_2} =  48.9$\n",
    "\n",
    "$S_1 =  0.423$\n",
    "\n",
    "$S_2 =  0.168$\n",
    "\n",
    "$n_1 = 50$\n",
    "\n",
    "$n_2 = 50$\n"
   ]
  },
  {
   "cell_type": "markdown",
   "metadata": {},
   "source": [
    "Using those values, t can be found:"
   ]
  },
  {
   "cell_type": "markdown",
   "metadata": {},
   "source": [
    "$t = \\frac{(\\bar{X_1} - \\bar{X_2}) - (\\mu_1 - \\mu_2)}{\\sqrt{s_p^2 \\left(\\frac{1}{n_1} + \\frac{1}{n_2}\\right)}}$\n"
   ]
  },
  {
   "cell_type": "markdown",
   "metadata": {},
   "source": [
    "Where:"
   ]
  },
  {
   "cell_type": "markdown",
   "metadata": {},
   "source": [
    "$s_p^2 = \\frac{(n_1 - 1) s_1^2 + (n_2 - 1) s_2^2}{(n_1 - 1) + (n_2 - 1)}$\n"
   ]
  },
  {
   "cell_type": "code",
   "execution_count": 60,
   "metadata": {},
   "outputs": [
    {
     "name": "stdout",
     "output_type": "stream",
     "text": [
      "The calculated t-value is: 46.60801889103182\n"
     ]
    }
   ],
   "source": [
    "# Given values\n",
    "X1_bar = 51.9\n",
    "X2_bar = 48.9\n",
    "S1 = 0.423\n",
    "S2 = 0.168\n",
    "n1 = 50\n",
    "n2 = 50\n",
    "\n",
    "# Calculating s_p^2\n",
    "s_p2 = ((n1 - 1) * S1**2 + (n2 - 1) * S2**2) / ((n1 - 1) + (n2 - 1))\n",
    "\n",
    "# Calculating t\n",
    "mu1_minus_mu2 = 0  # Assuming (μ1 - μ2) = 0 for the null hypothesis\n",
    "t = (X1_bar - X2_bar - mu1_minus_mu2) / ((s_p2 * (1/n1 + 1/n2)) ** 0.5)\n",
    "\n",
    "# Output the result\n",
    "print(f\"The calculated t-value is: {t}\")\n"
   ]
  },
  {
   "cell_type": "markdown",
   "metadata": {},
   "source": [
    "As the test statistic follows a $ n1+n2-2 $ distribution, the degrees of freedom = "
   ]
  },
  {
   "cell_type": "markdown",
   "metadata": {},
   "source": [
    "$n_1+n_2-2;   50+50-2$"
   ]
  },
  {
   "cell_type": "markdown",
   "metadata": {},
   "source": [
    "If we assume that the significance level α = 0.05, the critical value is:\n",
    "\n",
    "\n"
   ]
  },
  {
   "cell_type": "markdown",
   "metadata": {},
   "source": [
    "±*t* 46.59 = ±1.984"
   ]
  },
  {
   "cell_type": "markdown",
   "metadata": {},
   "source": [
    "\n",
    "For this example of WAR and team winning percentage, we reject the null hypothesis \\(H_0\\) if \\(t > 1.984\\) or \\(t < -1.984\\). As \\(46.59\\) is greater than \\(1.984\\), we reject the null hypothesis in favour of the alternative hypothesis \\(H_A\\). The p-value tells us how likely it is for the data obtained to occur under the null hypothesis (Bevans, 2022). To find the p-value, Excel’s `T.DIST` function will be utilized, using \\(t = 46.59\\) and degrees of freedom = 98. Therefore, the p-value is extremely small, essentially zero, indicating a significant difference between the means.\n"
   ]
  },
  {
   "cell_type": "markdown",
   "metadata": {},
   "source": [
    "\n",
    "Using $\\alpha = 0.05$, a confidence interval of 95% must be constructed:\n",
    "\n",
    "$(51.9 - 48.9) \\pm 1.984 \\sqrt{s_p^2 \\left(\\frac{1}{50} + \\frac{1}{50}\\right)}$"
   ]
  },
  {
   "cell_type": "markdown",
   "metadata": {},
   "source": [
    "We are therefore 95% confident that the mean value of team winning percentage is between 2.87229 and 3.12771."
   ]
  },
  {
   "cell_type": "markdown",
   "metadata": {},
   "source": [
    "The second hypothesis test that will be carried out is between WAR and WPA. It will follow a pooled variance t-test:"
   ]
  },
  {
   "cell_type": "markdown",
   "metadata": {},
   "source": [
    "$\\bar{X}_1 = 1.792$, $\\bar{X}_2 = -1.158$, $S_1 = 2.099$, $S_2 = 0.759$, $n_1 = 50$, $n_2 = 50$\n"
   ]
  },
  {
   "cell_type": "markdown",
   "metadata": {},
   "source": [
    "Using the above values, t can be found "
   ]
  },
  {
   "cell_type": "code",
   "execution_count": 3,
   "metadata": {},
   "outputs": [
    {
     "name": "stdout",
     "output_type": "stream",
     "text": [
      "The calculated t-value is: 9.345666943853194\n"
     ]
    }
   ],
   "source": [
    "# Given values\n",
    "X1_bar = 1.792\n",
    "X2_bar = -1.158\n",
    "S1 = 2.099\n",
    "S2 = 0.759\n",
    "n1 = 50\n",
    "n2 = 50\n",
    "\n",
    "# Calculating s_p^2\n",
    "s_p2 = ((n1 - 1) * S1**2 + (n2 - 1) * S2**2) / ((n1 - 1) + (n2 - 1))\n",
    "\n",
    "# Calculating t\n",
    "mu1_minus_mu2 = 0  # Assuming (μ1 - μ2) = 0 for the null hypothesis\n",
    "t = (X1_bar - X2_bar - mu1_minus_mu2) / ((s_p2 * (1/n1 + 1/n2)) ** 0.5)\n",
    "\n",
    "# Output the result\n",
    "print(f\"The calculated t-value is: {t}\")\n"
   ]
  },
  {
   "cell_type": "markdown",
   "metadata": {},
   "source": [
    "Assuming $\\alpha = 0.05$ and the degrees of freedom = 98, the critical value is:"
   ]
  },
  {
   "cell_type": "code",
   "execution_count": 16,
   "metadata": {},
   "outputs": [
    {
     "name": "stdout",
     "output_type": "stream",
     "text": [
      "The critical t-value is: 1.9845\n"
     ]
    }
   ],
   "source": [
    "from scipy.stats import t\n",
    "\n",
    "# Given values\n",
    "alpha = 0.05\n",
    "df = 98\n",
    "\n",
    "# Calculating the critical t-value for a two-tailed test\n",
    "critical_value = t.ppf(1 - alpha / 2, df)\n",
    "\n",
    "print(f\"The critical t-value is: {critical_value:.4f}\")\n"
   ]
  },
  {
   "cell_type": "markdown",
   "metadata": {},
   "source": [
    "±*t* 98,0.05 = ± 1.9845"
   ]
  },
  {
   "cell_type": "code",
   "execution_count": null,
   "metadata": {},
   "outputs": [],
   "source": []
  },
  {
   "cell_type": "markdown",
   "metadata": {},
   "source": [
    "In this example of WAR and WPA, we reject the null hypothesis if $t > 1.984$ or $t < -1.984$. As $9.35$ is greater than $1.984$, we reject the null hypothesis, $H_0$, in favour of the alternative hypothesis of $H_A$. To calculate the p-value, the same T.DIST Excel function is implemented. The p-value $= 1.27 \\times 10^{-12}$, which $\\approx 0$.\n"
   ]
  },
  {
   "cell_type": "markdown",
   "metadata": {},
   "source": [
    "Using $\\alpha = 0.05$, a confidence interval of 95% must be constructed:"
   ]
  },
  {
   "cell_type": "markdown",
   "metadata": {},
   "source": [
    "$(1.792 - (-1.158)) \\pm 9.35 \\sqrt{\\left(\\frac{1}{50} + \\frac{1}{50}\\right)}$\n"
   ]
  },
  {
   "cell_type": "markdown",
   "metadata": {},
   "source": [
    "we are 95% confident that the mean scores of WPA will be between 1.08 and 4.82"
   ]
  }
 ],
 "metadata": {
  "kernelspec": {
   "display_name": "Python 3",
   "language": "python",
   "name": "python3"
  },
  "language_info": {
   "codemirror_mode": {
    "name": "ipython",
    "version": 3
   },
   "file_extension": ".py",
   "mimetype": "text/x-python",
   "name": "python",
   "nbconvert_exporter": "python",
   "pygments_lexer": "ipython3",
   "version": "3.12.4"
  }
 },
 "nbformat": 4,
 "nbformat_minor": 2
}
