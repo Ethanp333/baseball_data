{
 "cells": [
  {
   "cell_type": "markdown",
   "metadata": {
    "editable": true,
    "slideshow": {
     "slide_type": "slide"
    },
    "tags": []
   },
   "source": [
    "# Pandas"
   ]
  },
  {
   "cell_type": "markdown",
   "metadata": {
    "editable": true,
    "slideshow": {
     "slide_type": "subslide"
    },
    "tags": []
   },
   "source": [
    "This notebook will dicuss the relationship between an individuals major league baseball player's Wins Above Replacement, or WAR, and the winning percentage,season outcome and Win Probability Added to the team played on."
   ]
  },
  {
   "cell_type": "markdown",
   "metadata": {
    "slideshow": {
     "slide_type": "slide"
    }
   },
   "source": [
    "`imports`, you've seen this before!"
   ]
  },
  {
   "cell_type": "code",
   "execution_count": 2,
   "metadata": {
    "slideshow": {
     "slide_type": "-"
    }
   },
   "outputs": [],
   "source": [
    "import matplotlib\n",
    "import matplotlib.pyplot as plt\n",
    "import numpy as np\n",
    "import pandas as pd\n",
    "import os\n",
    "import openpyxl\n",
    "import xlrd\n",
    "from datetime import datetime\n"
   ]
  },
  {
   "cell_type": "markdown",
   "metadata": {
    "slideshow": {
     "slide_type": "fragment"
    }
   },
   "source": [
    "Some magic that tells jupyter to put graphs and things in the notebook instead of the default behaviour which is to save it as a file."
   ]
  },
  {
   "cell_type": "code",
   "execution_count": 6,
   "metadata": {
    "slideshow": {
     "slide_type": "-"
    }
   },
   "outputs": [],
   "source": [
    "%matplotlib inline"
   ]
  },
  {
   "cell_type": "markdown",
   "metadata": {},
   "source": [
    "Set the size of the plots that will come out when we ask for them. Annoyingly, these are in inches. Whatever an \"inch\" is"
   ]
  },
  {
   "cell_type": "code",
   "execution_count": 3,
   "metadata": {},
   "outputs": [],
   "source": [
    "plt.rcParams[\"figure.figsize\"] = (10, 5)\n"
   ]
  },
  {
   "cell_type": "markdown",
   "metadata": {},
   "source": [
    "The null hypothesis of this report will be there that an individual’s ability to accumulate high WAR in a season will have little impact on the winning percentage of their team (1). Thereby, a player with a low WAR season has the same impact (2)."
   ]
  },
  {
   "cell_type": "code",
   "execution_count": 7,
   "metadata": {},
   "outputs": [
    {
     "name": "stdout",
     "output_type": "stream",
     "text": [
      "H0:  Eq(mu1, mu2)\n",
      "or\n",
      "H0:  Eq(mu1 - mu2, 0)\n"
     ]
    }
   ],
   "source": [
    "from sympy import symbols, Eq\n",
    "\n",
    "# Define the symbols\n",
    "mu1, mu2 = symbols('mu1 mu2')\n",
    "\n",
    "# Define the null hypothesis equations\n",
    "H0_1 = Eq(mu1, mu2)\n",
    "H0_2 = Eq(mu1 - mu2, 0)\n",
    "\n",
    "# Display the equations\n",
    "print(\"H0: \", H0_1)\n",
    "print(\"or\")\n",
    "print(\"H0: \", H0_2)\n"
   ]
  },
  {
   "cell_type": "markdown",
   "metadata": {},
   "source": [
    "The alternative hypothesis is that the higher or lower WAR gathered by a player will positively or negatively impact their team’s ability to win respectively:"
   ]
  },
  {
   "cell_type": "code",
   "execution_count": 8,
   "metadata": {},
   "outputs": [
    {
     "name": "stdout",
     "output_type": "stream",
     "text": [
      "H_A:  Ne(mu1, mu2)\n",
      "or\n",
      "H_A:  Ne(mu1 - mu2, 0)\n"
     ]
    }
   ],
   "source": [
    "from sympy import symbols, Ne\n",
    "\n",
    "# Define the symbols\n",
    "mu1, mu2 = symbols('mu1 mu2')\n",
    "\n",
    "# Define the alternative hypothesis equations\n",
    "HA_1 = Ne(mu1, mu2)\n",
    "HA_2 = Ne(mu1 - mu2, 0)\n",
    "\n",
    "# Display the equations\n",
    "print(\"H_A: \", HA_1)\n",
    "print(\"or\")\n",
    "print(\"H_A: \", HA_2)\n"
   ]
  },
  {
   "cell_type": "markdown",
   "metadata": {},
   "source": [
    "The second null hypothesis this report will cover is the relationship between a player’s WAR, and the Win Probability Added (WPA) they accumulate over a season. It will follow the same (H0) and (HA) previously stated. "
   ]
  },
  {
   "cell_type": "code",
   "execution_count": 9,
   "metadata": {
    "slideshow": {
     "slide_type": "skip"
    }
   },
   "outputs": [],
   "source": [
    "saved_style_state = matplotlib.rcParams.copy()  # give us a style state to go back to\n"
   ]
  },
  {
   "cell_type": "markdown",
   "metadata": {
    "slideshow": {
     "slide_type": "slide"
    }
   },
   "source": [
    "Let's check to see if we've already downloaded the data. It's a big file, so we don't want to do it every time we run the code. Even just loading from file takes a few seconds!\n",
    "\n",
    "Pandas is pretty smart, it can get data from the internet just as easily as from the file system, it just takes a bit longer.\n"
   ]
  },
  {
   "cell_type": "code",
   "execution_count": 10,
   "metadata": {
    "slideshow": {
     "slide_type": "fragment"
    }
   },
   "outputs": [
    {
     "name": "stdout",
     "output_type": "stream",
     "text": [
      "Loading from file\n",
      "Done\n"
     ]
    }
   ],
   "source": [
    "import os\n",
    "import pandas as pd\n",
    "import requests\n",
    "\n",
    "# Check if the file exists locally\n",
    "if os.path.isfile(\"WAR_history.csv\"):\n",
    "    filepath = \"WAR_history.csv\"\n",
    "    print(\"Loading from file\")\n",
    "    try:\n",
    "        War_history = pd.read_csv(filepath, encoding='utf-8')\n",
    "    except UnicodeDecodeError:\n",
    "        War_history = pd.read_csv(filepath, encoding='latin1')\n",
    "else:\n",
    "    filepath = \"https://www.baseball-reference.com/leaders/WAR_progress.shtml\"\n",
    "    print(\"Loading from the internet\")\n",
    "    \n",
    "    # Use requests to fetch the data\n",
    "    response = requests.get(filepath)\n",
    "    if response.status_code == 200:\n",
    "        # Parse the HTML content using pandas\n",
    "        try:\n",
    "            War_history = pd.read_html(response.text)[0]\n",
    "            \n",
    "            # Save the data to a CSV file for future use\n",
    "            War_history.to_csv(\"WAR_history.csv\", index=False, encoding='utf-8')\n",
    "        except ValueError:\n",
    "            print(\"Failed to parse HTML content\")\n",
    "            War_history = None\n",
    "    else:\n",
    "        print(\"Failed to retrieve data from the internet\")\n",
    "        War_history = None\n",
    "\n",
    "if War_history is not None:\n",
    "    print(\"Done\")\n",
    "else:\n",
    "    print(\"Data not available\")\n",
    "\n"
   ]
  },
  {
   "cell_type": "code",
   "execution_count": 11,
   "metadata": {},
   "outputs": [
    {
     "name": "stdout",
     "output_type": "stream",
     "text": [
      "loading from the internet\n"
     ]
    },
    {
     "ename": "URLError",
     "evalue": "<urlopen error [WinError 10060] A connection attempt failed because the connected party did not properly respond after a period of time, or established connection failed because connected host has failed to respond>",
     "output_type": "error",
     "traceback": [
      "\u001b[1;31m---------------------------------------------------------------------------\u001b[0m",
      "\u001b[1;31mTimeoutError\u001b[0m                              Traceback (most recent call last)",
      "File \u001b[1;32mC:\\Program Files\\WindowsApps\\PythonSoftwareFoundation.Python.3.12_3.12.1264.0_x64__qbz5n2kfra8p0\\Lib\\urllib\\request.py:1344\u001b[0m, in \u001b[0;36mAbstractHTTPHandler.do_open\u001b[1;34m(self, http_class, req, **http_conn_args)\u001b[0m\n\u001b[0;32m   1343\u001b[0m \u001b[38;5;28;01mtry\u001b[39;00m:\n\u001b[1;32m-> 1344\u001b[0m     \u001b[43mh\u001b[49m\u001b[38;5;241;43m.\u001b[39;49m\u001b[43mrequest\u001b[49m\u001b[43m(\u001b[49m\u001b[43mreq\u001b[49m\u001b[38;5;241;43m.\u001b[39;49m\u001b[43mget_method\u001b[49m\u001b[43m(\u001b[49m\u001b[43m)\u001b[49m\u001b[43m,\u001b[49m\u001b[43m \u001b[49m\u001b[43mreq\u001b[49m\u001b[38;5;241;43m.\u001b[39;49m\u001b[43mselector\u001b[49m\u001b[43m,\u001b[49m\u001b[43m \u001b[49m\u001b[43mreq\u001b[49m\u001b[38;5;241;43m.\u001b[39;49m\u001b[43mdata\u001b[49m\u001b[43m,\u001b[49m\u001b[43m \u001b[49m\u001b[43mheaders\u001b[49m\u001b[43m,\u001b[49m\n\u001b[0;32m   1345\u001b[0m \u001b[43m              \u001b[49m\u001b[43mencode_chunked\u001b[49m\u001b[38;5;241;43m=\u001b[39;49m\u001b[43mreq\u001b[49m\u001b[38;5;241;43m.\u001b[39;49m\u001b[43mhas_header\u001b[49m\u001b[43m(\u001b[49m\u001b[38;5;124;43m'\u001b[39;49m\u001b[38;5;124;43mTransfer-encoding\u001b[39;49m\u001b[38;5;124;43m'\u001b[39;49m\u001b[43m)\u001b[49m\u001b[43m)\u001b[49m\n\u001b[0;32m   1346\u001b[0m \u001b[38;5;28;01mexcept\u001b[39;00m \u001b[38;5;167;01mOSError\u001b[39;00m \u001b[38;5;28;01mas\u001b[39;00m err: \u001b[38;5;66;03m# timeout error\u001b[39;00m\n",
      "File \u001b[1;32mC:\\Program Files\\WindowsApps\\PythonSoftwareFoundation.Python.3.12_3.12.1264.0_x64__qbz5n2kfra8p0\\Lib\\http\\client.py:1336\u001b[0m, in \u001b[0;36mHTTPConnection.request\u001b[1;34m(self, method, url, body, headers, encode_chunked)\u001b[0m\n\u001b[0;32m   1335\u001b[0m \u001b[38;5;250m\u001b[39m\u001b[38;5;124;03m\"\"\"Send a complete request to the server.\"\"\"\u001b[39;00m\n\u001b[1;32m-> 1336\u001b[0m \u001b[38;5;28;43mself\u001b[39;49m\u001b[38;5;241;43m.\u001b[39;49m\u001b[43m_send_request\u001b[49m\u001b[43m(\u001b[49m\u001b[43mmethod\u001b[49m\u001b[43m,\u001b[49m\u001b[43m \u001b[49m\u001b[43murl\u001b[49m\u001b[43m,\u001b[49m\u001b[43m \u001b[49m\u001b[43mbody\u001b[49m\u001b[43m,\u001b[49m\u001b[43m \u001b[49m\u001b[43mheaders\u001b[49m\u001b[43m,\u001b[49m\u001b[43m \u001b[49m\u001b[43mencode_chunked\u001b[49m\u001b[43m)\u001b[49m\n",
      "File \u001b[1;32mC:\\Program Files\\WindowsApps\\PythonSoftwareFoundation.Python.3.12_3.12.1264.0_x64__qbz5n2kfra8p0\\Lib\\http\\client.py:1382\u001b[0m, in \u001b[0;36mHTTPConnection._send_request\u001b[1;34m(self, method, url, body, headers, encode_chunked)\u001b[0m\n\u001b[0;32m   1381\u001b[0m     body \u001b[38;5;241m=\u001b[39m _encode(body, \u001b[38;5;124m'\u001b[39m\u001b[38;5;124mbody\u001b[39m\u001b[38;5;124m'\u001b[39m)\n\u001b[1;32m-> 1382\u001b[0m \u001b[38;5;28;43mself\u001b[39;49m\u001b[38;5;241;43m.\u001b[39;49m\u001b[43mendheaders\u001b[49m\u001b[43m(\u001b[49m\u001b[43mbody\u001b[49m\u001b[43m,\u001b[49m\u001b[43m \u001b[49m\u001b[43mencode_chunked\u001b[49m\u001b[38;5;241;43m=\u001b[39;49m\u001b[43mencode_chunked\u001b[49m\u001b[43m)\u001b[49m\n",
      "File \u001b[1;32mC:\\Program Files\\WindowsApps\\PythonSoftwareFoundation.Python.3.12_3.12.1264.0_x64__qbz5n2kfra8p0\\Lib\\http\\client.py:1331\u001b[0m, in \u001b[0;36mHTTPConnection.endheaders\u001b[1;34m(self, message_body, encode_chunked)\u001b[0m\n\u001b[0;32m   1330\u001b[0m     \u001b[38;5;28;01mraise\u001b[39;00m CannotSendHeader()\n\u001b[1;32m-> 1331\u001b[0m \u001b[38;5;28;43mself\u001b[39;49m\u001b[38;5;241;43m.\u001b[39;49m\u001b[43m_send_output\u001b[49m\u001b[43m(\u001b[49m\u001b[43mmessage_body\u001b[49m\u001b[43m,\u001b[49m\u001b[43m \u001b[49m\u001b[43mencode_chunked\u001b[49m\u001b[38;5;241;43m=\u001b[39;49m\u001b[43mencode_chunked\u001b[49m\u001b[43m)\u001b[49m\n",
      "File \u001b[1;32mC:\\Program Files\\WindowsApps\\PythonSoftwareFoundation.Python.3.12_3.12.1264.0_x64__qbz5n2kfra8p0\\Lib\\http\\client.py:1091\u001b[0m, in \u001b[0;36mHTTPConnection._send_output\u001b[1;34m(self, message_body, encode_chunked)\u001b[0m\n\u001b[0;32m   1090\u001b[0m \u001b[38;5;28;01mdel\u001b[39;00m \u001b[38;5;28mself\u001b[39m\u001b[38;5;241m.\u001b[39m_buffer[:]\n\u001b[1;32m-> 1091\u001b[0m \u001b[38;5;28;43mself\u001b[39;49m\u001b[38;5;241;43m.\u001b[39;49m\u001b[43msend\u001b[49m\u001b[43m(\u001b[49m\u001b[43mmsg\u001b[49m\u001b[43m)\u001b[49m\n\u001b[0;32m   1093\u001b[0m \u001b[38;5;28;01mif\u001b[39;00m message_body \u001b[38;5;129;01mis\u001b[39;00m \u001b[38;5;129;01mnot\u001b[39;00m \u001b[38;5;28;01mNone\u001b[39;00m:\n\u001b[0;32m   1094\u001b[0m \n\u001b[0;32m   1095\u001b[0m     \u001b[38;5;66;03m# create a consistent interface to message_body\u001b[39;00m\n",
      "File \u001b[1;32mC:\\Program Files\\WindowsApps\\PythonSoftwareFoundation.Python.3.12_3.12.1264.0_x64__qbz5n2kfra8p0\\Lib\\http\\client.py:1035\u001b[0m, in \u001b[0;36mHTTPConnection.send\u001b[1;34m(self, data)\u001b[0m\n\u001b[0;32m   1034\u001b[0m \u001b[38;5;28;01mif\u001b[39;00m \u001b[38;5;28mself\u001b[39m\u001b[38;5;241m.\u001b[39mauto_open:\n\u001b[1;32m-> 1035\u001b[0m     \u001b[38;5;28;43mself\u001b[39;49m\u001b[38;5;241;43m.\u001b[39;49m\u001b[43mconnect\u001b[49m\u001b[43m(\u001b[49m\u001b[43m)\u001b[49m\n\u001b[0;32m   1036\u001b[0m \u001b[38;5;28;01melse\u001b[39;00m:\n",
      "File \u001b[1;32mC:\\Program Files\\WindowsApps\\PythonSoftwareFoundation.Python.3.12_3.12.1264.0_x64__qbz5n2kfra8p0\\Lib\\http\\client.py:1001\u001b[0m, in \u001b[0;36mHTTPConnection.connect\u001b[1;34m(self)\u001b[0m\n\u001b[0;32m   1000\u001b[0m sys\u001b[38;5;241m.\u001b[39maudit(\u001b[38;5;124m\"\u001b[39m\u001b[38;5;124mhttp.client.connect\u001b[39m\u001b[38;5;124m\"\u001b[39m, \u001b[38;5;28mself\u001b[39m, \u001b[38;5;28mself\u001b[39m\u001b[38;5;241m.\u001b[39mhost, \u001b[38;5;28mself\u001b[39m\u001b[38;5;241m.\u001b[39mport)\n\u001b[1;32m-> 1001\u001b[0m \u001b[38;5;28mself\u001b[39m\u001b[38;5;241m.\u001b[39msock \u001b[38;5;241m=\u001b[39m \u001b[38;5;28;43mself\u001b[39;49m\u001b[38;5;241;43m.\u001b[39;49m\u001b[43m_create_connection\u001b[49m\u001b[43m(\u001b[49m\n\u001b[0;32m   1002\u001b[0m \u001b[43m    \u001b[49m\u001b[43m(\u001b[49m\u001b[38;5;28;43mself\u001b[39;49m\u001b[38;5;241;43m.\u001b[39;49m\u001b[43mhost\u001b[49m\u001b[43m,\u001b[49m\u001b[38;5;28;43mself\u001b[39;49m\u001b[38;5;241;43m.\u001b[39;49m\u001b[43mport\u001b[49m\u001b[43m)\u001b[49m\u001b[43m,\u001b[49m\u001b[43m \u001b[49m\u001b[38;5;28;43mself\u001b[39;49m\u001b[38;5;241;43m.\u001b[39;49m\u001b[43mtimeout\u001b[49m\u001b[43m,\u001b[49m\u001b[43m \u001b[49m\u001b[38;5;28;43mself\u001b[39;49m\u001b[38;5;241;43m.\u001b[39;49m\u001b[43msource_address\u001b[49m\u001b[43m)\u001b[49m\n\u001b[0;32m   1003\u001b[0m \u001b[38;5;66;03m# Might fail in OSs that don't implement TCP_NODELAY\u001b[39;00m\n",
      "File \u001b[1;32mC:\\Program Files\\WindowsApps\\PythonSoftwareFoundation.Python.3.12_3.12.1264.0_x64__qbz5n2kfra8p0\\Lib\\socket.py:853\u001b[0m, in \u001b[0;36mcreate_connection\u001b[1;34m(address, timeout, source_address, all_errors)\u001b[0m\n\u001b[0;32m    852\u001b[0m \u001b[38;5;28;01mif\u001b[39;00m \u001b[38;5;129;01mnot\u001b[39;00m all_errors:\n\u001b[1;32m--> 853\u001b[0m     \u001b[38;5;28;01mraise\u001b[39;00m exceptions[\u001b[38;5;241m0\u001b[39m]\n\u001b[0;32m    854\u001b[0m \u001b[38;5;28;01mraise\u001b[39;00m ExceptionGroup(\u001b[38;5;124m\"\u001b[39m\u001b[38;5;124mcreate_connection failed\u001b[39m\u001b[38;5;124m\"\u001b[39m, exceptions)\n",
      "File \u001b[1;32mC:\\Program Files\\WindowsApps\\PythonSoftwareFoundation.Python.3.12_3.12.1264.0_x64__qbz5n2kfra8p0\\Lib\\socket.py:838\u001b[0m, in \u001b[0;36mcreate_connection\u001b[1;34m(address, timeout, source_address, all_errors)\u001b[0m\n\u001b[0;32m    837\u001b[0m     sock\u001b[38;5;241m.\u001b[39mbind(source_address)\n\u001b[1;32m--> 838\u001b[0m \u001b[43msock\u001b[49m\u001b[38;5;241;43m.\u001b[39;49m\u001b[43mconnect\u001b[49m\u001b[43m(\u001b[49m\u001b[43msa\u001b[49m\u001b[43m)\u001b[49m\n\u001b[0;32m    839\u001b[0m \u001b[38;5;66;03m# Break explicitly a reference cycle\u001b[39;00m\n",
      "\u001b[1;31mTimeoutError\u001b[0m: [WinError 10060] A connection attempt failed because the connected party did not properly respond after a period of time, or established connection failed because connected host has failed to respond",
      "\nDuring handling of the above exception, another exception occurred:\n",
      "\u001b[1;31mURLError\u001b[0m                                  Traceback (most recent call last)",
      "Cell \u001b[1;32mIn[11], line 8\u001b[0m\n\u001b[0;32m      5\u001b[0m     filepath \u001b[38;5;241m=\u001b[39m \u001b[38;5;124m\"\u001b[39m\u001b[38;5;124mhttp://www.osr.nsw.gov.au/sites/default/files/file_manager/penalty_data_set_0.csv\u001b[39m\u001b[38;5;124m\"\u001b[39m\n\u001b[0;32m      6\u001b[0m     \u001b[38;5;28mprint\u001b[39m(\u001b[38;5;124m\"\u001b[39m\u001b[38;5;124mloading from the internet\u001b[39m\u001b[38;5;124m\"\u001b[39m)\n\u001b[1;32m----> 8\u001b[0m WPA_2023 \u001b[38;5;241m=\u001b[39m \u001b[43mpd\u001b[49m\u001b[38;5;241;43m.\u001b[39;49m\u001b[43mread_csv\u001b[49m\u001b[43m(\u001b[49m\u001b[43mfilepath\u001b[49m\u001b[43m)\u001b[49m\n\u001b[0;32m      9\u001b[0m \u001b[38;5;28mprint\u001b[39m(\u001b[38;5;124m\"\u001b[39m\u001b[38;5;124mdone\u001b[39m\u001b[38;5;124m\"\u001b[39m)\n",
      "File \u001b[1;32m~\\AppData\\Local\\Packages\\PythonSoftwareFoundation.Python.3.12_qbz5n2kfra8p0\\LocalCache\\local-packages\\Python312\\site-packages\\pandas\\io\\parsers\\readers.py:1026\u001b[0m, in \u001b[0;36mread_csv\u001b[1;34m(filepath_or_buffer, sep, delimiter, header, names, index_col, usecols, dtype, engine, converters, true_values, false_values, skipinitialspace, skiprows, skipfooter, nrows, na_values, keep_default_na, na_filter, verbose, skip_blank_lines, parse_dates, infer_datetime_format, keep_date_col, date_parser, date_format, dayfirst, cache_dates, iterator, chunksize, compression, thousands, decimal, lineterminator, quotechar, quoting, doublequote, escapechar, comment, encoding, encoding_errors, dialect, on_bad_lines, delim_whitespace, low_memory, memory_map, float_precision, storage_options, dtype_backend)\u001b[0m\n\u001b[0;32m   1013\u001b[0m kwds_defaults \u001b[38;5;241m=\u001b[39m _refine_defaults_read(\n\u001b[0;32m   1014\u001b[0m     dialect,\n\u001b[0;32m   1015\u001b[0m     delimiter,\n\u001b[1;32m   (...)\u001b[0m\n\u001b[0;32m   1022\u001b[0m     dtype_backend\u001b[38;5;241m=\u001b[39mdtype_backend,\n\u001b[0;32m   1023\u001b[0m )\n\u001b[0;32m   1024\u001b[0m kwds\u001b[38;5;241m.\u001b[39mupdate(kwds_defaults)\n\u001b[1;32m-> 1026\u001b[0m \u001b[38;5;28;01mreturn\u001b[39;00m \u001b[43m_read\u001b[49m\u001b[43m(\u001b[49m\u001b[43mfilepath_or_buffer\u001b[49m\u001b[43m,\u001b[49m\u001b[43m \u001b[49m\u001b[43mkwds\u001b[49m\u001b[43m)\u001b[49m\n",
      "File \u001b[1;32m~\\AppData\\Local\\Packages\\PythonSoftwareFoundation.Python.3.12_qbz5n2kfra8p0\\LocalCache\\local-packages\\Python312\\site-packages\\pandas\\io\\parsers\\readers.py:620\u001b[0m, in \u001b[0;36m_read\u001b[1;34m(filepath_or_buffer, kwds)\u001b[0m\n\u001b[0;32m    617\u001b[0m _validate_names(kwds\u001b[38;5;241m.\u001b[39mget(\u001b[38;5;124m\"\u001b[39m\u001b[38;5;124mnames\u001b[39m\u001b[38;5;124m\"\u001b[39m, \u001b[38;5;28;01mNone\u001b[39;00m))\n\u001b[0;32m    619\u001b[0m \u001b[38;5;66;03m# Create the parser.\u001b[39;00m\n\u001b[1;32m--> 620\u001b[0m parser \u001b[38;5;241m=\u001b[39m \u001b[43mTextFileReader\u001b[49m\u001b[43m(\u001b[49m\u001b[43mfilepath_or_buffer\u001b[49m\u001b[43m,\u001b[49m\u001b[43m \u001b[49m\u001b[38;5;241;43m*\u001b[39;49m\u001b[38;5;241;43m*\u001b[39;49m\u001b[43mkwds\u001b[49m\u001b[43m)\u001b[49m\n\u001b[0;32m    622\u001b[0m \u001b[38;5;28;01mif\u001b[39;00m chunksize \u001b[38;5;129;01mor\u001b[39;00m iterator:\n\u001b[0;32m    623\u001b[0m     \u001b[38;5;28;01mreturn\u001b[39;00m parser\n",
      "File \u001b[1;32m~\\AppData\\Local\\Packages\\PythonSoftwareFoundation.Python.3.12_qbz5n2kfra8p0\\LocalCache\\local-packages\\Python312\\site-packages\\pandas\\io\\parsers\\readers.py:1620\u001b[0m, in \u001b[0;36mTextFileReader.__init__\u001b[1;34m(self, f, engine, **kwds)\u001b[0m\n\u001b[0;32m   1617\u001b[0m     \u001b[38;5;28mself\u001b[39m\u001b[38;5;241m.\u001b[39moptions[\u001b[38;5;124m\"\u001b[39m\u001b[38;5;124mhas_index_names\u001b[39m\u001b[38;5;124m\"\u001b[39m] \u001b[38;5;241m=\u001b[39m kwds[\u001b[38;5;124m\"\u001b[39m\u001b[38;5;124mhas_index_names\u001b[39m\u001b[38;5;124m\"\u001b[39m]\n\u001b[0;32m   1619\u001b[0m \u001b[38;5;28mself\u001b[39m\u001b[38;5;241m.\u001b[39mhandles: IOHandles \u001b[38;5;241m|\u001b[39m \u001b[38;5;28;01mNone\u001b[39;00m \u001b[38;5;241m=\u001b[39m \u001b[38;5;28;01mNone\u001b[39;00m\n\u001b[1;32m-> 1620\u001b[0m \u001b[38;5;28mself\u001b[39m\u001b[38;5;241m.\u001b[39m_engine \u001b[38;5;241m=\u001b[39m \u001b[38;5;28;43mself\u001b[39;49m\u001b[38;5;241;43m.\u001b[39;49m\u001b[43m_make_engine\u001b[49m\u001b[43m(\u001b[49m\u001b[43mf\u001b[49m\u001b[43m,\u001b[49m\u001b[43m \u001b[49m\u001b[38;5;28;43mself\u001b[39;49m\u001b[38;5;241;43m.\u001b[39;49m\u001b[43mengine\u001b[49m\u001b[43m)\u001b[49m\n",
      "File \u001b[1;32m~\\AppData\\Local\\Packages\\PythonSoftwareFoundation.Python.3.12_qbz5n2kfra8p0\\LocalCache\\local-packages\\Python312\\site-packages\\pandas\\io\\parsers\\readers.py:1880\u001b[0m, in \u001b[0;36mTextFileReader._make_engine\u001b[1;34m(self, f, engine)\u001b[0m\n\u001b[0;32m   1878\u001b[0m     \u001b[38;5;28;01mif\u001b[39;00m \u001b[38;5;124m\"\u001b[39m\u001b[38;5;124mb\u001b[39m\u001b[38;5;124m\"\u001b[39m \u001b[38;5;129;01mnot\u001b[39;00m \u001b[38;5;129;01min\u001b[39;00m mode:\n\u001b[0;32m   1879\u001b[0m         mode \u001b[38;5;241m+\u001b[39m\u001b[38;5;241m=\u001b[39m \u001b[38;5;124m\"\u001b[39m\u001b[38;5;124mb\u001b[39m\u001b[38;5;124m\"\u001b[39m\n\u001b[1;32m-> 1880\u001b[0m \u001b[38;5;28mself\u001b[39m\u001b[38;5;241m.\u001b[39mhandles \u001b[38;5;241m=\u001b[39m \u001b[43mget_handle\u001b[49m\u001b[43m(\u001b[49m\n\u001b[0;32m   1881\u001b[0m \u001b[43m    \u001b[49m\u001b[43mf\u001b[49m\u001b[43m,\u001b[49m\n\u001b[0;32m   1882\u001b[0m \u001b[43m    \u001b[49m\u001b[43mmode\u001b[49m\u001b[43m,\u001b[49m\n\u001b[0;32m   1883\u001b[0m \u001b[43m    \u001b[49m\u001b[43mencoding\u001b[49m\u001b[38;5;241;43m=\u001b[39;49m\u001b[38;5;28;43mself\u001b[39;49m\u001b[38;5;241;43m.\u001b[39;49m\u001b[43moptions\u001b[49m\u001b[38;5;241;43m.\u001b[39;49m\u001b[43mget\u001b[49m\u001b[43m(\u001b[49m\u001b[38;5;124;43m\"\u001b[39;49m\u001b[38;5;124;43mencoding\u001b[39;49m\u001b[38;5;124;43m\"\u001b[39;49m\u001b[43m,\u001b[49m\u001b[43m \u001b[49m\u001b[38;5;28;43;01mNone\u001b[39;49;00m\u001b[43m)\u001b[49m\u001b[43m,\u001b[49m\n\u001b[0;32m   1884\u001b[0m \u001b[43m    \u001b[49m\u001b[43mcompression\u001b[49m\u001b[38;5;241;43m=\u001b[39;49m\u001b[38;5;28;43mself\u001b[39;49m\u001b[38;5;241;43m.\u001b[39;49m\u001b[43moptions\u001b[49m\u001b[38;5;241;43m.\u001b[39;49m\u001b[43mget\u001b[49m\u001b[43m(\u001b[49m\u001b[38;5;124;43m\"\u001b[39;49m\u001b[38;5;124;43mcompression\u001b[39;49m\u001b[38;5;124;43m\"\u001b[39;49m\u001b[43m,\u001b[49m\u001b[43m \u001b[49m\u001b[38;5;28;43;01mNone\u001b[39;49;00m\u001b[43m)\u001b[49m\u001b[43m,\u001b[49m\n\u001b[0;32m   1885\u001b[0m \u001b[43m    \u001b[49m\u001b[43mmemory_map\u001b[49m\u001b[38;5;241;43m=\u001b[39;49m\u001b[38;5;28;43mself\u001b[39;49m\u001b[38;5;241;43m.\u001b[39;49m\u001b[43moptions\u001b[49m\u001b[38;5;241;43m.\u001b[39;49m\u001b[43mget\u001b[49m\u001b[43m(\u001b[49m\u001b[38;5;124;43m\"\u001b[39;49m\u001b[38;5;124;43mmemory_map\u001b[39;49m\u001b[38;5;124;43m\"\u001b[39;49m\u001b[43m,\u001b[49m\u001b[43m \u001b[49m\u001b[38;5;28;43;01mFalse\u001b[39;49;00m\u001b[43m)\u001b[49m\u001b[43m,\u001b[49m\n\u001b[0;32m   1886\u001b[0m \u001b[43m    \u001b[49m\u001b[43mis_text\u001b[49m\u001b[38;5;241;43m=\u001b[39;49m\u001b[43mis_text\u001b[49m\u001b[43m,\u001b[49m\n\u001b[0;32m   1887\u001b[0m \u001b[43m    \u001b[49m\u001b[43merrors\u001b[49m\u001b[38;5;241;43m=\u001b[39;49m\u001b[38;5;28;43mself\u001b[39;49m\u001b[38;5;241;43m.\u001b[39;49m\u001b[43moptions\u001b[49m\u001b[38;5;241;43m.\u001b[39;49m\u001b[43mget\u001b[49m\u001b[43m(\u001b[49m\u001b[38;5;124;43m\"\u001b[39;49m\u001b[38;5;124;43mencoding_errors\u001b[39;49m\u001b[38;5;124;43m\"\u001b[39;49m\u001b[43m,\u001b[49m\u001b[43m \u001b[49m\u001b[38;5;124;43m\"\u001b[39;49m\u001b[38;5;124;43mstrict\u001b[39;49m\u001b[38;5;124;43m\"\u001b[39;49m\u001b[43m)\u001b[49m\u001b[43m,\u001b[49m\n\u001b[0;32m   1888\u001b[0m \u001b[43m    \u001b[49m\u001b[43mstorage_options\u001b[49m\u001b[38;5;241;43m=\u001b[39;49m\u001b[38;5;28;43mself\u001b[39;49m\u001b[38;5;241;43m.\u001b[39;49m\u001b[43moptions\u001b[49m\u001b[38;5;241;43m.\u001b[39;49m\u001b[43mget\u001b[49m\u001b[43m(\u001b[49m\u001b[38;5;124;43m\"\u001b[39;49m\u001b[38;5;124;43mstorage_options\u001b[39;49m\u001b[38;5;124;43m\"\u001b[39;49m\u001b[43m,\u001b[49m\u001b[43m \u001b[49m\u001b[38;5;28;43;01mNone\u001b[39;49;00m\u001b[43m)\u001b[49m\u001b[43m,\u001b[49m\n\u001b[0;32m   1889\u001b[0m \u001b[43m\u001b[49m\u001b[43m)\u001b[49m\n\u001b[0;32m   1890\u001b[0m \u001b[38;5;28;01massert\u001b[39;00m \u001b[38;5;28mself\u001b[39m\u001b[38;5;241m.\u001b[39mhandles \u001b[38;5;129;01mis\u001b[39;00m \u001b[38;5;129;01mnot\u001b[39;00m \u001b[38;5;28;01mNone\u001b[39;00m\n\u001b[0;32m   1891\u001b[0m f \u001b[38;5;241m=\u001b[39m \u001b[38;5;28mself\u001b[39m\u001b[38;5;241m.\u001b[39mhandles\u001b[38;5;241m.\u001b[39mhandle\n",
      "File \u001b[1;32m~\\AppData\\Local\\Packages\\PythonSoftwareFoundation.Python.3.12_qbz5n2kfra8p0\\LocalCache\\local-packages\\Python312\\site-packages\\pandas\\io\\common.py:728\u001b[0m, in \u001b[0;36mget_handle\u001b[1;34m(path_or_buf, mode, encoding, compression, memory_map, is_text, errors, storage_options)\u001b[0m\n\u001b[0;32m    725\u001b[0m     codecs\u001b[38;5;241m.\u001b[39mlookup_error(errors)\n\u001b[0;32m    727\u001b[0m \u001b[38;5;66;03m# open URLs\u001b[39;00m\n\u001b[1;32m--> 728\u001b[0m ioargs \u001b[38;5;241m=\u001b[39m \u001b[43m_get_filepath_or_buffer\u001b[49m\u001b[43m(\u001b[49m\n\u001b[0;32m    729\u001b[0m \u001b[43m    \u001b[49m\u001b[43mpath_or_buf\u001b[49m\u001b[43m,\u001b[49m\n\u001b[0;32m    730\u001b[0m \u001b[43m    \u001b[49m\u001b[43mencoding\u001b[49m\u001b[38;5;241;43m=\u001b[39;49m\u001b[43mencoding\u001b[49m\u001b[43m,\u001b[49m\n\u001b[0;32m    731\u001b[0m \u001b[43m    \u001b[49m\u001b[43mcompression\u001b[49m\u001b[38;5;241;43m=\u001b[39;49m\u001b[43mcompression\u001b[49m\u001b[43m,\u001b[49m\n\u001b[0;32m    732\u001b[0m \u001b[43m    \u001b[49m\u001b[43mmode\u001b[49m\u001b[38;5;241;43m=\u001b[39;49m\u001b[43mmode\u001b[49m\u001b[43m,\u001b[49m\n\u001b[0;32m    733\u001b[0m \u001b[43m    \u001b[49m\u001b[43mstorage_options\u001b[49m\u001b[38;5;241;43m=\u001b[39;49m\u001b[43mstorage_options\u001b[49m\u001b[43m,\u001b[49m\n\u001b[0;32m    734\u001b[0m \u001b[43m\u001b[49m\u001b[43m)\u001b[49m\n\u001b[0;32m    736\u001b[0m handle \u001b[38;5;241m=\u001b[39m ioargs\u001b[38;5;241m.\u001b[39mfilepath_or_buffer\n\u001b[0;32m    737\u001b[0m handles: \u001b[38;5;28mlist\u001b[39m[BaseBuffer]\n",
      "File \u001b[1;32m~\\AppData\\Local\\Packages\\PythonSoftwareFoundation.Python.3.12_qbz5n2kfra8p0\\LocalCache\\local-packages\\Python312\\site-packages\\pandas\\io\\common.py:384\u001b[0m, in \u001b[0;36m_get_filepath_or_buffer\u001b[1;34m(filepath_or_buffer, encoding, compression, mode, storage_options)\u001b[0m\n\u001b[0;32m    382\u001b[0m \u001b[38;5;66;03m# assuming storage_options is to be interpreted as headers\u001b[39;00m\n\u001b[0;32m    383\u001b[0m req_info \u001b[38;5;241m=\u001b[39m urllib\u001b[38;5;241m.\u001b[39mrequest\u001b[38;5;241m.\u001b[39mRequest(filepath_or_buffer, headers\u001b[38;5;241m=\u001b[39mstorage_options)\n\u001b[1;32m--> 384\u001b[0m \u001b[38;5;28;01mwith\u001b[39;00m \u001b[43murlopen\u001b[49m\u001b[43m(\u001b[49m\u001b[43mreq_info\u001b[49m\u001b[43m)\u001b[49m \u001b[38;5;28;01mas\u001b[39;00m req:\n\u001b[0;32m    385\u001b[0m     content_encoding \u001b[38;5;241m=\u001b[39m req\u001b[38;5;241m.\u001b[39mheaders\u001b[38;5;241m.\u001b[39mget(\u001b[38;5;124m\"\u001b[39m\u001b[38;5;124mContent-Encoding\u001b[39m\u001b[38;5;124m\"\u001b[39m, \u001b[38;5;28;01mNone\u001b[39;00m)\n\u001b[0;32m    386\u001b[0m     \u001b[38;5;28;01mif\u001b[39;00m content_encoding \u001b[38;5;241m==\u001b[39m \u001b[38;5;124m\"\u001b[39m\u001b[38;5;124mgzip\u001b[39m\u001b[38;5;124m\"\u001b[39m:\n\u001b[0;32m    387\u001b[0m         \u001b[38;5;66;03m# Override compression based on Content-Encoding header\u001b[39;00m\n",
      "File \u001b[1;32m~\\AppData\\Local\\Packages\\PythonSoftwareFoundation.Python.3.12_qbz5n2kfra8p0\\LocalCache\\local-packages\\Python312\\site-packages\\pandas\\io\\common.py:289\u001b[0m, in \u001b[0;36murlopen\u001b[1;34m(*args, **kwargs)\u001b[0m\n\u001b[0;32m    283\u001b[0m \u001b[38;5;250m\u001b[39m\u001b[38;5;124;03m\"\"\"\u001b[39;00m\n\u001b[0;32m    284\u001b[0m \u001b[38;5;124;03mLazy-import wrapper for stdlib urlopen, as that imports a big chunk of\u001b[39;00m\n\u001b[0;32m    285\u001b[0m \u001b[38;5;124;03mthe stdlib.\u001b[39;00m\n\u001b[0;32m    286\u001b[0m \u001b[38;5;124;03m\"\"\"\u001b[39;00m\n\u001b[0;32m    287\u001b[0m \u001b[38;5;28;01mimport\u001b[39;00m \u001b[38;5;21;01murllib\u001b[39;00m\u001b[38;5;21;01m.\u001b[39;00m\u001b[38;5;21;01mrequest\u001b[39;00m\n\u001b[1;32m--> 289\u001b[0m \u001b[38;5;28;01mreturn\u001b[39;00m \u001b[43murllib\u001b[49m\u001b[38;5;241;43m.\u001b[39;49m\u001b[43mrequest\u001b[49m\u001b[38;5;241;43m.\u001b[39;49m\u001b[43murlopen\u001b[49m\u001b[43m(\u001b[49m\u001b[38;5;241;43m*\u001b[39;49m\u001b[43margs\u001b[49m\u001b[43m,\u001b[49m\u001b[43m \u001b[49m\u001b[38;5;241;43m*\u001b[39;49m\u001b[38;5;241;43m*\u001b[39;49m\u001b[43mkwargs\u001b[49m\u001b[43m)\u001b[49m\n",
      "File \u001b[1;32mC:\\Program Files\\WindowsApps\\PythonSoftwareFoundation.Python.3.12_3.12.1264.0_x64__qbz5n2kfra8p0\\Lib\\urllib\\request.py:215\u001b[0m, in \u001b[0;36murlopen\u001b[1;34m(url, data, timeout, cafile, capath, cadefault, context)\u001b[0m\n\u001b[0;32m    213\u001b[0m \u001b[38;5;28;01melse\u001b[39;00m:\n\u001b[0;32m    214\u001b[0m     opener \u001b[38;5;241m=\u001b[39m _opener\n\u001b[1;32m--> 215\u001b[0m \u001b[38;5;28;01mreturn\u001b[39;00m \u001b[43mopener\u001b[49m\u001b[38;5;241;43m.\u001b[39;49m\u001b[43mopen\u001b[49m\u001b[43m(\u001b[49m\u001b[43murl\u001b[49m\u001b[43m,\u001b[49m\u001b[43m \u001b[49m\u001b[43mdata\u001b[49m\u001b[43m,\u001b[49m\u001b[43m \u001b[49m\u001b[43mtimeout\u001b[49m\u001b[43m)\u001b[49m\n",
      "File \u001b[1;32mC:\\Program Files\\WindowsApps\\PythonSoftwareFoundation.Python.3.12_3.12.1264.0_x64__qbz5n2kfra8p0\\Lib\\urllib\\request.py:515\u001b[0m, in \u001b[0;36mOpenerDirector.open\u001b[1;34m(self, fullurl, data, timeout)\u001b[0m\n\u001b[0;32m    512\u001b[0m     req \u001b[38;5;241m=\u001b[39m meth(req)\n\u001b[0;32m    514\u001b[0m sys\u001b[38;5;241m.\u001b[39maudit(\u001b[38;5;124m'\u001b[39m\u001b[38;5;124murllib.Request\u001b[39m\u001b[38;5;124m'\u001b[39m, req\u001b[38;5;241m.\u001b[39mfull_url, req\u001b[38;5;241m.\u001b[39mdata, req\u001b[38;5;241m.\u001b[39mheaders, req\u001b[38;5;241m.\u001b[39mget_method())\n\u001b[1;32m--> 515\u001b[0m response \u001b[38;5;241m=\u001b[39m \u001b[38;5;28;43mself\u001b[39;49m\u001b[38;5;241;43m.\u001b[39;49m\u001b[43m_open\u001b[49m\u001b[43m(\u001b[49m\u001b[43mreq\u001b[49m\u001b[43m,\u001b[49m\u001b[43m \u001b[49m\u001b[43mdata\u001b[49m\u001b[43m)\u001b[49m\n\u001b[0;32m    517\u001b[0m \u001b[38;5;66;03m# post-process response\u001b[39;00m\n\u001b[0;32m    518\u001b[0m meth_name \u001b[38;5;241m=\u001b[39m protocol\u001b[38;5;241m+\u001b[39m\u001b[38;5;124m\"\u001b[39m\u001b[38;5;124m_response\u001b[39m\u001b[38;5;124m\"\u001b[39m\n",
      "File \u001b[1;32mC:\\Program Files\\WindowsApps\\PythonSoftwareFoundation.Python.3.12_3.12.1264.0_x64__qbz5n2kfra8p0\\Lib\\urllib\\request.py:532\u001b[0m, in \u001b[0;36mOpenerDirector._open\u001b[1;34m(self, req, data)\u001b[0m\n\u001b[0;32m    529\u001b[0m     \u001b[38;5;28;01mreturn\u001b[39;00m result\n\u001b[0;32m    531\u001b[0m protocol \u001b[38;5;241m=\u001b[39m req\u001b[38;5;241m.\u001b[39mtype\n\u001b[1;32m--> 532\u001b[0m result \u001b[38;5;241m=\u001b[39m \u001b[38;5;28;43mself\u001b[39;49m\u001b[38;5;241;43m.\u001b[39;49m\u001b[43m_call_chain\u001b[49m\u001b[43m(\u001b[49m\u001b[38;5;28;43mself\u001b[39;49m\u001b[38;5;241;43m.\u001b[39;49m\u001b[43mhandle_open\u001b[49m\u001b[43m,\u001b[49m\u001b[43m \u001b[49m\u001b[43mprotocol\u001b[49m\u001b[43m,\u001b[49m\u001b[43m \u001b[49m\u001b[43mprotocol\u001b[49m\u001b[43m \u001b[49m\u001b[38;5;241;43m+\u001b[39;49m\n\u001b[0;32m    533\u001b[0m \u001b[43m                          \u001b[49m\u001b[38;5;124;43m'\u001b[39;49m\u001b[38;5;124;43m_open\u001b[39;49m\u001b[38;5;124;43m'\u001b[39;49m\u001b[43m,\u001b[49m\u001b[43m \u001b[49m\u001b[43mreq\u001b[49m\u001b[43m)\u001b[49m\n\u001b[0;32m    534\u001b[0m \u001b[38;5;28;01mif\u001b[39;00m result:\n\u001b[0;32m    535\u001b[0m     \u001b[38;5;28;01mreturn\u001b[39;00m result\n",
      "File \u001b[1;32mC:\\Program Files\\WindowsApps\\PythonSoftwareFoundation.Python.3.12_3.12.1264.0_x64__qbz5n2kfra8p0\\Lib\\urllib\\request.py:492\u001b[0m, in \u001b[0;36mOpenerDirector._call_chain\u001b[1;34m(self, chain, kind, meth_name, *args)\u001b[0m\n\u001b[0;32m    490\u001b[0m \u001b[38;5;28;01mfor\u001b[39;00m handler \u001b[38;5;129;01min\u001b[39;00m handlers:\n\u001b[0;32m    491\u001b[0m     func \u001b[38;5;241m=\u001b[39m \u001b[38;5;28mgetattr\u001b[39m(handler, meth_name)\n\u001b[1;32m--> 492\u001b[0m     result \u001b[38;5;241m=\u001b[39m \u001b[43mfunc\u001b[49m\u001b[43m(\u001b[49m\u001b[38;5;241;43m*\u001b[39;49m\u001b[43margs\u001b[49m\u001b[43m)\u001b[49m\n\u001b[0;32m    493\u001b[0m     \u001b[38;5;28;01mif\u001b[39;00m result \u001b[38;5;129;01mis\u001b[39;00m \u001b[38;5;129;01mnot\u001b[39;00m \u001b[38;5;28;01mNone\u001b[39;00m:\n\u001b[0;32m    494\u001b[0m         \u001b[38;5;28;01mreturn\u001b[39;00m result\n",
      "File \u001b[1;32mC:\\Program Files\\WindowsApps\\PythonSoftwareFoundation.Python.3.12_3.12.1264.0_x64__qbz5n2kfra8p0\\Lib\\urllib\\request.py:1373\u001b[0m, in \u001b[0;36mHTTPHandler.http_open\u001b[1;34m(self, req)\u001b[0m\n\u001b[0;32m   1372\u001b[0m \u001b[38;5;28;01mdef\u001b[39;00m \u001b[38;5;21mhttp_open\u001b[39m(\u001b[38;5;28mself\u001b[39m, req):\n\u001b[1;32m-> 1373\u001b[0m     \u001b[38;5;28;01mreturn\u001b[39;00m \u001b[38;5;28;43mself\u001b[39;49m\u001b[38;5;241;43m.\u001b[39;49m\u001b[43mdo_open\u001b[49m\u001b[43m(\u001b[49m\u001b[43mhttp\u001b[49m\u001b[38;5;241;43m.\u001b[39;49m\u001b[43mclient\u001b[49m\u001b[38;5;241;43m.\u001b[39;49m\u001b[43mHTTPConnection\u001b[49m\u001b[43m,\u001b[49m\u001b[43m \u001b[49m\u001b[43mreq\u001b[49m\u001b[43m)\u001b[49m\n",
      "File \u001b[1;32mC:\\Program Files\\WindowsApps\\PythonSoftwareFoundation.Python.3.12_3.12.1264.0_x64__qbz5n2kfra8p0\\Lib\\urllib\\request.py:1347\u001b[0m, in \u001b[0;36mAbstractHTTPHandler.do_open\u001b[1;34m(self, http_class, req, **http_conn_args)\u001b[0m\n\u001b[0;32m   1344\u001b[0m         h\u001b[38;5;241m.\u001b[39mrequest(req\u001b[38;5;241m.\u001b[39mget_method(), req\u001b[38;5;241m.\u001b[39mselector, req\u001b[38;5;241m.\u001b[39mdata, headers,\n\u001b[0;32m   1345\u001b[0m                   encode_chunked\u001b[38;5;241m=\u001b[39mreq\u001b[38;5;241m.\u001b[39mhas_header(\u001b[38;5;124m'\u001b[39m\u001b[38;5;124mTransfer-encoding\u001b[39m\u001b[38;5;124m'\u001b[39m))\n\u001b[0;32m   1346\u001b[0m     \u001b[38;5;28;01mexcept\u001b[39;00m \u001b[38;5;167;01mOSError\u001b[39;00m \u001b[38;5;28;01mas\u001b[39;00m err: \u001b[38;5;66;03m# timeout error\u001b[39;00m\n\u001b[1;32m-> 1347\u001b[0m         \u001b[38;5;28;01mraise\u001b[39;00m URLError(err)\n\u001b[0;32m   1348\u001b[0m     r \u001b[38;5;241m=\u001b[39m h\u001b[38;5;241m.\u001b[39mgetresponse()\n\u001b[0;32m   1349\u001b[0m \u001b[38;5;28;01mexcept\u001b[39;00m:\n",
      "\u001b[1;31mURLError\u001b[0m: <urlopen error [WinError 10060] A connection attempt failed because the connected party did not properly respond after a period of time, or established connection failed because connected host has failed to respond>"
     ]
    }
   ],
   "source": [
    "if os.path.isfile(\"WPA_2023\"):\n",
    "    filepath = \"WPA_2023.csv\"\n",
    "    print(\"loading from file\")\n",
    "else:\n",
    "    filepath = \"http://www.osr.nsw.gov.au/sites/default/files/file_manager/penalty_data_set_0.csv\"\n",
    "    print(\"loading from the internet\")\n",
    "\n",
    "WPA_2023 = pd.read_csv(filepath)\n",
    "print(\"done\")"
   ]
  },
  {
   "cell_type": "markdown",
   "metadata": {},
   "source": [
    "Leading War players each year"
   ]
  },
  {
   "cell_type": "code",
   "execution_count": null,
   "metadata": {},
   "outputs": [],
   "source": [
    "if os.path.isfile(\"WAR_history.csv\"):\n",
    "    filepath = \"WAR_history.csv\"\n",
    "    print(\"Loading from file\")\n",
    "    try:\n",
    "        War_history = pd.read_csv(filepath, encoding='utf-8')\n",
    "    except UnicodeDecodeError:\n",
    "        War_history = pd.read_csv(filepath, encoding='latin1')\n",
    "else:\n",
    "    filepath = \"https://www.baseball-reference.com/leaders/WAR_progress.shtml\"\n",
    "    print(\"Loading from the internet\")\n",
    "    \n",
    "    # Use requests to fetch the data\n",
    "    response = requests.get(filepath)\n",
    "    if response.status_code == 200:\n",
    "        # Parse the HTML content using pandas\n",
    "        try:\n",
    "            War_history = pd.read_html(response.text)[0]\n",
    "            \n",
    "            # Save the data to a CSV file for future use\n",
    "            War_history.to_csv(\"WAR_history.csv\", index=False, encoding='utf-8')\n",
    "        except ValueError:\n",
    "            print(\"Failed to parse HTML content\")\n",
    "            War_history = None\n",
    "    else:\n",
    "        print(\"Failed to retrieve data from the internet\")\n",
    "        War_history = None\n",
    "\n",
    "if War_history is not None:\n",
    "    print(\"Done\")\n",
    "else:\n",
    "    print(\"Data not available\")"
   ]
  },
  {
   "cell_type": "code",
   "execution_count": null,
   "metadata": {},
   "outputs": [],
   "source": [
    "War_history.sample(50)\n",
    "columns_11_and_12 = War_history.iloc[:, [0,10, 11]]\n",
    "print(columns_11_and_12)"
   ]
  },
  {
   "cell_type": "code",
   "execution_count": null,
   "metadata": {},
   "outputs": [],
   "source": [
    "import pandas as pd\n",
    "\n",
    "# URL of the webpage containing the table\n",
    "base_url = 'https://www.baseball-reference.com/leagues/majors/2023-value-batting.shtml'\n",
    "\n",
    "wpa_data_read = pd.read_html(base_url)\n",
    "\n",
    "wpa_dataframe = wpa_data_read[0]\n",
    "\n",
    "wpa_dataframe.head()"
   ]
  },
  {
   "cell_type": "markdown",
   "metadata": {},
   "source": [
    "top 50 historical War leaders by year. could argue due to other factours but probly pointless"
   ]
  },
  {
   "cell_type": "code",
   "execution_count": null,
   "metadata": {},
   "outputs": [],
   "source": [
    "War_history = pd.read_csv(filepath, encoding='latin1')\n",
    "\n",
    "# Extract column 12 (index 11) and convert to numeric, ignoring errors\n",
    "column_12 = pd.to_numeric(War_history.iloc[:, 11], errors='coerce')\n",
    "\n",
    "# Get indices of the top 50 highest numbers from column 12\n",
    "indices_top_50 = column_12.dropna().nlargest(50).index\n",
    "\n",
    "# Select the rows from the original DataFrame using the indices, and include columns 1, 11, and 12\n",
    "result = War_history.loc[indices_top_50, ['Column1', 'Column11', 'Column12']]\n",
    "\n",
    "result\n"
   ]
  },
  {
   "cell_type": "code",
   "execution_count": null,
   "metadata": {},
   "outputs": [],
   "source": [
    "\n",
    "# Convert column 1 (Year) and column 12 (WAR) to numeric, ignoring errors\n",
    "War_history['Year'] = pd.to_numeric(War_history.iloc[:, 0], errors='coerce')\n",
    "War_history['WAR'] = pd.to_numeric(War_history.iloc[:, 11], errors='coerce')\n",
    "\n",
    "# Remove rows for the year 2024\n",
    "filtered_data = War_history[(War_history['Year'] != 2024) & War_history['Year'].notna()]\n",
    "\n",
    "# Plotting\n",
    "plt.figure(figsize=(10, 6))\n",
    "plt.plot(filtered_data['Year'], filtered_data['WAR'], marker='o', linestyle='-')\n",
    "plt.title('Year vs. WAR')\n",
    "plt.xlabel('Year')\n",
    "plt.ylabel('WAR')\n",
    "plt.grid(True)\n",
    "plt.show()"
   ]
  },
  {
   "cell_type": "markdown",
   "metadata": {},
   "source": [
    "data from 1994 to now is most accurate as they introduced wild card for the post season, probly need to consider 2020 as an outlire due to covid and less games"
   ]
  },
  {
   "cell_type": "code",
   "execution_count": null,
   "metadata": {},
   "outputs": [],
   "source": [
    "# Ensure 'Column12' is present and is numeric\n",
    "if 'Column12' in War_history.columns:\n",
    "    # Convert 'Column12' to numeric, forcing any errors to NaN\n",
    "    War_history['Column12'] = pd.to_numeric(War_history['Column12'], errors='coerce')\n",
    "\n",
    "    # Check for missing values\n",
    "    missing_values_col12 = War_history['Column12'].isnull().sum()\n",
    "    print(f\"Missing values in 'Column12': {missing_values_col12}\")\n",
    "\n",
    "    # Drop missing values\n",
    "    wpa_values = War_history['Column12'].dropna()\n",
    "\n",
    "    # Calculate statistics for WPA/162 Games\n",
    "    wpa_stats = {\n",
    "        'Sample Mean': wpa_values.mean(),\n",
    "        'Sample Median': np.median(wpa_values),\n",
    "        'Sample Variance': np.var(wpa_values, ddof=1),\n",
    "        'Sample Standard Deviation': np.std(wpa_values, ddof=1)\n",
    "    }\n",
    "\n",
    "    # Output the statistics for WPA\n",
    "    print(\"\\nWPA/162 Games Statistics:\")\n",
    "    print(wpa_stats)\n",
    "else:\n",
    "    print(\"'Column12' not found in the dataset.\")\n"
   ]
  },
  {
   "cell_type": "code",
   "execution_count": null,
   "metadata": {},
   "outputs": [],
   "source": [
    "# Convert column 1 (Year) to numeric, ignoring errors\n",
    "War_history['Year'] = pd.to_numeric(War_history.iloc[:, 0], errors='coerce')\n",
    "\n",
    "# Filter data for the years 1994 to 2023\n",
    "filtered_data = War_history[(War_history['Year'] >= 1994) & (War_history['Year'] <= 2023)]\n",
    "\n",
    "# Select columns 1, 11, and 12\n",
    "selected_columns = filtered_data.iloc[:, [0, 10, 11]]\n",
    "\n",
    "selected_columns"
   ]
  },
  {
   "cell_type": "code",
   "execution_count": null,
   "metadata": {},
   "outputs": [],
   "source": [
    "\n",
    "\n",
    "import pandas as pd\n",
    "import numpy as np\n",
    "\n",
    "# Load the CSV file\n",
    "file_path = \"WAR_history.csv\"  # Replace with your actual file path\n",
    "\n",
    "try:\n",
    "    data = pd.read_csv(file_path)\n",
    "    print(\"CSV file loaded successfully.\")\n",
    "except Exception as e:\n",
    "    print(f\"Error loading CSV file: {e}\")\n",
    "    data = None\n",
    "\n",
    "if data is not None:\n",
    "    # Display the first few rows to verify the structure\n",
    "    print(\"First few rows of the dataset:\")\n",
    "    print(data.head())\n",
    "\n",
    "    # Function to clean and convert a column to numeric values, ignoring non-numeric entries\n",
    "    def clean_and_convert(column):\n",
    "        return pd.to_numeric(column, errors='coerce').dropna()\n",
    "\n",
    "    # Extract and clean the relevant column for WPA/162 Games (Column12)\n",
    "    if 'Column12' in data.columns:\n",
    "        wpa_data = clean_and_convert(data['Column12'])\n",
    "\n",
    "        # Calculate statistics for WPA/162 Games\n",
    "        wpa_stats = {\n",
    "            'Sample Mean': wpa_data.mean(),\n",
    "            'Sample Median': np.median(wpa_data),\n",
    "            'Sample Variance': np.var(wpa_data, ddof=1),\n",
    "            'Sample Standard Deviation': np.std(wpa_data, ddof=1)\n",
    "        }\n",
    "\n",
    "        # Output the statistics for WPA\n",
    "        print(\"WPA/162 Games Statistics:\")\n",
    "        print(wpa_stats)\n",
    "    else:\n",
    "        print(\"Column12 not found in the data.\")\n",
    "else:\n",
    "    print(\"Data is not defined.\")\n"
   ]
  },
  {
   "cell_type": "markdown",
   "metadata": {},
   "source": [
    "`dataframe.head()` gives the top 5 rows, if it was `dataframe.head(3)` it would give the top 3 rows. \n",
    "\n",
    "`dataframe.sample(5)` gives you 5 random rows from your dataframe. It's a good way to avoid the trap where you confuse yourself the first few rows are odd."
   ]
  },
  {
   "cell_type": "code",
   "execution_count": null,
   "metadata": {},
   "outputs": [],
   "source": [
    "import os\n",
    "import pandas as pd\n",
    "import requests\n",
    "\n",
    "filepath = \"WAR_2023.csv\"\n",
    "\n",
    "if os.path.isfile(filepath):\n",
    "    print(\"Loading from file\")\n",
    "    try:\n",
    "        war_data = pd.read_csv(filepath, encoding='utf-8')\n",
    "    except UnicodeDecodeError:\n",
    "        war_data = pd.read_csv(filepath, encoding='latin1')\n",
    "else:\n",
    "    url = \"https://www.baseball-reference.com/leagues/majors/2023-value-batting.shtml\"\n",
    "    print(\"Loading from the internet\")\n",
    "    \n",
    "    # Use requests to fetch the data\n",
    "    response = requests.get(url)\n",
    "    if response.status_code == 200:\n",
    "        # Parse the HTML content using pandas\n",
    "        try:\n",
    "            war_data = pd.read_html(response.text)[0]\n",
    "            \n",
    "            # Save the data to a CSV file for future use\n",
    "            war_data.to_csv(filepath, index=False, encoding='utf-8')\n",
    "        except ValueError:\n",
    "            print(\"Failed to parse HTML content\")\n",
    "            war_data = None\n",
    "    else:\n",
    "        print(\"Failed to retrieve data from the internet\")\n",
    "        war_data = None\n",
    "\n",
    "if war_data is not None:\n",
    "    print(\"Data loaded successfully\")\n",
    "    # Display the first few rows of the dataframe\n",
    "    print(war_data.head())\n",
    "else:\n",
    "    print(\"Data not available\")\n",
    "\n"
   ]
  },
  {
   "cell_type": "code",
   "execution_count": null,
   "metadata": {},
   "outputs": [],
   "source": [
    "import pandas as pd\n",
    "import os\n",
    "\n",
    "# Define the path to your CSV file\n",
    "csv_file_path = 'WAR_2023.csv'\n",
    "\n",
    "# Check if the file exists\n",
    "if not os.path.exists(csv_file_path):\n",
    "    raise FileNotFoundError(f\"The file '{csv_file_path}' does not exist.\")\n",
    "\n",
    "try:\n",
    "    # Attempt to read the CSV file with different encodings\n",
    "    try:\n",
    "        df = pd.read_csv(csv_file_path, encoding='utf-8')\n",
    "    except UnicodeDecodeError:\n",
    "        try:\n",
    "            df = pd.read_csv(csv_file_path, encoding='latin1')\n",
    "        except UnicodeDecodeError:\n",
    "            df = pd.read_csv(csv_file_path, encoding='iso-8859-1')\n",
    "except Exception as e:\n",
    "    raise ValueError(f\"Error reading the CSV file: {e}\")\n",
    "\n",
    "# Ensure the CSV file has at least 16 columns\n",
    "if df.shape[1] < 16:\n",
    "    raise ValueError(\"The CSV file does not have at least 16 columns.\")\n",
    "\n",
    "try:\n",
    "    # Extract the 16th column (index 15, since indexing starts from 0)\n",
    "    column_16 = df.iloc[:, 15]\n",
    "\n",
    "    # Ensure the column contains numeric values\n",
    "    column_16 = pd.to_numeric(column_16, errors='coerce')\n",
    "    \n",
    "    # Drop NaN values that cannot be converted to numeric\n",
    "    column_16 = column_16.dropna()\n",
    "\n",
    "    # Sort the column in descending order and select the top 50 values\n",
    "    top_50_values = column_16.nlargest(50)\n",
    "\n",
    "    # Print the result\n",
    "    print(top_50_values)\n",
    "\n",
    "    # Optionally, you can save the result to a new CSV file\n",
    "    top_50_values.to_csv('top_50_values.csv', index=False)\n",
    "    print(\"Top 50 values saved to 'top_50_values.csv'\")\n",
    "except Exception as e:\n",
    "    raise ValueError(f\"Error processing the 16th column: {e}\")\n"
   ]
  },
  {
   "cell_type": "code",
   "execution_count": null,
   "metadata": {},
   "outputs": [],
   "source": [
    "import pandas as pd\n",
    "import os\n",
    "\n",
    "# Define the path to your CSV file\n",
    "csv_file_path = 'WAR_2023.csv'\n",
    "\n",
    "# Check if the file exists\n",
    "if not os.path.exists(csv_file_path):\n",
    "    raise FileNotFoundError(f\"The file '{csv_file_path}' does not exist.\")\n",
    "\n",
    "try:\n",
    "    # Attempt to read the CSV file with different encodings\n",
    "    try:\n",
    "        df = pd.read_csv(csv_file_path, encoding='utf-8')\n",
    "    except UnicodeDecodeError:\n",
    "        try:\n",
    "            df = pd.read_csv(csv_file_path, encoding='latin1')\n",
    "        except UnicodeDecodeError:\n",
    "            df = pd.read_csv(csv_file_path, encoding='iso-8859-1')\n",
    "except Exception as e:\n",
    "    raise ValueError(f\"Error reading the CSV file: {e}\")\n",
    "\n",
    "# Ensure the CSV file has at least 16 columns\n",
    "if df.shape[1] < 16:\n",
    "    raise ValueError(\"The CSV file does not have at least 16 columns.\")\n",
    "\n",
    "try:\n",
    "    # Extract the 16th column (index 15, since indexing starts from 0)\n",
    "    column_16 = df.iloc[:, 15]\n",
    "\n",
    "    # Ensure the column contains numeric values\n",
    "    column_16 = pd.to_numeric(column_16, errors='coerce')\n",
    "    \n",
    "    # Drop NaN values that cannot be converted to numeric\n",
    "    column_16 = column_16.dropna()\n",
    "\n",
    "    # Sort the column in ascending order and select the lowest 50 values\n",
    "    lowest_50_values = column_16.nsmallest(50)\n",
    "\n",
    "    # Print the result\n",
    "    print(lowest_50_values)\n",
    "\n",
    "    # Optionally, you can save the result to a new CSV file\n",
    "    lowest_50_values.to_csv('lowest_50_values.csv', index=False)\n",
    "    print(\"Lowest 50 values saved to 'lowest_50_values.csv'\")\n",
    "except Exception as e:\n",
    "    raise ValueError(f\"Error processing the 16th column: {e}\")\n"
   ]
  },
  {
   "cell_type": "code",
   "execution_count": null,
   "metadata": {},
   "outputs": [],
   "source": [
    "import pandas as pd\n",
    "import os\n",
    "\n",
    "# Define the path to your CSV file\n",
    "csv_file_path = 'WAR_2023.csv'\n",
    "\n",
    "# Check if the file exists\n",
    "if not os.path.exists(csv_file_path):\n",
    "    raise FileNotFoundError(f\"The file '{csv_file_path}' does not exist.\")\n",
    "\n",
    "try:\n",
    "    # Attempt to read the CSV file with different encodings\n",
    "    try:\n",
    "        df = pd.read_csv(csv_file_path, encoding='utf-8')\n",
    "    except UnicodeDecodeError:\n",
    "        try:\n",
    "            df = pd.read_csv(csv_file_path, encoding='latin1')\n",
    "        except UnicodeDecodeError:\n",
    "            df = pd.read_csv(csv_file_path, encoding='iso-8859-1')\n",
    "except Exception as e:\n",
    "    raise ValueError(f\"Error reading the CSV file: {e}\")\n",
    "\n",
    "# Ensure the CSV file has at least 16 columns\n",
    "if df.shape[1] < 16:\n",
    "    raise ValueError(\"The CSV file does not have at least 16 columns.\")\n",
    "\n",
    "try:\n",
    "    # Extract the 16th column (index 15, since indexing starts from 0)\n",
    "    column_16 = df.iloc[:, 15]\n",
    "\n",
    "    # Ensure the column contains numeric values\n",
    "    column_16 = pd.to_numeric(column_16, errors='coerce')\n",
    "    \n",
    "    # Drop NaN values that cannot be converted to numeric\n",
    "    column_16 = column_16.dropna()\n",
    "\n",
    "    # Sort the column in descending order and select the top 50 values\n",
    "    top_50_values = column_16.nlargest(50)\n",
    "\n",
    "    # Compute statistics\n",
    "    sample_mean = top_50_values.mean()\n",
    "    sample_median = top_50_values.median()\n",
    "    sample_variance = top_50_values.var()\n",
    "    sample_std_dev = top_50_values.std()\n",
    "\n",
    "    # Print the results\n",
    "    print(\"Sample Mean:\", sample_mean)\n",
    "    print(\"Sample Median:\", sample_median)\n",
    "    print(\"Sample Variance:\", sample_variance)\n",
    "    print(\"Sample Standard Deviation:\", sample_std_dev)\n",
    "\n",
    "    # Optionally, you can save the top 50 values and their statistics to a new CSV file\n",
    "    top_50_values.to_csv('top_50_values.csv', index=False)\n",
    "    stats_df = pd.DataFrame({\n",
    "        'Sample Mean': [sample_mean],\n",
    "        'Sample Median': [sample_median],\n",
    "        'Sample Variance': [sample_variance],\n",
    "        'Sample Standard Deviation': [sample_std_dev]\n",
    "    })\n",
    "    stats_df.to_csv('top_50_stats.csv', index=False)\n",
    "    print(\"Top 50 values saved to 'top_50_values.csv'\")\n",
    "    print(\"Statistics saved to 'top_50_stats.csv'\")\n",
    "except Exception as e:\n",
    "    raise ValueError(f\"Error processing the 16th column: {e}\")\n"
   ]
  },
  {
   "cell_type": "code",
   "execution_count": null,
   "metadata": {},
   "outputs": [],
   "source": [
    "import pandas as pd\n",
    "import os\n",
    "\n",
    "# Define the path to your CSV file\n",
    "csv_file_path = 'WAR_2023.csv'\n",
    "\n",
    "# Check if the file exists\n",
    "if not os.path.exists(csv_file_path):\n",
    "    raise FileNotFoundError(f\"The file '{csv_file_path}' does not exist.\")\n",
    "\n",
    "try:\n",
    "    # Attempt to read the CSV file with different encodings\n",
    "    try:\n",
    "        df = pd.read_csv(csv_file_path, encoding='utf-8')\n",
    "    except UnicodeDecodeError:\n",
    "        try:\n",
    "            df = pd.read_csv(csv_file_path, encoding='latin1')\n",
    "        except UnicodeDecodeError:\n",
    "            df = pd.read_csv(csv_file_path, encoding='iso-8859-1')\n",
    "except Exception as e:\n",
    "    raise ValueError(f\"Error reading the CSV file: {e}\")\n",
    "\n",
    "# Ensure the CSV file has at least 16 columns\n",
    "if df.shape[1] < 16:\n",
    "    raise ValueError(\"The CSV file does not have at least 16 columns.\")\n",
    "\n",
    "try:\n",
    "    # Extract the 16th column (index 15, since indexing starts from 0)\n",
    "    column_16 = df.iloc[:, 15]\n",
    "\n",
    "    # Ensure the column contains numeric values\n",
    "    column_16 = pd.to_numeric(column_16, errors='coerce')\n",
    "    \n",
    "    # Drop NaN values that cannot be converted to numeric\n",
    "    column_16 = column_16.dropna()\n",
    "\n",
    "    # Sort the column in ascending order and select the bottom 50 values\n",
    "    bottom_50_values = column_16.nsmallest(50)\n",
    "\n",
    "    # Compute statistics\n",
    "    sample_mean = bottom_50_values.mean()\n",
    "    sample_median = bottom_50_values.median()\n",
    "    sample_variance = bottom_50_values.var()\n",
    "    sample_std_dev = bottom_50_values.std()\n",
    "\n",
    "    # Print the results\n",
    "    print(\"Sample Mean:\", sample_mean)\n",
    "    print(\"Sample Median:\", sample_median)\n",
    "    print(\"Sample Variance:\", sample_variance)\n",
    "    print(\"Sample Standard Deviation:\", sample_std_dev)\n",
    "\n",
    "    # Optionally, you can save the bottom 50 values and their statistics to a new CSV file\n",
    "    bottom_50_values.to_csv('bottom_50_values.csv', index=False)\n",
    "    stats_df = pd.DataFrame({\n",
    "        'Sample Mean': [sample_mean],\n",
    "        'Sample Median': [sample_median],\n",
    "        'Sample Variance': [sample_variance],\n",
    "        'Sample Standard Deviation': [sample_std_dev]\n",
    "    })\n",
    "    stats_df.to_csv('bottom_50_stats.csv', index=False)\n",
    "    print(\"Bottom 50 values saved to 'bottom_50_values.csv'\")\n",
    "    print(\"Statistics saved to 'bottom_50_stats.csv'\")\n",
    "except Exception as e:\n",
    "    raise ValueError(f\"Error processing the 16th column: {e}\")\n"
   ]
  },
  {
   "cell_type": "code",
   "execution_count": 16,
   "metadata": {},
   "outputs": [
    {
     "name": "stdout",
     "output_type": "stream",
     "text": [
      "Top 50 Values:\n",
      "Sample Mean: 5.09\n",
      "Sample Median: 4.9\n",
      "Sample Variance: 1.2356122448979592\n",
      "Sample Standard Deviation: 1.1115809664158338\n",
      "Bottom 50 Values:\n",
      "Sample Mean: -1.022\n",
      "Sample Median: -0.9\n",
      "Sample Variance: 0.11930204081632655\n",
      "Sample Standard Deviation: 0.3454012750647087\n",
      "Top 50 values saved to 'top_50_values.csv'\n",
      "Bottom 50 values saved to 'bottom_50_values.csv'\n",
      "Statistics saved to 'top_50_stats.csv' and 'bottom_50_stats.csv'\n"
     ]
    },
    {
     "data": {
      "image/png": "[encoded data removed]",
      "text/plain": [
       "<Figure size 1200x600 with 2 Axes>"
      ]
     },
     "metadata": {},
     "output_type": "display_data"
    }
   ],
   "source": [
    "import pandas as pd\n",
    "import os\n",
    "import matplotlib.pyplot as plt\n",
    "\n",
    "# Define the path to your CSV file\n",
    "csv_file_path = 'WAR_2023.csv'\n",
    "\n",
    "# Check if the file exists\n",
    "if not os.path.exists(csv_file_path):\n",
    "    raise FileNotFoundError(f\"The file '{csv_file_path}' does not exist.\")\n",
    "\n",
    "try:\n",
    "    # Attempt to read the CSV file with different encodings\n",
    "    try:\n",
    "        df = pd.read_csv(csv_file_path, encoding='utf-8')\n",
    "    except UnicodeDecodeError:\n",
    "        try:\n",
    "            df = pd.read_csv(csv_file_path, encoding='latin1')\n",
    "        except UnicodeDecodeError:\n",
    "            df = pd.read_csv(csv_file_path, encoding='iso-8859-1')\n",
    "except Exception as e:\n",
    "    raise ValueError(f\"Error reading the CSV file: {e}\")\n",
    "\n",
    "# Ensure the CSV file has at least 16 columns\n",
    "if df.shape[1] < 16:\n",
    "    raise ValueError(\"The CSV file does not have at least 16 columns.\")\n",
    "\n",
    "try:\n",
    "    # Extract the 16th column (index 15, since indexing starts from 0)\n",
    "    column_16 = df.iloc[:, 15]\n",
    "\n",
    "    # Ensure the column contains numeric values\n",
    "    column_16 = pd.to_numeric(column_16, errors='coerce')\n",
    "    \n",
    "    # Drop NaN values that cannot be converted to numeric\n",
    "    column_16 = column_16.dropna()\n",
    "\n",
    "    # Sort the column in descending order and select the top 50 values\n",
    "    top_50_values = column_16.nlargest(50)\n",
    "\n",
    "    # Sort the column in ascending order and select the bottom 50 values\n",
    "    bottom_50_values = column_16.nsmallest(50)\n",
    "\n",
    "    # Compute statistics for top 50 values\n",
    "    top_50_mean = top_50_values.mean()\n",
    "    top_50_median = top_50_values.median()\n",
    "    top_50_variance = top_50_values.var()\n",
    "    top_50_std_dev = top_50_values.std()\n",
    "\n",
    "    # Compute statistics for bottom 50 values\n",
    "    bottom_50_mean = bottom_50_values.mean()\n",
    "    bottom_50_median = bottom_50_values.median()\n",
    "    bottom_50_variance = bottom_50_values.var()\n",
    "    bottom_50_std_dev = bottom_50_values.std()\n",
    "\n",
    "    # Print the results for top 50 values\n",
    "    print(\"Top 50 Values:\")\n",
    "    print(\"Sample Mean:\", top_50_mean)\n",
    "    print(\"Sample Median:\", top_50_median)\n",
    "    print(\"Sample Variance:\", top_50_variance)\n",
    "    print(\"Sample Standard Deviation:\", top_50_std_dev)\n",
    "\n",
    "    # Print the results for bottom 50 values\n",
    "    print(\"Bottom 50 Values:\")\n",
    "    print(\"Sample Mean:\", bottom_50_mean)\n",
    "    print(\"Sample Median:\", bottom_50_median)\n",
    "    print(\"Sample Variance:\", bottom_50_variance)\n",
    "    print(\"Sample Standard Deviation:\", bottom_50_std_dev)\n",
    "\n",
    "    # Optionally, you can save the top 50 values and their statistics to a new CSV file\n",
    "    top_50_values.to_csv('top_50_values.csv', index=False)\n",
    "    bottom_50_values.to_csv('bottom_50_values.csv', index=False)\n",
    "    top_50_stats_df = pd.DataFrame({\n",
    "        'Statistic': ['Sample Mean', 'Sample Median', 'Sample Variance', 'Sample Standard Deviation'],\n",
    "        'Value': [top_50_mean, top_50_median, top_50_variance, top_50_std_dev]\n",
    "    })\n",
    "    bottom_50_stats_df = pd.DataFrame({\n",
    "        'Statistic': ['Sample Mean', 'Sample Median', 'Sample Variance', 'Sample Standard Deviation'],\n",
    "        'Value': [bottom_50_mean, bottom_50_median, bottom_50_variance, bottom_50_std_dev]\n",
    "    })\n",
    "    top_50_stats_df.to_csv('top_50_stats.csv', index=False)\n",
    "    bottom_50_stats_df.to_csv('bottom_50_stats.csv', index=False)\n",
    "    print(\"Top 50 values saved to 'top_50_values.csv'\")\n",
    "    print(\"Bottom 50 values saved to 'bottom_50_values.csv'\")\n",
    "    print(\"Statistics saved to 'top_50_stats.csv' and 'bottom_50_stats.csv'\")\n",
    "\n",
    "    # Create box plots\n",
    "    plt.figure(figsize=(12, 6))\n",
    "\n",
    "    # Box plot for top 50 values\n",
    "    plt.subplot(1, 2, 1)\n",
    "    plt.boxplot(top_50_values)\n",
    "    plt.title('Top 50 Values in Column 16')\n",
    "    plt.ylabel('Values')\n",
    "\n",
    "    # Box plot for bottom 50 values\n",
    "    plt.subplot(1, 2, 2)\n",
    "    plt.boxplot(bottom_50_values)\n",
    "    plt.title('Bottom 50 Values in Column 16')\n",
    "    plt.ylabel('Values')\n",
    "\n",
    "    # Show the box plots\n",
    "    plt.tight_layout()\n",
    "    plt.show()\n",
    "\n",
    "except Exception as e:\n",
    "    raise ValueError(f\"Error processing the 16th column: {e}\")\n"
   ]
  },
  {
   "cell_type": "code",
   "execution_count": 14,
   "metadata": {},
   "outputs": [
    {
     "name": "stdout",
     "output_type": "stream",
     "text": [
      "Sample Mean: 2.846\n",
      "Sample Median: 2.3\n",
      "Sample Variance: 1.5813102040816327\n",
      "Sample Standard Deviation: 1.2575015721984735\n",
      "Top 50 values saved to 'top_50_values_column_9.csv'\n",
      "Statistics saved to 'top_50_stats_column_9.csv'\n"
     ]
    }
   ],
   "source": [
    "import pandas as pd\n",
    "import os\n",
    "\n",
    "# Define the path to your CSV file\n",
    "csv_file_path = 'WPA_2023.csv'\n",
    "\n",
    "# Check if the file exists\n",
    "if not os.path.exists(csv_file_path):\n",
    "    raise FileNotFoundError(f\"The file '{csv_file_path}' does not exist.\")\n",
    "\n",
    "try:\n",
    "    # Attempt to read the CSV file with different encodings\n",
    "    try:\n",
    "        df = pd.read_csv(csv_file_path, encoding='utf-8')\n",
    "    except UnicodeDecodeError:\n",
    "        try:\n",
    "            df = pd.read_csv(csv_file_path, encoding='latin1')\n",
    "        except UnicodeDecodeError:\n",
    "            df = pd.read_csv(csv_file_path, encoding='iso-8859-1')\n",
    "except Exception as e:\n",
    "    raise ValueError(f\"Error reading the CSV file: {e}\")\n",
    "\n",
    "# Ensure the CSV file has at least 9 columns\n",
    "if df.shape[1] < 9:\n",
    "    raise ValueError(\"The CSV file does not have at least 9 columns.\")\n",
    "\n",
    "try:\n",
    "    # Extract the 9th column (index 8, since indexing starts from 0)\n",
    "    column_9 = df.iloc[:, 8]\n",
    "\n",
    "    # Ensure the column contains numeric values\n",
    "    column_9 = pd.to_numeric(column_9, errors='coerce')\n",
    "    \n",
    "    # Drop NaN values that cannot be converted to numeric\n",
    "    column_9 = column_9.dropna()\n",
    "\n",
    "    # Sort the column in descending order and select the top 50 values\n",
    "    top_50_values = column_9.nlargest(50)\n",
    "\n",
    "    # Compute statistics\n",
    "    sample_mean = top_50_values.mean()\n",
    "    sample_median = top_50_values.median()\n",
    "    sample_variance = top_50_values.var()\n",
    "    sample_std_dev = top_50_values.std()\n",
    "\n",
    "    # Print the results\n",
    "    print(\"Sample Mean:\", sample_mean)\n",
    "    print(\"Sample Median:\", sample_median)\n",
    "    print(\"Sample Variance:\", sample_variance)\n",
    "    print(\"Sample Standard Deviation:\", sample_std_dev)\n",
    "\n",
    "    # Optionally, you can save the top 50 values and their statistics to a new CSV file\n",
    "    top_50_values.to_csv('top_50_values_column_9.csv', index=False)\n",
    "    stats_df = pd.DataFrame({\n",
    "        'Statistic': ['Sample Mean', 'Sample Median', 'Sample Variance', 'Sample Standard Deviation'],\n",
    "        'Value': [sample_mean, sample_median, sample_variance, sample_std_dev]\n",
    "    })\n",
    "    stats_df.to_csv('top_50_stats_column_9.csv', index=False)\n",
    "    print(\"Top 50 values saved to 'top_50_values_column_9.csv'\")\n",
    "    print(\"Statistics saved to 'top_50_stats_column_9.csv'\")\n",
    "except Exception as e:\n",
    "    raise ValueError(f\"Error processing the 9th column: {e}\")\n"
   ]
  },
  {
   "cell_type": "code",
   "execution_count": 13,
   "metadata": {},
   "outputs": [
    {
     "name": "stdout",
     "output_type": "stream",
     "text": [
      "Sample Mean: -2.0759999999999996\n",
      "Sample Median: -1.8\n",
      "Sample Variance: 0.30390204081632644\n",
      "Sample Standard Deviation: 0.5512731090995882\n",
      "Bottom 50 values saved to 'bottom_50_values_column_9.csv'\n",
      "Statistics saved to 'bottom_50_stats_column_9.csv'\n"
     ]
    }
   ],
   "source": [
    "import pandas as pd\n",
    "import os\n",
    "\n",
    "# Define the path to your CSV file\n",
    "csv_file_path = 'WPA_2023.csv'\n",
    "\n",
    "# Check if the file exists\n",
    "if not os.path.exists(csv_file_path):\n",
    "    raise FileNotFoundError(f\"The file '{csv_file_path}' does not exist.\")\n",
    "\n",
    "try:\n",
    "    # Attempt to read the CSV file with different encodings\n",
    "    try:\n",
    "        df = pd.read_csv(csv_file_path, encoding='utf-8')\n",
    "    except UnicodeDecodeError:\n",
    "        try:\n",
    "            df = pd.read_csv(csv_file_path, encoding='latin1')\n",
    "        except UnicodeDecodeError:\n",
    "            df = pd.read_csv(csv_file_path, encoding='iso-8859-1')\n",
    "except Exception as e:\n",
    "    raise ValueError(f\"Error reading the CSV file: {e}\")\n",
    "\n",
    "# Ensure the CSV file has at least 9 columns\n",
    "if df.shape[1] < 9:\n",
    "    raise ValueError(\"The CSV file does not have at least 9 columns.\")\n",
    "\n",
    "try:\n",
    "    # Extract the 9th column (index 8, since indexing starts from 0)\n",
    "    column_9 = df.iloc[:, 8]\n",
    "\n",
    "    # Ensure the column contains numeric values\n",
    "    column_9 = pd.to_numeric(column_9, errors='coerce')\n",
    "    \n",
    "    # Drop NaN values that cannot be converted to numeric\n",
    "    column_9 = column_9.dropna()\n",
    "\n",
    "    # Sort the column in ascending order and select the lowest 50 values\n",
    "    bottom_50_values = column_9.nsmallest(50)\n",
    "\n",
    "    # Compute statistics\n",
    "    sample_mean = bottom_50_values.mean()\n",
    "    sample_median = bottom_50_values.median()\n",
    "    sample_variance = bottom_50_values.var()\n",
    "    sample_std_dev = bottom_50_values.std()\n",
    "\n",
    "    # Print the results\n",
    "    print(\"Sample Mean:\", sample_mean)\n",
    "    print(\"Sample Median:\", sample_median)\n",
    "    print(\"Sample Variance:\", sample_variance)\n",
    "    print(\"Sample Standard Deviation:\", sample_std_dev)\n",
    "\n",
    "    # Optionally, you can save the lowest 50 values and their statistics to a new CSV file\n",
    "    bottom_50_values.to_csv('bottom_50_values_column_9.csv', index=False)\n",
    "    stats_df = pd.DataFrame({\n",
    "        'Statistic': ['Sample Mean', 'Sample Median', 'Sample Variance', 'Sample Standard Deviation'],\n",
    "        'Value': [sample_mean, sample_median, sample_variance, sample_std_dev]\n",
    "    })\n",
    "    stats_df.to_csv('bottom_50_stats_column_9.csv', index=False)\n",
    "    print(\"Bottom 50 values saved to 'bottom_50_values_column_9.csv'\")\n",
    "    print(\"Statistics saved to 'bottom_50_stats_column_9.csv'\")\n",
    "except Exception as e:\n",
    "    raise ValueError(f\"Error processing the 9th column: {e}\")\n"
   ]
  },
  {
   "cell_type": "code",
   "execution_count": 12,
   "metadata": {},
   "outputs": [
    {
     "name": "stdout",
     "output_type": "stream",
     "text": [
      "Top 50 Values:\n",
      "Sample Mean: 2.846\n",
      "Sample Median: 2.3\n",
      "Sample Variance: 1.5813102040816327\n",
      "Sample Standard Deviation: 1.2575015721984735\n",
      "Bottom 50 Values:\n",
      "Sample Mean: -2.0759999999999996\n",
      "Sample Median: -1.8\n",
      "Sample Variance: 0.30390204081632644\n",
      "Sample Standard Deviation: 0.5512731090995882\n",
      "Top 50 values saved to 'top_50_values_column_9.csv'\n",
      "Bottom 50 values saved to 'bottom_50_values_column_9.csv'\n",
      "Statistics saved to 'top_50_stats_column_9.csv' and 'bottom_50_stats_column_9.csv'\n"
     ]
    },
    {
     "data": {
      "image/png": "[encoded data removed]",
      "text/plain": [
       "<Figure size 1200x600 with 2 Axes>"
      ]
     },
     "metadata": {},
     "output_type": "display_data"
    }
   ],
   "source": [
    "import pandas as pd\n",
    "import os\n",
    "import matplotlib.pyplot as plt\n",
    "\n",
    "# Define the path to your CSV file\n",
    "csv_file_path = 'WPA_2023.csv'\n",
    "\n",
    "# Check if the file exists\n",
    "if not os.path.exists(csv_file_path):\n",
    "    raise FileNotFoundError(f\"The file '{csv_file_path}' does not exist.\")\n",
    "\n",
    "try:\n",
    "    # Attempt to read the CSV file with different encodings\n",
    "    try:\n",
    "        df = pd.read_csv(csv_file_path, encoding='utf-8')\n",
    "    except UnicodeDecodeError:\n",
    "        try:\n",
    "            df = pd.read_csv(csv_file_path, encoding='latin1')\n",
    "        except UnicodeDecodeError:\n",
    "            df = pd.read_csv(csv_file_path, encoding='iso-8859-1')\n",
    "except Exception as e:\n",
    "    raise ValueError(f\"Error reading the CSV file: {e}\")\n",
    "\n",
    "# Ensure the CSV file has at least 9 columns\n",
    "if df.shape[1] < 9:\n",
    "    raise ValueError(\"The CSV file does not have at least 9 columns.\")\n",
    "\n",
    "try:\n",
    "    # Extract the 9th column (index 8, since indexing starts from 0)\n",
    "    column_9 = df.iloc[:, 8]\n",
    "\n",
    "    # Ensure the column contains numeric values\n",
    "    column_9 = pd.to_numeric(column_9, errors='coerce')\n",
    "    \n",
    "    # Drop NaN values that cannot be converted to numeric\n",
    "    column_9 = column_9.dropna()\n",
    "\n",
    "    # Sort the column in descending order and select the top 50 values\n",
    "    top_50_values = column_9.nlargest(50)\n",
    "\n",
    "    # Sort the column in ascending order and select the lowest 50 values\n",
    "    bottom_50_values = column_9.nsmallest(50)\n",
    "\n",
    "    # Compute statistics for top 50 values\n",
    "    top_50_mean = top_50_values.mean()\n",
    "    top_50_median = top_50_values.median()\n",
    "    top_50_variance = top_50_values.var()\n",
    "    top_50_std_dev = top_50_values.std()\n",
    "\n",
    "    # Compute statistics for bottom 50 values\n",
    "    bottom_50_mean = bottom_50_values.mean()\n",
    "    bottom_50_median = bottom_50_values.median()\n",
    "    bottom_50_variance = bottom_50_values.var()\n",
    "    bottom_50_std_dev = bottom_50_values.std()\n",
    "\n",
    "    # Print the results for top 50 values\n",
    "    print(\"Top 50 Values:\")\n",
    "    print(\"Sample Mean:\", top_50_mean)\n",
    "    print(\"Sample Median:\", top_50_median)\n",
    "    print(\"Sample Variance:\", top_50_variance)\n",
    "    print(\"Sample Standard Deviation:\", top_50_std_dev)\n",
    "\n",
    "    # Print the results for bottom 50 values\n",
    "    print(\"Bottom 50 Values:\")\n",
    "    print(\"Sample Mean:\", bottom_50_mean)\n",
    "    print(\"Sample Median:\", bottom_50_median)\n",
    "    print(\"Sample Variance:\", bottom_50_variance)\n",
    "    print(\"Sample Standard Deviation:\", bottom_50_std_dev)\n",
    "\n",
    "    # Optionally, you can save the top 50 values and their statistics to a new CSV file\n",
    "    top_50_values.to_csv('top_50_values_column_9.csv', index=False)\n",
    "    bottom_50_values.to_csv('bottom_50_values_column_9.csv', index=False)\n",
    "    top_50_stats_df = pd.DataFrame({\n",
    "        'Statistic': ['Sample Mean', 'Sample Median', 'Sample Variance', 'Sample Standard Deviation'],\n",
    "        'Value': [top_50_mean, top_50_median, top_50_variance, top_50_std_dev]\n",
    "    })\n",
    "    bottom_50_stats_df = pd.DataFrame({\n",
    "        'Statistic': ['Sample Mean', 'Sample Median', 'Sample Variance', 'Sample Standard Deviation'],\n",
    "        'Value': [bottom_50_mean, bottom_50_median, bottom_50_variance, bottom_50_std_dev]\n",
    "    })\n",
    "    top_50_stats_df.to_csv('top_50_stats_column_9.csv', index=False)\n",
    "    bottom_50_stats_df.to_csv('bottom_50_stats_column_9.csv', index=False)\n",
    "    print(\"Top 50 values saved to 'top_50_values_column_9.csv'\")\n",
    "    print(\"Bottom 50 values saved to 'bottom_50_values_column_9.csv'\")\n",
    "    print(\"Statistics saved to 'top_50_stats_column_9.csv' and 'bottom_50_stats_column_9.csv'\")\n",
    "\n",
    "    # Create box plots\n",
    "    plt.figure(figsize=(12, 6))\n",
    "\n",
    "    # Box plot for top 50 values\n",
    "    plt.subplot(1, 2, 1)\n",
    "    plt.boxplot(top_50_values)\n",
    "    plt.title('Top 50 Values in Column 9')\n",
    "    plt.ylabel('Values')\n",
    "\n",
    "    # Box plot for bottom 50 values\n",
    "    plt.subplot(1, 2, 2)\n",
    "    plt.boxplot(bottom_50_values)\n",
    "    plt.title('Bottom 50 Values in Column 9')\n",
    "    plt.ylabel('Values')\n",
    "\n",
    "    # Show the box plots\n",
    "    plt.tight_layout()\n",
    "    plt.show()\n",
    "\n",
    "except Exception as e:\n",
    "    raise ValueError(f\"Error processing the 9th column: {e}\")\n"
   ]
  },
  {
   "cell_type": "code",
   "execution_count": 17,
   "metadata": {},
   "outputs": [
    {
     "data": {
      "image/png": "[encoded data removed]",
      "text/plain": [
       "<Figure size 1200x600 with 2 Axes>"
      ]
     },
     "metadata": {},
     "output_type": "display_data"
    }
   ],
   "source": [
    "import pandas as pd\n",
    "import os\n",
    "import matplotlib.pyplot as plt\n",
    "\n",
    "# Define the paths to your CSV files\n",
    "war_csv_file_path = 'WAR_2023.csv'\n",
    "wpa_csv_file_path = 'WPA_2023.csv'\n",
    "\n",
    "# Function to read CSV file with multiple encoding options\n",
    "def read_csv_with_encodings(file_path):\n",
    "    try:\n",
    "        return pd.read_csv(file_path, encoding='utf-8')\n",
    "    except UnicodeDecodeError:\n",
    "        try:\n",
    "            return pd.read_csv(file_path, encoding='latin1')\n",
    "        except UnicodeDecodeError:\n",
    "            return pd.read_csv(file_path, encoding='iso-8859-1')\n",
    "\n",
    "# Check if the files exist\n",
    "if not os.path.exists(war_csv_file_path):\n",
    "    raise FileNotFoundError(f\"The file '{war_csv_file_path}' does not exist.\")\n",
    "if not os.path.exists(wpa_csv_file_path):\n",
    "    raise FileNotFoundError(f\"The file '{wpa_csv_file_path}' does not exist.\")\n",
    "\n",
    "try:\n",
    "    # Read the CSV files\n",
    "    war_df = read_csv_with_encodings(war_csv_file_path)\n",
    "    wpa_df = read_csv_with_encodings(wpa_csv_file_path)\n",
    "except Exception as e:\n",
    "    raise ValueError(f\"Error reading the CSV files: {e}\")\n",
    "\n",
    "# Ensure the CSV files have at least 16 and 9 columns respectively\n",
    "if war_df.shape[1] < 16:\n",
    "    raise ValueError(\"The 'WAR_2023.csv' file does not have at least 16 columns.\")\n",
    "if wpa_df.shape[1] < 9:\n",
    "    raise ValueError(\"The 'WPA_2023.csv' file does not have at least 9 columns.\")\n",
    "\n",
    "try:\n",
    "    # Extract the 16th column from WAR_2023.csv and 9th column from WPA_2023.csv\n",
    "    war_column_16 = war_df.iloc[:, 15]\n",
    "    wpa_column_9 = wpa_df.iloc[:, 8]\n",
    "\n",
    "    # Ensure the columns contain numeric values\n",
    "    war_column_16 = pd.to_numeric(war_column_16, errors='coerce').dropna()\n",
    "    wpa_column_9 = pd.to_numeric(wpa_column_9, errors='coerce').dropna()\n",
    "\n",
    "    # Sort the columns and select the top 50 and bottom 50 values\n",
    "    war_top_50_values = war_column_16.nlargest(50)\n",
    "    war_bottom_50_values = war_column_16.nsmallest(50)\n",
    "    wpa_top_50_values = wpa_column_9.nlargest(50)\n",
    "    wpa_bottom_50_values = wpa_column_9.nsmallest(50)\n",
    "\n",
    "    # Combine the top 50 and bottom 50 values from both datasets\n",
    "    combined_top_50_values = pd.concat([war_top_50_values, wpa_top_50_values], ignore_index=True)\n",
    "    combined_bottom_50_values = pd.concat([war_bottom_50_values, wpa_bottom_50_values], ignore_index=True)\n",
    "\n",
    "    # Create box plots\n",
    "    plt.figure(figsize=(12, 6))\n",
    "\n",
    "    # Box plot for combined top 50 values\n",
    "    plt.subplot(1, 2, 1)\n",
    "    plt.boxplot(combined_top_50_values)\n",
    "    plt.title('Top 50 Combined Values (WAR and WPA)')\n",
    "    plt.ylabel('Values')\n",
    "\n",
    "    # Box plot for combined bottom 50 values\n",
    "    plt.subplot(1, 2, 2)\n",
    "    plt.boxplot(combined_bottom_50_values)\n",
    "    plt.title('Bottom 50 Combined Values (WAR and WPA)')\n",
    "    plt.ylabel('Values')\n",
    "\n",
    "    # Show the box plots\n",
    "    plt.tight_layout()\n",
    "    plt.show()\n",
    "\n",
    "except Exception as e:\n",
    "    raise ValueError(f\"Error processing the columns: {e}\")\n"
   ]
  },
  {
   "cell_type": "code",
   "execution_count": 18,
   "metadata": {},
   "outputs": [
    {
     "name": "stdout",
     "output_type": "stream",
     "text": [
      "Columns in CSV: ['Rk', 'Name', 'Age', 'Tm', 'G', 'PA', 'Rbat', 'Rbaser', 'Rdp', 'Rfield', 'Rpos', 'RAA', 'WAA', 'Rrep', 'RAR', 'WAR', 'waaWL%', '162WL%', 'oWAR', 'dWAR', 'oRAR', 'Salary', 'Acquired', 'Pos\\xa0Summary', 'Name-additional']\n",
      "Top 50 WAR values: 68     8.3\n",
      "3      8.2\n",
      "502    7.4\n",
      "617    7.4\n",
      "614    6.9\n",
      "227    6.5\n",
      "299    6.2\n",
      "379    6.0\n",
      "499    6.0\n",
      "565    5.9\n",
      "352    5.8\n",
      "224    5.5\n",
      "644    5.5\n",
      "671    5.5\n",
      "119    5.4\n",
      "700    5.4\n",
      "249    5.3\n",
      "576    5.3\n",
      "182    5.2\n",
      "153    5.1\n",
      "313    5.1\n",
      "552    5.1\n",
      "570    5.0\n",
      "36     4.9\n",
      "69     4.9\n",
      "82     4.9\n",
      "406    4.9\n",
      "668    4.8\n",
      "13     4.7\n",
      "23     4.6\n",
      "336    4.5\n",
      "60     4.4\n",
      "75     4.4\n",
      "133    4.4\n",
      "754    4.4\n",
      "335    4.3\n",
      "466    4.3\n",
      "596    4.3\n",
      "658    4.3\n",
      "238    4.2\n",
      "515    4.2\n",
      "635    4.1\n",
      "291    4.0\n",
      "351    3.9\n",
      "474    3.9\n",
      "490    3.9\n",
      "710    3.9\n",
      "144    3.8\n",
      "231    3.8\n",
      "520    3.8\n",
      "Name: WAR, dtype: float64\n",
      "Top 50 Win Percentage values: 68     0.539\n",
      "3      0.538\n",
      "502    0.532\n",
      "617    0.531\n",
      "614    0.532\n",
      "227    0.527\n",
      "299    0.525\n",
      "379    0.524\n",
      "499    0.528\n",
      "565    0.523\n",
      "352    0.523\n",
      "224    0.524\n",
      "644    0.520\n",
      "671    0.522\n",
      "119    0.521\n",
      "700    0.520\n",
      "249    0.520\n",
      "576    0.519\n",
      "182    0.520\n",
      "153    0.519\n",
      "313    0.519\n",
      "552    0.518\n",
      "570    0.519\n",
      "36     0.518\n",
      "69     0.519\n",
      "82     0.516\n",
      "406    0.518\n",
      "668    0.517\n",
      "13     0.517\n",
      "23     0.519\n",
      "336    0.518\n",
      "60     0.516\n",
      "75     0.514\n",
      "133    0.515\n",
      "754    0.513\n",
      "335    0.518\n",
      "466    0.519\n",
      "596    0.513\n",
      "658    0.514\n",
      "238    0.513\n",
      "515    0.514\n",
      "635    0.515\n",
      "291    0.514\n",
      "351    0.515\n",
      "474    0.516\n",
      "490    0.512\n",
      "710    0.512\n",
      "144    0.511\n",
      "231    0.513\n",
      "520    0.511\n",
      "Name: Win_Percentage, dtype: float64\n"
     ]
    },
    {
     "data": {
      "image/png": "[encoded data removed]",
      "text/plain": [
       "<Figure size 1000x600 with 1 Axes>"
      ]
     },
     "metadata": {},
     "output_type": "display_data"
    },
    {
     "name": "stdout",
     "output_type": "stream",
     "text": [
      "Top 50 WAR Winning Percentage Stats:\n",
      "Mean: 0.51946\n",
      "Median: 0.5185\n",
      "Variance: 4.225346938775518e-05\n",
      "Standard Deviation: 0.006500266870502717\n"
     ]
    }
   ],
   "source": [
    "import pandas as pd\n",
    "import matplotlib.pyplot as plt\n",
    "import numpy as np\n",
    "import os\n",
    "\n",
    "# Define the path to your CSV file\n",
    "csv_file_path = 'WAR_2023.csv'\n",
    "\n",
    "# Check if the file exists\n",
    "if not os.path.exists(csv_file_path):\n",
    "    raise FileNotFoundError(f\"The file '{csv_file_path}' does not exist.\")\n",
    "\n",
    "# Function to read CSV file with multiple encoding options\n",
    "def read_csv_with_encodings(file_path):\n",
    "    try:\n",
    "        return pd.read_csv(file_path, encoding='utf-8')\n",
    "    except UnicodeDecodeError:\n",
    "        try:\n",
    "            return pd.read_csv(file_path, encoding='latin1')\n",
    "        except UnicodeDecodeError:\n",
    "            return pd.read_csv(file_path, encoding='iso-8859-1')\n",
    "\n",
    "try:\n",
    "    # Read the CSV file\n",
    "    df = read_csv_with_encodings(csv_file_path)\n",
    "except Exception as e:\n",
    "    raise ValueError(f\"Error reading the CSV file: {e}\")\n",
    "\n",
    "# Print column names for debug purposes\n",
    "print(f\"Columns in CSV: {df.columns.tolist()}\")\n",
    "\n",
    "# Ensure the CSV file has at least 16 and 18 columns respectively\n",
    "if df.shape[1] < 18:\n",
    "    raise ValueError(\"The CSV file does not have at least 18 columns.\")\n",
    "\n",
    "try:\n",
    "    # Extract the 16th column (WAR) and 18th column (Win_Percentage)\n",
    "    war_column_16 = df.iloc[:, 15]\n",
    "    win_percentage_column_18 = df.iloc[:, 17]\n",
    "\n",
    "    # Ensure the columns contain numeric values\n",
    "    war_column_16 = pd.to_numeric(war_column_16, errors='coerce')\n",
    "    win_percentage_column_18 = pd.to_numeric(win_percentage_column_18, errors='coerce')\n",
    "\n",
    "    # Drop rows where either WAR or Win_Percentage is NaN\n",
    "    combined_df = pd.DataFrame({\n",
    "        'WAR': war_column_16,\n",
    "        'Win_Percentage': win_percentage_column_18\n",
    "    }).dropna()\n",
    "\n",
    "    # Sort WAR column in descending order and get the indices of the top 50 values\n",
    "    top_50_indices = combined_df['WAR'].nlargest(50).index\n",
    "\n",
    "    # Get the corresponding win percentages for these top 50 WAR values\n",
    "    top_50_war = combined_df.loc[top_50_indices, 'WAR']\n",
    "    top_50_win_percentage = combined_df.loc[top_50_indices, 'Win_Percentage']\n",
    "\n",
    "    # Print samples of the top 50 WAR and win percentages for debug purposes\n",
    "    print(f\"Top 50 WAR values: {top_50_war}\")\n",
    "    print(f\"Top 50 Win Percentage values: {top_50_win_percentage}\")\n",
    "\n",
    "    # Create a scatter plot to visualize the relationship between top 50 WAR and Win_Percentage\n",
    "    plt.figure(figsize=(10, 6))\n",
    "    plt.scatter(top_50_war, top_50_win_percentage, alpha=0.7)\n",
    "    plt.title('Top 50 WAR vs. Win Percentage')\n",
    "    plt.xlabel('WAR')\n",
    "    plt.ylabel('Win Percentage')\n",
    "    plt.grid(True)\n",
    "\n",
    "    # Optionally, fit a regression line\n",
    "    z = np.polyfit(top_50_war, top_50_win_percentage, 1)\n",
    "    p = np.poly1d(z)\n",
    "    plt.plot(top_50_war, p(top_50_war), \"r--\")\n",
    "\n",
    "    # Show the plot\n",
    "    plt.tight_layout()\n",
    "    plt.show()\n",
    "\n",
    "    # Compute statistics for top 50 WAR values\n",
    "    print(\"Top 50 WAR Winning Percentage Stats:\")\n",
    "    print(f\"Mean: {top_50_win_percentage.mean()}\")\n",
    "    print(f\"Median: {top_50_win_percentage.median()}\")\n",
    "    print(f\"Variance: {top_50_win_percentage.var()}\")\n",
    "    print(f\"Standard Deviation: {top_50_win_percentage.std()}\")\n",
    "\n",
    "except Exception as e:\n",
    "    raise ValueError(f\"Error processing the columns: {e}\")\n"
   ]
  },
  {
   "cell_type": "code",
   "execution_count": 19,
   "metadata": {},
   "outputs": [
    {
     "name": "stdout",
     "output_type": "stream",
     "text": [
      "Columns in CSV: ['Rk', 'Name', 'Age', 'Tm', 'G', 'PA', 'Rbat', 'Rbaser', 'Rdp', 'Rfield', 'Rpos', 'RAA', 'WAA', 'Rrep', 'RAR', 'WAR', 'waaWL%', '162WL%', 'oWAR', 'dWAR', 'oRAR', 'Salary', 'Acquired', 'Pos\\xa0Summary', 'Name-additional']\n"
     ]
    },
    {
     "data": {
      "image/png": "[encoded data removed]",
      "text/plain": [
       "<Figure size 1000x600 with 1 Axes>"
      ]
     },
     "metadata": {},
     "output_type": "display_data"
    }
   ],
   "source": [
    "import pandas as pd\n",
    "import matplotlib.pyplot as plt\n",
    "import os\n",
    "\n",
    "# Define the path to your CSV file\n",
    "csv_file_path = 'WAR_2023.csv'\n",
    "\n",
    "# Check if the file exists\n",
    "if not os.path.exists(csv_file_path):\n",
    "    raise FileNotFoundError(f\"The file '{csv_file_path}' does not exist.\")\n",
    "\n",
    "# Function to read CSV file with multiple encoding options\n",
    "def read_csv_with_encodings(file_path):\n",
    "    try:\n",
    "        return pd.read_csv(file_path, encoding='utf-8')\n",
    "    except UnicodeDecodeError:\n",
    "        try:\n",
    "            return pd.read_csv(file_path, encoding='latin1')\n",
    "        except UnicodeDecodeError:\n",
    "            return pd.read_csv(file_path, encoding='iso-8859-1')\n",
    "\n",
    "try:\n",
    "    # Read the CSV file\n",
    "    df = read_csv_with_encodings(csv_file_path)\n",
    "except Exception as e:\n",
    "    raise ValueError(f\"Error reading the CSV file: {e}\")\n",
    "\n",
    "# Print column names for debug purposes\n",
    "print(f\"Columns in CSV: {df.columns.tolist()}\")\n",
    "\n",
    "# Ensure the CSV file has at least 16 columns\n",
    "if df.shape[1] < 16:\n",
    "    raise ValueError(\"The CSV file does not have at least 16 columns.\")\n",
    "\n",
    "try:\n",
    "    # Extract the 16th column (WAR)\n",
    "    war_column_16 = df.iloc[:, 15]\n",
    "\n",
    "    # Ensure the column contains numeric values\n",
    "    war_column_16 = pd.to_numeric(war_column_16, errors='coerce').dropna()\n",
    "\n",
    "    # Extract top 50 and bottom 50 WAR values\n",
    "    top_50_war = war_column_16.nlargest(50)\n",
    "    bottom_50_war = war_column_16.nsmallest(50)\n",
    "\n",
    "    # Sort the indices for plotting purposes\n",
    "    top_50_war_sorted = top_50_war.sort_index()\n",
    "    bottom_50_war_sorted = bottom_50_war.sort_index()\n",
    "\n",
    "    # Create a line graph to visualize the highest and lowest WAR values\n",
    "    plt.figure(figsize=(10, 6))\n",
    "    plt.plot(top_50_war_sorted.index, top_50_war_sorted.values, marker='o', linestyle='-', label='Highest WAR')\n",
    "    plt.plot(bottom_50_war_sorted.index, bottom_50_war_sorted.values, marker='o', linestyle='-', label='Lowest WAR')\n",
    "    plt.title('WAR per 162 Games')\n",
    "    plt.xlabel('Index')\n",
    "    plt.ylabel('WAR')\n",
    "    plt.grid(True)\n",
    "    plt.legend()\n",
    "\n",
    "    # Show the plot\n",
    "    plt.tight_layout()\n",
    "    plt.show()\n",
    "\n",
    "except Exception as e:\n",
    "    raise ValueError(f\"Error processing the data: {e}\")\n"
   ]
  },
  {
   "cell_type": "code",
   "execution_count": 20,
   "metadata": {},
   "outputs": [
    {
     "name": "stdout",
     "output_type": "stream",
     "text": [
      "Loading from file\n",
      "Data loaded successfully\n",
      "   Rk              Name  Age   PA   Tm  BtRuns  BtWins  Plays  WPA  WPA+  ...  \\\n",
      "0   1        CJ Abrams*   22  614  WSN    -5.0    -0.5    670 -1.0  11.4  ...   \n",
      "1   2        José Abreu   36  594  HOU   -10.3    -1.0    602 -1.2  10.2  ...   \n",
      "2   3     Wilyer Abreu*   24   85  BOS     3.6     0.4     89 -0.1   1.4  ...   \n",
      "3   4  Ronald Acuña Jr.   25  735  ATL    63.5     6.0    843  6.8  17.0  ...   \n",
      "4   5      Willy Adames   27  638  MIL    -3.0    -0.3    651 -0.7  10.7  ...   \n",
      "\n",
      "     cWPA-  acLI  cClutch  RE24  REW  boLI RE24/boLI  PHlev AB  \\\n",
      "0   -1.90%  0.26   -0.40%  -3.6 -0.4  0.97       1.4   2.19  1   \n",
      "1  -11.60%  1.75    0.30%  -2.1 -0.2  1.00     -11.7    NaN  0   \n",
      "2   -0.20%  0.24   -0.30%   4.8  0.5  0.95       4.4   1.80  6   \n",
      "3   -4.50%  0.66    0.30%  73.5  6.9  0.95      73.4    NaN  0   \n",
      "4   -7.00%  1.00   -0.50%  -7.1 -0.7  0.93      -5.6    NaN  0   \n",
      "\n",
      "   Name-additional  \n",
      "0        abramcj01  \n",
      "1        abreujo02  \n",
      "2        abreuwi02  \n",
      "3        acunaro01  \n",
      "4        adamewi01  \n",
      "\n",
      "[5 rows x 26 columns]\n"
     ]
    }
   ],
   "source": [
    "import os\n",
    "import pandas as pd\n",
    "import requests\n",
    "\n",
    "filepath = \"WPA_2023.csv\"\n",
    "\n",
    "if os.path.isfile(filepath):\n",
    "    print(\"Loading from file\")\n",
    "    try:\n",
    "        wpa_data = pd.read_csv(filepath, encoding='utf-8')\n",
    "    except UnicodeDecodeError:\n",
    "        wpa_data = pd.read_csv(filepath, encoding='latin1')\n",
    "else:\n",
    "    url = \"https://www.baseball-reference.com/leagues/majors/2023-win_probability-batting.shtml\"\n",
    "    print(\"Loading from the internet\")\n",
    "    \n",
    "    # Use requests to fetch the data\n",
    "    response = requests.get(url)\n",
    "    if response.status_code == 200:\n",
    "        # Parse the HTML content using pandas\n",
    "        try:\n",
    "            wpa_data = pd.read_html(response.text)[0]\n",
    "            \n",
    "            # Save the data to a CSV file for future use\n",
    "            wpa_data.to_csv(filepath, index=False, encoding='utf-8')\n",
    "        except ValueError:\n",
    "            print(\"Failed to parse HTML content\")\n",
    "            wpa_data = None\n",
    "    else:\n",
    "        print(\"Failed to retrieve data from the internet\")\n",
    "        wpa_data = None\n",
    "\n",
    "if wpa_data is not None:\n",
    "    print(\"Data loaded successfully\")\n",
    "    # Display the first few rows of the dataframe\n",
    "    print(wpa_data.head())\n",
    "else:\n",
    "    print(\"Data not available\")\n"
   ]
  },
  {
   "cell_type": "markdown",
   "metadata": {
    "slideshow": {
     "slide_type": "slide"
    }
   },
   "source": [
    "We can also get the list of columns out of the data frame"
   ]
  },
  {
   "cell_type": "code",
   "execution_count": null,
   "metadata": {
    "slideshow": {
     "slide_type": "fragment"
    }
   },
   "outputs": [],
   "source": [
    "\n",
    "if war_data is not None:\n",
    "    print(\"Data loaded successfully\")\n",
    "    \n",
    "    # Ensure the 'WAR' column is numeric\n",
    "    war_data['WAR'] = pd.to_numeric(war_data['WAR'], errors='coerce')\n",
    "    \n",
    "    # Sort the data by the 'WAR' column in descending order and get the top 50 scores\n",
    "    top_50_war = war_data.nlargest(50, 'WAR')\n",
    "    \n",
    "    # Display the top 50 WAR scores along with columns 2, 3, 4, and 5\n",
    "    print(top_50_war.iloc[:, [1, 2, 3, 4, 5, war_data.columns.get_loc('WAR')]])\n",
    "else:\n",
    "    print(\"Data not available\")\n",
    "\n"
   ]
  },
  {
   "cell_type": "markdown",
   "metadata": {},
   "source": [
    "probly examempt traded players"
   ]
  },
  {
   "cell_type": "code",
   "execution_count": null,
   "metadata": {},
   "outputs": [],
   "source": [
    "if war_data is not None:\n",
    "    print(\"Data loaded successfully\")\n",
    "    \n",
    "    # Ensure the 'WAR' column is numeric\n",
    "    war_data['WAR'] = pd.to_numeric(war_data['WAR'], errors='coerce')\n",
    "    \n",
    "    # Sort the data by the 'WAR' column in ascending order and get the bottom 50 scores\n",
    "    bottom_50_war = war_data.nsmallest(50, 'WAR')\n",
    "    \n",
    "    # Display the bottom 50 WAR scores along with columns 2, 3, 4, and 5\n",
    "    print(bottom_50_war.iloc[:, [1, 2, 3, 4, 5, war_data.columns.get_loc('WAR')]])\n",
    "else:\n",
    "    print(\"Data not available\")"
   ]
  },
  {
   "cell_type": "markdown",
   "metadata": {},
   "source": [
    "This is useful for you when you are documenting your dataset, you can make each column a heading, and then describe that column's characteristics."
   ]
  },
  {
   "cell_type": "markdown",
   "metadata": {
    "slideshow": {
     "slide_type": "slide"
    }
   },
   "source": [
    "You can't index a row directly, you need to use the `iloc` property. That means the _interger location_, so the zeroeth row would be `df.iloc[0]`. \n",
    "\n",
    "This gives us the row as a _Series_.\n",
    "\n",
    "↓"
   ]
  },
  {
   "cell_type": "markdown",
   "metadata": {},
   "source": [
    "Histogram of WAR"
   ]
  },
  {
   "cell_type": "code",
   "execution_count": null,
   "metadata": {
    "slideshow": {
     "slide_type": "subslide"
    }
   },
   "outputs": [],
   "source": [
    "import matplotlib.pyplot as plt\n",
    "import seaborn as sns\n",
    "\n",
    "# Histogram of WAR\n",
    "plt.figure(figsize=(10, 6))\n",
    "sns.histplot(war_data['WAR'], bins=30, kde=True)\n",
    "plt.title('Distribution of WAR')\n",
    "plt.xlabel('WAR')\n",
    "plt.ylabel('Frequency')\n",
    "plt.show()\n"
   ]
  },
  {
   "cell_type": "code",
   "execution_count": null,
   "metadata": {},
   "outputs": [],
   "source": [
    "if wpa_data is not None:\n",
    "    plt.figure(figsize=(10, 6))\n",
    "    sns.histplot(wpa_data['WPA'], bins=30, kde=True)\n",
    "    plt.title('Distribution of WPA')\n",
    "    plt.xlabel('WPA')\n",
    "    plt.ylabel('Frequency')\n",
    "    plt.show()\n",
    "else:\n",
    "    print(\"wpa_data is not available.\")"
   ]
  },
  {
   "cell_type": "markdown",
   "metadata": {
    "slideshow": {
     "slide_type": "subslide"
    }
   },
   "source": [
    "Series objects are _very_ similar to dictionaries. They have more properties though."
   ]
  },
  {
   "cell_type": "code",
   "execution_count": null,
   "metadata": {},
   "outputs": [],
   "source": [
    "plt.figure(figsize=(10, 6))\n",
    "sns.scatterplot(x=war_data['WAR'], y=war_data['162WL%'])\n",
    "plt.title('WAR vs. Winning Percentage')\n",
    "plt.xlabel('WAR')\n",
    "plt.ylabel('Winning Percentage')\n",
    "plt.show()"
   ]
  },
  {
   "cell_type": "code",
   "execution_count": null,
   "metadata": {},
   "outputs": [],
   "source": [
    "# Merge WAR and WPA data on player names or IDs if available\n",
    "merged_data = pd.merge(war_data, wpa_data, on='Name', how='inner')\n",
    "\n",
    "# Scatter plot of WAR vs. WPA\n",
    "plt.figure(figsize=(10, 6))\n",
    "sns.scatterplot(x=merged_data['WAR'], y=merged_data['WPA'])\n",
    "plt.title('WAR vs. WPA')\n",
    "plt.xlabel('WAR')\n",
    "plt.ylabel('WPA')\n",
    "plt.show()\n"
   ]
  },
  {
   "cell_type": "code",
   "execution_count": null,
   "metadata": {
    "slideshow": {
     "slide_type": "-"
    }
   },
   "outputs": [],
   "source": [
    "row_one[\"IPouts\"]"
   ]
  },
  {
   "cell_type": "markdown",
   "metadata": {},
   "source": [
    "You can access them like a dictionary ☝ or you can access them like a property 👇. \n",
    "\n",
    "I like the `my_series.key_name` best, but it won't work if there are spaces in your column title. That can happen if you are getting the data from somewhere else (i.e. you didn't make it)."
   ]
  },
  {
   "cell_type": "code",
   "execution_count": null,
   "metadata": {},
   "outputs": [],
   "source": [
    "row_one.IPouts"
   ]
  },
  {
   "cell_type": "markdown",
   "metadata": {
    "slideshow": {
     "slide_type": "slide"
    }
   },
   "source": [
    "Doing the same thing on a dataframe gives us the whole column"
   ]
  },
  {
   "cell_type": "code",
   "execution_count": null,
   "metadata": {
    "slideshow": {
     "slide_type": "-"
    }
   },
   "outputs": [],
   "source": [
    "Pitching.IPouts"
   ]
  },
  {
   "cell_type": "code",
   "execution_count": null,
   "metadata": {
    "slideshow": {
     "slide_type": "slide"
    }
   },
   "outputs": [],
   "source": [
    "Pitching[\"IPouts\"].plot()"
   ]
  },
  {
   "cell_type": "markdown",
   "metadata": {
    "slideshow": {
     "slide_type": "fragment"
    }
   },
   "source": [
    "If we do a simple `plot` on this column we get a pretty dense, but useless graph. It much better one would be a histogram."
   ]
  },
  {
   "cell_type": "code",
   "execution_count": null,
   "metadata": {
    "slideshow": {
     "slide_type": "slide"
    }
   },
   "outputs": [],
   "source": [
    "Pitching.IPouts.hist()"
   ]
  },
  {
   "cell_type": "markdown",
   "metadata": {
    "slideshow": {
     "slide_type": "fragment"
    }
   },
   "source": [
    "The problem we have now is that almost _all_ fines are less than $2000, but there's a very long tail that fills up the right of the graph."
   ]
  },
  {
   "cell_type": "markdown",
   "metadata": {
    "slideshow": {
     "slide_type": "slide"
    }
   },
   "source": [
    "Let's exclude all the values above $3000, and see what it looks like.\n",
    "\n",
    "We can do that with a nice feature of pandas, _boolean indexing_:"
   ]
  },
  {
   "cell_type": "code",
   "execution_count": null,
   "metadata": {
    "slideshow": {
     "slide_type": "slide"
    }
   },
   "outputs": [],
   "source": [
    "Pitching.FACE_VALUE[Pitching.FACE_VALUE < 200].hist()\n"
   ]
  },
  {
   "cell_type": "markdown",
   "metadata": {
    "slideshow": {
     "slide_type": "slide"
    }
   },
   "source": [
    "That's pretty crazy/powerful, so let's see that happen a bit more clearly.\n",
    "\n",
    "We'll make our own series and call it  `some_numbers`\n",
    "\n",
    "Let's give it the values 0-99 "
   ]
  },
  {
   "cell_type": "code",
   "execution_count": null,
   "metadata": {
    "slideshow": {
     "slide_type": "slide"
    }
   },
   "outputs": [],
   "source": [
    "# Note the capital S, I have no idea why they did that!\n",
    "# but if you get an `AttributeError: 'module' object has no attribute 'series'` error...\n",
    "#                 v\n",
    "some_numbers = pd.Series(range(100))\n",
    "some_numbers.head()\n"
   ]
  },
  {
   "cell_type": "markdown",
   "metadata": {
    "slideshow": {
     "slide_type": "slide"
    }
   },
   "source": [
    "We can use boolean indexing to get just the values that are less than 8"
   ]
  },
  {
   "cell_type": "code",
   "execution_count": null,
   "metadata": {
    "slideshow": {
     "slide_type": "-"
    }
   },
   "outputs": [],
   "source": [
    "some_numbers[some_numbers < 8]"
   ]
  },
  {
   "cell_type": "code",
   "execution_count": null,
   "metadata": {},
   "outputs": [],
   "source": []
  },
  {
   "cell_type": "markdown",
   "metadata": {
    "slideshow": {
     "slide_type": "slide"
    }
   },
   "source": [
    "Or we can be fancy and get the numbers that are less than 4 _or_ more than 97:"
   ]
  },
  {
   "cell_type": "code",
   "execution_count": null,
   "metadata": {
    "slideshow": {
     "slide_type": "-"
    }
   },
   "outputs": [],
   "source": [
    "some_numbers[(some_numbers < 4) | (some_numbers >= 97)]\n",
    "# this needs the round brackets, not really sure why.\n"
   ]
  },
  {
   "cell_type": "markdown",
   "metadata": {
    "slideshow": {
     "slide_type": "slide"
    }
   },
   "source": [
    "We can be _really fancy_ too!  Allow me to introduce the:\n",
    "\n",
    "# 🎺 List comprehension 🎺\n",
    "\n",
    "This needs to resolve to a list of booleans that matches the list of inputs. It's filtering only for values that are True.\n",
    "\n",
    "If we use a list comprehension then we can do almost anything we like!"
   ]
  },
  {
   "cell_type": "code",
   "execution_count": null,
   "metadata": {
    "slideshow": {
     "slide_type": "slide"
    }
   },
   "outputs": [],
   "source": [
    "pets = [\"Dog\", \"Goat\", \"pig\", \"Sheep\", \"Cattle\", \"Zebu\", \"Cat\", \"Chicken\", \"Guinea pig\",             \n",
    "        \"Donkey\", \"duck\", \"Water buffalo\", \"Western honey bee\", \"dromedary camel\", \"Horse\", \n",
    "        \"silkmoth\", \"pigeon\", \"goose\", \"Yak\", \"Bactrian camel\", \"Llama\", \"Alpaca\",   \n",
    "        \"guineafowl\", \"Ferret\", \"muscovy duck\", \"Barbary dove\", \"Bali cattle\", \"Gayal\",\n",
    "        \"turkey\", \"Goldfish\", \"rabbit\", \"Koi\", \"canary\", \"Society finch\", \"Fancy mouse\",\n",
    "        \"Siamese fighting fish\", \"Fancy rat and Lab rat\", \"mink\", \"red fox\", \"hedgehog\",\n",
    "        \"Guppy\"]\n",
    "\n",
    "pets_series = pd.Series(pets)\n",
    "pattern_of_bools = [(\"n\" in pet_name) for pet_name in pets_series]\n",
    "print(\"pattern:\",pattern_of_bools)\n",
    "\n",
    "pets_series[pattern_of_bools]"
   ]
  },
  {
   "cell_type": "markdown",
   "metadata": {
    "slideshow": {
     "slide_type": "-"
    }
   },
   "source": [
    "_Note: the first `in` means a different thing to the second `in`. I was wondering if I should leave this out, but it's probably good to expose you to strange stuff!_\n",
    "\n",
    "You've seen this _pattern_ before, we used to make the grids of stars etc."
   ]
  },
  {
   "cell_type": "code",
   "execution_count": null,
   "metadata": {},
   "outputs": [],
   "source": [
    "pets_we_care_about = []\n",
    "for this_pet in pets:\n",
    "    if len(this_pet) == 4:\n",
    "        pets_we_care_about.append(this_pet)\n",
    "pets_we_care_about\n"
   ]
  },
  {
   "cell_type": "markdown",
   "metadata": {},
   "source": [
    "This comes up so often that python has a built in pattern for doing this called a _list comprehension_\n",
    "\n",
    "This one is pretty silly because it takes the contents of one list and makes a new list out of it. Not doing anything else along the way."
   ]
  },
  {
   "cell_type": "code",
   "execution_count": null,
   "metadata": {},
   "outputs": [],
   "source": [
    "[p for p in pets]"
   ]
  },
  {
   "cell_type": "markdown",
   "metadata": {},
   "source": [
    "This one converts the list to uppercase while it's doing the transfer"
   ]
  },
  {
   "cell_type": "code",
   "execution_count": null,
   "metadata": {},
   "outputs": [],
   "source": [
    "[p.upper() for p in pets]"
   ]
  },
  {
   "cell_type": "markdown",
   "metadata": {},
   "source": [
    "And this one has a condition. It asks if each pet name `p` is exactly 4 characters long. If it is, it lets it through its filter."
   ]
  },
  {
   "cell_type": "code",
   "execution_count": null,
   "metadata": {},
   "outputs": [],
   "source": [
    "[p for p in pets if len(p) == 4]\n"
   ]
  },
  {
   "cell_type": "markdown",
   "metadata": {},
   "source": [
    "And this one is doing both"
   ]
  },
  {
   "cell_type": "code",
   "execution_count": null,
   "metadata": {},
   "outputs": [],
   "source": [
    "[p.upper() for p in pets if len(p) == 5]\n"
   ]
  },
  {
   "cell_type": "markdown",
   "metadata": {
    "slideshow": {
     "slide_type": "slide"
    }
   },
   "source": [
    "Anyway, back to our fines, it looks like we have a similar pattern of fines here, lots at the bottom end, not so many high value ones. \n",
    "\n",
    "This is using some pandas magic, not a list comprehension. The magic is that you can compare a series using < or > and get back a list of booleans. This wouldn't work using a list.\n",
    "\n",
    "Let's add one more thing too, to make these graphs less garbage 🗑, a title."
   ]
  },
  {
   "cell_type": "code",
   "execution_count": null,
   "metadata": {
    "slideshow": {
     "slide_type": "fragment"
    }
   },
   "outputs": [],
   "source": [
    "upper_bound = 3000\n",
    "penalty_data.FACE_VALUE[penalty_data.FACE_VALUE < upper_bound].hist()\n",
    "plt.title(f\"All fines under ${upper_bound}\")\n"
   ]
  },
  {
   "cell_type": "markdown",
   "metadata": {
    "slideshow": {
     "slide_type": "slide"
    }
   },
   "source": [
    "Let's see what's under $1000"
   ]
  },
  {
   "cell_type": "code",
   "execution_count": null,
   "metadata": {
    "slideshow": {
     "slide_type": "-"
    }
   },
   "outputs": [],
   "source": [
    "upper_bound = 1000\n",
    "penalty_data.FACE_VALUE[penalty_data.FACE_VALUE < upper_bound].hist()\n",
    "plt.title(f\"All fines under ${upper_bound}\")\n"
   ]
  },
  {
   "cell_type": "markdown",
   "metadata": {},
   "source": [
    "This warants some further investigation, but we'll come back to it in a bit. First, let's look at some of the other columns."
   ]
  },
  {
   "cell_type": "markdown",
   "metadata": {
    "slideshow": {
     "slide_type": "slide"
    }
   },
   "source": [
    "In the `LEGISLATION` column it tells us which law was invoked to give this fine. "
   ]
  },
  {
   "cell_type": "code",
   "execution_count": null,
   "metadata": {},
   "outputs": [],
   "source": [
    "penalty_data.head(2)"
   ]
  },
  {
   "cell_type": "markdown",
   "metadata": {},
   "source": [
    "We can see that `FACE_VALUE` is numbers, we call that a _continuous_ value, so we can make histograms and other kinds of plots of it. `LEGISLATION` is strings, or _categorical_ values. We can't graph a string, but we can count how many times it shows up, and graph that number."
   ]
  },
  {
   "cell_type": "code",
   "execution_count": null,
   "metadata": {
    "slideshow": {
     "slide_type": "-"
    }
   },
   "outputs": [],
   "source": [
    "penalty_data.LEGISLATION.value_counts()"
   ]
  },
  {
   "cell_type": "markdown",
   "metadata": {
    "slideshow": {
     "slide_type": "fragment"
    }
   },
   "source": [
    "*ROAD RULES 2008* and *2014* are pretty popular, but only one person got a ticket under the *COMBAT SPORTS REGULATION 2014* and one other person got booked for something under the *TATTOO PARLOURS REGULATION 2013*"
   ]
  },
  {
   "cell_type": "code",
   "execution_count": null,
   "metadata": {
    "slideshow": {
     "slide_type": "slide"
    }
   },
   "outputs": [],
   "source": [
    "pdvc = penalty_data.LEGISLATION.value_counts() # This makes a series\n",
    "pdvc.plot(kind=\"bar\")"
   ]
  },
  {
   "cell_type": "markdown",
   "metadata": {
    "slideshow": {
     "slide_type": "slide"
    }
   },
   "source": [
    "We're going to see this distribution over and over again as we look at all kinds of data set.\n",
    "\n",
    "These are probably the most common distributions, but they leave off the [power law](https://en.wikipedia.org/wiki/Power_law), which I think this probably is. \n",
    "\n",
    "![some common distributions and their relationships](https://storage.ning.com/topology/rest/1.0/file/get/136706870?profile=original&width=600) \n",
    "\n",
    "from [here](https://www.datasciencecentral.com/profiles/blogs/common-probability-distributions-the-data-scientist-s-crib-sheet)"
   ]
  },
  {
   "cell_type": "code",
   "execution_count": null,
   "metadata": {
    "slideshow": {
     "slide_type": "slide"
    }
   },
   "outputs": [],
   "source": [
    "pdvc = penalty_data.LEGISLATION.value_counts() \n",
    "pdvc[pdvc < 5000].plot(kind=\"bar\");"
   ]
  },
  {
   "cell_type": "markdown",
   "metadata": {
    "slideshow": {
     "slide_type": "slide"
    }
   },
   "source": [
    "This pattern keeps repeating itself:"
   ]
  },
  {
   "cell_type": "code",
   "execution_count": null,
   "metadata": {
    "slideshow": {
     "slide_type": "slide"
    }
   },
   "outputs": [],
   "source": [
    "pdvc[pdvc < 1000].plot(kind=\"bar\")"
   ]
  },
  {
   "cell_type": "code",
   "execution_count": null,
   "metadata": {
    "slideshow": {
     "slide_type": "slide"
    }
   },
   "outputs": [],
   "source": [
    "pdvc[pdvc < 100].plot(kind=\"bar\")"
   ]
  },
  {
   "cell_type": "markdown",
   "metadata": {},
   "source": [
    "There are a bunch of _keyword arguments_ that you can give to the `plot` function. In this case, let's flip it on into its side so we can read the labels more easily:"
   ]
  },
  {
   "cell_type": "code",
   "execution_count": null,
   "metadata": {
    "slideshow": {
     "slide_type": "slide"
    }
   },
   "outputs": [],
   "source": [
    "pdvc[pdvc < 3].plot(kind=\"barh\")"
   ]
  },
  {
   "cell_type": "markdown",
   "metadata": {
    "slideshow": {
     "slide_type": "slide"
    }
   },
   "source": [
    "# Making plots nice"
   ]
  },
  {
   "cell_type": "markdown",
   "metadata": {
    "slideshow": {
     "slide_type": "slide"
    }
   },
   "source": [
    "I said we'd come back to our histogram. [Here's a demo histogram from the matplotlib website](http://matplotlib.org/1.2.1/examples/pylab_examples/histogram_demo.html)."
   ]
  },
  {
   "cell_type": "code",
   "execution_count": null,
   "metadata": {},
   "outputs": [],
   "source": [
    "# This bit makes some random data. Ignore it unless you are a total nerd\n",
    "mu = 100\n",
    "sigma = 15\n",
    "x = mu + sigma * np.random.randn(10000)\n"
   ]
  },
  {
   "cell_type": "code",
   "execution_count": null,
   "metadata": {},
   "outputs": [],
   "source": [
    "# the histogram of the data\n",
    "plt.hist(x, 50, density=1, facecolor=\"green\", alpha=0.75)\n",
    "plt.xlabel(\"Smarts\")\n",
    "plt.ylabel(\"Probability\")\n",
    "plt.title(\n",
    "    r\"$\\mathrm{Histogram\\ of\\ IQ:}\\ \\mu=100,\\ \\sigma=15$\"\n",
    ")  # allows for latex formatting\n",
    "plt.grid(True)\n",
    "# plt.show()\n"
   ]
  },
  {
   "cell_type": "markdown",
   "metadata": {
    "slideshow": {
     "slide_type": "slide"
    }
   },
   "source": [
    "Here's how we made our histogram before:"
   ]
  },
  {
   "cell_type": "code",
   "execution_count": null,
   "metadata": {},
   "outputs": [],
   "source": [
    "penalty_data.FACE_VALUE[penalty_data.FACE_VALUE < 1000].hist()\n"
   ]
  },
  {
   "cell_type": "markdown",
   "metadata": {
    "slideshow": {
     "slide_type": "slide"
    }
   },
   "source": [
    "This is using the graphing tools from inside pandas\n",
    "\n",
    "And this is how we'd change it so that we can add more features, by using Matplotlib directly:"
   ]
  },
  {
   "cell_type": "code",
   "execution_count": null,
   "metadata": {},
   "outputs": [],
   "source": [
    "capped_face_value_data = penalty_data.FACE_VALUE[penalty_data.FACE_VALUE < 1000]\n",
    "\n",
    "plt.hist(capped_face_value_data)\n",
    "plt.show()\n"
   ]
  },
  {
   "cell_type": "markdown",
   "metadata": {
    "collapsed": true,
    "jupyter": {
     "outputs_hidden": true
    },
    "slideshow": {
     "slide_type": "slide"
    }
   },
   "source": [
    "Let's look at some of the things we can do to this. The docs for histograms are here: http://matplotlib.org/api/pyplot_api.html#matplotlib.pyplot.hist"
   ]
  },
  {
   "cell_type": "code",
   "execution_count": null,
   "metadata": {},
   "outputs": [],
   "source": [
    "capped_face_value_data = penalty_data.FACE_VALUE[penalty_data.FACE_VALUE < 1000]\n",
    "\n",
    "# We can keep adding things to this plot to see what's going on.\n",
    "plt.hist(capped_face_value_data, bins=10, facecolor=\"blue\", alpha=0.2)  # <-old one\n",
    "plt.hist(capped_face_value_data, bins=50, facecolor=\"green\", alpha=1)  # <-new one\n",
    "plt.show()\n"
   ]
  },
  {
   "cell_type": "markdown",
   "metadata": {
    "slideshow": {
     "slide_type": "slide"
    }
   },
   "source": [
    "We can go back to our initial, unfiltered, data:"
   ]
  },
  {
   "cell_type": "code",
   "execution_count": null,
   "metadata": {},
   "outputs": [],
   "source": [
    "plt.hist(penalty_data.FACE_VALUE, bins=50)\n",
    "plt.show()"
   ]
  },
  {
   "cell_type": "markdown",
   "metadata": {
    "slideshow": {
     "slide_type": "slide"
    }
   },
   "source": [
    "Instead of doing the filtering before we present the data, we can use the graph to hide the extents of an axis:"
   ]
  },
  {
   "cell_type": "code",
   "execution_count": null,
   "metadata": {},
   "outputs": [],
   "source": [
    "plt.hist(penalty_data[\"FACE_VALUE\"], bins=50, range=(0, 500))\n",
    "plt.show()"
   ]
  },
  {
   "cell_type": "markdown",
   "metadata": {
    "slideshow": {
     "slide_type": "slide"
    }
   },
   "source": [
    "We can nice that up a bit by pulling the parameters out as variables:\n",
    "(unmagically, no difference!)"
   ]
  },
  {
   "cell_type": "code",
   "execution_count": null,
   "metadata": {},
   "outputs": [],
   "source": [
    "number_of_bins = 50\n",
    "lower_bound = 0\n",
    "upper_bound = 1000\n",
    "plt.hist(\n",
    "    penalty_data.FACE_VALUE,\n",
    "    bins=number_of_bins,\n",
    "    range=(lower_bound, upper_bound),\n",
    ")\n",
    "plt.show()\n"
   ]
  },
  {
   "cell_type": "markdown",
   "metadata": {},
   "source": [
    "This is still pretty naughty, we should have at least a title and some axis lables.\n",
    "\n",
    "We do that by setting some more properties on the `plt` object.\n",
    "\n",
    "Definitely a title and some axis labels. If you make charts/plots without axis labels, Linus Torvalds kills a kitten."
   ]
  },
  {
   "cell_type": "code",
   "execution_count": null,
   "metadata": {
    "slideshow": {
     "slide_type": "-"
    }
   },
   "outputs": [],
   "source": [
    "number_of_bins = 100\n",
    "lower_bound = 0\n",
    "upper_bound = 1000\n",
    "\n",
    "plt.hist(penalty_data.FACE_VALUE, bins=number_of_bins, range=(lower_bound, upper_bound))\n",
    "plt.title(\"Number of fines of a given value issued in this period\", fontsize=15)\n",
    "plt.xlabel(\"$ value of fine\", fontsize=26)\n",
    "plt.ylabel(\"Count\", fontsize=16)\n",
    "plt.grid(True)\n",
    "plt.show()\n"
   ]
  },
  {
   "cell_type": "markdown",
   "metadata": {
    "slideshow": {
     "slide_type": "slide"
    }
   },
   "source": [
    "We could get the dates from the dataset if we wanted to be clever about it. But at the moment, the dates are just strings, not useful date objects. Let's fix that.\n",
    "\n",
    "If we reimport the date, but with a bit more cleverness, we can tell pandas to convert the dates to actual dates.\n",
    "\n",
    "Because _we_ are civilised, we use either iso dates `YYYY-MM-DD` or `DD-MM-YYYY`, but often you'll have to deal with data prepared by savages who don't respect this rational behaviour. They will use `MM-DD-YY` and other such primitive formats.\n",
    "\n",
    "The settings used here control how it's read. You can only really tell by looking at the data and working it out. E.g. are there months bigger than 12?"
   ]
  },
  {
   "cell_type": "code",
   "execution_count": null,
   "metadata": {
    "slideshow": {
     "slide_type": "-"
    }
   },
   "outputs": [],
   "source": [
    "penalty_data = pd.read_csv(\n",
    "    filepath,\n",
    "    infer_datetime_format=True,\n",
    "    parse_dates=[\"OFFENCE_MONTH\"],\n",
    "    dayfirst=True,\n",
    ")\n",
    "penalty_data.head(2)\n"
   ]
  },
  {
   "cell_type": "markdown",
   "metadata": {},
   "source": [
    "This is some straight up, powerful voodoo.\n",
    "\n",
    "We can use a simple `min()` and `max()` method on the column to get the date range."
   ]
  },
  {
   "cell_type": "code",
   "execution_count": null,
   "metadata": {},
   "outputs": [],
   "source": [
    "first_date = penalty_data.OFFENCE_MONTH.min()\n",
    "last_date = penalty_data.OFFENCE_MONTH.max()\n",
    "f\"range is: {first_date} to {last_date}\"\n"
   ]
  },
  {
   "cell_type": "markdown",
   "metadata": {},
   "source": [
    "That's not very nice to look at, so we can [use `strftime`](https://strftime.org/), which is one of the most spooky and powerful things in the python toolbox"
   ]
  },
  {
   "cell_type": "code",
   "execution_count": null,
   "metadata": {},
   "outputs": [],
   "source": [
    "date_format_pattern = \"%B, %Y\"\n",
    "earliest_date = datetime.strftime(penalty_data.OFFENCE_MONTH.min(), date_format_pattern)\n",
    "latest_date = datetime.strftime(penalty_data.OFFENCE_MONTH.max(), date_format_pattern)\n",
    "f\"range is: {earliest_date} to {latest_date}\"\n"
   ]
  },
  {
   "cell_type": "markdown",
   "metadata": {},
   "source": [
    "Which means that we can put those values into our graph title:"
   ]
  },
  {
   "cell_type": "code",
   "execution_count": null,
   "metadata": {},
   "outputs": [],
   "source": [
    "number_of_bins = 100\n",
    "lower_bound = 0\n",
    "upper_bound = 1000\n",
    "\n",
    "plt.hist(\n",
    "    penalty_data[\"FACE_VALUE\"], bins=number_of_bins, range=(lower_bound, upper_bound)\n",
    ")\n",
    "plt.title(\n",
    "    f\"Number of fines of a given value issued between {earliest_date} & {latest_date}\",\n",
    "    fontsize=12,\n",
    ")\n",
    "plt.xlabel(\"$ value of fine\", fontsize=10)\n",
    "plt.ylabel(\"Count\", fontsize=10)\n",
    "plt.grid(True)\n",
    "plt.show()\n"
   ]
  },
  {
   "cell_type": "markdown",
   "metadata": {
    "slideshow": {
     "slide_type": "slide"
    }
   },
   "source": [
    "We're grouping the fines by month, and then adding up the groups. Pandas' `groupby` feature allows for all kinds of clever stuff like that.\n",
    "\n",
    "I'm not going to explain `groupby` here, just be aware that it exists, and when you need it, we can go over it again."
   ]
  },
  {
   "cell_type": "code",
   "execution_count": null,
   "metadata": {
    "slideshow": {
     "slide_type": "subslide"
    }
   },
   "outputs": [],
   "source": [
    "income = penalty_data[[\"OFFENCE_MONTH\", \"FACE_VALUE\"]].groupby(\"OFFENCE_MONTH\").sum()\n",
    "\n",
    "plt.xkcd()\n",
    "plt.plot(income, \"x-\")\n",
    "plt.title(\"Monthly income from fines\", fontsize=18)\n",
    "plt.xlabel(\"Date\", fontsize=26)\n",
    "plt.ylabel(\"$ Value\", fontsize=26)\n",
    "plt.grid(True)\n",
    "plt.show()\n"
   ]
  },
  {
   "cell_type": "code",
   "execution_count": null,
   "metadata": {
    "slideshow": {
     "slide_type": "skip"
    }
   },
   "outputs": [],
   "source": [
    "matplotlib.rcParams.update(\n",
    "    saved_style_state\n",
    ")  # revert to regular matplotlib styles, not xkcd\n"
   ]
  },
  {
   "cell_type": "markdown",
   "metadata": {
    "slideshow": {
     "slide_type": "slide"
    }
   },
   "source": [
    "I don't expect you to learn this this week, I just want to give you a taste of what can be done, quite simply, with pandas and matplotlib.\n",
    "\n",
    "# some tricky tricks\n",
    "\n",
    "Say you have a _lot_ of rows, running things on them takes a long time. You can test on a subset of that and then come bakc to the full dataframe once you are more sure that it works.\n",
    "\n",
    "To do this we can use python slices in combination with the dataframe's `.loc` property."
   ]
  },
  {
   "cell_type": "code",
   "execution_count": null,
   "metadata": {},
   "outputs": [],
   "source": [
    "ss = penalty_data.loc[:5]\n"
   ]
  },
  {
   "cell_type": "markdown",
   "metadata": {
    "slideshow": {
     "slide_type": "slide"
    }
   },
   "source": [
    "Let's say you want to apply a function to each row in a dataframe, and save the result as a new column in the dataframe. This is where `apply` come in handy."
   ]
  },
  {
   "cell_type": "code",
   "execution_count": null,
   "metadata": {
    "slideshow": {
     "slide_type": "subslide"
    }
   },
   "outputs": [],
   "source": [
    "ss[\"day_from_lambda\"] = ss.apply(lambda x: x.OFFENCE_MONTH.day, axis=1)\n",
    "ss.head(2)\n"
   ]
  },
  {
   "cell_type": "markdown",
   "metadata": {
    "slideshow": {
     "slide_type": "subslide"
    }
   },
   "source": [
    "Above is equivalent to below, it's up to you to decide what is more readable."
   ]
  },
  {
   "cell_type": "code",
   "execution_count": null,
   "metadata": {
    "slideshow": {
     "slide_type": "-"
    }
   },
   "outputs": [],
   "source": [
    "def my_f(x):\n",
    "    return x.OFFENCE_MONTH.day\n",
    "\n",
    "\n",
    "ss[\"day_from_function\"] = ss.apply(my_f, axis=1)\n",
    "ss.head(1)\n"
   ]
  },
  {
   "cell_type": "markdown",
   "metadata": {},
   "source": [
    "Scroll all the way to the right to see the new column that we've created. Both of these ways of doing this make dan-numbers. What if we wanted to get day names? That's much easier to graph. W can use `strftime` again:"
   ]
  },
  {
   "cell_type": "code",
   "execution_count": null,
   "metadata": {},
   "outputs": [],
   "source": [
    "def my_f(x):\n",
    "    return datetime.strftime(x.OFFENCE_MONTH, \"%A\")\n",
    "\n",
    "\n",
    "ss[\"nice_day\"] = ss.apply(my_f, axis=1)\n",
    "ss.head(1)\n"
   ]
  },
  {
   "cell_type": "markdown",
   "metadata": {},
   "source": [
    "Then once we're confident that it works, we can switch back from the limited part of the dataframe to the full dataframe:"
   ]
  },
  {
   "cell_type": "code",
   "execution_count": null,
   "metadata": {},
   "outputs": [],
   "source": [
    "def my_f(x):\n",
    "    return datetime.strftime(x.OFFENCE_MONTH, \"%A\")\n",
    "\n",
    "\n",
    "penalty_data[\"nice_day\"] = penalty_data.apply(my_f, axis=1)\n",
    "penalty_data.nice_day.value_counts().plot(kind=\"bar\")\n"
   ]
  },
  {
   "cell_type": "markdown",
   "metadata": {
    "slideshow": {
     "slide_type": "slide"
    }
   },
   "source": [
    "And we can see that most of these fines are booked on a Sunday, which is a real _hmm_ moment 🤔\n",
    "\n",
    "This would be the kind of question that it'd be good to explore in your project.\n",
    "\n",
    "---\n",
    "\n",
    "How do we tell the computer to treat _facade_ and _fašade_ the same? What about _University of new south wales_, _University of New South Wales_, _University of NSW_, _UNSW_, _New-south_?\n",
    "\n",
    "## The answer is _folding_\n",
    "\n",
    "_(This is a \"pattern\")_"
   ]
  },
  {
   "cell_type": "code",
   "execution_count": null,
   "metadata": {
    "slideshow": {
     "slide_type": "slide"
    }
   },
   "outputs": [],
   "source": [
    "def fold(given):\n",
    "    \"\"\"Return canonical versions of inputs.\"\"\"\n",
    "\n",
    "    # Use canonical variables so that you can define once, use many times.\n",
    "    UNSW_canonical = \"uni of stairs\"\n",
    "    ben_name_cannonical = \"Ben Doherty\"\n",
    "\n",
    "    # dictionary of input:output pairs\n",
    "    folds = {\n",
    "        \"University of new south wales\": UNSW_canonical,\n",
    "        \"University of New South Wales\": UNSW_canonical,\n",
    "        \"University of NSW\": UNSW_canonical,\n",
    "        \"UNSW\": UNSW_canonical,\n",
    "        \"New-south\": UNSW_canonical,\n",
    "        \"BDoh\": ben_name_cannonical,\n",
    "        \"Benny\": ben_name_cannonical,\n",
    "        \"Mr Dockerty\": ben_name_cannonical,\n",
    "        \"Oi, Dickhead!\": ben_name_cannonical,\n",
    "    }\n",
    "\n",
    "    #     return folds[given] # needs a defensive part, but ommited for clarity.\n",
    "    default_value = given\n",
    "    return folds.get(given, default_value)\n",
    "\n",
    "\n",
    "print(fold(\"New-south\"))\n",
    "print(fold(\"BDoh\"))\n"
   ]
  },
  {
   "cell_type": "markdown",
   "metadata": {
    "slideshow": {
     "slide_type": "slide"
    }
   },
   "source": [
    "So you could use this function in an `apply` to make a new column on cleaned up values.\n",
    "\n",
    "# _fin_"
   ]
  }
 ],
 "metadata": {
  "kernelspec": {
   "display_name": "Python 3 (ipykernel)",
   "language": "python",
   "name": "python3"
  },
  "language_info": {
   "codemirror_mode": {
    "name": "ipython",
    "version": 3
   },
   "file_extension": ".py",
   "mimetype": "text/x-python",
   "name": "python",
   "nbconvert_exporter": "python",
   "pygments_lexer": "ipython3",
   "version": "3.12.4"
  },
  "vscode": {
   "interpreter": {
    "hash": "c8476df7f795fd1f4977a4526e3f7a881ff6c8ddf4dfdde2439ce5eb695d0765"
   }
  }
 },
 "nbformat": 4,
 "nbformat_minor": 4
}
